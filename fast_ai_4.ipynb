{
  "nbformat": 4,
  "nbformat_minor": 0,
  "metadata": {
    "colab": {
      "name": "fast_ai_4",
      "provenance": [],
      "authorship_tag": "ABX9TyPfKcnrhMf/Z/J9mBwhGrQG",
      "include_colab_link": true
    },
    "kernelspec": {
      "name": "python3",
      "display_name": "Python 3"
    },
    "language_info": {
      "name": "python"
    },
    "accelerator": "GPU",
    "gpuClass": "standard",
    "widgets": {
      "application/vnd.jupyter.widget-state+json": {
        "baa8a52dbc974e4d8ec44264553ac24d": {
          "model_module": "@jupyter-widgets/controls",
          "model_name": "HBoxModel",
          "model_module_version": "1.5.0",
          "state": {
            "_dom_classes": [],
            "_model_module": "@jupyter-widgets/controls",
            "_model_module_version": "1.5.0",
            "_model_name": "HBoxModel",
            "_view_count": null,
            "_view_module": "@jupyter-widgets/controls",
            "_view_module_version": "1.5.0",
            "_view_name": "HBoxView",
            "box_style": "",
            "children": [
              "IPY_MODEL_d29885491d0047efb8c9701f332c2838",
              "IPY_MODEL_9c8ac1a926a14368bc24235f9c1a4c7e",
              "IPY_MODEL_4d095bda27a9443ea7780043ead835db"
            ],
            "layout": "IPY_MODEL_87ef13d8aaf54dc88ea87f0d53e281e6"
          }
        },
        "d29885491d0047efb8c9701f332c2838": {
          "model_module": "@jupyter-widgets/controls",
          "model_name": "HTMLModel",
          "model_module_version": "1.5.0",
          "state": {
            "_dom_classes": [],
            "_model_module": "@jupyter-widgets/controls",
            "_model_module_version": "1.5.0",
            "_model_name": "HTMLModel",
            "_view_count": null,
            "_view_module": "@jupyter-widgets/controls",
            "_view_module_version": "1.5.0",
            "_view_name": "HTMLView",
            "description": "",
            "description_tooltip": null,
            "layout": "IPY_MODEL_200dc443d0d143cca3158593e706cddf",
            "placeholder": "​",
            "style": "IPY_MODEL_5f5bc680747c464a8d38eb0a874bd979",
            "value": "100%"
          }
        },
        "9c8ac1a926a14368bc24235f9c1a4c7e": {
          "model_module": "@jupyter-widgets/controls",
          "model_name": "FloatProgressModel",
          "model_module_version": "1.5.0",
          "state": {
            "_dom_classes": [],
            "_model_module": "@jupyter-widgets/controls",
            "_model_module_version": "1.5.0",
            "_model_name": "FloatProgressModel",
            "_view_count": null,
            "_view_module": "@jupyter-widgets/controls",
            "_view_module_version": "1.5.0",
            "_view_name": "ProgressView",
            "bar_style": "success",
            "description": "",
            "description_tooltip": null,
            "layout": "IPY_MODEL_a1dd156e888a42f7a5ce48d1ac844824",
            "max": 46830571,
            "min": 0,
            "orientation": "horizontal",
            "style": "IPY_MODEL_d489dd4ebc3047b7864c9004a046b392",
            "value": 46830571
          }
        },
        "4d095bda27a9443ea7780043ead835db": {
          "model_module": "@jupyter-widgets/controls",
          "model_name": "HTMLModel",
          "model_module_version": "1.5.0",
          "state": {
            "_dom_classes": [],
            "_model_module": "@jupyter-widgets/controls",
            "_model_module_version": "1.5.0",
            "_model_name": "HTMLModel",
            "_view_count": null,
            "_view_module": "@jupyter-widgets/controls",
            "_view_module_version": "1.5.0",
            "_view_name": "HTMLView",
            "description": "",
            "description_tooltip": null,
            "layout": "IPY_MODEL_9e6ec4db2db64e25880ff571d95195b5",
            "placeholder": "​",
            "style": "IPY_MODEL_27368ac02d6e43fd8a691a6865091476",
            "value": " 44.7M/44.7M [00:00&lt;00:00, 148MB/s]"
          }
        },
        "87ef13d8aaf54dc88ea87f0d53e281e6": {
          "model_module": "@jupyter-widgets/base",
          "model_name": "LayoutModel",
          "model_module_version": "1.2.0",
          "state": {
            "_model_module": "@jupyter-widgets/base",
            "_model_module_version": "1.2.0",
            "_model_name": "LayoutModel",
            "_view_count": null,
            "_view_module": "@jupyter-widgets/base",
            "_view_module_version": "1.2.0",
            "_view_name": "LayoutView",
            "align_content": null,
            "align_items": null,
            "align_self": null,
            "border": null,
            "bottom": null,
            "display": null,
            "flex": null,
            "flex_flow": null,
            "grid_area": null,
            "grid_auto_columns": null,
            "grid_auto_flow": null,
            "grid_auto_rows": null,
            "grid_column": null,
            "grid_gap": null,
            "grid_row": null,
            "grid_template_areas": null,
            "grid_template_columns": null,
            "grid_template_rows": null,
            "height": null,
            "justify_content": null,
            "justify_items": null,
            "left": null,
            "margin": null,
            "max_height": null,
            "max_width": null,
            "min_height": null,
            "min_width": null,
            "object_fit": null,
            "object_position": null,
            "order": null,
            "overflow": null,
            "overflow_x": null,
            "overflow_y": null,
            "padding": null,
            "right": null,
            "top": null,
            "visibility": null,
            "width": null
          }
        },
        "200dc443d0d143cca3158593e706cddf": {
          "model_module": "@jupyter-widgets/base",
          "model_name": "LayoutModel",
          "model_module_version": "1.2.0",
          "state": {
            "_model_module": "@jupyter-widgets/base",
            "_model_module_version": "1.2.0",
            "_model_name": "LayoutModel",
            "_view_count": null,
            "_view_module": "@jupyter-widgets/base",
            "_view_module_version": "1.2.0",
            "_view_name": "LayoutView",
            "align_content": null,
            "align_items": null,
            "align_self": null,
            "border": null,
            "bottom": null,
            "display": null,
            "flex": null,
            "flex_flow": null,
            "grid_area": null,
            "grid_auto_columns": null,
            "grid_auto_flow": null,
            "grid_auto_rows": null,
            "grid_column": null,
            "grid_gap": null,
            "grid_row": null,
            "grid_template_areas": null,
            "grid_template_columns": null,
            "grid_template_rows": null,
            "height": null,
            "justify_content": null,
            "justify_items": null,
            "left": null,
            "margin": null,
            "max_height": null,
            "max_width": null,
            "min_height": null,
            "min_width": null,
            "object_fit": null,
            "object_position": null,
            "order": null,
            "overflow": null,
            "overflow_x": null,
            "overflow_y": null,
            "padding": null,
            "right": null,
            "top": null,
            "visibility": null,
            "width": null
          }
        },
        "5f5bc680747c464a8d38eb0a874bd979": {
          "model_module": "@jupyter-widgets/controls",
          "model_name": "DescriptionStyleModel",
          "model_module_version": "1.5.0",
          "state": {
            "_model_module": "@jupyter-widgets/controls",
            "_model_module_version": "1.5.0",
            "_model_name": "DescriptionStyleModel",
            "_view_count": null,
            "_view_module": "@jupyter-widgets/base",
            "_view_module_version": "1.2.0",
            "_view_name": "StyleView",
            "description_width": ""
          }
        },
        "a1dd156e888a42f7a5ce48d1ac844824": {
          "model_module": "@jupyter-widgets/base",
          "model_name": "LayoutModel",
          "model_module_version": "1.2.0",
          "state": {
            "_model_module": "@jupyter-widgets/base",
            "_model_module_version": "1.2.0",
            "_model_name": "LayoutModel",
            "_view_count": null,
            "_view_module": "@jupyter-widgets/base",
            "_view_module_version": "1.2.0",
            "_view_name": "LayoutView",
            "align_content": null,
            "align_items": null,
            "align_self": null,
            "border": null,
            "bottom": null,
            "display": null,
            "flex": null,
            "flex_flow": null,
            "grid_area": null,
            "grid_auto_columns": null,
            "grid_auto_flow": null,
            "grid_auto_rows": null,
            "grid_column": null,
            "grid_gap": null,
            "grid_row": null,
            "grid_template_areas": null,
            "grid_template_columns": null,
            "grid_template_rows": null,
            "height": null,
            "justify_content": null,
            "justify_items": null,
            "left": null,
            "margin": null,
            "max_height": null,
            "max_width": null,
            "min_height": null,
            "min_width": null,
            "object_fit": null,
            "object_position": null,
            "order": null,
            "overflow": null,
            "overflow_x": null,
            "overflow_y": null,
            "padding": null,
            "right": null,
            "top": null,
            "visibility": null,
            "width": null
          }
        },
        "d489dd4ebc3047b7864c9004a046b392": {
          "model_module": "@jupyter-widgets/controls",
          "model_name": "ProgressStyleModel",
          "model_module_version": "1.5.0",
          "state": {
            "_model_module": "@jupyter-widgets/controls",
            "_model_module_version": "1.5.0",
            "_model_name": "ProgressStyleModel",
            "_view_count": null,
            "_view_module": "@jupyter-widgets/base",
            "_view_module_version": "1.2.0",
            "_view_name": "StyleView",
            "bar_color": null,
            "description_width": ""
          }
        },
        "9e6ec4db2db64e25880ff571d95195b5": {
          "model_module": "@jupyter-widgets/base",
          "model_name": "LayoutModel",
          "model_module_version": "1.2.0",
          "state": {
            "_model_module": "@jupyter-widgets/base",
            "_model_module_version": "1.2.0",
            "_model_name": "LayoutModel",
            "_view_count": null,
            "_view_module": "@jupyter-widgets/base",
            "_view_module_version": "1.2.0",
            "_view_name": "LayoutView",
            "align_content": null,
            "align_items": null,
            "align_self": null,
            "border": null,
            "bottom": null,
            "display": null,
            "flex": null,
            "flex_flow": null,
            "grid_area": null,
            "grid_auto_columns": null,
            "grid_auto_flow": null,
            "grid_auto_rows": null,
            "grid_column": null,
            "grid_gap": null,
            "grid_row": null,
            "grid_template_areas": null,
            "grid_template_columns": null,
            "grid_template_rows": null,
            "height": null,
            "justify_content": null,
            "justify_items": null,
            "left": null,
            "margin": null,
            "max_height": null,
            "max_width": null,
            "min_height": null,
            "min_width": null,
            "object_fit": null,
            "object_position": null,
            "order": null,
            "overflow": null,
            "overflow_x": null,
            "overflow_y": null,
            "padding": null,
            "right": null,
            "top": null,
            "visibility": null,
            "width": null
          }
        },
        "27368ac02d6e43fd8a691a6865091476": {
          "model_module": "@jupyter-widgets/controls",
          "model_name": "DescriptionStyleModel",
          "model_module_version": "1.5.0",
          "state": {
            "_model_module": "@jupyter-widgets/controls",
            "_model_module_version": "1.5.0",
            "_model_name": "DescriptionStyleModel",
            "_view_count": null,
            "_view_module": "@jupyter-widgets/base",
            "_view_module_version": "1.2.0",
            "_view_name": "StyleView",
            "description_width": ""
          }
        }
      }
    }
  },
  "cells": [
    {
      "cell_type": "markdown",
      "metadata": {
        "id": "view-in-github",
        "colab_type": "text"
      },
      "source": [
        "<a href=\"https://colab.research.google.com/github/satani99/practical_deep_learning_for_coders/blob/main/fast_ai_4.ipynb\" target=\"_parent\"><img src=\"https://colab.research.google.com/assets/colab-badge.svg\" alt=\"Open In Colab\"/></a>"
      ]
    },
    {
      "cell_type": "code",
      "source": [
        "from fastai.vision.all import *"
      ],
      "metadata": {
        "id": "L5IjRxreelgy"
      },
      "execution_count": 1,
      "outputs": []
    },
    {
      "cell_type": "code",
      "execution_count": 2,
      "metadata": {
        "id": "tUqjMpIkBhy8",
        "colab": {
          "base_uri": "https://localhost:8080/",
          "height": 37
        },
        "outputId": "2c2bb541-a873-4adf-e9a8-ac24771b4d38"
      },
      "outputs": [
        {
          "output_type": "display_data",
          "data": {
            "text/plain": [
              "<IPython.core.display.HTML object>"
            ],
            "text/html": [
              "\n",
              "<style>\n",
              "    /* Turns off some styling */\n",
              "    progress {\n",
              "        /* gets rid of default border in Firefox and Opera. */\n",
              "        border: none;\n",
              "        /* Needs to be in here for Safari polyfill so background images work as expected. */\n",
              "        background-size: auto;\n",
              "    }\n",
              "    progress:not([value]), progress:not([value])::-webkit-progress-bar {\n",
              "        background: repeating-linear-gradient(45deg, #7e7e7e, #7e7e7e 10px, #5c5c5c 10px, #5c5c5c 20px);\n",
              "    }\n",
              "    .progress-bar-interrupted, .progress-bar-interrupted::-webkit-progress-bar {\n",
              "        background: #F44336;\n",
              "    }\n",
              "</style>\n"
            ]
          },
          "metadata": {}
        },
        {
          "output_type": "display_data",
          "data": {
            "text/plain": [
              "<IPython.core.display.HTML object>"
            ],
            "text/html": [
              "\n",
              "    <div>\n",
              "      <progress value='3219456' class='' max='3214948' style='width:300px; height:20px; vertical-align: middle;'></progress>\n",
              "      100.14% [3219456/3214948 00:00&lt;00:00]\n",
              "    </div>\n",
              "    "
            ]
          },
          "metadata": {}
        }
      ],
      "source": [
        "path = untar_data(URLs.MNIST_SAMPLE)"
      ]
    },
    {
      "cell_type": "code",
      "source": [
        "path.ls()"
      ],
      "metadata": {
        "colab": {
          "base_uri": "https://localhost:8080/"
        },
        "id": "YQBa3ZuTej2Q",
        "outputId": "90379b4b-e4c2-4a43-ce37-7e90cb6b5091"
      },
      "execution_count": 3,
      "outputs": [
        {
          "output_type": "execute_result",
          "data": {
            "text/plain": [
              "(#3) [Path('/root/.fastai/data/mnist_sample/valid'),Path('/root/.fastai/data/mnist_sample/labels.csv'),Path('/root/.fastai/data/mnist_sample/train')]"
            ]
          },
          "metadata": {},
          "execution_count": 3
        }
      ]
    },
    {
      "cell_type": "code",
      "source": [
        "(path/'train').ls()"
      ],
      "metadata": {
        "colab": {
          "base_uri": "https://localhost:8080/"
        },
        "id": "ad1GfzgZfHvn",
        "outputId": "7bf4cf69-cd4b-45d7-f859-735f13702dc3"
      },
      "execution_count": 4,
      "outputs": [
        {
          "output_type": "execute_result",
          "data": {
            "text/plain": [
              "(#2) [Path('/root/.fastai/data/mnist_sample/train/3'),Path('/root/.fastai/data/mnist_sample/train/7')]"
            ]
          },
          "metadata": {},
          "execution_count": 4
        }
      ]
    },
    {
      "cell_type": "code",
      "source": [
        "threes = (path/'train'/'3').ls().sorted()\n",
        "sevens = (path/'train'/'7').ls().sorted()\n",
        "threes"
      ],
      "metadata": {
        "colab": {
          "base_uri": "https://localhost:8080/"
        },
        "id": "shbkMuuGfFbH",
        "outputId": "5dd48069-002d-4cd8-f803-bfcb599962ed"
      },
      "execution_count": 5,
      "outputs": [
        {
          "output_type": "execute_result",
          "data": {
            "text/plain": [
              "(#6131) [Path('/root/.fastai/data/mnist_sample/train/3/10.png'),Path('/root/.fastai/data/mnist_sample/train/3/10000.png'),Path('/root/.fastai/data/mnist_sample/train/3/10011.png'),Path('/root/.fastai/data/mnist_sample/train/3/10031.png'),Path('/root/.fastai/data/mnist_sample/train/3/10034.png'),Path('/root/.fastai/data/mnist_sample/train/3/10042.png'),Path('/root/.fastai/data/mnist_sample/train/3/10052.png'),Path('/root/.fastai/data/mnist_sample/train/3/1007.png'),Path('/root/.fastai/data/mnist_sample/train/3/10074.png'),Path('/root/.fastai/data/mnist_sample/train/3/10091.png')...]"
            ]
          },
          "metadata": {},
          "execution_count": 5
        }
      ]
    },
    {
      "cell_type": "code",
      "source": [
        "img3_path = threes[1]\n",
        "im3 = Image.open(img3_path)\n",
        "im3"
      ],
      "metadata": {
        "colab": {
          "base_uri": "https://localhost:8080/",
          "height": 45
        },
        "id": "qWcOuPMxf_bu",
        "outputId": "5c966e6d-c9e6-4ce0-8743-a472f34c1f04"
      },
      "execution_count": 6,
      "outputs": [
        {
          "output_type": "execute_result",
          "data": {
            "text/plain": [
              "<PIL.PngImagePlugin.PngImageFile image mode=L size=28x28 at 0x7F20C4A7D2D0>"
            ],
            "image/png": "[encoded data removed]"
          },
          "metadata": {},
          "execution_count": 6
        }
      ]
    },
    {
      "cell_type": "code",
      "source": [
        "array(im3)[4:10, 4:10]"
      ],
      "metadata": {
        "colab": {
          "base_uri": "https://localhost:8080/"
        },
        "id": "BEc4KTTMgK60",
        "outputId": "39b6bbb5-2880-465e-85a7-ae97705e441d"
      },
      "execution_count": 7,
      "outputs": [
        {
          "output_type": "execute_result",
          "data": {
            "text/plain": [
              "array([[  0,   0,   0,   0,   0,   0],\n",
              "       [  0,   0,   0,   0,   0,  29],\n",
              "       [  0,   0,   0,  48, 166, 224],\n",
              "       [  0,  93, 244, 249, 253, 187],\n",
              "       [  0, 107, 253, 253, 230,  48],\n",
              "       [  0,   3,  20,  20,  15,   0]], dtype=uint8)"
            ]
          },
          "metadata": {},
          "execution_count": 7
        }
      ]
    },
    {
      "cell_type": "code",
      "source": [
        "tensor(im3)[4:10, 4:10]"
      ],
      "metadata": {
        "colab": {
          "base_uri": "https://localhost:8080/"
        },
        "id": "gUFjb4cigVhK",
        "outputId": "fa817363-56a0-476d-fadd-e97a1e81969a"
      },
      "execution_count": 8,
      "outputs": [
        {
          "output_type": "execute_result",
          "data": {
            "text/plain": [
              "tensor([[  0,   0,   0,   0,   0,   0],\n",
              "        [  0,   0,   0,   0,   0,  29],\n",
              "        [  0,   0,   0,  48, 166, 224],\n",
              "        [  0,  93, 244, 249, 253, 187],\n",
              "        [  0, 107, 253, 253, 230,  48],\n",
              "        [  0,   3,  20,  20,  15,   0]], dtype=torch.uint8)"
            ]
          },
          "metadata": {},
          "execution_count": 8
        }
      ]
    },
    {
      "cell_type": "code",
      "source": [
        "import pandas as pd"
      ],
      "metadata": {
        "id": "nQ6ThOivgy2G"
      },
      "execution_count": 9,
      "outputs": []
    },
    {
      "cell_type": "code",
      "source": [
        "im3_t = tensor(im3)\n",
        "df = pd.DataFrame(im3_t[4:15, 4:22])\n",
        "df.style.set_properties(**{'font-size':'6pt'}).background_gradient('Greys')"
      ],
      "metadata": {
        "colab": {
          "base_uri": "https://localhost:8080/",
          "height": 394
        },
        "id": "rFdHY6DvgjI2",
        "outputId": "3c1d795a-5955-4182-fa25-2344368a36c9"
      },
      "execution_count": 10,
      "outputs": [
        {
          "output_type": "execute_result",
          "data": {
            "text/plain": [
              "<pandas.io.formats.style.Styler at 0x7f20c49ada10>"
            ],
            "text/html": [
              "<style type=\"text/css\">\n",
              "#T_b9d3e_row0_col0, #T_b9d3e_row0_col1, #T_b9d3e_row0_col2, #T_b9d3e_row0_col3, #T_b9d3e_row0_col4, #T_b9d3e_row0_col5, #T_b9d3e_row0_col6, #T_b9d3e_row0_col7, #T_b9d3e_row0_col8, #T_b9d3e_row0_col9, #T_b9d3e_row0_col10, #T_b9d3e_row0_col11, #T_b9d3e_row0_col12, #T_b9d3e_row0_col13, #T_b9d3e_row0_col14, #T_b9d3e_row0_col15, #T_b9d3e_row0_col16, #T_b9d3e_row0_col17, #T_b9d3e_row1_col0, #T_b9d3e_row1_col1, #T_b9d3e_row1_col2, #T_b9d3e_row1_col3, #T_b9d3e_row1_col4, #T_b9d3e_row1_col15, #T_b9d3e_row1_col16, #T_b9d3e_row1_col17, #T_b9d3e_row2_col0, #T_b9d3e_row2_col1, #T_b9d3e_row2_col2, #T_b9d3e_row2_col15, #T_b9d3e_row2_col16, #T_b9d3e_row2_col17, #T_b9d3e_row3_col0, #T_b9d3e_row3_col15, #T_b9d3e_row3_col16, #T_b9d3e_row3_col17, #T_b9d3e_row4_col0, #T_b9d3e_row4_col6, #T_b9d3e_row4_col7, #T_b9d3e_row4_col8, #T_b9d3e_row4_col9, #T_b9d3e_row4_col10, #T_b9d3e_row4_col15, #T_b9d3e_row4_col16, #T_b9d3e_row4_col17, #T_b9d3e_row5_col0, #T_b9d3e_row5_col5, #T_b9d3e_row5_col6, #T_b9d3e_row5_col7, #T_b9d3e_row5_col8, #T_b9d3e_row5_col9, #T_b9d3e_row5_col15, #T_b9d3e_row5_col16, #T_b9d3e_row5_col17, #T_b9d3e_row6_col0, #T_b9d3e_row6_col1, #T_b9d3e_row6_col2, #T_b9d3e_row6_col3, #T_b9d3e_row6_col4, #T_b9d3e_row6_col5, #T_b9d3e_row6_col6, #T_b9d3e_row6_col7, #T_b9d3e_row6_col8, #T_b9d3e_row6_col9, #T_b9d3e_row6_col14, #T_b9d3e_row6_col15, #T_b9d3e_row6_col16, #T_b9d3e_row6_col17, #T_b9d3e_row7_col0, #T_b9d3e_row7_col1, #T_b9d3e_row7_col2, #T_b9d3e_row7_col3, #T_b9d3e_row7_col4, #T_b9d3e_row7_col5, #T_b9d3e_row7_col6, #T_b9d3e_row7_col13, #T_b9d3e_row7_col14, #T_b9d3e_row7_col15, #T_b9d3e_row7_col16, #T_b9d3e_row7_col17, #T_b9d3e_row8_col0, #T_b9d3e_row8_col1, #T_b9d3e_row8_col2, #T_b9d3e_row8_col3, #T_b9d3e_row8_col4, #T_b9d3e_row8_col13, #T_b9d3e_row8_col14, #T_b9d3e_row8_col15, #T_b9d3e_row8_col16, #T_b9d3e_row8_col17, #T_b9d3e_row9_col0, #T_b9d3e_row9_col1, #T_b9d3e_row9_col2, #T_b9d3e_row9_col3, #T_b9d3e_row9_col4, #T_b9d3e_row9_col16, #T_b9d3e_row9_col17, #T_b9d3e_row10_col0, #T_b9d3e_row10_col1, #T_b9d3e_row10_col2, #T_b9d3e_row10_col3, #T_b9d3e_row10_col4, #T_b9d3e_row10_col5, #T_b9d3e_row10_col6, #T_b9d3e_row10_col17 {\n",
              "  font-size: 6pt;\n",
              "  background-color: #ffffff;\n",
              "  color: #000000;\n",
              "}\n",
              "#T_b9d3e_row1_col5 {\n",
              "  font-size: 6pt;\n",
              "  background-color: #efefef;\n",
              "  color: #000000;\n",
              "}\n",
              "#T_b9d3e_row1_col6, #T_b9d3e_row1_col13 {\n",
              "  font-size: 6pt;\n",
              "  background-color: #7c7c7c;\n",
              "  color: #f1f1f1;\n",
              "}\n",
              "#T_b9d3e_row1_col7 {\n",
              "  font-size: 6pt;\n",
              "  background-color: #4a4a4a;\n",
              "  color: #f1f1f1;\n",
              "}\n",
              "#T_b9d3e_row1_col8, #T_b9d3e_row1_col9, #T_b9d3e_row1_col10, #T_b9d3e_row2_col5, #T_b9d3e_row2_col6, #T_b9d3e_row2_col7, #T_b9d3e_row2_col11, #T_b9d3e_row2_col12, #T_b9d3e_row2_col13, #T_b9d3e_row3_col4, #T_b9d3e_row3_col12, #T_b9d3e_row3_col13, #T_b9d3e_row4_col1, #T_b9d3e_row4_col2, #T_b9d3e_row4_col3, #T_b9d3e_row4_col12, #T_b9d3e_row4_col13, #T_b9d3e_row5_col12, #T_b9d3e_row6_col11, #T_b9d3e_row9_col11, #T_b9d3e_row10_col11, #T_b9d3e_row10_col12, #T_b9d3e_row10_col13, #T_b9d3e_row10_col14, #T_b9d3e_row10_col15, #T_b9d3e_row10_col16 {\n",
              "  font-size: 6pt;\n",
              "  background-color: #000000;\n",
              "  color: #f1f1f1;\n",
              "}\n",
              "#T_b9d3e_row1_col11 {\n",
              "  font-size: 6pt;\n",
              "  background-color: #606060;\n",
              "  color: #f1f1f1;\n",
              "}\n",
              "#T_b9d3e_row1_col12 {\n",
              "  font-size: 6pt;\n",
              "  background-color: #4d4d4d;\n",
              "  color: #f1f1f1;\n",
              "}\n",
              "#T_b9d3e_row1_col14 {\n",
              "  font-size: 6pt;\n",
              "  background-color: #bbbbbb;\n",
              "  color: #000000;\n",
              "}\n",
              "#T_b9d3e_row2_col3 {\n",
              "  font-size: 6pt;\n",
              "  background-color: #e4e4e4;\n",
              "  color: #000000;\n",
              "}\n",
              "#T_b9d3e_row2_col4, #T_b9d3e_row8_col6 {\n",
              "  font-size: 6pt;\n",
              "  background-color: #6b6b6b;\n",
              "  color: #f1f1f1;\n",
              "}\n",
              "#T_b9d3e_row2_col8, #T_b9d3e_row2_col14, #T_b9d3e_row3_col14 {\n",
              "  font-size: 6pt;\n",
              "  background-color: #171717;\n",
              "  color: #f1f1f1;\n",
              "}\n",
              "#T_b9d3e_row2_col9, #T_b9d3e_row3_col11 {\n",
              "  font-size: 6pt;\n",
              "  background-color: #4b4b4b;\n",
              "  color: #f1f1f1;\n",
              "}\n",
              "#T_b9d3e_row2_col10, #T_b9d3e_row7_col10, #T_b9d3e_row8_col8, #T_b9d3e_row8_col10, #T_b9d3e_row9_col8, #T_b9d3e_row9_col10 {\n",
              "  font-size: 6pt;\n",
              "  background-color: #010101;\n",
              "  color: #f1f1f1;\n",
              "}\n",
              "#T_b9d3e_row3_col1 {\n",
              "  font-size: 6pt;\n",
              "  background-color: #272727;\n",
              "  color: #f1f1f1;\n",
              "}\n",
              "#T_b9d3e_row3_col2 {\n",
              "  font-size: 6pt;\n",
              "  background-color: #0a0a0a;\n",
              "  color: #f1f1f1;\n",
              "}\n",
              "#T_b9d3e_row3_col3 {\n",
              "  font-size: 6pt;\n",
              "  background-color: #050505;\n",
              "  color: #f1f1f1;\n",
              "}\n",
              "#T_b9d3e_row3_col5 {\n",
              "  font-size: 6pt;\n",
              "  background-color: #333333;\n",
              "  color: #f1f1f1;\n",
              "}\n",
              "#T_b9d3e_row3_col6 {\n",
              "  font-size: 6pt;\n",
              "  background-color: #e6e6e6;\n",
              "  color: #000000;\n",
              "}\n",
              "#T_b9d3e_row3_col7, #T_b9d3e_row3_col10 {\n",
              "  font-size: 6pt;\n",
              "  background-color: #fafafa;\n",
              "  color: #000000;\n",
              "}\n",
              "#T_b9d3e_row3_col8 {\n",
              "  font-size: 6pt;\n",
              "  background-color: #fbfbfb;\n",
              "  color: #000000;\n",
              "}\n",
              "#T_b9d3e_row3_col9 {\n",
              "  font-size: 6pt;\n",
              "  background-color: #fdfdfd;\n",
              "  color: #000000;\n",
              "}\n",
              "#T_b9d3e_row4_col4 {\n",
              "  font-size: 6pt;\n",
              "  background-color: #1b1b1b;\n",
              "  color: #f1f1f1;\n",
              "}\n",
              "#T_b9d3e_row4_col5 {\n",
              "  font-size: 6pt;\n",
              "  background-color: #e0e0e0;\n",
              "  color: #000000;\n",
              "}\n",
              "#T_b9d3e_row4_col11 {\n",
              "  font-size: 6pt;\n",
              "  background-color: #4e4e4e;\n",
              "  color: #f1f1f1;\n",
              "}\n",
              "#T_b9d3e_row4_col14 {\n",
              "  font-size: 6pt;\n",
              "  background-color: #767676;\n",
              "  color: #f1f1f1;\n",
              "}\n",
              "#T_b9d3e_row5_col1 {\n",
              "  font-size: 6pt;\n",
              "  background-color: #fcfcfc;\n",
              "  color: #000000;\n",
              "}\n",
              "#T_b9d3e_row5_col2, #T_b9d3e_row5_col3 {\n",
              "  font-size: 6pt;\n",
              "  background-color: #f6f6f6;\n",
              "  color: #000000;\n",
              "}\n",
              "#T_b9d3e_row5_col4, #T_b9d3e_row7_col7 {\n",
              "  font-size: 6pt;\n",
              "  background-color: #f8f8f8;\n",
              "  color: #000000;\n",
              "}\n",
              "#T_b9d3e_row5_col10, #T_b9d3e_row10_col7 {\n",
              "  font-size: 6pt;\n",
              "  background-color: #e8e8e8;\n",
              "  color: #000000;\n",
              "}\n",
              "#T_b9d3e_row5_col11 {\n",
              "  font-size: 6pt;\n",
              "  background-color: #222222;\n",
              "  color: #f1f1f1;\n",
              "}\n",
              "#T_b9d3e_row5_col13, #T_b9d3e_row6_col12 {\n",
              "  font-size: 6pt;\n",
              "  background-color: #090909;\n",
              "  color: #f1f1f1;\n",
              "}\n",
              "#T_b9d3e_row5_col14 {\n",
              "  font-size: 6pt;\n",
              "  background-color: #d0d0d0;\n",
              "  color: #000000;\n",
              "}\n",
              "#T_b9d3e_row6_col10, #T_b9d3e_row7_col11, #T_b9d3e_row9_col6 {\n",
              "  font-size: 6pt;\n",
              "  background-color: #060606;\n",
              "  color: #f1f1f1;\n",
              "}\n",
              "#T_b9d3e_row6_col13 {\n",
              "  font-size: 6pt;\n",
              "  background-color: #979797;\n",
              "  color: #f1f1f1;\n",
              "}\n",
              "#T_b9d3e_row7_col8 {\n",
              "  font-size: 6pt;\n",
              "  background-color: #b6b6b6;\n",
              "  color: #000000;\n",
              "}\n",
              "#T_b9d3e_row7_col9 {\n",
              "  font-size: 6pt;\n",
              "  background-color: #252525;\n",
              "  color: #f1f1f1;\n",
              "}\n",
              "#T_b9d3e_row7_col12 {\n",
              "  font-size: 6pt;\n",
              "  background-color: #999999;\n",
              "  color: #f1f1f1;\n",
              "}\n",
              "#T_b9d3e_row8_col5 {\n",
              "  font-size: 6pt;\n",
              "  background-color: #f9f9f9;\n",
              "  color: #000000;\n",
              "}\n",
              "#T_b9d3e_row8_col7 {\n",
              "  font-size: 6pt;\n",
              "  background-color: #101010;\n",
              "  color: #f1f1f1;\n",
              "}\n",
              "#T_b9d3e_row8_col9, #T_b9d3e_row9_col9 {\n",
              "  font-size: 6pt;\n",
              "  background-color: #020202;\n",
              "  color: #f1f1f1;\n",
              "}\n",
              "#T_b9d3e_row8_col11 {\n",
              "  font-size: 6pt;\n",
              "  background-color: #545454;\n",
              "  color: #f1f1f1;\n",
              "}\n",
              "#T_b9d3e_row8_col12 {\n",
              "  font-size: 6pt;\n",
              "  background-color: #f1f1f1;\n",
              "  color: #000000;\n",
              "}\n",
              "#T_b9d3e_row9_col5 {\n",
              "  font-size: 6pt;\n",
              "  background-color: #f7f7f7;\n",
              "  color: #000000;\n",
              "}\n",
              "#T_b9d3e_row9_col7 {\n",
              "  font-size: 6pt;\n",
              "  background-color: #030303;\n",
              "  color: #f1f1f1;\n",
              "}\n",
              "#T_b9d3e_row9_col12 {\n",
              "  font-size: 6pt;\n",
              "  background-color: #181818;\n",
              "  color: #f1f1f1;\n",
              "}\n",
              "#T_b9d3e_row9_col13 {\n",
              "  font-size: 6pt;\n",
              "  background-color: #303030;\n",
              "  color: #f1f1f1;\n",
              "}\n",
              "#T_b9d3e_row9_col14 {\n",
              "  font-size: 6pt;\n",
              "  background-color: #a9a9a9;\n",
              "  color: #f1f1f1;\n",
              "}\n",
              "#T_b9d3e_row9_col15 {\n",
              "  font-size: 6pt;\n",
              "  background-color: #fefefe;\n",
              "  color: #000000;\n",
              "}\n",
              "#T_b9d3e_row10_col8, #T_b9d3e_row10_col9 {\n",
              "  font-size: 6pt;\n",
              "  background-color: #bababa;\n",
              "  color: #000000;\n",
              "}\n",
              "#T_b9d3e_row10_col10 {\n",
              "  font-size: 6pt;\n",
              "  background-color: #393939;\n",
              "  color: #f1f1f1;\n",
              "}\n",
              "</style>\n",
              "<table id=\"T_b9d3e_\" class=\"dataframe\">\n",
              "  <thead>\n",
              "    <tr>\n",
              "      <th class=\"blank level0\" >&nbsp;</th>\n",
              "      <th class=\"col_heading level0 col0\" >0</th>\n",
              "      <th class=\"col_heading level0 col1\" >1</th>\n",
              "      <th class=\"col_heading level0 col2\" >2</th>\n",
              "      <th class=\"col_heading level0 col3\" >3</th>\n",
              "      <th class=\"col_heading level0 col4\" >4</th>\n",
              "      <th class=\"col_heading level0 col5\" >5</th>\n",
              "      <th class=\"col_heading level0 col6\" >6</th>\n",
              "      <th class=\"col_heading level0 col7\" >7</th>\n",
              "      <th class=\"col_heading level0 col8\" >8</th>\n",
              "      <th class=\"col_heading level0 col9\" >9</th>\n",
              "      <th class=\"col_heading level0 col10\" >10</th>\n",
              "      <th class=\"col_heading level0 col11\" >11</th>\n",
              "      <th class=\"col_heading level0 col12\" >12</th>\n",
              "      <th class=\"col_heading level0 col13\" >13</th>\n",
              "      <th class=\"col_heading level0 col14\" >14</th>\n",
              "      <th class=\"col_heading level0 col15\" >15</th>\n",
              "      <th class=\"col_heading level0 col16\" >16</th>\n",
              "      <th class=\"col_heading level0 col17\" >17</th>\n",
              "    </tr>\n",
              "  </thead>\n",
              "  <tbody>\n",
              "    <tr>\n",
              "      <th id=\"T_b9d3e_level0_row0\" class=\"row_heading level0 row0\" >0</th>\n",
              "      <td id=\"T_b9d3e_row0_col0\" class=\"data row0 col0\" >0</td>\n",
              "      <td id=\"T_b9d3e_row0_col1\" class=\"data row0 col1\" >0</td>\n",
              "      <td id=\"T_b9d3e_row0_col2\" class=\"data row0 col2\" >0</td>\n",
              "      <td id=\"T_b9d3e_row0_col3\" class=\"data row0 col3\" >0</td>\n",
              "      <td id=\"T_b9d3e_row0_col4\" class=\"data row0 col4\" >0</td>\n",
              "      <td id=\"T_b9d3e_row0_col5\" class=\"data row0 col5\" >0</td>\n",
              "      <td id=\"T_b9d3e_row0_col6\" class=\"data row0 col6\" >0</td>\n",
              "      <td id=\"T_b9d3e_row0_col7\" class=\"data row0 col7\" >0</td>\n",
              "      <td id=\"T_b9d3e_row0_col8\" class=\"data row0 col8\" >0</td>\n",
              "      <td id=\"T_b9d3e_row0_col9\" class=\"data row0 col9\" >0</td>\n",
              "      <td id=\"T_b9d3e_row0_col10\" class=\"data row0 col10\" >0</td>\n",
              "      <td id=\"T_b9d3e_row0_col11\" class=\"data row0 col11\" >0</td>\n",
              "      <td id=\"T_b9d3e_row0_col12\" class=\"data row0 col12\" >0</td>\n",
              "      <td id=\"T_b9d3e_row0_col13\" class=\"data row0 col13\" >0</td>\n",
              "      <td id=\"T_b9d3e_row0_col14\" class=\"data row0 col14\" >0</td>\n",
              "      <td id=\"T_b9d3e_row0_col15\" class=\"data row0 col15\" >0</td>\n",
              "      <td id=\"T_b9d3e_row0_col16\" class=\"data row0 col16\" >0</td>\n",
              "      <td id=\"T_b9d3e_row0_col17\" class=\"data row0 col17\" >0</td>\n",
              "    </tr>\n",
              "    <tr>\n",
              "      <th id=\"T_b9d3e_level0_row1\" class=\"row_heading level0 row1\" >1</th>\n",
              "      <td id=\"T_b9d3e_row1_col0\" class=\"data row1 col0\" >0</td>\n",
              "      <td id=\"T_b9d3e_row1_col1\" class=\"data row1 col1\" >0</td>\n",
              "      <td id=\"T_b9d3e_row1_col2\" class=\"data row1 col2\" >0</td>\n",
              "      <td id=\"T_b9d3e_row1_col3\" class=\"data row1 col3\" >0</td>\n",
              "      <td id=\"T_b9d3e_row1_col4\" class=\"data row1 col4\" >0</td>\n",
              "      <td id=\"T_b9d3e_row1_col5\" class=\"data row1 col5\" >29</td>\n",
              "      <td id=\"T_b9d3e_row1_col6\" class=\"data row1 col6\" >150</td>\n",
              "      <td id=\"T_b9d3e_row1_col7\" class=\"data row1 col7\" >195</td>\n",
              "      <td id=\"T_b9d3e_row1_col8\" class=\"data row1 col8\" >254</td>\n",
              "      <td id=\"T_b9d3e_row1_col9\" class=\"data row1 col9\" >255</td>\n",
              "      <td id=\"T_b9d3e_row1_col10\" class=\"data row1 col10\" >254</td>\n",
              "      <td id=\"T_b9d3e_row1_col11\" class=\"data row1 col11\" >176</td>\n",
              "      <td id=\"T_b9d3e_row1_col12\" class=\"data row1 col12\" >193</td>\n",
              "      <td id=\"T_b9d3e_row1_col13\" class=\"data row1 col13\" >150</td>\n",
              "      <td id=\"T_b9d3e_row1_col14\" class=\"data row1 col14\" >96</td>\n",
              "      <td id=\"T_b9d3e_row1_col15\" class=\"data row1 col15\" >0</td>\n",
              "      <td id=\"T_b9d3e_row1_col16\" class=\"data row1 col16\" >0</td>\n",
              "      <td id=\"T_b9d3e_row1_col17\" class=\"data row1 col17\" >0</td>\n",
              "    </tr>\n",
              "    <tr>\n",
              "      <th id=\"T_b9d3e_level0_row2\" class=\"row_heading level0 row2\" >2</th>\n",
              "      <td id=\"T_b9d3e_row2_col0\" class=\"data row2 col0\" >0</td>\n",
              "      <td id=\"T_b9d3e_row2_col1\" class=\"data row2 col1\" >0</td>\n",
              "      <td id=\"T_b9d3e_row2_col2\" class=\"data row2 col2\" >0</td>\n",
              "      <td id=\"T_b9d3e_row2_col3\" class=\"data row2 col3\" >48</td>\n",
              "      <td id=\"T_b9d3e_row2_col4\" class=\"data row2 col4\" >166</td>\n",
              "      <td id=\"T_b9d3e_row2_col5\" class=\"data row2 col5\" >224</td>\n",
              "      <td id=\"T_b9d3e_row2_col6\" class=\"data row2 col6\" >253</td>\n",
              "      <td id=\"T_b9d3e_row2_col7\" class=\"data row2 col7\" >253</td>\n",
              "      <td id=\"T_b9d3e_row2_col8\" class=\"data row2 col8\" >234</td>\n",
              "      <td id=\"T_b9d3e_row2_col9\" class=\"data row2 col9\" >196</td>\n",
              "      <td id=\"T_b9d3e_row2_col10\" class=\"data row2 col10\" >253</td>\n",
              "      <td id=\"T_b9d3e_row2_col11\" class=\"data row2 col11\" >253</td>\n",
              "      <td id=\"T_b9d3e_row2_col12\" class=\"data row2 col12\" >253</td>\n",
              "      <td id=\"T_b9d3e_row2_col13\" class=\"data row2 col13\" >253</td>\n",
              "      <td id=\"T_b9d3e_row2_col14\" class=\"data row2 col14\" >233</td>\n",
              "      <td id=\"T_b9d3e_row2_col15\" class=\"data row2 col15\" >0</td>\n",
              "      <td id=\"T_b9d3e_row2_col16\" class=\"data row2 col16\" >0</td>\n",
              "      <td id=\"T_b9d3e_row2_col17\" class=\"data row2 col17\" >0</td>\n",
              "    </tr>\n",
              "    <tr>\n",
              "      <th id=\"T_b9d3e_level0_row3\" class=\"row_heading level0 row3\" >3</th>\n",
              "      <td id=\"T_b9d3e_row3_col0\" class=\"data row3 col0\" >0</td>\n",
              "      <td id=\"T_b9d3e_row3_col1\" class=\"data row3 col1\" >93</td>\n",
              "      <td id=\"T_b9d3e_row3_col2\" class=\"data row3 col2\" >244</td>\n",
              "      <td id=\"T_b9d3e_row3_col3\" class=\"data row3 col3\" >249</td>\n",
              "      <td id=\"T_b9d3e_row3_col4\" class=\"data row3 col4\" >253</td>\n",
              "      <td id=\"T_b9d3e_row3_col5\" class=\"data row3 col5\" >187</td>\n",
              "      <td id=\"T_b9d3e_row3_col6\" class=\"data row3 col6\" >46</td>\n",
              "      <td id=\"T_b9d3e_row3_col7\" class=\"data row3 col7\" >10</td>\n",
              "      <td id=\"T_b9d3e_row3_col8\" class=\"data row3 col8\" >8</td>\n",
              "      <td id=\"T_b9d3e_row3_col9\" class=\"data row3 col9\" >4</td>\n",
              "      <td id=\"T_b9d3e_row3_col10\" class=\"data row3 col10\" >10</td>\n",
              "      <td id=\"T_b9d3e_row3_col11\" class=\"data row3 col11\" >194</td>\n",
              "      <td id=\"T_b9d3e_row3_col12\" class=\"data row3 col12\" >253</td>\n",
              "      <td id=\"T_b9d3e_row3_col13\" class=\"data row3 col13\" >253</td>\n",
              "      <td id=\"T_b9d3e_row3_col14\" class=\"data row3 col14\" >233</td>\n",
              "      <td id=\"T_b9d3e_row3_col15\" class=\"data row3 col15\" >0</td>\n",
              "      <td id=\"T_b9d3e_row3_col16\" class=\"data row3 col16\" >0</td>\n",
              "      <td id=\"T_b9d3e_row3_col17\" class=\"data row3 col17\" >0</td>\n",
              "    </tr>\n",
              "    <tr>\n",
              "      <th id=\"T_b9d3e_level0_row4\" class=\"row_heading level0 row4\" >4</th>\n",
              "      <td id=\"T_b9d3e_row4_col0\" class=\"data row4 col0\" >0</td>\n",
              "      <td id=\"T_b9d3e_row4_col1\" class=\"data row4 col1\" >107</td>\n",
              "      <td id=\"T_b9d3e_row4_col2\" class=\"data row4 col2\" >253</td>\n",
              "      <td id=\"T_b9d3e_row4_col3\" class=\"data row4 col3\" >253</td>\n",
              "      <td id=\"T_b9d3e_row4_col4\" class=\"data row4 col4\" >230</td>\n",
              "      <td id=\"T_b9d3e_row4_col5\" class=\"data row4 col5\" >48</td>\n",
              "      <td id=\"T_b9d3e_row4_col6\" class=\"data row4 col6\" >0</td>\n",
              "      <td id=\"T_b9d3e_row4_col7\" class=\"data row4 col7\" >0</td>\n",
              "      <td id=\"T_b9d3e_row4_col8\" class=\"data row4 col8\" >0</td>\n",
              "      <td id=\"T_b9d3e_row4_col9\" class=\"data row4 col9\" >0</td>\n",
              "      <td id=\"T_b9d3e_row4_col10\" class=\"data row4 col10\" >0</td>\n",
              "      <td id=\"T_b9d3e_row4_col11\" class=\"data row4 col11\" >192</td>\n",
              "      <td id=\"T_b9d3e_row4_col12\" class=\"data row4 col12\" >253</td>\n",
              "      <td id=\"T_b9d3e_row4_col13\" class=\"data row4 col13\" >253</td>\n",
              "      <td id=\"T_b9d3e_row4_col14\" class=\"data row4 col14\" >156</td>\n",
              "      <td id=\"T_b9d3e_row4_col15\" class=\"data row4 col15\" >0</td>\n",
              "      <td id=\"T_b9d3e_row4_col16\" class=\"data row4 col16\" >0</td>\n",
              "      <td id=\"T_b9d3e_row4_col17\" class=\"data row4 col17\" >0</td>\n",
              "    </tr>\n",
              "    <tr>\n",
              "      <th id=\"T_b9d3e_level0_row5\" class=\"row_heading level0 row5\" >5</th>\n",
              "      <td id=\"T_b9d3e_row5_col0\" class=\"data row5 col0\" >0</td>\n",
              "      <td id=\"T_b9d3e_row5_col1\" class=\"data row5 col1\" >3</td>\n",
              "      <td id=\"T_b9d3e_row5_col2\" class=\"data row5 col2\" >20</td>\n",
              "      <td id=\"T_b9d3e_row5_col3\" class=\"data row5 col3\" >20</td>\n",
              "      <td id=\"T_b9d3e_row5_col4\" class=\"data row5 col4\" >15</td>\n",
              "      <td id=\"T_b9d3e_row5_col5\" class=\"data row5 col5\" >0</td>\n",
              "      <td id=\"T_b9d3e_row5_col6\" class=\"data row5 col6\" >0</td>\n",
              "      <td id=\"T_b9d3e_row5_col7\" class=\"data row5 col7\" >0</td>\n",
              "      <td id=\"T_b9d3e_row5_col8\" class=\"data row5 col8\" >0</td>\n",
              "      <td id=\"T_b9d3e_row5_col9\" class=\"data row5 col9\" >0</td>\n",
              "      <td id=\"T_b9d3e_row5_col10\" class=\"data row5 col10\" >43</td>\n",
              "      <td id=\"T_b9d3e_row5_col11\" class=\"data row5 col11\" >224</td>\n",
              "      <td id=\"T_b9d3e_row5_col12\" class=\"data row5 col12\" >253</td>\n",
              "      <td id=\"T_b9d3e_row5_col13\" class=\"data row5 col13\" >245</td>\n",
              "      <td id=\"T_b9d3e_row5_col14\" class=\"data row5 col14\" >74</td>\n",
              "      <td id=\"T_b9d3e_row5_col15\" class=\"data row5 col15\" >0</td>\n",
              "      <td id=\"T_b9d3e_row5_col16\" class=\"data row5 col16\" >0</td>\n",
              "      <td id=\"T_b9d3e_row5_col17\" class=\"data row5 col17\" >0</td>\n",
              "    </tr>\n",
              "    <tr>\n",
              "      <th id=\"T_b9d3e_level0_row6\" class=\"row_heading level0 row6\" >6</th>\n",
              "      <td id=\"T_b9d3e_row6_col0\" class=\"data row6 col0\" >0</td>\n",
              "      <td id=\"T_b9d3e_row6_col1\" class=\"data row6 col1\" >0</td>\n",
              "      <td id=\"T_b9d3e_row6_col2\" class=\"data row6 col2\" >0</td>\n",
              "      <td id=\"T_b9d3e_row6_col3\" class=\"data row6 col3\" >0</td>\n",
              "      <td id=\"T_b9d3e_row6_col4\" class=\"data row6 col4\" >0</td>\n",
              "      <td id=\"T_b9d3e_row6_col5\" class=\"data row6 col5\" >0</td>\n",
              "      <td id=\"T_b9d3e_row6_col6\" class=\"data row6 col6\" >0</td>\n",
              "      <td id=\"T_b9d3e_row6_col7\" class=\"data row6 col7\" >0</td>\n",
              "      <td id=\"T_b9d3e_row6_col8\" class=\"data row6 col8\" >0</td>\n",
              "      <td id=\"T_b9d3e_row6_col9\" class=\"data row6 col9\" >0</td>\n",
              "      <td id=\"T_b9d3e_row6_col10\" class=\"data row6 col10\" >249</td>\n",
              "      <td id=\"T_b9d3e_row6_col11\" class=\"data row6 col11\" >253</td>\n",
              "      <td id=\"T_b9d3e_row6_col12\" class=\"data row6 col12\" >245</td>\n",
              "      <td id=\"T_b9d3e_row6_col13\" class=\"data row6 col13\" >126</td>\n",
              "      <td id=\"T_b9d3e_row6_col14\" class=\"data row6 col14\" >0</td>\n",
              "      <td id=\"T_b9d3e_row6_col15\" class=\"data row6 col15\" >0</td>\n",
              "      <td id=\"T_b9d3e_row6_col16\" class=\"data row6 col16\" >0</td>\n",
              "      <td id=\"T_b9d3e_row6_col17\" class=\"data row6 col17\" >0</td>\n",
              "    </tr>\n",
              "    <tr>\n",
              "      <th id=\"T_b9d3e_level0_row7\" class=\"row_heading level0 row7\" >7</th>\n",
              "      <td id=\"T_b9d3e_row7_col0\" class=\"data row7 col0\" >0</td>\n",
              "      <td id=\"T_b9d3e_row7_col1\" class=\"data row7 col1\" >0</td>\n",
              "      <td id=\"T_b9d3e_row7_col2\" class=\"data row7 col2\" >0</td>\n",
              "      <td id=\"T_b9d3e_row7_col3\" class=\"data row7 col3\" >0</td>\n",
              "      <td id=\"T_b9d3e_row7_col4\" class=\"data row7 col4\" >0</td>\n",
              "      <td id=\"T_b9d3e_row7_col5\" class=\"data row7 col5\" >0</td>\n",
              "      <td id=\"T_b9d3e_row7_col6\" class=\"data row7 col6\" >0</td>\n",
              "      <td id=\"T_b9d3e_row7_col7\" class=\"data row7 col7\" >14</td>\n",
              "      <td id=\"T_b9d3e_row7_col8\" class=\"data row7 col8\" >101</td>\n",
              "      <td id=\"T_b9d3e_row7_col9\" class=\"data row7 col9\" >223</td>\n",
              "      <td id=\"T_b9d3e_row7_col10\" class=\"data row7 col10\" >253</td>\n",
              "      <td id=\"T_b9d3e_row7_col11\" class=\"data row7 col11\" >248</td>\n",
              "      <td id=\"T_b9d3e_row7_col12\" class=\"data row7 col12\" >124</td>\n",
              "      <td id=\"T_b9d3e_row7_col13\" class=\"data row7 col13\" >0</td>\n",
              "      <td id=\"T_b9d3e_row7_col14\" class=\"data row7 col14\" >0</td>\n",
              "      <td id=\"T_b9d3e_row7_col15\" class=\"data row7 col15\" >0</td>\n",
              "      <td id=\"T_b9d3e_row7_col16\" class=\"data row7 col16\" >0</td>\n",
              "      <td id=\"T_b9d3e_row7_col17\" class=\"data row7 col17\" >0</td>\n",
              "    </tr>\n",
              "    <tr>\n",
              "      <th id=\"T_b9d3e_level0_row8\" class=\"row_heading level0 row8\" >8</th>\n",
              "      <td id=\"T_b9d3e_row8_col0\" class=\"data row8 col0\" >0</td>\n",
              "      <td id=\"T_b9d3e_row8_col1\" class=\"data row8 col1\" >0</td>\n",
              "      <td id=\"T_b9d3e_row8_col2\" class=\"data row8 col2\" >0</td>\n",
              "      <td id=\"T_b9d3e_row8_col3\" class=\"data row8 col3\" >0</td>\n",
              "      <td id=\"T_b9d3e_row8_col4\" class=\"data row8 col4\" >0</td>\n",
              "      <td id=\"T_b9d3e_row8_col5\" class=\"data row8 col5\" >11</td>\n",
              "      <td id=\"T_b9d3e_row8_col6\" class=\"data row8 col6\" >166</td>\n",
              "      <td id=\"T_b9d3e_row8_col7\" class=\"data row8 col7\" >239</td>\n",
              "      <td id=\"T_b9d3e_row8_col8\" class=\"data row8 col8\" >253</td>\n",
              "      <td id=\"T_b9d3e_row8_col9\" class=\"data row8 col9\" >253</td>\n",
              "      <td id=\"T_b9d3e_row8_col10\" class=\"data row8 col10\" >253</td>\n",
              "      <td id=\"T_b9d3e_row8_col11\" class=\"data row8 col11\" >187</td>\n",
              "      <td id=\"T_b9d3e_row8_col12\" class=\"data row8 col12\" >30</td>\n",
              "      <td id=\"T_b9d3e_row8_col13\" class=\"data row8 col13\" >0</td>\n",
              "      <td id=\"T_b9d3e_row8_col14\" class=\"data row8 col14\" >0</td>\n",
              "      <td id=\"T_b9d3e_row8_col15\" class=\"data row8 col15\" >0</td>\n",
              "      <td id=\"T_b9d3e_row8_col16\" class=\"data row8 col16\" >0</td>\n",
              "      <td id=\"T_b9d3e_row8_col17\" class=\"data row8 col17\" >0</td>\n",
              "    </tr>\n",
              "    <tr>\n",
              "      <th id=\"T_b9d3e_level0_row9\" class=\"row_heading level0 row9\" >9</th>\n",
              "      <td id=\"T_b9d3e_row9_col0\" class=\"data row9 col0\" >0</td>\n",
              "      <td id=\"T_b9d3e_row9_col1\" class=\"data row9 col1\" >0</td>\n",
              "      <td id=\"T_b9d3e_row9_col2\" class=\"data row9 col2\" >0</td>\n",
              "      <td id=\"T_b9d3e_row9_col3\" class=\"data row9 col3\" >0</td>\n",
              "      <td id=\"T_b9d3e_row9_col4\" class=\"data row9 col4\" >0</td>\n",
              "      <td id=\"T_b9d3e_row9_col5\" class=\"data row9 col5\" >16</td>\n",
              "      <td id=\"T_b9d3e_row9_col6\" class=\"data row9 col6\" >248</td>\n",
              "      <td id=\"T_b9d3e_row9_col7\" class=\"data row9 col7\" >250</td>\n",
              "      <td id=\"T_b9d3e_row9_col8\" class=\"data row9 col8\" >253</td>\n",
              "      <td id=\"T_b9d3e_row9_col9\" class=\"data row9 col9\" >253</td>\n",
              "      <td id=\"T_b9d3e_row9_col10\" class=\"data row9 col10\" >253</td>\n",
              "      <td id=\"T_b9d3e_row9_col11\" class=\"data row9 col11\" >253</td>\n",
              "      <td id=\"T_b9d3e_row9_col12\" class=\"data row9 col12\" >232</td>\n",
              "      <td id=\"T_b9d3e_row9_col13\" class=\"data row9 col13\" >213</td>\n",
              "      <td id=\"T_b9d3e_row9_col14\" class=\"data row9 col14\" >111</td>\n",
              "      <td id=\"T_b9d3e_row9_col15\" class=\"data row9 col15\" >2</td>\n",
              "      <td id=\"T_b9d3e_row9_col16\" class=\"data row9 col16\" >0</td>\n",
              "      <td id=\"T_b9d3e_row9_col17\" class=\"data row9 col17\" >0</td>\n",
              "    </tr>\n",
              "    <tr>\n",
              "      <th id=\"T_b9d3e_level0_row10\" class=\"row_heading level0 row10\" >10</th>\n",
              "      <td id=\"T_b9d3e_row10_col0\" class=\"data row10 col0\" >0</td>\n",
              "      <td id=\"T_b9d3e_row10_col1\" class=\"data row10 col1\" >0</td>\n",
              "      <td id=\"T_b9d3e_row10_col2\" class=\"data row10 col2\" >0</td>\n",
              "      <td id=\"T_b9d3e_row10_col3\" class=\"data row10 col3\" >0</td>\n",
              "      <td id=\"T_b9d3e_row10_col4\" class=\"data row10 col4\" >0</td>\n",
              "      <td id=\"T_b9d3e_row10_col5\" class=\"data row10 col5\" >0</td>\n",
              "      <td id=\"T_b9d3e_row10_col6\" class=\"data row10 col6\" >0</td>\n",
              "      <td id=\"T_b9d3e_row10_col7\" class=\"data row10 col7\" >43</td>\n",
              "      <td id=\"T_b9d3e_row10_col8\" class=\"data row10 col8\" >98</td>\n",
              "      <td id=\"T_b9d3e_row10_col9\" class=\"data row10 col9\" >98</td>\n",
              "      <td id=\"T_b9d3e_row10_col10\" class=\"data row10 col10\" >208</td>\n",
              "      <td id=\"T_b9d3e_row10_col11\" class=\"data row10 col11\" >253</td>\n",
              "      <td id=\"T_b9d3e_row10_col12\" class=\"data row10 col12\" >253</td>\n",
              "      <td id=\"T_b9d3e_row10_col13\" class=\"data row10 col13\" >253</td>\n",
              "      <td id=\"T_b9d3e_row10_col14\" class=\"data row10 col14\" >253</td>\n",
              "      <td id=\"T_b9d3e_row10_col15\" class=\"data row10 col15\" >187</td>\n",
              "      <td id=\"T_b9d3e_row10_col16\" class=\"data row10 col16\" >22</td>\n",
              "      <td id=\"T_b9d3e_row10_col17\" class=\"data row10 col17\" >0</td>\n",
              "    </tr>\n",
              "  </tbody>\n",
              "</table>\n"
            ]
          },
          "metadata": {},
          "execution_count": 10
        }
      ]
    },
    {
      "cell_type": "code",
      "source": [
        "seven_tensors = [tensor(Image.open(o)) for o in sevens]\n",
        "three_tensors = [tensor(Image.open(o)) for o in threes]\n",
        "len(seven_tensors), len(three_tensors)\n"
      ],
      "metadata": {
        "colab": {
          "base_uri": "https://localhost:8080/"
        },
        "id": "OwXoJUtjhMMP",
        "outputId": "8eb0427d-d5f0-4c2b-ba5c-0322a2b71d3e"
      },
      "execution_count": 11,
      "outputs": [
        {
          "output_type": "execute_result",
          "data": {
            "text/plain": [
              "(6265, 6131)"
            ]
          },
          "metadata": {},
          "execution_count": 11
        }
      ]
    },
    {
      "cell_type": "code",
      "source": [
        "show_image(three_tensors[1]);"
      ],
      "metadata": {
        "colab": {
          "base_uri": "https://localhost:8080/",
          "height": 85
        },
        "id": "ii2l3W0ZkKoX",
        "outputId": "c4f36df1-32ad-446c-d316-af9ebf519025"
      },
      "execution_count": 12,
      "outputs": [
        {
          "output_type": "display_data",
          "data": {
            "text/plain": [
              "<Figure size 72x72 with 1 Axes>"
            ],
            "image/png": "[encoded data removed]"
          },
          "metadata": {
            "needs_background": "light"
          }
        }
      ]
    },
    {
      "cell_type": "code",
      "source": [
        "stacked_sevens = torch.stack(seven_tensors).float()/255\n",
        "stacked_threes = torch.stack(three_tensors).float()/255\n",
        "stacked_threes.shape"
      ],
      "metadata": {
        "colab": {
          "base_uri": "https://localhost:8080/"
        },
        "id": "J0XQUH93kfd6",
        "outputId": "0a1887e0-ae46-4885-e30b-5ea2e1abf992"
      },
      "execution_count": 13,
      "outputs": [
        {
          "output_type": "execute_result",
          "data": {
            "text/plain": [
              "torch.Size([6131, 28, 28])"
            ]
          },
          "metadata": {},
          "execution_count": 13
        }
      ]
    },
    {
      "cell_type": "code",
      "source": [
        "len(stacked_threes.shape)"
      ],
      "metadata": {
        "colab": {
          "base_uri": "https://localhost:8080/"
        },
        "id": "s85XpghulD4u",
        "outputId": "59a3327c-338d-40af-e260-a71367f8e176"
      },
      "execution_count": 14,
      "outputs": [
        {
          "output_type": "execute_result",
          "data": {
            "text/plain": [
              "3"
            ]
          },
          "metadata": {},
          "execution_count": 14
        }
      ]
    },
    {
      "cell_type": "code",
      "source": [
        "stacked_threes.ndim"
      ],
      "metadata": {
        "colab": {
          "base_uri": "https://localhost:8080/"
        },
        "id": "TAI7-aPIlUPZ",
        "outputId": "a2dad293-39f1-4350-b7cc-ea4a7df4e34a"
      },
      "execution_count": 15,
      "outputs": [
        {
          "output_type": "execute_result",
          "data": {
            "text/plain": [
              "3"
            ]
          },
          "metadata": {},
          "execution_count": 15
        }
      ]
    },
    {
      "cell_type": "code",
      "source": [
        "mean3 = stacked_threes.mean(0)\n",
        "show_image(mean3);"
      ],
      "metadata": {
        "colab": {
          "base_uri": "https://localhost:8080/",
          "height": 85
        },
        "id": "uSB_LXuOmMk4",
        "outputId": "13aa4989-5cdb-427e-ac90-094b4582a8a1"
      },
      "execution_count": 16,
      "outputs": [
        {
          "output_type": "display_data",
          "data": {
            "text/plain": [
              "<Figure size 72x72 with 1 Axes>"
            ],
            "image/png": "[encoded data removed]"
          },
          "metadata": {
            "needs_background": "light"
          }
        }
      ]
    },
    {
      "cell_type": "code",
      "source": [
        "mean7 = stacked_sevens.mean(0)\n",
        "show_image(mean7);"
      ],
      "metadata": {
        "colab": {
          "base_uri": "https://localhost:8080/",
          "height": 85
        },
        "id": "W2k2V4pImbgK",
        "outputId": "aba2fff6-c60e-4409-aa35-dff68cc12964"
      },
      "execution_count": 17,
      "outputs": [
        {
          "output_type": "display_data",
          "data": {
            "text/plain": [
              "<Figure size 72x72 with 1 Axes>"
            ],
            "image/png": "[encoded data removed]"
          },
          "metadata": {
            "needs_background": "light"
          }
        }
      ]
    },
    {
      "cell_type": "code",
      "source": [
        "a_3 = stacked_threes[1]\n",
        "show_image(a_3);"
      ],
      "metadata": {
        "colab": {
          "base_uri": "https://localhost:8080/",
          "height": 85
        },
        "id": "xRmA42b-nLrv",
        "outputId": "a47a867c-4379-426c-94f8-0fd7dec4d865"
      },
      "execution_count": 18,
      "outputs": [
        {
          "output_type": "display_data",
          "data": {
            "text/plain": [
              "<Figure size 72x72 with 1 Axes>"
            ],
            "image/png": "[encoded data removed]"
          },
          "metadata": {
            "needs_background": "light"
          }
        }
      ]
    },
    {
      "cell_type": "code",
      "source": [
        "dist_3_abs = (a_3 - mean3).abs().mean() \n",
        "dist_3_sqr = ((a_3 - mean3)**2).mean().sqrt()\n",
        "dist_3_abs, dist_3_sqr"
      ],
      "metadata": {
        "colab": {
          "base_uri": "https://localhost:8080/"
        },
        "id": "tX1dSYgqp_Ub",
        "outputId": "a95c9eb6-4263-435b-9115-7e246d9b8509"
      },
      "execution_count": 19,
      "outputs": [
        {
          "output_type": "execute_result",
          "data": {
            "text/plain": [
              "(tensor(0.1114), tensor(0.2021))"
            ]
          },
          "metadata": {},
          "execution_count": 19
        }
      ]
    },
    {
      "cell_type": "code",
      "source": [
        "dist_7_abs = (a_3 - mean7).abs().mean()\n",
        "dist_7_sqr = ((a_3 - mean7)**2).mean().sqrt()\n",
        "dist_7_abs, dist_7_sqr"
      ],
      "metadata": {
        "colab": {
          "base_uri": "https://localhost:8080/"
        },
        "id": "Vn2qjAyJsNZo",
        "outputId": "328bde87-7265-48e8-fd8e-e50eb396dc0d"
      },
      "execution_count": 20,
      "outputs": [
        {
          "output_type": "execute_result",
          "data": {
            "text/plain": [
              "(tensor(0.1586), tensor(0.3021))"
            ]
          },
          "metadata": {},
          "execution_count": 20
        }
      ]
    },
    {
      "cell_type": "code",
      "source": [
        "F.l1_loss(a_3.float(),mean7), F.mse_loss(a_3, mean7).sqrt()"
      ],
      "metadata": {
        "colab": {
          "base_uri": "https://localhost:8080/"
        },
        "id": "aKkig-fFsiUT",
        "outputId": "cdba1511-e380-48ba-e9fd-c54a82aa711a"
      },
      "execution_count": 21,
      "outputs": [
        {
          "output_type": "execute_result",
          "data": {
            "text/plain": [
              "(tensor(0.1586), tensor(0.3021))"
            ]
          },
          "metadata": {},
          "execution_count": 21
        }
      ]
    },
    {
      "cell_type": "code",
      "source": [
        "valid_3_tens = torch.stack([tensor(Image.open(o)) for o in (path/'valid'/'3').ls()])\n",
        "valid_7_tens = torch.stack([tensor(Image.open(o)) for o in (path/'valid'/'7').ls()])\n",
        "valid_3_tens = valid_3_tens.float()/255\n",
        "valid_7_tens = valid_7_tens.float()/255\n",
        "valid_7_tens.shape, valid_3_tens.shape"
      ],
      "metadata": {
        "id": "HdNKim-TyvLJ",
        "colab": {
          "base_uri": "https://localhost:8080/"
        },
        "outputId": "921e2103-2229-43ee-e921-af9661f3e12f"
      },
      "execution_count": 22,
      "outputs": [
        {
          "output_type": "execute_result",
          "data": {
            "text/plain": [
              "(torch.Size([1028, 28, 28]), torch.Size([1010, 28, 28]))"
            ]
          },
          "metadata": {},
          "execution_count": 22
        }
      ]
    },
    {
      "cell_type": "code",
      "source": [
        "def mnist_distance(a, b): return (a-b).abs().mean((-2, -1))\n",
        "mnist_distance(a_3, mean3)"
      ],
      "metadata": {
        "colab": {
          "base_uri": "https://localhost:8080/"
        },
        "id": "ueffnA1Xv-cZ",
        "outputId": "f2f5026b-3137-4f62-fd2f-b912be976b83"
      },
      "execution_count": 23,
      "outputs": [
        {
          "output_type": "execute_result",
          "data": {
            "text/plain": [
              "tensor(0.1114)"
            ]
          },
          "metadata": {},
          "execution_count": 23
        }
      ]
    },
    {
      "cell_type": "code",
      "source": [
        "valid_3_dist = mnist_distance(valid_3_tens, mean3)\n",
        "valid_3_dist, valid_3_dist.shape"
      ],
      "metadata": {
        "colab": {
          "base_uri": "https://localhost:8080/"
        },
        "id": "qSc2ZhjUwl68",
        "outputId": "d78cc970-5a35-462e-abb9-4f9c4691569c"
      },
      "execution_count": 24,
      "outputs": [
        {
          "output_type": "execute_result",
          "data": {
            "text/plain": [
              "(tensor([0.1181, 0.1381, 0.1217,  ..., 0.1300, 0.1143, 0.1107]),\n",
              " torch.Size([1010]))"
            ]
          },
          "metadata": {},
          "execution_count": 24
        }
      ]
    },
    {
      "cell_type": "code",
      "source": [
        "def is_3(x): return mnist_distance(x, mean3) < mnist_distance(x, mean7)"
      ],
      "metadata": {
        "id": "Zzm7qRAew-wT"
      },
      "execution_count": 25,
      "outputs": []
    },
    {
      "cell_type": "code",
      "source": [
        "is_3(a_3), is_3(a_3).float()"
      ],
      "metadata": {
        "colab": {
          "base_uri": "https://localhost:8080/"
        },
        "id": "pCaHj9RMzzQ3",
        "outputId": "793d1a6b-56aa-4fd2-a384-cf5af64faabc"
      },
      "execution_count": 26,
      "outputs": [
        {
          "output_type": "execute_result",
          "data": {
            "text/plain": [
              "(tensor(True), tensor(1.))"
            ]
          },
          "metadata": {},
          "execution_count": 26
        }
      ]
    },
    {
      "cell_type": "code",
      "source": [
        "is_3(valid_3_tens)"
      ],
      "metadata": {
        "colab": {
          "base_uri": "https://localhost:8080/"
        },
        "id": "YPIbtqIi0Uxg",
        "outputId": "5d9224c1-6013-4fb0-fa75-028073c02924"
      },
      "execution_count": 27,
      "outputs": [
        {
          "output_type": "execute_result",
          "data": {
            "text/plain": [
              "tensor([True, True, True,  ..., True, True, True])"
            ]
          },
          "metadata": {},
          "execution_count": 27
        }
      ]
    },
    {
      "cell_type": "code",
      "source": [
        "accuracy_3s = is_3(valid_3_tens).float().mean()\n",
        "accuracy_7s = (1 - is_3(valid_7_tens).float()).mean()\n",
        "\n",
        "accuracy_3s, accuracy_7s, (accuracy_3s+accuracy_7s)/2"
      ],
      "metadata": {
        "colab": {
          "base_uri": "https://localhost:8080/"
        },
        "id": "WuVTHlwy0jOW",
        "outputId": "f31fe66f-13c1-4c27-aea0-ec00efc822b9"
      },
      "execution_count": 28,
      "outputs": [
        {
          "output_type": "execute_result",
          "data": {
            "text/plain": [
              "(tensor(0.9168), tensor(0.9854), tensor(0.9511))"
            ]
          },
          "metadata": {},
          "execution_count": 28
        }
      ]
    },
    {
      "cell_type": "code",
      "source": [
        "def f(x): return x**2"
      ],
      "metadata": {
        "id": "7JY5ZjPn3AVf"
      },
      "execution_count": 29,
      "outputs": []
    },
    {
      "cell_type": "code",
      "source": [
        "def plot_function(f, tx=None, ty=None, title=None, min=-2, max=2, figsize=(6,4)):\n",
        "    x = torch.linspace(min,max, steps=20)\n",
        "    #print(\"These are the stepped points\", x)\n",
        "    fig,ax = plt.subplots(figsize=figsize)\n",
        "    ax.plot(x,f(x))\n",
        "    if tx is not None: ax.set_xlabel(tx)\n",
        "    if ty is not None: ax.set_ylabel(ty)\n",
        "    if title is not None: ax.set_title(title)"
      ],
      "metadata": {
        "id": "tbik5Qm-BGyZ"
      },
      "execution_count": 30,
      "outputs": []
    },
    {
      "cell_type": "code",
      "source": [
        "plot_function(f, 'x', 'x**2')"
      ],
      "metadata": {
        "colab": {
          "base_uri": "https://localhost:8080/",
          "height": 279
        },
        "id": "RP_cWT1k_S-c",
        "outputId": "94a14c6f-d3e4-4735-cf6a-f01850d364d4"
      },
      "execution_count": 31,
      "outputs": [
        {
          "output_type": "display_data",
          "data": {
            "text/plain": [
              "<Figure size 432x288 with 1 Axes>"
            ],
            "image/png": "[encoded data removed]"
          },
          "metadata": {
            "needs_background": "light"
          }
        }
      ]
    },
    {
      "cell_type": "code",
      "source": [
        "plot_function(f, 'x', 'x**2')\n",
        "plt.scatter(-1.5, f(-1.5), color='red')"
      ],
      "metadata": {
        "colab": {
          "base_uri": "https://localhost:8080/",
          "height": 297
        },
        "id": "VyNETCqq_TrM",
        "outputId": "a3bad034-41d5-40eb-c829-8e9263a71371"
      },
      "execution_count": 32,
      "outputs": [
        {
          "output_type": "execute_result",
          "data": {
            "text/plain": [
              "<matplotlib.collections.PathCollection at 0x7f20c3931f50>"
            ]
          },
          "metadata": {},
          "execution_count": 32
        },
        {
          "output_type": "display_data",
          "data": {
            "text/plain": [
              "<Figure size 432x288 with 1 Axes>"
            ],
            "image/png": "[encoded data removed]"
          },
          "metadata": {
            "needs_background": "light"
          }
        }
      ]
    },
    {
      "cell_type": "code",
      "source": [
        "xt = tensor(3.).requires_grad_()"
      ],
      "metadata": {
        "id": "0a2Sdvb2IvN2"
      },
      "execution_count": 33,
      "outputs": []
    },
    {
      "cell_type": "code",
      "source": [
        "yt = f(xt)\n",
        "yt"
      ],
      "metadata": {
        "colab": {
          "base_uri": "https://localhost:8080/"
        },
        "id": "JdLm4yTWsdw5",
        "outputId": "9c337492-e56b-4b80-bda0-9d1ddfc8d2f8"
      },
      "execution_count": 34,
      "outputs": [
        {
          "output_type": "execute_result",
          "data": {
            "text/plain": [
              "tensor(9., grad_fn=<PowBackward0>)"
            ]
          },
          "metadata": {},
          "execution_count": 34
        }
      ]
    },
    {
      "cell_type": "code",
      "source": [
        "yt.backward()"
      ],
      "metadata": {
        "id": "FogC2hICtMdd"
      },
      "execution_count": 35,
      "outputs": []
    },
    {
      "cell_type": "code",
      "source": [
        "xt.grad"
      ],
      "metadata": {
        "colab": {
          "base_uri": "https://localhost:8080/"
        },
        "id": "WYPss4x2tTHP",
        "outputId": "d0db0853-22de-4198-c58a-efa9702a912b"
      },
      "execution_count": 36,
      "outputs": [
        {
          "output_type": "execute_result",
          "data": {
            "text/plain": [
              "tensor(6.)"
            ]
          },
          "metadata": {},
          "execution_count": 36
        }
      ]
    },
    {
      "cell_type": "code",
      "source": [
        "xt = tensor([3., 4., 10.]).requires_grad_()\n",
        "xt"
      ],
      "metadata": {
        "colab": {
          "base_uri": "https://localhost:8080/"
        },
        "id": "BhIMA-2Ftnhh",
        "outputId": "d1ba5de9-f89f-4902-9cdc-c2e0c1843075"
      },
      "execution_count": 37,
      "outputs": [
        {
          "output_type": "execute_result",
          "data": {
            "text/plain": [
              "tensor([ 3.,  4., 10.], requires_grad=True)"
            ]
          },
          "metadata": {},
          "execution_count": 37
        }
      ]
    },
    {
      "cell_type": "code",
      "source": [
        "def f(x): return (x**2).sum()"
      ],
      "metadata": {
        "id": "S505pkRytyqa"
      },
      "execution_count": 38,
      "outputs": []
    },
    {
      "cell_type": "code",
      "source": [
        "yt = f(xt)\n",
        "yt"
      ],
      "metadata": {
        "colab": {
          "base_uri": "https://localhost:8080/"
        },
        "id": "eg8D4lrft7Zz",
        "outputId": "ff358dcc-7d27-4ccf-a6f5-79e55c5bf5ea"
      },
      "execution_count": 39,
      "outputs": [
        {
          "output_type": "execute_result",
          "data": {
            "text/plain": [
              "tensor(125., grad_fn=<SumBackward0>)"
            ]
          },
          "metadata": {},
          "execution_count": 39
        }
      ]
    },
    {
      "cell_type": "code",
      "source": [
        "yt.backward()\n",
        "xt.grad"
      ],
      "metadata": {
        "colab": {
          "base_uri": "https://localhost:8080/"
        },
        "id": "tfyR8jTjt-Xb",
        "outputId": "3900083a-f438-411e-aa2e-2cd9bfd62f24"
      },
      "execution_count": 40,
      "outputs": [
        {
          "output_type": "execute_result",
          "data": {
            "text/plain": [
              "tensor([ 6.,  8., 20.])"
            ]
          },
          "metadata": {},
          "execution_count": 40
        }
      ]
    },
    {
      "cell_type": "code",
      "source": [
        "time = torch.arange(0, 20).float(); time"
      ],
      "metadata": {
        "colab": {
          "base_uri": "https://localhost:8080/"
        },
        "id": "rT1XROukuAo7",
        "outputId": "ea619778-0a78-420a-ffcd-7fd45005d625"
      },
      "execution_count": 41,
      "outputs": [
        {
          "output_type": "execute_result",
          "data": {
            "text/plain": [
              "tensor([ 0.,  1.,  2.,  3.,  4.,  5.,  6.,  7.,  8.,  9., 10., 11., 12., 13.,\n",
              "        14., 15., 16., 17., 18., 19.])"
            ]
          },
          "metadata": {},
          "execution_count": 41
        }
      ]
    },
    {
      "cell_type": "code",
      "source": [
        "torch.manual_seed(42)\n",
        "speed = torch.randn(20)*3 + 0.75*(time-9.5)**2 + 1\n",
        "plt.scatter(time, speed);"
      ],
      "metadata": {
        "colab": {
          "base_uri": "https://localhost:8080/",
          "height": 265
        },
        "id": "phrDkDFcv2KR",
        "outputId": "73d3852e-912d-4b3f-9e65-05d1da00b012"
      },
      "execution_count": 42,
      "outputs": [
        {
          "output_type": "display_data",
          "data": {
            "text/plain": [
              "<Figure size 432x288 with 1 Axes>"
            ],
            "image/png": "[encoded data removed]"
          },
          "metadata": {
            "needs_background": "light"
          }
        }
      ]
    },
    {
      "cell_type": "code",
      "source": [
        "def f(t, params):\n",
        "  a, b, c = params\n",
        "  return a*(t**2) + (b*t) + c"
      ],
      "metadata": {
        "id": "XwpzyuFkwDRc"
      },
      "execution_count": 43,
      "outputs": []
    },
    {
      "cell_type": "code",
      "source": [
        "def mse(preds, targets): return ((preds - targets)**2).mean()"
      ],
      "metadata": {
        "id": "Y03CXFGqxfJe"
      },
      "execution_count": 44,
      "outputs": []
    },
    {
      "cell_type": "code",
      "source": [
        "params = torch.randn(3).requires_grad_()"
      ],
      "metadata": {
        "id": "sQUj6BQbyuTX"
      },
      "execution_count": 45,
      "outputs": []
    },
    {
      "cell_type": "code",
      "source": [
        "preds = f(time, params)"
      ],
      "metadata": {
        "id": "7z-EGImh6nja"
      },
      "execution_count": 46,
      "outputs": []
    },
    {
      "cell_type": "code",
      "source": [
        "def show_preds(preds, ax=None):\n",
        "  if ax is None: ax=plt.subplots()[1]\n",
        "  ax.scatter(time, speed)\n",
        "  ax.scatter(time, to_np(preds), color='red')\n",
        "  ax.set_ylim(-300, 100)\n",
        "\n",
        "show_preds(preds)"
      ],
      "metadata": {
        "colab": {
          "base_uri": "https://localhost:8080/",
          "height": 269
        },
        "id": "pYhr0KhR6xEr",
        "outputId": "597e1339-2257-4abe-91c0-e7e5024dfc95"
      },
      "execution_count": 47,
      "outputs": [
        {
          "output_type": "display_data",
          "data": {
            "text/plain": [
              "<Figure size 432x288 with 1 Axes>"
            ],
            "image/png": "[encoded data removed]"
          },
          "metadata": {
            "needs_background": "light"
          }
        }
      ]
    },
    {
      "cell_type": "code",
      "source": [
        "loss = mse(preds, speed)\n",
        "loss"
      ],
      "metadata": {
        "colab": {
          "base_uri": "https://localhost:8080/"
        },
        "id": "j5phUiM17Hyi",
        "outputId": "1847685a-8d2d-4249-f3ae-48dbcb1c75cf"
      },
      "execution_count": 48,
      "outputs": [
        {
          "output_type": "execute_result",
          "data": {
            "text/plain": [
              "tensor(25823.8086, grad_fn=<MeanBackward0>)"
            ]
          },
          "metadata": {},
          "execution_count": 48
        }
      ]
    },
    {
      "cell_type": "code",
      "source": [
        "loss.backward()\n",
        "params.grad"
      ],
      "metadata": {
        "colab": {
          "base_uri": "https://localhost:8080/"
        },
        "id": "kH7STcwK7YCs",
        "outputId": "ef78ab60-1e36-4f0d-9ce4-576d3ed82966"
      },
      "execution_count": 49,
      "outputs": [
        {
          "output_type": "execute_result",
          "data": {
            "text/plain": [
              "tensor([-53195.8633,  -3419.7148,   -253.8908])"
            ]
          },
          "metadata": {},
          "execution_count": 49
        }
      ]
    },
    {
      "cell_type": "code",
      "source": [
        "params.grad * 1e-5"
      ],
      "metadata": {
        "colab": {
          "base_uri": "https://localhost:8080/"
        },
        "id": "la5Wmql77fsF",
        "outputId": "69c3a6aa-ae02-4fed-d2a7-bbffd09f21db"
      },
      "execution_count": 50,
      "outputs": [
        {
          "output_type": "execute_result",
          "data": {
            "text/plain": [
              "tensor([-0.5320, -0.0342, -0.0025])"
            ]
          },
          "metadata": {},
          "execution_count": 50
        }
      ]
    },
    {
      "cell_type": "code",
      "source": [
        "params"
      ],
      "metadata": {
        "colab": {
          "base_uri": "https://localhost:8080/"
        },
        "id": "PbxZbK2o7jtu",
        "outputId": "c3231670-e479-4755-aa05-2346eaef5565"
      },
      "execution_count": 51,
      "outputs": [
        {
          "output_type": "execute_result",
          "data": {
            "text/plain": [
              "tensor([-0.7658, -0.7506,  1.3525], requires_grad=True)"
            ]
          },
          "metadata": {},
          "execution_count": 51
        }
      ]
    },
    {
      "cell_type": "code",
      "source": [
        "lr = 1e-5\n",
        "params.data -= lr * params.grad.data\n",
        "params.grad = None"
      ],
      "metadata": {
        "id": "4yVNTyr_7wQJ"
      },
      "execution_count": 52,
      "outputs": []
    },
    {
      "cell_type": "code",
      "source": [
        "preds = f(time, params)\n",
        "mse(preds, speed)"
      ],
      "metadata": {
        "colab": {
          "base_uri": "https://localhost:8080/"
        },
        "id": "5BGfxYJu788D",
        "outputId": "1904edb2-6c68-4c7f-8d6b-38bb5c31cc4d"
      },
      "execution_count": 53,
      "outputs": [
        {
          "output_type": "execute_result",
          "data": {
            "text/plain": [
              "tensor(5435.5356, grad_fn=<MeanBackward0>)"
            ]
          },
          "metadata": {},
          "execution_count": 53
        }
      ]
    },
    {
      "cell_type": "code",
      "source": [
        "show_preds(preds)"
      ],
      "metadata": {
        "colab": {
          "base_uri": "https://localhost:8080/",
          "height": 269
        },
        "id": "LWgXPkt-8xPP",
        "outputId": "c27fa1f2-2945-42a3-9e8e-f363156d6484"
      },
      "execution_count": 54,
      "outputs": [
        {
          "output_type": "display_data",
          "data": {
            "text/plain": [
              "<Figure size 432x288 with 1 Axes>"
            ],
            "image/png": "[encoded data removed]"
          },
          "metadata": {
            "needs_background": "light"
          }
        }
      ]
    },
    {
      "cell_type": "code",
      "source": [
        "def apply_step(params, prn=True):\n",
        "  preds = f(time, params)\n",
        "  loss = mse(preds, speed)\n",
        "  loss.backward()\n",
        "  params.data -= lr * params.grad.data\n",
        "  params.grad = None\n",
        "  if prn: print(loss.item())\n",
        "  return preds\n"
      ],
      "metadata": {
        "id": "mBr_Q3Bm80Ld"
      },
      "execution_count": 55,
      "outputs": []
    },
    {
      "cell_type": "code",
      "source": [
        "for i in range(10): apply_step(params)"
      ],
      "metadata": {
        "colab": {
          "base_uri": "https://localhost:8080/"
        },
        "id": "HyDU58Gg9U7l",
        "outputId": "d507fcee-3150-4bb8-d8b3-1f6a0c1198be"
      },
      "execution_count": 56,
      "outputs": [
        {
          "output_type": "stream",
          "name": "stdout",
          "text": [
            "5435.53564453125\n",
            "1577.44921875\n",
            "847.3778076171875\n",
            "709.2225341796875\n",
            "683.0758056640625\n",
            "678.1243896484375\n",
            "677.1838989257812\n",
            "677.0023803710938\n",
            "676.9645385742188\n",
            "676.9537353515625\n"
          ]
        }
      ]
    },
    {
      "cell_type": "code",
      "source": [
        "_, axs = plt.subplots(1, 4 ,figsize=(12, 3))\n",
        "for ax in axs: show_preds(apply_step(params, False), ax)\n",
        "plt.tight_layout()"
      ],
      "metadata": {
        "colab": {
          "base_uri": "https://localhost:8080/",
          "height": 174
        },
        "id": "caNMKTe49has",
        "outputId": "1391773b-cf47-467d-d370-0fdaeb289d73"
      },
      "execution_count": 57,
      "outputs": [
        {
          "output_type": "display_data",
          "data": {
            "text/plain": [
              "<Figure size 864x216 with 4 Axes>"
            ],
            "image/png": "[encoded data removed]"
          },
          "metadata": {
            "needs_background": "light"
          }
        }
      ]
    },
    {
      "cell_type": "code",
      "source": [
        "train_x = torch.cat([stacked_threes, stacked_sevens]).view(-1, 28*28)"
      ],
      "metadata": {
        "id": "SsNt_BTX-HwE"
      },
      "execution_count": 58,
      "outputs": []
    },
    {
      "cell_type": "code",
      "source": [
        "train_y = tensor([1]*len(threes) + [0]*len(sevens)).unsqueeze(1)\n",
        "train_x.shape, train_y.shape"
      ],
      "metadata": {
        "colab": {
          "base_uri": "https://localhost:8080/"
        },
        "id": "5fEmNW21oE2Q",
        "outputId": "358a30ee-4cb6-4906-d474-953541d3314e"
      },
      "execution_count": 59,
      "outputs": [
        {
          "output_type": "execute_result",
          "data": {
            "text/plain": [
              "(torch.Size([12396, 784]), torch.Size([12396, 1]))"
            ]
          },
          "metadata": {},
          "execution_count": 59
        }
      ]
    },
    {
      "cell_type": "code",
      "source": [
        "dset = list(zip(train_x, train_y))\n",
        "x, y = dset[0]\n",
        "x.shape, y"
      ],
      "metadata": {
        "colab": {
          "base_uri": "https://localhost:8080/"
        },
        "id": "nvqK-EBGocnD",
        "outputId": "7df1cf06-7c87-4d3b-fa0a-f7cd70f78eaf"
      },
      "execution_count": 60,
      "outputs": [
        {
          "output_type": "execute_result",
          "data": {
            "text/plain": [
              "(torch.Size([784]), tensor([1]))"
            ]
          },
          "metadata": {},
          "execution_count": 60
        }
      ]
    },
    {
      "cell_type": "code",
      "source": [
        "valid_x = torch.cat([valid_3_tens, valid_7_tens]).view(-1, 28*28)\n",
        "valid_y = tensor([1]*len(valid_3_tens) + [0]*len(valid_7_tens)).unsqueeze(1)\n",
        "valid_dset = list(zip(valid_x, valid_y))"
      ],
      "metadata": {
        "id": "My-KEm0kpGfV"
      },
      "execution_count": 61,
      "outputs": []
    },
    {
      "cell_type": "code",
      "source": [
        "def init_params(size, std=1.0): return (torch.randn(size)*std).requires_grad_()\n",
        "weights = init_params((28*28 ,1))"
      ],
      "metadata": {
        "id": "vdDYQpdWpy4P"
      },
      "execution_count": 62,
      "outputs": []
    },
    {
      "cell_type": "code",
      "source": [
        "bias = init_params(1)"
      ],
      "metadata": {
        "id": "YY8g3FKfqMSE"
      },
      "execution_count": 63,
      "outputs": []
    },
    {
      "cell_type": "code",
      "source": [
        "(train_x[0]*weights.T).sum() + bias"
      ],
      "metadata": {
        "colab": {
          "base_uri": "https://localhost:8080/"
        },
        "id": "tzWJvkjLqdRl",
        "outputId": "ce489c0e-ba58-4575-b114-d82b61a67d29"
      },
      "execution_count": 64,
      "outputs": [
        {
          "output_type": "execute_result",
          "data": {
            "text/plain": [
              "tensor([20.2336], grad_fn=<AddBackward0>)"
            ]
          },
          "metadata": {},
          "execution_count": 64
        }
      ]
    },
    {
      "cell_type": "code",
      "source": [
        "def linear1(xb): return xb@weights + bias\n",
        "preds = linear1(train_x)\n",
        "preds"
      ],
      "metadata": {
        "colab": {
          "base_uri": "https://localhost:8080/"
        },
        "id": "Nzy_jKAQqsNd",
        "outputId": "515b2582-db8c-4aec-da01-4fe22f6fe341"
      },
      "execution_count": 65,
      "outputs": [
        {
          "output_type": "execute_result",
          "data": {
            "text/plain": [
              "tensor([[20.2336],\n",
              "        [17.0644],\n",
              "        [15.2384],\n",
              "        ...,\n",
              "        [18.3804],\n",
              "        [23.8567],\n",
              "        [28.6816]], grad_fn=<AddBackward0>)"
            ]
          },
          "metadata": {},
          "execution_count": 65
        }
      ]
    },
    {
      "cell_type": "code",
      "source": [
        "corrects = (preds>0.0).float() == train_y\n",
        "corrects"
      ],
      "metadata": {
        "colab": {
          "base_uri": "https://localhost:8080/"
        },
        "id": "fGSFqSRQrNLh",
        "outputId": "846ca2ae-7ec0-4695-c8ae-07f6d078ccc6"
      },
      "execution_count": 66,
      "outputs": [
        {
          "output_type": "execute_result",
          "data": {
            "text/plain": [
              "tensor([[ True],\n",
              "        [ True],\n",
              "        [ True],\n",
              "        ...,\n",
              "        [False],\n",
              "        [False],\n",
              "        [False]])"
            ]
          },
          "metadata": {},
          "execution_count": 66
        }
      ]
    },
    {
      "cell_type": "code",
      "source": [
        "corrects.float().mean().item()"
      ],
      "metadata": {
        "colab": {
          "base_uri": "https://localhost:8080/"
        },
        "id": "vITkvyzyrytm",
        "outputId": "01f8a4b2-1c97-4dfb-cc10-11d2084f5f78"
      },
      "execution_count": 67,
      "outputs": [
        {
          "output_type": "execute_result",
          "data": {
            "text/plain": [
              "0.4912068545818329"
            ]
          },
          "metadata": {},
          "execution_count": 67
        }
      ]
    },
    {
      "cell_type": "code",
      "source": [
        "with torch.no_grad():\n",
        "  weights[0] *= 1.0001\n",
        "\n",
        "preds = linear1(train_x)\n",
        "((preds>0.0).float() == train_y).float().mean().item()"
      ],
      "metadata": {
        "colab": {
          "base_uri": "https://localhost:8080/"
        },
        "id": "cuCUtkXDr4N_",
        "outputId": "7be73af9-ec52-4e91-ee07-0e7ba2fd762c"
      },
      "execution_count": 68,
      "outputs": [
        {
          "output_type": "execute_result",
          "data": {
            "text/plain": [
              "0.4912068545818329"
            ]
          },
          "metadata": {},
          "execution_count": 68
        }
      ]
    },
    {
      "cell_type": "code",
      "source": [
        "trgts = tensor([1, 0, 1])\n",
        "prds = tensor([0.9, 0.4, 0.2])"
      ],
      "metadata": {
        "id": "EiLllywxr87n"
      },
      "execution_count": 69,
      "outputs": []
    },
    {
      "cell_type": "code",
      "source": [
        "def mnist_loss(predictions, targets):\n",
        "  return torch.where(targets==1, 1-predictions, predictions).mean()"
      ],
      "metadata": {
        "id": "yLKgcWDCuccP"
      },
      "execution_count": 70,
      "outputs": []
    },
    {
      "cell_type": "code",
      "source": [
        "torch.where(trgts==1, 1-prds, prds)"
      ],
      "metadata": {
        "colab": {
          "base_uri": "https://localhost:8080/"
        },
        "id": "vKdXUtBBvHEd",
        "outputId": "ac69e251-5d9c-44c7-c448-8cf50f6b566e"
      },
      "execution_count": 71,
      "outputs": [
        {
          "output_type": "execute_result",
          "data": {
            "text/plain": [
              "tensor([0.1000, 0.4000, 0.8000])"
            ]
          },
          "metadata": {},
          "execution_count": 71
        }
      ]
    },
    {
      "cell_type": "code",
      "source": [
        "mnist_loss(prds, trgts)"
      ],
      "metadata": {
        "colab": {
          "base_uri": "https://localhost:8080/"
        },
        "id": "ZDg0pBXRv1V1",
        "outputId": "3516eb0a-43a3-44b6-b43a-2dd02cb7b888"
      },
      "execution_count": 72,
      "outputs": [
        {
          "output_type": "execute_result",
          "data": {
            "text/plain": [
              "tensor(0.4333)"
            ]
          },
          "metadata": {},
          "execution_count": 72
        }
      ]
    },
    {
      "cell_type": "code",
      "source": [
        "mnist_loss(tensor([0.9, 0.4, 0.8]), trgts)"
      ],
      "metadata": {
        "colab": {
          "base_uri": "https://localhost:8080/"
        },
        "id": "zJghcsvWwl4P",
        "outputId": "a509781f-1c75-469f-83eb-3d3adbc002d0"
      },
      "execution_count": 73,
      "outputs": [
        {
          "output_type": "execute_result",
          "data": {
            "text/plain": [
              "tensor(0.2333)"
            ]
          },
          "metadata": {},
          "execution_count": 73
        }
      ]
    },
    {
      "cell_type": "code",
      "source": [
        "def sigmoid(x): return 1/(1+torch.exp(-x))"
      ],
      "metadata": {
        "id": "ZgtL1xTnw4zD"
      },
      "execution_count": 74,
      "outputs": []
    },
    {
      "cell_type": "code",
      "source": [
        "plot_function(torch.sigmoid, title='sigmoid', min=-4, max=4)"
      ],
      "metadata": {
        "colab": {
          "base_uri": "https://localhost:8080/",
          "height": 281
        },
        "id": "vjEIyyduxIiC",
        "outputId": "b2c1ffee-dccd-4a1e-cead-6a96fdbd4bad"
      },
      "execution_count": 75,
      "outputs": [
        {
          "output_type": "display_data",
          "data": {
            "text/plain": [
              "<Figure size 432x288 with 1 Axes>"
            ],
            "image/png": "[encoded data removed]"
          },
          "metadata": {
            "needs_background": "light"
          }
        }
      ]
    },
    {
      "cell_type": "code",
      "source": [
        "def mnist_loss(predictions, targets):\n",
        "  predictions = predictions.sigmoid()\n",
        "  return torch.where(targets==1, 1-predictions, predictions).mean()"
      ],
      "metadata": {
        "id": "oaMdNz3wxT5X"
      },
      "execution_count": 76,
      "outputs": []
    },
    {
      "cell_type": "code",
      "source": [
        "coll = range(15)\n",
        "dl = DataLoader(coll, batch_size=5, shuffle=True)\n",
        "list(dl)"
      ],
      "metadata": {
        "colab": {
          "base_uri": "https://localhost:8080/"
        },
        "id": "v4Gktiyjx4V9",
        "outputId": "1c61be81-2f77-47a1-9d10-8907849edcdf"
      },
      "execution_count": 77,
      "outputs": [
        {
          "output_type": "execute_result",
          "data": {
            "text/plain": [
              "[tensor([ 9,  5,  1, 13,  7]),\n",
              " tensor([12, 10, 11,  2,  8]),\n",
              " tensor([14,  4,  0,  6,  3])]"
            ]
          },
          "metadata": {},
          "execution_count": 77
        }
      ]
    },
    {
      "cell_type": "code",
      "source": [
        "ds = L(enumerate(string.ascii_lowercase))\n",
        "ds"
      ],
      "metadata": {
        "colab": {
          "base_uri": "https://localhost:8080/"
        },
        "id": "8GqmzMyN7MdB",
        "outputId": "8dbda1d1-2166-4519-b452-2eab01973d8b"
      },
      "execution_count": 78,
      "outputs": [
        {
          "output_type": "execute_result",
          "data": {
            "text/plain": [
              "(#26) [(0, 'a'),(1, 'b'),(2, 'c'),(3, 'd'),(4, 'e'),(5, 'f'),(6, 'g'),(7, 'h'),(8, 'i'),(9, 'j')...]"
            ]
          },
          "metadata": {},
          "execution_count": 78
        }
      ]
    },
    {
      "cell_type": "code",
      "source": [
        "dl = DataLoader(ds, batch_size=6, shuffle=True)\n",
        "list(dl)"
      ],
      "metadata": {
        "colab": {
          "base_uri": "https://localhost:8080/"
        },
        "id": "YPDiZGh77ZMP",
        "outputId": "574caf0d-d6c4-45ee-c66a-df6f83f1031e"
      },
      "execution_count": 79,
      "outputs": [
        {
          "output_type": "execute_result",
          "data": {
            "text/plain": [
              "[(tensor([15, 13,  2, 17,  5, 21]), ('p', 'n', 'c', 'r', 'f', 'v')),\n",
              " (tensor([ 0,  8,  1, 12, 11,  4]), ('a', 'i', 'b', 'm', 'l', 'e')),\n",
              " (tensor([14,  3,  7, 20, 16, 24]), ('o', 'd', 'h', 'u', 'q', 'y')),\n",
              " (tensor([ 6, 19, 10,  9, 18, 23]), ('g', 't', 'k', 'j', 's', 'x')),\n",
              " (tensor([25, 22]), ('z', 'w'))]"
            ]
          },
          "metadata": {},
          "execution_count": 79
        }
      ]
    },
    {
      "cell_type": "code",
      "source": [
        "\n",
        "weights = init_params((28*28, 1))\n",
        "bias = init_params(1)\n",
        "\n"
      ],
      "metadata": {
        "id": "O5Hrl0iR7rcx"
      },
      "execution_count": 80,
      "outputs": []
    },
    {
      "cell_type": "code",
      "source": [
        "dl = DataLoader(dset, batch_size=256)\n",
        "xb, yb = first(dl)\n",
        "xb.shape, yb.shape"
      ],
      "metadata": {
        "id": "r57X1kC88x-t",
        "colab": {
          "base_uri": "https://localhost:8080/"
        },
        "outputId": "4aece13c-4247-4299-8ef8-151f32cd1195"
      },
      "execution_count": 81,
      "outputs": [
        {
          "output_type": "execute_result",
          "data": {
            "text/plain": [
              "(torch.Size([256, 784]), torch.Size([256, 1]))"
            ]
          },
          "metadata": {},
          "execution_count": 81
        }
      ]
    },
    {
      "cell_type": "code",
      "source": [
        "valid_dl = DataLoader(valid_dset, batch_size=256)"
      ],
      "metadata": {
        "id": "J4KpfFwRoz7z"
      },
      "execution_count": 82,
      "outputs": []
    },
    {
      "cell_type": "code",
      "source": [
        "batch = train_x[:4]\n",
        "batch.shape"
      ],
      "metadata": {
        "colab": {
          "base_uri": "https://localhost:8080/"
        },
        "id": "UIDFoCftpFIQ",
        "outputId": "e9efd563-3d1f-4ef5-d251-f9a9a4509f2b"
      },
      "execution_count": 83,
      "outputs": [
        {
          "output_type": "execute_result",
          "data": {
            "text/plain": [
              "torch.Size([4, 784])"
            ]
          },
          "metadata": {},
          "execution_count": 83
        }
      ]
    },
    {
      "cell_type": "code",
      "source": [
        "preds = linear1(batch)\n",
        "preds"
      ],
      "metadata": {
        "colab": {
          "base_uri": "https://localhost:8080/"
        },
        "id": "3Y7XNsxspOHq",
        "outputId": "a4d812d2-5346-4785-d6cf-d50ca3c1b6ca"
      },
      "execution_count": 84,
      "outputs": [
        {
          "output_type": "execute_result",
          "data": {
            "text/plain": [
              "tensor([[-2.1876],\n",
              "        [-8.3973],\n",
              "        [ 2.5000],\n",
              "        [-4.9473]], grad_fn=<AddBackward0>)"
            ]
          },
          "metadata": {},
          "execution_count": 84
        }
      ]
    },
    {
      "cell_type": "code",
      "source": [
        "loss = mnist_loss(preds, train_y[:4])\n",
        "loss"
      ],
      "metadata": {
        "colab": {
          "base_uri": "https://localhost:8080/"
        },
        "id": "UU9ZTpmDpR8S",
        "outputId": "b04a4258-3544-4e20-80f1-40e8ba243b3b"
      },
      "execution_count": 85,
      "outputs": [
        {
          "output_type": "execute_result",
          "data": {
            "text/plain": [
              "tensor(0.7419, grad_fn=<MeanBackward0>)"
            ]
          },
          "metadata": {},
          "execution_count": 85
        }
      ]
    },
    {
      "cell_type": "code",
      "source": [
        "loss.backward()\n",
        "weights.grad.shape, weights.grad.mean(), bias.grad"
      ],
      "metadata": {
        "colab": {
          "base_uri": "https://localhost:8080/"
        },
        "id": "6cIbKadQpXk7",
        "outputId": "7e66f1e8-3113-4785-c847-6a97edc35054"
      },
      "execution_count": 86,
      "outputs": [
        {
          "output_type": "execute_result",
          "data": {
            "text/plain": [
              "(torch.Size([784, 1]), tensor(-0.0061), tensor([-0.0420]))"
            ]
          },
          "metadata": {},
          "execution_count": 86
        }
      ]
    },
    {
      "cell_type": "code",
      "source": [
        "def cal_grad(xb, yb, model):\n",
        "  preds = model(xb)\n",
        "  loss = mnist_loss(preds, yb)\n",
        "  loss.backward()"
      ],
      "metadata": {
        "id": "lqOttF9fphib"
      },
      "execution_count": 87,
      "outputs": []
    },
    {
      "cell_type": "code",
      "source": [
        "cal_grad(batch, train_y[:4], linear1)\n",
        "weights.grad.mean(), bias.grad"
      ],
      "metadata": {
        "colab": {
          "base_uri": "https://localhost:8080/"
        },
        "id": "JELBxLKPqKaI",
        "outputId": "e132b1c9-ca0d-46e8-91b9-55c068ba180c"
      },
      "execution_count": 88,
      "outputs": [
        {
          "output_type": "execute_result",
          "data": {
            "text/plain": [
              "(tensor(-0.0121), tensor([-0.0840]))"
            ]
          },
          "metadata": {},
          "execution_count": 88
        }
      ]
    },
    {
      "cell_type": "code",
      "source": [
        " weights.grad.zero_()\n",
        " bias.grad.zero_();"
      ],
      "metadata": {
        "id": "3QUIiVzqqnwt"
      },
      "execution_count": 89,
      "outputs": []
    },
    {
      "cell_type": "code",
      "source": [
        "cal_grad(batch, train_y[:4], linear1)\n",
        "weights.grad.mean(), bias.grad"
      ],
      "metadata": {
        "colab": {
          "base_uri": "https://localhost:8080/"
        },
        "id": "Yu_8NRhHqUY-",
        "outputId": "f375fb45-c886-4580-aff8-ada09552eb3c"
      },
      "execution_count": 90,
      "outputs": [
        {
          "output_type": "execute_result",
          "data": {
            "text/plain": [
              "(tensor(-0.0061), tensor([-0.0420]))"
            ]
          },
          "metadata": {},
          "execution_count": 90
        }
      ]
    },
    {
      "cell_type": "code",
      "source": [
        "def train_epoch(model, lr, params):\n",
        "  for xb, yb in dl:\n",
        "    cal_grad(xb, yb, model)\n",
        "    for p in params:\n",
        "      p.data -= p.grad*lr\n",
        "      p.grad.zero_()"
      ],
      "metadata": {
        "id": "NwgWgpQ8qeZh"
      },
      "execution_count": 91,
      "outputs": []
    },
    {
      "cell_type": "code",
      "source": [
        "(preds>0.0).float() == train_y[:4]"
      ],
      "metadata": {
        "colab": {
          "base_uri": "https://localhost:8080/"
        },
        "id": "g7RHrxqHrROL",
        "outputId": "3bacff25-5df0-4e2e-fa73-1222c1c30dfd"
      },
      "execution_count": 92,
      "outputs": [
        {
          "output_type": "execute_result",
          "data": {
            "text/plain": [
              "tensor([[False],\n",
              "        [False],\n",
              "        [ True],\n",
              "        [False]])"
            ]
          },
          "metadata": {},
          "execution_count": 92
        }
      ]
    },
    {
      "cell_type": "code",
      "source": [
        "def batch_accuracy(xb, yb):\n",
        "  preds = xb.sigmoid()\n",
        "  correct = (preds>0.5) == yb\n",
        "  return correct.float().mean()"
      ],
      "metadata": {
        "id": "7uBsVv6IrdUd"
      },
      "execution_count": 93,
      "outputs": []
    },
    {
      "cell_type": "code",
      "source": [
        "batch_accuracy(linear1(batch), train_y[:4])\n"
      ],
      "metadata": {
        "colab": {
          "base_uri": "https://localhost:8080/"
        },
        "id": "xoSGZQYIsx5J",
        "outputId": "93a2c95b-cedb-47c4-a71a-66ec922a5ebf"
      },
      "execution_count": 94,
      "outputs": [
        {
          "output_type": "execute_result",
          "data": {
            "text/plain": [
              "tensor(0.2500)"
            ]
          },
          "metadata": {},
          "execution_count": 94
        }
      ]
    },
    {
      "cell_type": "code",
      "source": [
        "def validate_epoch(model):\n",
        "  accs = [batch_accuracy(model(xb), yb) for xb,yb in valid_dl]\n",
        "  return round(torch.stack(accs).mean().item(), 4)"
      ],
      "metadata": {
        "id": "_-b5Z0xduY0H"
      },
      "execution_count": 95,
      "outputs": []
    },
    {
      "cell_type": "code",
      "source": [
        "validate_epoch(linear1)"
      ],
      "metadata": {
        "colab": {
          "base_uri": "https://localhost:8080/"
        },
        "id": "tB_QAS72urlv",
        "outputId": "1d33af4a-1c57-42cb-fe55-8f83be0325bf"
      },
      "execution_count": 96,
      "outputs": [
        {
          "output_type": "execute_result",
          "data": {
            "text/plain": [
              "0.5262"
            ]
          },
          "metadata": {},
          "execution_count": 96
        }
      ]
    },
    {
      "cell_type": "code",
      "source": [
        "lr = 1\n",
        "params = weights, bias\n",
        "train_epoch(linear1, lr, params)\n",
        "validate_epoch(linear1)"
      ],
      "metadata": {
        "colab": {
          "base_uri": "https://localhost:8080/"
        },
        "id": "3KLmc6L5uvqu",
        "outputId": "8bbd1d97-cc04-4bac-c6ec-af3d93d49596"
      },
      "execution_count": 97,
      "outputs": [
        {
          "output_type": "execute_result",
          "data": {
            "text/plain": [
              "0.6717"
            ]
          },
          "metadata": {},
          "execution_count": 97
        }
      ]
    },
    {
      "cell_type": "code",
      "source": [
        "for i in range(20):\n",
        "  train_epoch(linear1, lr, params)\n",
        "  print(validate_epoch(linear1), end=' ')"
      ],
      "metadata": {
        "colab": {
          "base_uri": "https://localhost:8080/"
        },
        "id": "FUthCG-Evp0E",
        "outputId": "d853dde2-db07-4059-ad21-5d96bdac500d"
      },
      "execution_count": 98,
      "outputs": [
        {
          "output_type": "stream",
          "name": "stdout",
          "text": [
            "0.8299 0.8895 0.9187 0.9271 0.9403 0.9461 0.949 0.9525 0.9559 0.9578 0.9598 0.9608 0.9618 0.9618 0.9632 0.9637 0.9647 0.9666 0.9671 0.9671 "
          ]
        }
      ]
    },
    {
      "cell_type": "code",
      "source": [
        "linear_model = nn.Linear(28*28, 1)"
      ],
      "metadata": {
        "id": "zLsfhXvcv4l9"
      },
      "execution_count": 99,
      "outputs": []
    },
    {
      "cell_type": "code",
      "source": [
        "w, b = linear_model.parameters()\n",
        "w.shape, b.shape"
      ],
      "metadata": {
        "colab": {
          "base_uri": "https://localhost:8080/"
        },
        "id": "zH54J9Hy1wJ2",
        "outputId": "8b5cc0b5-6ce7-445a-d157-a3ebbf43819f"
      },
      "execution_count": 100,
      "outputs": [
        {
          "output_type": "execute_result",
          "data": {
            "text/plain": [
              "(torch.Size([1, 784]), torch.Size([1]))"
            ]
          },
          "metadata": {},
          "execution_count": 100
        }
      ]
    },
    {
      "cell_type": "code",
      "source": [
        "class BasicOptim:\n",
        "  def __init__(self, params, lr): self.params, self.lr = list(params), lr \n",
        "\n",
        "  def step(self, *args, **kwargs):\n",
        "    for p in self.params: p.data -= p.grad.data * self.lr\n",
        "\n",
        "  def zero_grad(self, *args, **kwargs):\n",
        "    for p in self.params: p.grad = None \n",
        "    "
      ],
      "metadata": {
        "id": "kKwYB3lB14Qz"
      },
      "execution_count": 101,
      "outputs": []
    },
    {
      "cell_type": "code",
      "source": [
        "opt = BasicOptim(linear_model.parameters(), lr)"
      ],
      "metadata": {
        "id": "dcini60K3iRa"
      },
      "execution_count": 102,
      "outputs": []
    },
    {
      "cell_type": "code",
      "source": [
        "def train_epoch(model):\n",
        "  for xb, yb in dl:\n",
        "    cal_grad(xb, yb, model)\n",
        "    opt.step()\n",
        "    opt.zero_grad()"
      ],
      "metadata": {
        "id": "DI_qgxuq3orE"
      },
      "execution_count": 103,
      "outputs": []
    },
    {
      "cell_type": "code",
      "source": [
        "validate_epoch(linear_model)"
      ],
      "metadata": {
        "colab": {
          "base_uri": "https://localhost:8080/"
        },
        "id": "KdQ5zjvy38zo",
        "outputId": "4564a964-8ff7-4e04-ffe3-a7d23c72f4a1"
      },
      "execution_count": 104,
      "outputs": [
        {
          "output_type": "execute_result",
          "data": {
            "text/plain": [
              "0.461"
            ]
          },
          "metadata": {},
          "execution_count": 104
        }
      ]
    },
    {
      "cell_type": "code",
      "source": [
        "def train_model(model, epochs):\n",
        "  for i in range(epochs):\n",
        "    train_epoch(model)\n",
        "    print(validate_epoch(model), end=' ')"
      ],
      "metadata": {
        "id": "YuqTxEEM4Axd"
      },
      "execution_count": 105,
      "outputs": []
    },
    {
      "cell_type": "code",
      "source": [
        "train_model(linear_model, 20)"
      ],
      "metadata": {
        "colab": {
          "base_uri": "https://localhost:8080/"
        },
        "id": "A_0HvNAB4Nyw",
        "outputId": "ccc4ece1-2f66-4d37-8867-8bd7bebe99ad"
      },
      "execution_count": 106,
      "outputs": [
        {
          "output_type": "stream",
          "name": "stdout",
          "text": [
            "0.4932 0.7685 0.8554 0.9136 0.9345 0.9482 0.957 0.9633 0.9658 0.9677 0.9697 0.9716 0.9736 0.9745 0.976 0.977 0.9775 0.9775 0.978 0.9785 "
          ]
        }
      ]
    },
    {
      "cell_type": "code",
      "source": [
        "linear_model = nn.Linear(28*28, 1)\n",
        "opt = SGD(linear_model.parameters(), lr)\n",
        "train_model(linear_model, 20)"
      ],
      "metadata": {
        "colab": {
          "base_uri": "https://localhost:8080/"
        },
        "id": "21SicJ5P4SWt",
        "outputId": "49d5c31a-9902-4b87-d8a5-29e81f0e1253"
      },
      "execution_count": 107,
      "outputs": [
        {
          "output_type": "stream",
          "name": "stdout",
          "text": [
            "0.4932 0.8179 0.8496 0.914 0.9345 0.9482 0.957 0.9619 0.9658 0.9672 0.9692 0.9711 0.9741 0.975 0.976 0.9775 0.9775 0.978 0.9785 0.9789 "
          ]
        }
      ]
    },
    {
      "cell_type": "code",
      "source": [
        "dls = DataLoaders(dl, valid_dl)"
      ],
      "metadata": {
        "id": "mAgN7QZJ4hdJ"
      },
      "execution_count": 108,
      "outputs": []
    },
    {
      "cell_type": "code",
      "source": [
        "learn = Learner(dls, nn.Linear(28*28, 1), opt_func=SGD,\n",
        "                loss_func=mnist_loss, metrics=batch_accuracy)"
      ],
      "metadata": {
        "id": "HTzVZOb45G3w"
      },
      "execution_count": 109,
      "outputs": []
    },
    {
      "cell_type": "code",
      "source": [
        "learn.fit(10, lr=lr)"
      ],
      "metadata": {
        "colab": {
          "base_uri": "https://localhost:8080/",
          "height": 363
        },
        "id": "3c4w0SKe54Xw",
        "outputId": "b352f98d-d0a3-44ab-dc93-94a7ae11ac01"
      },
      "execution_count": 110,
      "outputs": [
        {
          "output_type": "display_data",
          "data": {
            "text/plain": [
              "<IPython.core.display.HTML object>"
            ],
            "text/html": [
              "\n",
              "<style>\n",
              "    /* Turns off some styling */\n",
              "    progress {\n",
              "        /* gets rid of default border in Firefox and Opera. */\n",
              "        border: none;\n",
              "        /* Needs to be in here for Safari polyfill so background images work as expected. */\n",
              "        background-size: auto;\n",
              "    }\n",
              "    progress:not([value]), progress:not([value])::-webkit-progress-bar {\n",
              "        background: repeating-linear-gradient(45deg, #7e7e7e, #7e7e7e 10px, #5c5c5c 10px, #5c5c5c 20px);\n",
              "    }\n",
              "    .progress-bar-interrupted, .progress-bar-interrupted::-webkit-progress-bar {\n",
              "        background: #F44336;\n",
              "    }\n",
              "</style>\n"
            ]
          },
          "metadata": {}
        },
        {
          "output_type": "display_data",
          "data": {
            "text/plain": [
              "<IPython.core.display.HTML object>"
            ],
            "text/html": [
              "<table border=\"1\" class=\"dataframe\">\n",
              "  <thead>\n",
              "    <tr style=\"text-align: left;\">\n",
              "      <th>epoch</th>\n",
              "      <th>train_loss</th>\n",
              "      <th>valid_loss</th>\n",
              "      <th>batch_accuracy</th>\n",
              "      <th>time</th>\n",
              "    </tr>\n",
              "  </thead>\n",
              "  <tbody>\n",
              "    <tr>\n",
              "      <td>0</td>\n",
              "      <td>0.636709</td>\n",
              "      <td>0.503144</td>\n",
              "      <td>0.495584</td>\n",
              "      <td>00:00</td>\n",
              "    </tr>\n",
              "    <tr>\n",
              "      <td>1</td>\n",
              "      <td>0.429828</td>\n",
              "      <td>0.248517</td>\n",
              "      <td>0.777233</td>\n",
              "      <td>00:00</td>\n",
              "    </tr>\n",
              "    <tr>\n",
              "      <td>2</td>\n",
              "      <td>0.161680</td>\n",
              "      <td>0.155361</td>\n",
              "      <td>0.861629</td>\n",
              "      <td>00:00</td>\n",
              "    </tr>\n",
              "    <tr>\n",
              "      <td>3</td>\n",
              "      <td>0.072948</td>\n",
              "      <td>0.097722</td>\n",
              "      <td>0.917566</td>\n",
              "      <td>00:00</td>\n",
              "    </tr>\n",
              "    <tr>\n",
              "      <td>4</td>\n",
              "      <td>0.040128</td>\n",
              "      <td>0.073205</td>\n",
              "      <td>0.936212</td>\n",
              "      <td>00:00</td>\n",
              "    </tr>\n",
              "    <tr>\n",
              "      <td>5</td>\n",
              "      <td>0.027210</td>\n",
              "      <td>0.059466</td>\n",
              "      <td>0.950442</td>\n",
              "      <td>00:00</td>\n",
              "    </tr>\n",
              "    <tr>\n",
              "      <td>6</td>\n",
              "      <td>0.021837</td>\n",
              "      <td>0.050799</td>\n",
              "      <td>0.957802</td>\n",
              "      <td>00:00</td>\n",
              "    </tr>\n",
              "    <tr>\n",
              "      <td>7</td>\n",
              "      <td>0.019398</td>\n",
              "      <td>0.044980</td>\n",
              "      <td>0.964181</td>\n",
              "      <td>00:00</td>\n",
              "    </tr>\n",
              "    <tr>\n",
              "      <td>8</td>\n",
              "      <td>0.018122</td>\n",
              "      <td>0.040853</td>\n",
              "      <td>0.966143</td>\n",
              "      <td>00:00</td>\n",
              "    </tr>\n",
              "    <tr>\n",
              "      <td>9</td>\n",
              "      <td>0.017330</td>\n",
              "      <td>0.037788</td>\n",
              "      <td>0.968106</td>\n",
              "      <td>00:00</td>\n",
              "    </tr>\n",
              "  </tbody>\n",
              "</table>"
            ]
          },
          "metadata": {}
        }
      ]
    },
    {
      "cell_type": "code",
      "source": [
        "def simple_net(xb):\n",
        "  res = xb@w1 + b1\n",
        "  res = res.max(tensor(0.0))\n",
        "  res = res@w2 + b2\n",
        "  return res"
      ],
      "metadata": {
        "id": "JNjIFM_D57HB"
      },
      "execution_count": 111,
      "outputs": []
    },
    {
      "cell_type": "code",
      "source": [
        "w1 = init_params((28*28, 30))\n",
        "b1 = init_params(30)\n",
        "w2 = init_params((30, 1))\n",
        "b2 = init_params(1)"
      ],
      "metadata": {
        "id": "LwlURpcv66Dx"
      },
      "execution_count": 112,
      "outputs": []
    },
    {
      "cell_type": "code",
      "source": [
        "plot_function(F.relu)"
      ],
      "metadata": {
        "colab": {
          "base_uri": "https://localhost:8080/",
          "height": 265
        },
        "id": "cd1AKy1P7smS",
        "outputId": "4da72deb-b5a4-490b-db59-90c3b7e57687"
      },
      "execution_count": 113,
      "outputs": [
        {
          "output_type": "display_data",
          "data": {
            "text/plain": [
              "<Figure size 432x288 with 1 Axes>"
            ],
            "image/png": "[encoded data removed]"
          },
          "metadata": {
            "needs_background": "light"
          }
        }
      ]
    },
    {
      "cell_type": "code",
      "source": [
        "simple_net = nn.Sequential(\n",
        "    nn.Linear(28*28, 30),\n",
        "    nn.ReLU(),\n",
        "    nn.Linear(30, 1)\n",
        ")"
      ],
      "metadata": {
        "id": "WJIl6rsx8DoE"
      },
      "execution_count": 114,
      "outputs": []
    },
    {
      "cell_type": "code",
      "source": [
        "learn = Learner(dls, simple_net, opt_func=SGD,\n",
        "                loss_func=mnist_loss, metrics=batch_accuracy)\n",
        "learn.fit(40, 0.1)"
      ],
      "metadata": {
        "colab": {
          "base_uri": "https://localhost:8080/",
          "height": 1000
        },
        "id": "i_Qv2gUg-gGn",
        "outputId": "fa2f4009-829e-44b3-a655-cca0b0a79398"
      },
      "execution_count": 115,
      "outputs": [
        {
          "output_type": "display_data",
          "data": {
            "text/plain": [
              "<IPython.core.display.HTML object>"
            ],
            "text/html": [
              "\n",
              "<style>\n",
              "    /* Turns off some styling */\n",
              "    progress {\n",
              "        /* gets rid of default border in Firefox and Opera. */\n",
              "        border: none;\n",
              "        /* Needs to be in here for Safari polyfill so background images work as expected. */\n",
              "        background-size: auto;\n",
              "    }\n",
              "    progress:not([value]), progress:not([value])::-webkit-progress-bar {\n",
              "        background: repeating-linear-gradient(45deg, #7e7e7e, #7e7e7e 10px, #5c5c5c 10px, #5c5c5c 20px);\n",
              "    }\n",
              "    .progress-bar-interrupted, .progress-bar-interrupted::-webkit-progress-bar {\n",
              "        background: #F44336;\n",
              "    }\n",
              "</style>\n"
            ]
          },
          "metadata": {}
        },
        {
          "output_type": "display_data",
          "data": {
            "text/plain": [
              "<IPython.core.display.HTML object>"
            ],
            "text/html": [
              "<table border=\"1\" class=\"dataframe\">\n",
              "  <thead>\n",
              "    <tr style=\"text-align: left;\">\n",
              "      <th>epoch</th>\n",
              "      <th>train_loss</th>\n",
              "      <th>valid_loss</th>\n",
              "      <th>batch_accuracy</th>\n",
              "      <th>time</th>\n",
              "    </tr>\n",
              "  </thead>\n",
              "  <tbody>\n",
              "    <tr>\n",
              "      <td>0</td>\n",
              "      <td>0.333021</td>\n",
              "      <td>0.396112</td>\n",
              "      <td>0.512267</td>\n",
              "      <td>00:00</td>\n",
              "    </tr>\n",
              "    <tr>\n",
              "      <td>1</td>\n",
              "      <td>0.152461</td>\n",
              "      <td>0.235238</td>\n",
              "      <td>0.797350</td>\n",
              "      <td>00:00</td>\n",
              "    </tr>\n",
              "    <tr>\n",
              "      <td>2</td>\n",
              "      <td>0.083573</td>\n",
              "      <td>0.117471</td>\n",
              "      <td>0.911678</td>\n",
              "      <td>00:00</td>\n",
              "    </tr>\n",
              "    <tr>\n",
              "      <td>3</td>\n",
              "      <td>0.054309</td>\n",
              "      <td>0.078720</td>\n",
              "      <td>0.940628</td>\n",
              "      <td>00:00</td>\n",
              "    </tr>\n",
              "    <tr>\n",
              "      <td>4</td>\n",
              "      <td>0.040829</td>\n",
              "      <td>0.061228</td>\n",
              "      <td>0.956330</td>\n",
              "      <td>00:00</td>\n",
              "    </tr>\n",
              "    <tr>\n",
              "      <td>5</td>\n",
              "      <td>0.034006</td>\n",
              "      <td>0.051490</td>\n",
              "      <td>0.963690</td>\n",
              "      <td>00:00</td>\n",
              "    </tr>\n",
              "    <tr>\n",
              "      <td>6</td>\n",
              "      <td>0.030123</td>\n",
              "      <td>0.045381</td>\n",
              "      <td>0.966634</td>\n",
              "      <td>00:00</td>\n",
              "    </tr>\n",
              "    <tr>\n",
              "      <td>7</td>\n",
              "      <td>0.027619</td>\n",
              "      <td>0.041218</td>\n",
              "      <td>0.968106</td>\n",
              "      <td>00:00</td>\n",
              "    </tr>\n",
              "    <tr>\n",
              "      <td>8</td>\n",
              "      <td>0.025825</td>\n",
              "      <td>0.038200</td>\n",
              "      <td>0.969087</td>\n",
              "      <td>00:00</td>\n",
              "    </tr>\n",
              "    <tr>\n",
              "      <td>9</td>\n",
              "      <td>0.024441</td>\n",
              "      <td>0.035901</td>\n",
              "      <td>0.969578</td>\n",
              "      <td>00:00</td>\n",
              "    </tr>\n",
              "    <tr>\n",
              "      <td>10</td>\n",
              "      <td>0.023321</td>\n",
              "      <td>0.034082</td>\n",
              "      <td>0.971541</td>\n",
              "      <td>00:00</td>\n",
              "    </tr>\n",
              "    <tr>\n",
              "      <td>11</td>\n",
              "      <td>0.022387</td>\n",
              "      <td>0.032598</td>\n",
              "      <td>0.972031</td>\n",
              "      <td>00:00</td>\n",
              "    </tr>\n",
              "    <tr>\n",
              "      <td>12</td>\n",
              "      <td>0.021592</td>\n",
              "      <td>0.031353</td>\n",
              "      <td>0.974485</td>\n",
              "      <td>00:00</td>\n",
              "    </tr>\n",
              "    <tr>\n",
              "      <td>13</td>\n",
              "      <td>0.020904</td>\n",
              "      <td>0.030284</td>\n",
              "      <td>0.975466</td>\n",
              "      <td>00:00</td>\n",
              "    </tr>\n",
              "    <tr>\n",
              "      <td>14</td>\n",
              "      <td>0.020300</td>\n",
              "      <td>0.029352</td>\n",
              "      <td>0.975466</td>\n",
              "      <td>00:00</td>\n",
              "    </tr>\n",
              "    <tr>\n",
              "      <td>15</td>\n",
              "      <td>0.019766</td>\n",
              "      <td>0.028526</td>\n",
              "      <td>0.975466</td>\n",
              "      <td>00:00</td>\n",
              "    </tr>\n",
              "    <tr>\n",
              "      <td>16</td>\n",
              "      <td>0.019288</td>\n",
              "      <td>0.027788</td>\n",
              "      <td>0.976448</td>\n",
              "      <td>00:00</td>\n",
              "    </tr>\n",
              "    <tr>\n",
              "      <td>17</td>\n",
              "      <td>0.018857</td>\n",
              "      <td>0.027124</td>\n",
              "      <td>0.977429</td>\n",
              "      <td>00:00</td>\n",
              "    </tr>\n",
              "    <tr>\n",
              "      <td>18</td>\n",
              "      <td>0.018465</td>\n",
              "      <td>0.026523</td>\n",
              "      <td>0.978410</td>\n",
              "      <td>00:00</td>\n",
              "    </tr>\n",
              "    <tr>\n",
              "      <td>19</td>\n",
              "      <td>0.018107</td>\n",
              "      <td>0.025977</td>\n",
              "      <td>0.978901</td>\n",
              "      <td>00:00</td>\n",
              "    </tr>\n",
              "    <tr>\n",
              "      <td>20</td>\n",
              "      <td>0.017777</td>\n",
              "      <td>0.025479</td>\n",
              "      <td>0.978901</td>\n",
              "      <td>00:00</td>\n",
              "    </tr>\n",
              "    <tr>\n",
              "      <td>21</td>\n",
              "      <td>0.017473</td>\n",
              "      <td>0.025022</td>\n",
              "      <td>0.979392</td>\n",
              "      <td>00:00</td>\n",
              "    </tr>\n",
              "    <tr>\n",
              "      <td>22</td>\n",
              "      <td>0.017191</td>\n",
              "      <td>0.024601</td>\n",
              "      <td>0.980373</td>\n",
              "      <td>00:00</td>\n",
              "    </tr>\n",
              "    <tr>\n",
              "      <td>23</td>\n",
              "      <td>0.016927</td>\n",
              "      <td>0.024213</td>\n",
              "      <td>0.980373</td>\n",
              "      <td>00:00</td>\n",
              "    </tr>\n",
              "    <tr>\n",
              "      <td>24</td>\n",
              "      <td>0.016680</td>\n",
              "      <td>0.023855</td>\n",
              "      <td>0.981354</td>\n",
              "      <td>00:00</td>\n",
              "    </tr>\n",
              "    <tr>\n",
              "      <td>25</td>\n",
              "      <td>0.016449</td>\n",
              "      <td>0.023521</td>\n",
              "      <td>0.981354</td>\n",
              "      <td>00:00</td>\n",
              "    </tr>\n",
              "    <tr>\n",
              "      <td>26</td>\n",
              "      <td>0.016230</td>\n",
              "      <td>0.023211</td>\n",
              "      <td>0.981354</td>\n",
              "      <td>00:00</td>\n",
              "    </tr>\n",
              "    <tr>\n",
              "      <td>27</td>\n",
              "      <td>0.016023</td>\n",
              "      <td>0.022922</td>\n",
              "      <td>0.981354</td>\n",
              "      <td>00:00</td>\n",
              "    </tr>\n",
              "    <tr>\n",
              "      <td>28</td>\n",
              "      <td>0.015827</td>\n",
              "      <td>0.022653</td>\n",
              "      <td>0.981845</td>\n",
              "      <td>00:00</td>\n",
              "    </tr>\n",
              "    <tr>\n",
              "      <td>29</td>\n",
              "      <td>0.015641</td>\n",
              "      <td>0.022401</td>\n",
              "      <td>0.981845</td>\n",
              "      <td>00:00</td>\n",
              "    </tr>\n",
              "    <tr>\n",
              "      <td>30</td>\n",
              "      <td>0.015463</td>\n",
              "      <td>0.022165</td>\n",
              "      <td>0.981845</td>\n",
              "      <td>00:00</td>\n",
              "    </tr>\n",
              "    <tr>\n",
              "      <td>31</td>\n",
              "      <td>0.015294</td>\n",
              "      <td>0.021944</td>\n",
              "      <td>0.983317</td>\n",
              "      <td>00:00</td>\n",
              "    </tr>\n",
              "    <tr>\n",
              "      <td>32</td>\n",
              "      <td>0.015132</td>\n",
              "      <td>0.021736</td>\n",
              "      <td>0.982826</td>\n",
              "      <td>00:00</td>\n",
              "    </tr>\n",
              "    <tr>\n",
              "      <td>33</td>\n",
              "      <td>0.014977</td>\n",
              "      <td>0.021541</td>\n",
              "      <td>0.982826</td>\n",
              "      <td>00:00</td>\n",
              "    </tr>\n",
              "    <tr>\n",
              "      <td>34</td>\n",
              "      <td>0.014828</td>\n",
              "      <td>0.021357</td>\n",
              "      <td>0.982336</td>\n",
              "      <td>00:00</td>\n",
              "    </tr>\n",
              "    <tr>\n",
              "      <td>35</td>\n",
              "      <td>0.014686</td>\n",
              "      <td>0.021184</td>\n",
              "      <td>0.982336</td>\n",
              "      <td>00:00</td>\n",
              "    </tr>\n",
              "    <tr>\n",
              "      <td>36</td>\n",
              "      <td>0.014549</td>\n",
              "      <td>0.021019</td>\n",
              "      <td>0.982336</td>\n",
              "      <td>00:00</td>\n",
              "    </tr>\n",
              "    <tr>\n",
              "      <td>37</td>\n",
              "      <td>0.014417</td>\n",
              "      <td>0.020864</td>\n",
              "      <td>0.982336</td>\n",
              "      <td>00:00</td>\n",
              "    </tr>\n",
              "    <tr>\n",
              "      <td>38</td>\n",
              "      <td>0.014290</td>\n",
              "      <td>0.020716</td>\n",
              "      <td>0.982336</td>\n",
              "      <td>00:00</td>\n",
              "    </tr>\n",
              "    <tr>\n",
              "      <td>39</td>\n",
              "      <td>0.014168</td>\n",
              "      <td>0.020576</td>\n",
              "      <td>0.982336</td>\n",
              "      <td>00:00</td>\n",
              "    </tr>\n",
              "  </tbody>\n",
              "</table>"
            ]
          },
          "metadata": {}
        }
      ]
    },
    {
      "cell_type": "code",
      "source": [
        "plt.plot(L(learn.recorder.values).itemgot(2));"
      ],
      "metadata": {
        "colab": {
          "base_uri": "https://localhost:8080/",
          "height": 266
        },
        "id": "MaCuJPsy_1T0",
        "outputId": "d2a90901-106b-4103-f5bf-5c4ce6346f47"
      },
      "execution_count": 116,
      "outputs": [
        {
          "output_type": "display_data",
          "data": {
            "text/plain": [
              "<Figure size 432x288 with 1 Axes>"
            ],
            "image/png": "[encoded data removed]"
          },
          "metadata": {
            "needs_background": "light"
          }
        }
      ]
    },
    {
      "cell_type": "code",
      "source": [
        "learn.recorder.values[-1][2]"
      ],
      "metadata": {
        "colab": {
          "base_uri": "https://localhost:8080/"
        },
        "id": "Du4gUx2kApm8",
        "outputId": "2d9f669f-946f-4146-a3ea-faee2c2b0307"
      },
      "execution_count": 117,
      "outputs": [
        {
          "output_type": "execute_result",
          "data": {
            "text/plain": [
              "0.98233562707901"
            ]
          },
          "metadata": {},
          "execution_count": 117
        }
      ]
    },
    {
      "cell_type": "code",
      "source": [
        "dls = ImageDataLoaders.from_folder(path)\n",
        "learn = cnn_learner(dls, resnet18, pretrained=True,\n",
        "                    loss_func=F.cross_entropy, metrics=accuracy)\n",
        "learn.fit_one_cycle(1, 0.1)"
      ],
      "metadata": {
        "colab": {
          "base_uri": "https://localhost:8080/",
          "height": 260,
          "referenced_widgets": [
            "baa8a52dbc974e4d8ec44264553ac24d",
            "d29885491d0047efb8c9701f332c2838",
            "9c8ac1a926a14368bc24235f9c1a4c7e",
            "4d095bda27a9443ea7780043ead835db",
            "87ef13d8aaf54dc88ea87f0d53e281e6",
            "200dc443d0d143cca3158593e706cddf",
            "5f5bc680747c464a8d38eb0a874bd979",
            "a1dd156e888a42f7a5ce48d1ac844824",
            "d489dd4ebc3047b7864c9004a046b392",
            "9e6ec4db2db64e25880ff571d95195b5",
            "27368ac02d6e43fd8a691a6865091476"
          ]
        },
        "id": "HEK_N4nGA7dq",
        "outputId": "743918c5-18a5-4d0d-eb60-1c8899d9b532"
      },
      "execution_count": 118,
      "outputs": [
        {
          "output_type": "stream",
          "name": "stderr",
          "text": [
            "/usr/local/lib/python3.7/dist-packages/fastai/vision/learner.py:287: UserWarning: `cnn_learner` has been renamed to `vision_learner` -- please update your code\n",
            "  warn(\"`cnn_learner` has been renamed to `vision_learner` -- please update your code\")\n",
            "/usr/local/lib/python3.7/dist-packages/torchvision/models/_utils.py:136: UserWarning: Using 'weights' as positional parameter(s) is deprecated since 0.13 and will be removed in 0.15. Please use keyword parameter(s) instead.\n",
            "  f\"Using {sequence_to_str(tuple(keyword_only_kwargs.keys()), separate_last='and ')} as positional \"\n",
            "/usr/local/lib/python3.7/dist-packages/torchvision/models/_utils.py:223: UserWarning: Arguments other than a weight enum or `None` for 'weights' are deprecated since 0.13 and will be removed in 0.15. The current behavior is equivalent to passing `weights=ResNet18_Weights.IMAGENET1K_V1`. You can also use `weights=ResNet18_Weights.DEFAULT` to get the most up-to-date weights.\n",
            "  warnings.warn(msg)\n",
            "Downloading: \"https://download.pytorch.org/models/resnet18-f37072fd.pth\" to /root/.cache/torch/hub/checkpoints/resnet18-f37072fd.pth\n"
          ]
        },
        {
          "output_type": "display_data",
          "data": {
            "text/plain": [
              "  0%|          | 0.00/44.7M [00:00<?, ?B/s]"
            ],
            "application/vnd.jupyter.widget-view+json": {
              "version_major": 2,
              "version_minor": 0,
              "model_id": "baa8a52dbc974e4d8ec44264553ac24d"
            }
          },
          "metadata": {}
        },
        {
          "output_type": "display_data",
          "data": {
            "text/plain": [
              "<IPython.core.display.HTML object>"
            ],
            "text/html": [
              "\n",
              "<style>\n",
              "    /* Turns off some styling */\n",
              "    progress {\n",
              "        /* gets rid of default border in Firefox and Opera. */\n",
              "        border: none;\n",
              "        /* Needs to be in here for Safari polyfill so background images work as expected. */\n",
              "        background-size: auto;\n",
              "    }\n",
              "    progress:not([value]), progress:not([value])::-webkit-progress-bar {\n",
              "        background: repeating-linear-gradient(45deg, #7e7e7e, #7e7e7e 10px, #5c5c5c 10px, #5c5c5c 20px);\n",
              "    }\n",
              "    .progress-bar-interrupted, .progress-bar-interrupted::-webkit-progress-bar {\n",
              "        background: #F44336;\n",
              "    }\n",
              "</style>\n"
            ]
          },
          "metadata": {}
        },
        {
          "output_type": "display_data",
          "data": {
            "text/plain": [
              "<IPython.core.display.HTML object>"
            ],
            "text/html": [
              "<table border=\"1\" class=\"dataframe\">\n",
              "  <thead>\n",
              "    <tr style=\"text-align: left;\">\n",
              "      <th>epoch</th>\n",
              "      <th>train_loss</th>\n",
              "      <th>valid_loss</th>\n",
              "      <th>accuracy</th>\n",
              "      <th>time</th>\n",
              "    </tr>\n",
              "  </thead>\n",
              "  <tbody>\n",
              "    <tr>\n",
              "      <td>0</td>\n",
              "      <td>0.114512</td>\n",
              "      <td>0.015580</td>\n",
              "      <td>0.995093</td>\n",
              "      <td>00:26</td>\n",
              "    </tr>\n",
              "  </tbody>\n",
              "</table>"
            ]
          },
          "metadata": {}
        }
      ]
    },
    {
      "cell_type": "markdown",
      "source": [
        "## **Further Research 1**"
      ],
      "metadata": {
        "id": "hhvZAu8NCP_T"
      }
    },
    {
      "cell_type": "code",
      "source": [
        "class Learner_1():\n",
        "  def __init__(self, data, model, opt_func, loss_func, metrics):\n",
        "    self.data_train = data[0]\n",
        "    self.data_val = data[1]\n",
        "    self.model = model\n",
        "    self.opt_func = opt_func\n",
        "    self.loss_func = loss_func\n",
        "    self.metrics = metrics\n",
        "\n",
        "  def fit(self, epochs):\n",
        "    for i in range(epochs):\n",
        "      self.train_epoch()\n",
        "      print(self.validate_epoch(), end=' ')\n",
        "\n",
        "  def cal_grad(self, x, y):\n",
        "    loss_1 = self.loss_func\n",
        "    x = x.view(-1, 28*28)\n",
        "    preds = self.model(x.cuda())\n",
        "    loss = loss_1(preds.cuda(), y.cuda())\n",
        "    loss.backward()\n",
        "\n",
        "  def train_epoch(self):\n",
        "    for x, y in self.data_train:\n",
        "      x = x.view(-1, 28*28)\n",
        "      self.cal_grad(x.cuda(), y.cuda())\n",
        "      self.opt.step()\n",
        "      self.opt.zero_grad()\n",
        "\n",
        "\n",
        "  def batch_accuracy(self, x, y):\n",
        "    x = x.view(-1, 28*28)\n",
        "    preds = x.sigmoid()\n",
        "    correct = (preds>0.5) == y\n",
        "    return correct.float().mean()\n",
        "\n",
        "\n",
        "  def validate_epoch(self):\n",
        "    accs = []\n",
        "    for x, y in self.data_val:\n",
        "      x = x.view(-1, 28*28)\n",
        "      accs.append(self.metrics(self.model(x.cuda(), y.cuda())))\n",
        "    \n",
        "    # accs = [self.metrics(self.model(x.cuda(), y.cuda())) for x, y in self.data_val]\n",
        "    return round(torch.stack(accs).mean().item(), 4)\n"
      ],
      "metadata": {
        "id": "DXgVAWFeCZjT"
      },
      "execution_count": 136,
      "outputs": []
    },
    {
      "cell_type": "code",
      "source": [
        "learn = Learner_1(dls, resnet18, BasicOptim, mnist_loss, batch_accuracy)"
      ],
      "metadata": {
        "id": "htKSR6v6NAi1"
      },
      "execution_count": 137,
      "outputs": []
    },
    {
      "cell_type": "code",
      "source": [
        "learn.fit(10)"
      ],
      "metadata": {
        "colab": {
          "base_uri": "https://localhost:8080/",
          "height": 395
        },
        "id": "zRaJWHjFQO7s",
        "outputId": "feb5edbd-bf94-4ef4-fc06-9533e84f6927"
      },
      "execution_count": 138,
      "outputs": [
        {
          "output_type": "stream",
          "name": "stderr",
          "text": [
            "/usr/local/lib/python3.7/dist-packages/torchvision/models/_utils.py:136: UserWarning: Using 'weights' as positional parameter(s) is deprecated since 0.13 and will be removed in 0.15. Please use keyword parameter(s) instead.\n",
            "  f\"Using {sequence_to_str(tuple(keyword_only_kwargs.keys()), separate_last='and ')} as positional \"\n"
          ]
        },
        {
          "output_type": "error",
          "ename": "RuntimeError",
          "evalue": "ignored",
          "traceback": [
            "\u001b[0;31m---------------------------------------------------------------------------\u001b[0m",
            "\u001b[0;31mRuntimeError\u001b[0m                              Traceback (most recent call last)",
            "\u001b[0;32m<ipython-input-138-3371a2bf699b>\u001b[0m in \u001b[0;36m<module>\u001b[0;34m()\u001b[0m\n\u001b[0;32m----> 1\u001b[0;31m \u001b[0mlearn\u001b[0m\u001b[0;34m.\u001b[0m\u001b[0mfit\u001b[0m\u001b[0;34m(\u001b[0m\u001b[0;36m10\u001b[0m\u001b[0;34m)\u001b[0m\u001b[0;34m\u001b[0m\u001b[0;34m\u001b[0m\u001b[0m\n\u001b[0m",
            "\u001b[0;32m<ipython-input-136-beb4028ae6f6>\u001b[0m in \u001b[0;36mfit\u001b[0;34m(self, epochs)\u001b[0m\n\u001b[1;32m     10\u001b[0m   \u001b[0;32mdef\u001b[0m \u001b[0mfit\u001b[0m\u001b[0;34m(\u001b[0m\u001b[0mself\u001b[0m\u001b[0;34m,\u001b[0m \u001b[0mepochs\u001b[0m\u001b[0;34m)\u001b[0m\u001b[0;34m:\u001b[0m\u001b[0;34m\u001b[0m\u001b[0;34m\u001b[0m\u001b[0m\n\u001b[1;32m     11\u001b[0m     \u001b[0;32mfor\u001b[0m \u001b[0mi\u001b[0m \u001b[0;32min\u001b[0m \u001b[0mrange\u001b[0m\u001b[0;34m(\u001b[0m\u001b[0mepochs\u001b[0m\u001b[0;34m)\u001b[0m\u001b[0;34m:\u001b[0m\u001b[0;34m\u001b[0m\u001b[0;34m\u001b[0m\u001b[0m\n\u001b[0;32m---> 12\u001b[0;31m       \u001b[0mself\u001b[0m\u001b[0;34m.\u001b[0m\u001b[0mtrain_epoch\u001b[0m\u001b[0;34m(\u001b[0m\u001b[0;34m)\u001b[0m\u001b[0;34m\u001b[0m\u001b[0;34m\u001b[0m\u001b[0m\n\u001b[0m\u001b[1;32m     13\u001b[0m       \u001b[0mprint\u001b[0m\u001b[0;34m(\u001b[0m\u001b[0mself\u001b[0m\u001b[0;34m.\u001b[0m\u001b[0mvalidate_epoch\u001b[0m\u001b[0;34m(\u001b[0m\u001b[0;34m)\u001b[0m\u001b[0;34m,\u001b[0m \u001b[0mend\u001b[0m\u001b[0;34m=\u001b[0m\u001b[0;34m' '\u001b[0m\u001b[0;34m)\u001b[0m\u001b[0;34m\u001b[0m\u001b[0;34m\u001b[0m\u001b[0m\n\u001b[1;32m     14\u001b[0m \u001b[0;34m\u001b[0m\u001b[0m\n",
            "\u001b[0;32m<ipython-input-136-beb4028ae6f6>\u001b[0m in \u001b[0;36mtrain_epoch\u001b[0;34m(self)\u001b[0m\n\u001b[1;32m     23\u001b[0m     \u001b[0;32mfor\u001b[0m \u001b[0mx\u001b[0m\u001b[0;34m,\u001b[0m \u001b[0my\u001b[0m \u001b[0;32min\u001b[0m \u001b[0mself\u001b[0m\u001b[0;34m.\u001b[0m\u001b[0mdata_train\u001b[0m\u001b[0;34m:\u001b[0m\u001b[0;34m\u001b[0m\u001b[0;34m\u001b[0m\u001b[0m\n\u001b[1;32m     24\u001b[0m       \u001b[0mx\u001b[0m \u001b[0;34m=\u001b[0m \u001b[0mx\u001b[0m\u001b[0;34m.\u001b[0m\u001b[0mview\u001b[0m\u001b[0;34m(\u001b[0m\u001b[0;34m-\u001b[0m\u001b[0;36m1\u001b[0m\u001b[0;34m,\u001b[0m \u001b[0;36m28\u001b[0m\u001b[0;34m*\u001b[0m\u001b[0;36m28\u001b[0m\u001b[0;34m)\u001b[0m\u001b[0;34m\u001b[0m\u001b[0;34m\u001b[0m\u001b[0m\n\u001b[0;32m---> 25\u001b[0;31m       \u001b[0mself\u001b[0m\u001b[0;34m.\u001b[0m\u001b[0mcal_grad\u001b[0m\u001b[0;34m(\u001b[0m\u001b[0mx\u001b[0m\u001b[0;34m.\u001b[0m\u001b[0mcuda\u001b[0m\u001b[0;34m(\u001b[0m\u001b[0;34m)\u001b[0m\u001b[0;34m,\u001b[0m \u001b[0my\u001b[0m\u001b[0;34m.\u001b[0m\u001b[0mcuda\u001b[0m\u001b[0;34m(\u001b[0m\u001b[0;34m)\u001b[0m\u001b[0;34m)\u001b[0m\u001b[0;34m\u001b[0m\u001b[0;34m\u001b[0m\u001b[0m\n\u001b[0m\u001b[1;32m     26\u001b[0m       \u001b[0mself\u001b[0m\u001b[0;34m.\u001b[0m\u001b[0mopt\u001b[0m\u001b[0;34m.\u001b[0m\u001b[0mstep\u001b[0m\u001b[0;34m(\u001b[0m\u001b[0;34m)\u001b[0m\u001b[0;34m\u001b[0m\u001b[0;34m\u001b[0m\u001b[0m\n\u001b[1;32m     27\u001b[0m       \u001b[0mself\u001b[0m\u001b[0;34m.\u001b[0m\u001b[0mopt\u001b[0m\u001b[0;34m.\u001b[0m\u001b[0mzero_grad\u001b[0m\u001b[0;34m(\u001b[0m\u001b[0;34m)\u001b[0m\u001b[0;34m\u001b[0m\u001b[0;34m\u001b[0m\u001b[0m\n",
            "\u001b[0;32m<ipython-input-136-beb4028ae6f6>\u001b[0m in \u001b[0;36mcal_grad\u001b[0;34m(self, x, y)\u001b[0m\n\u001b[1;32m     16\u001b[0m     \u001b[0mloss_1\u001b[0m \u001b[0;34m=\u001b[0m \u001b[0mself\u001b[0m\u001b[0;34m.\u001b[0m\u001b[0mloss_func\u001b[0m\u001b[0;34m\u001b[0m\u001b[0;34m\u001b[0m\u001b[0m\n\u001b[1;32m     17\u001b[0m     \u001b[0mx\u001b[0m \u001b[0;34m=\u001b[0m \u001b[0mx\u001b[0m\u001b[0;34m.\u001b[0m\u001b[0mview\u001b[0m\u001b[0;34m(\u001b[0m\u001b[0;34m-\u001b[0m\u001b[0;36m1\u001b[0m\u001b[0;34m,\u001b[0m \u001b[0;36m28\u001b[0m\u001b[0;34m*\u001b[0m\u001b[0;36m28\u001b[0m\u001b[0;34m)\u001b[0m\u001b[0;34m\u001b[0m\u001b[0;34m\u001b[0m\u001b[0m\n\u001b[0;32m---> 18\u001b[0;31m     \u001b[0mpreds\u001b[0m \u001b[0;34m=\u001b[0m \u001b[0mself\u001b[0m\u001b[0;34m.\u001b[0m\u001b[0mmodel\u001b[0m\u001b[0;34m(\u001b[0m\u001b[0mx\u001b[0m\u001b[0;34m.\u001b[0m\u001b[0mcuda\u001b[0m\u001b[0;34m(\u001b[0m\u001b[0;34m)\u001b[0m\u001b[0;34m)\u001b[0m\u001b[0;34m\u001b[0m\u001b[0;34m\u001b[0m\u001b[0m\n\u001b[0m\u001b[1;32m     19\u001b[0m     \u001b[0mloss\u001b[0m \u001b[0;34m=\u001b[0m \u001b[0mloss_1\u001b[0m\u001b[0;34m(\u001b[0m\u001b[0mpreds\u001b[0m\u001b[0;34m.\u001b[0m\u001b[0mcuda\u001b[0m\u001b[0;34m(\u001b[0m\u001b[0;34m)\u001b[0m\u001b[0;34m,\u001b[0m \u001b[0my\u001b[0m\u001b[0;34m.\u001b[0m\u001b[0mcuda\u001b[0m\u001b[0;34m(\u001b[0m\u001b[0;34m)\u001b[0m\u001b[0;34m)\u001b[0m\u001b[0;34m\u001b[0m\u001b[0;34m\u001b[0m\u001b[0m\n\u001b[1;32m     20\u001b[0m     \u001b[0mloss\u001b[0m\u001b[0;34m.\u001b[0m\u001b[0mbackward\u001b[0m\u001b[0;34m(\u001b[0m\u001b[0;34m)\u001b[0m\u001b[0;34m\u001b[0m\u001b[0;34m\u001b[0m\u001b[0m\n",
            "\u001b[0;32m/usr/local/lib/python3.7/dist-packages/torchvision/models/_utils.py\u001b[0m in \u001b[0;36mwrapper\u001b[0;34m(*args, **kwargs)\u001b[0m\n\u001b[1;32m    140\u001b[0m             \u001b[0mkwargs\u001b[0m\u001b[0;34m.\u001b[0m\u001b[0mupdate\u001b[0m\u001b[0;34m(\u001b[0m\u001b[0mkeyword_only_kwargs\u001b[0m\u001b[0;34m)\u001b[0m\u001b[0;34m\u001b[0m\u001b[0;34m\u001b[0m\u001b[0m\n\u001b[1;32m    141\u001b[0m \u001b[0;34m\u001b[0m\u001b[0m\n\u001b[0;32m--> 142\u001b[0;31m         \u001b[0;32mreturn\u001b[0m \u001b[0mfn\u001b[0m\u001b[0;34m(\u001b[0m\u001b[0;34m*\u001b[0m\u001b[0margs\u001b[0m\u001b[0;34m,\u001b[0m \u001b[0;34m**\u001b[0m\u001b[0mkwargs\u001b[0m\u001b[0;34m)\u001b[0m\u001b[0;34m\u001b[0m\u001b[0;34m\u001b[0m\u001b[0m\n\u001b[0m\u001b[1;32m    143\u001b[0m \u001b[0;34m\u001b[0m\u001b[0m\n\u001b[1;32m    144\u001b[0m     \u001b[0;32mreturn\u001b[0m \u001b[0mwrapper\u001b[0m\u001b[0;34m\u001b[0m\u001b[0;34m\u001b[0m\u001b[0m\n",
            "\u001b[0;32m/usr/local/lib/python3.7/dist-packages/torchvision/models/_utils.py\u001b[0m in \u001b[0;36minner_wrapper\u001b[0;34m(*args, **kwargs)\u001b[0m\n\u001b[1;32m    198\u001b[0m                     \u001b[0mpretrained_arg\u001b[0m \u001b[0;34m=\u001b[0m \u001b[0mkwargs\u001b[0m\u001b[0;34m[\u001b[0m\u001b[0mpretrained_param\u001b[0m\u001b[0;34m]\u001b[0m\u001b[0;34m\u001b[0m\u001b[0;34m\u001b[0m\u001b[0m\n\u001b[1;32m    199\u001b[0m \u001b[0;34m\u001b[0m\u001b[0m\n\u001b[0;32m--> 200\u001b[0;31m                 \u001b[0;32mif\u001b[0m \u001b[0mpretrained_arg\u001b[0m\u001b[0;34m:\u001b[0m\u001b[0;34m\u001b[0m\u001b[0;34m\u001b[0m\u001b[0m\n\u001b[0m\u001b[1;32m    201\u001b[0m                     \u001b[0mdefault_weights_arg\u001b[0m \u001b[0;34m=\u001b[0m \u001b[0mdefault\u001b[0m\u001b[0;34m(\u001b[0m\u001b[0mkwargs\u001b[0m\u001b[0;34m)\u001b[0m \u001b[0;32mif\u001b[0m \u001b[0mcallable\u001b[0m\u001b[0;34m(\u001b[0m\u001b[0mdefault\u001b[0m\u001b[0;34m)\u001b[0m \u001b[0;32melse\u001b[0m \u001b[0mdefault\u001b[0m\u001b[0;34m\u001b[0m\u001b[0;34m\u001b[0m\u001b[0m\n\u001b[1;32m    202\u001b[0m                     \u001b[0;32mif\u001b[0m \u001b[0;32mnot\u001b[0m \u001b[0misinstance\u001b[0m\u001b[0;34m(\u001b[0m\u001b[0mdefault_weights_arg\u001b[0m\u001b[0;34m,\u001b[0m \u001b[0mWeightsEnum\u001b[0m\u001b[0;34m)\u001b[0m\u001b[0;34m:\u001b[0m\u001b[0;34m\u001b[0m\u001b[0;34m\u001b[0m\u001b[0m\n",
            "\u001b[0;32m/usr/local/lib/python3.7/dist-packages/fastai/torch_core.py\u001b[0m in \u001b[0;36m__torch_function__\u001b[0;34m(cls, func, types, args, kwargs)\u001b[0m\n\u001b[1;32m    377\u001b[0m         \u001b[0;32mif\u001b[0m \u001b[0mcls\u001b[0m\u001b[0;34m.\u001b[0m\u001b[0mdebug\u001b[0m \u001b[0;32mand\u001b[0m \u001b[0mfunc\u001b[0m\u001b[0;34m.\u001b[0m\u001b[0m__name__\u001b[0m \u001b[0;32mnot\u001b[0m \u001b[0;32min\u001b[0m \u001b[0;34m(\u001b[0m\u001b[0;34m'__str__'\u001b[0m\u001b[0;34m,\u001b[0m\u001b[0;34m'__repr__'\u001b[0m\u001b[0;34m)\u001b[0m\u001b[0;34m:\u001b[0m \u001b[0mprint\u001b[0m\u001b[0;34m(\u001b[0m\u001b[0mfunc\u001b[0m\u001b[0;34m,\u001b[0m \u001b[0mtypes\u001b[0m\u001b[0;34m,\u001b[0m \u001b[0margs\u001b[0m\u001b[0;34m,\u001b[0m \u001b[0mkwargs\u001b[0m\u001b[0;34m)\u001b[0m\u001b[0;34m\u001b[0m\u001b[0;34m\u001b[0m\u001b[0m\n\u001b[1;32m    378\u001b[0m         \u001b[0;32mif\u001b[0m \u001b[0m_torch_handled\u001b[0m\u001b[0;34m(\u001b[0m\u001b[0margs\u001b[0m\u001b[0;34m,\u001b[0m \u001b[0mcls\u001b[0m\u001b[0;34m.\u001b[0m\u001b[0m_opt\u001b[0m\u001b[0;34m,\u001b[0m \u001b[0mfunc\u001b[0m\u001b[0;34m)\u001b[0m\u001b[0;34m:\u001b[0m \u001b[0mtypes\u001b[0m \u001b[0;34m=\u001b[0m \u001b[0;34m(\u001b[0m\u001b[0mtorch\u001b[0m\u001b[0;34m.\u001b[0m\u001b[0mTensor\u001b[0m\u001b[0;34m,\u001b[0m\u001b[0;34m)\u001b[0m\u001b[0;34m\u001b[0m\u001b[0;34m\u001b[0m\u001b[0m\n\u001b[0;32m--> 379\u001b[0;31m         \u001b[0mres\u001b[0m \u001b[0;34m=\u001b[0m \u001b[0msuper\u001b[0m\u001b[0;34m(\u001b[0m\u001b[0;34m)\u001b[0m\u001b[0;34m.\u001b[0m\u001b[0m__torch_function__\u001b[0m\u001b[0;34m(\u001b[0m\u001b[0mfunc\u001b[0m\u001b[0;34m,\u001b[0m \u001b[0mtypes\u001b[0m\u001b[0;34m,\u001b[0m \u001b[0margs\u001b[0m\u001b[0;34m,\u001b[0m \u001b[0mifnone\u001b[0m\u001b[0;34m(\u001b[0m\u001b[0mkwargs\u001b[0m\u001b[0;34m,\u001b[0m \u001b[0;34m{\u001b[0m\u001b[0;34m}\u001b[0m\u001b[0;34m)\u001b[0m\u001b[0;34m)\u001b[0m\u001b[0;34m\u001b[0m\u001b[0;34m\u001b[0m\u001b[0m\n\u001b[0m\u001b[1;32m    380\u001b[0m         \u001b[0mdict_objs\u001b[0m \u001b[0;34m=\u001b[0m \u001b[0m_find_args\u001b[0m\u001b[0;34m(\u001b[0m\u001b[0margs\u001b[0m\u001b[0;34m)\u001b[0m \u001b[0;32mif\u001b[0m \u001b[0margs\u001b[0m \u001b[0;32melse\u001b[0m \u001b[0m_find_args\u001b[0m\u001b[0;34m(\u001b[0m\u001b[0mlist\u001b[0m\u001b[0;34m(\u001b[0m\u001b[0mkwargs\u001b[0m\u001b[0;34m.\u001b[0m\u001b[0mvalues\u001b[0m\u001b[0;34m(\u001b[0m\u001b[0;34m)\u001b[0m\u001b[0;34m)\u001b[0m\u001b[0;34m)\u001b[0m\u001b[0;34m\u001b[0m\u001b[0;34m\u001b[0m\u001b[0m\n\u001b[1;32m    381\u001b[0m         \u001b[0;32mif\u001b[0m \u001b[0missubclass\u001b[0m\u001b[0;34m(\u001b[0m\u001b[0mtype\u001b[0m\u001b[0;34m(\u001b[0m\u001b[0mres\u001b[0m\u001b[0;34m)\u001b[0m\u001b[0;34m,\u001b[0m\u001b[0mTensorBase\u001b[0m\u001b[0;34m)\u001b[0m \u001b[0;32mand\u001b[0m \u001b[0mdict_objs\u001b[0m\u001b[0;34m:\u001b[0m \u001b[0mres\u001b[0m\u001b[0;34m.\u001b[0m\u001b[0mset_meta\u001b[0m\u001b[0;34m(\u001b[0m\u001b[0mdict_objs\u001b[0m\u001b[0;34m[\u001b[0m\u001b[0;36m0\u001b[0m\u001b[0;34m]\u001b[0m\u001b[0;34m,\u001b[0m\u001b[0mas_copy\u001b[0m\u001b[0;34m=\u001b[0m\u001b[0;32mTrue\u001b[0m\u001b[0;34m)\u001b[0m\u001b[0;34m\u001b[0m\u001b[0;34m\u001b[0m\u001b[0m\n",
            "\u001b[0;32m/usr/local/lib/python3.7/dist-packages/torch/_tensor.py\u001b[0m in \u001b[0;36m__torch_function__\u001b[0;34m(cls, func, types, args, kwargs)\u001b[0m\n\u001b[1;32m   1119\u001b[0m \u001b[0;34m\u001b[0m\u001b[0m\n\u001b[1;32m   1120\u001b[0m         \u001b[0;32mwith\u001b[0m \u001b[0m_C\u001b[0m\u001b[0;34m.\u001b[0m\u001b[0mDisableTorchFunction\u001b[0m\u001b[0;34m(\u001b[0m\u001b[0;34m)\u001b[0m\u001b[0;34m:\u001b[0m\u001b[0;34m\u001b[0m\u001b[0;34m\u001b[0m\u001b[0m\n\u001b[0;32m-> 1121\u001b[0;31m             \u001b[0mret\u001b[0m \u001b[0;34m=\u001b[0m \u001b[0mfunc\u001b[0m\u001b[0;34m(\u001b[0m\u001b[0;34m*\u001b[0m\u001b[0margs\u001b[0m\u001b[0;34m,\u001b[0m \u001b[0;34m**\u001b[0m\u001b[0mkwargs\u001b[0m\u001b[0;34m)\u001b[0m\u001b[0;34m\u001b[0m\u001b[0;34m\u001b[0m\u001b[0m\n\u001b[0m\u001b[1;32m   1122\u001b[0m             \u001b[0;32mif\u001b[0m \u001b[0mfunc\u001b[0m \u001b[0;32min\u001b[0m \u001b[0mget_default_nowrap_functions\u001b[0m\u001b[0;34m(\u001b[0m\u001b[0;34m)\u001b[0m\u001b[0;34m:\u001b[0m\u001b[0;34m\u001b[0m\u001b[0;34m\u001b[0m\u001b[0m\n\u001b[1;32m   1123\u001b[0m                 \u001b[0;32mreturn\u001b[0m \u001b[0mret\u001b[0m\u001b[0;34m\u001b[0m\u001b[0;34m\u001b[0m\u001b[0m\n",
            "\u001b[0;31mRuntimeError\u001b[0m: Boolean value of Tensor with more than one value is ambiguous"
          ]
        }
      ]
    },
    {
      "cell_type": "code",
      "source": [
        "TensorImage.register_func(torch.nn.functional.smooth_l1_loss, TensorImage, TensorBBox)\n",
        "TensorMultiCategory.register_func(TensorMultiCategory.mul, TensorMultiCategory, TensorImage)\n",
        "TensorImage.register_func(torch.nn.functional.binary_cross_entropy_with_logits, TensorImage, TensorMultiCategory)"
      ],
      "metadata": {
        "id": "YoqyoN-F4taW"
      },
      "execution_count": 122,
      "outputs": []
    },
    {
      "cell_type": "markdown",
      "source": [
        "# **Further Research 2**"
      ],
      "metadata": {
        "id": "P-o_Mf_RNcDB"
      }
    },
    {
      "cell_type": "code",
      "source": [
        "path = untar_data(URLs.MNIST)"
      ],
      "metadata": {
        "colab": {
          "base_uri": "https://localhost:8080/",
          "height": 37
        },
        "id": "BSHZUWihNaU9",
        "outputId": "fea60ad1-b79e-45a7-de5f-094cf8e1fa0f"
      },
      "execution_count": 123,
      "outputs": [
        {
          "output_type": "display_data",
          "data": {
            "text/plain": [
              "<IPython.core.display.HTML object>"
            ],
            "text/html": [
              "\n",
              "<style>\n",
              "    /* Turns off some styling */\n",
              "    progress {\n",
              "        /* gets rid of default border in Firefox and Opera. */\n",
              "        border: none;\n",
              "        /* Needs to be in here for Safari polyfill so background images work as expected. */\n",
              "        background-size: auto;\n",
              "    }\n",
              "    progress:not([value]), progress:not([value])::-webkit-progress-bar {\n",
              "        background: repeating-linear-gradient(45deg, #7e7e7e, #7e7e7e 10px, #5c5c5c 10px, #5c5c5c 20px);\n",
              "    }\n",
              "    .progress-bar-interrupted, .progress-bar-interrupted::-webkit-progress-bar {\n",
              "        background: #F44336;\n",
              "    }\n",
              "</style>\n"
            ]
          },
          "metadata": {}
        },
        {
          "output_type": "display_data",
          "data": {
            "text/plain": [
              "<IPython.core.display.HTML object>"
            ],
            "text/html": [
              "\n",
              "    <div>\n",
              "      <progress value='15687680' class='' max='15683414' style='width:300px; height:20px; vertical-align: middle;'></progress>\n",
              "      100.03% [15687680/15683414 00:00&lt;00:00]\n",
              "    </div>\n",
              "    "
            ]
          },
          "metadata": {}
        }
      ]
    },
    {
      "cell_type": "code",
      "source": [
        "path.ls()"
      ],
      "metadata": {
        "colab": {
          "base_uri": "https://localhost:8080/"
        },
        "id": "pdsF355uNpW1",
        "outputId": "6798e859-388a-4f86-894e-8973c4e3eaf8"
      },
      "execution_count": 124,
      "outputs": [
        {
          "output_type": "execute_result",
          "data": {
            "text/plain": [
              "(#2) [Path('/root/.fastai/data/mnist_png/training'),Path('/root/.fastai/data/mnist_png/testing')]"
            ]
          },
          "metadata": {},
          "execution_count": 124
        }
      ]
    },
    {
      "cell_type": "code",
      "source": [
        "(path/'training').ls()"
      ],
      "metadata": {
        "colab": {
          "base_uri": "https://localhost:8080/"
        },
        "id": "mFNl4YGZNrI-",
        "outputId": "ef072456-6f56-437a-87ff-2c800c5f7486"
      },
      "execution_count": 125,
      "outputs": [
        {
          "output_type": "execute_result",
          "data": {
            "text/plain": [
              "(#10) [Path('/root/.fastai/data/mnist_png/training/1'),Path('/root/.fastai/data/mnist_png/training/8'),Path('/root/.fastai/data/mnist_png/training/3'),Path('/root/.fastai/data/mnist_png/training/4'),Path('/root/.fastai/data/mnist_png/training/9'),Path('/root/.fastai/data/mnist_png/training/5'),Path('/root/.fastai/data/mnist_png/training/0'),Path('/root/.fastai/data/mnist_png/training/7'),Path('/root/.fastai/data/mnist_png/training/6'),Path('/root/.fastai/data/mnist_png/training/2')]"
            ]
          },
          "metadata": {},
          "execution_count": 125
        }
      ]
    },
    {
      "cell_type": "code",
      "source": [
        "ones = (path/'training'/'1').ls().sorted()\n",
        "twos = (path/'training'/'2').ls().sorted()\n",
        "threes = (path/'training'/'3').ls().sorted()\n",
        "fours = (path/'training'/'4').ls().sorted()\n",
        "fives = (path/'training'/'5').ls().sorted()\n",
        "sixes = (path/'training'/'6').ls().sorted()\n",
        "sevens = (path/'training'/'7').ls().sorted()\n",
        "eights = (path/'training'/'8').ls().sorted()\n",
        "nines = (path/'training'/'9').ls().sorted()\n",
        "zeros = (path/'training'/'0').ls().sorted()\n",
        "ones"
      ],
      "metadata": {
        "colab": {
          "base_uri": "https://localhost:8080/"
        },
        "id": "UimdXPzJN2Ff",
        "outputId": "eb26bb74-9427-40b7-bea7-fb01a4e43d0f"
      },
      "execution_count": 140,
      "outputs": [
        {
          "output_type": "execute_result",
          "data": {
            "text/plain": [
              "(#6742) [Path('/root/.fastai/data/mnist_png/training/1/10006.png'),Path('/root/.fastai/data/mnist_png/training/1/10007.png'),Path('/root/.fastai/data/mnist_png/training/1/1002.png'),Path('/root/.fastai/data/mnist_png/training/1/10020.png'),Path('/root/.fastai/data/mnist_png/training/1/10027.png'),Path('/root/.fastai/data/mnist_png/training/1/1003.png'),Path('/root/.fastai/data/mnist_png/training/1/10040.png'),Path('/root/.fastai/data/mnist_png/training/1/10048.png'),Path('/root/.fastai/data/mnist_png/training/1/10058.png'),Path('/root/.fastai/data/mnist_png/training/1/10067.png')...]"
            ]
          },
          "metadata": {},
          "execution_count": 140
        }
      ]
    },
    {
      "cell_type": "code",
      "source": [
        "im1_path = ones[1]\n",
        "im1 = Image.open(im1_path)\n",
        "im1"
      ],
      "metadata": {
        "colab": {
          "base_uri": "https://localhost:8080/",
          "height": 45
        },
        "id": "a1TSWV84OaPg",
        "outputId": "42683c8f-4cf2-4909-8911-997c03ce9b4d"
      },
      "execution_count": 141,
      "outputs": [
        {
          "output_type": "execute_result",
          "data": {
            "text/plain": [
              "<PIL.PngImagePlugin.PngImageFile image mode=L size=28x28 at 0x7F20C4575550>"
            ],
            "image/png": "[encoded data removed]"
          },
          "metadata": {},
          "execution_count": 141
        }
      ]
    },
    {
      "cell_type": "code",
      "source": [
        "one_tensors = [tensor(Image.open(o)) for o in ones]\n",
        "two_tensors = [tensor(Image.open(o)) for o in twos]\n",
        "three_tensors = [tensor(Image.open(o)) for o in threes]\n",
        "four_tensors = [tensor(Image.open(o)) for o in fours]\n",
        "five_tensors = [tensor(Image.open(o)) for o in fives]\n",
        "six_tensors = [tensor(Image.open(o)) for o in sixes]\n",
        "seven_tensors = [tensor(Image.open(o)) for o in sevens]\n",
        "eights_tensors = [tensor(Image.open(o)) for o in eights]\n",
        "nine_tensors = [tensor(Image.open(o)) for o in nines]\n",
        "zero_tensors = [tensor(Image.open(o)) for o in zeros]\n",
        "len(three_tensors), len(nine_tensors)"
      ],
      "metadata": {
        "colab": {
          "base_uri": "https://localhost:8080/"
        },
        "id": "3TcfkGwoPCSK",
        "outputId": "fc88e64d-517e-46e4-ef80-6722abfdd30c"
      },
      "execution_count": 142,
      "outputs": [
        {
          "output_type": "execute_result",
          "data": {
            "text/plain": [
              "(6131, 5949)"
            ]
          },
          "metadata": {},
          "execution_count": 142
        }
      ]
    },
    {
      "cell_type": "code",
      "source": [
        "show_image(zero_tensors[1]);\n",
        "print(zero_tensors[1].shape)"
      ],
      "metadata": {
        "colab": {
          "base_uri": "https://localhost:8080/",
          "height": 103
        },
        "id": "MLqkX9CvR3nU",
        "outputId": "eb1d5ed8-61c2-499a-cfe8-6c00a13c86d8"
      },
      "execution_count": 148,
      "outputs": [
        {
          "output_type": "stream",
          "name": "stdout",
          "text": [
            "torch.Size([28, 28])\n"
          ]
        },
        {
          "output_type": "display_data",
          "data": {
            "text/plain": [
              "<Figure size 72x72 with 1 Axes>"
            ],
            "image/png": "[encoded data removed]"
          },
          "metadata": {
            "needs_background": "light"
          }
        }
      ]
    },
    {
      "cell_type": "code",
      "source": [
        "stacked_ones = torch.stack(one_tensors).float()/255\n",
        "stacked_twos = torch.stack(two_tensors).float()/255\n",
        "stacked_threes = torch.stack(three_tensors).float()/255\n",
        "stacked_fours = torch.stack(four_tensors).float()/255\n",
        "stacked_fives = torch.stack(five_tensors).float()/255\n",
        "stacked_sixes = torch.stack(six_tensors).float()/255\n",
        "stacked_sevens = torch.stack(seven_tensors).float()/255\n",
        "stacked_eights = torch.stack(eights_tensors).float()/255\n",
        "stacked_nines = torch.stack(nine_tensors).float()/255\n",
        "stacked_zeros = torch.stack(zero_tensors).float()/255\n",
        "stacked_zeros.shape"
      ],
      "metadata": {
        "colab": {
          "base_uri": "https://localhost:8080/"
        },
        "id": "Bm4Ry8E3SPrc",
        "outputId": "92531538-be0b-4e52-97af-cd5f3c38df27"
      },
      "execution_count": 150,
      "outputs": [
        {
          "output_type": "execute_result",
          "data": {
            "text/plain": [
              "torch.Size([5923, 28, 28])"
            ]
          },
          "metadata": {},
          "execution_count": 150
        }
      ]
    },
    {
      "cell_type": "code",
      "source": [
        "test_1_tens = torch.stack([tensor(Image.open(o)) for o in (path/'testing'/'1').ls()])\n",
        "valid_1_tens = test_1_tens.float()/255\n",
        "test_2_tens = torch.stack([tensor(Image.open(o)) for o in (path/'testing'/'2').ls()])\n",
        "valid_2_tens = test_2_tens.float()/255\n",
        "test_3_tens = torch.stack([tensor(Image.open(o)) for o in (path/'testing'/'3').ls()])\n",
        "valid_3_tens = test_3_tens.float()/255\n",
        "test_4_tens = torch.stack([tensor(Image.open(o)) for o in (path/'testing'/'4').ls()])\n",
        "valid_4_tens = test_4_tens.float()/255\n",
        "test_5_tens = torch.stack([tensor(Image.open(o)) for o in (path/'testing'/'5').ls()])\n",
        "valid_5_tens = test_5_tens.float()/255\n",
        "test_6_tens = torch.stack([tensor(Image.open(o)) for o in (path/'testing'/'6').ls()])\n",
        "valid_6_tens = test_6_tens.float()/255\n",
        "test_7_tens = torch.stack([tensor(Image.open(o)) for o in (path/'testing'/'7').ls()])\n",
        "valid_7_tens = test_7_tens.float()/255\n",
        "test_8_tens = torch.stack([tensor(Image.open(o)) for o in (path/'testing'/'8').ls()])\n",
        "valid_8_tens = test_8_tens.float()/255\n",
        "test_9_tens = torch.stack([tensor(Image.open(o)) for o in (path/'testing'/'9').ls()])\n",
        "valid_9_tens = test_9_tens.float()/255\n",
        "test_0_tens = torch.stack([tensor(Image.open(o)) for o in (path/'testing'/'0').ls()])\n",
        "valid_0_tens = test_0_tens.float()/255\n",
        "\n",
        "\n",
        "\n",
        "\n",
        "\n",
        "\n"
      ],
      "metadata": {
        "id": "4PJV8D82Ts3E"
      },
      "execution_count": 152,
      "outputs": []
    },
    {
      "cell_type": "code",
      "source": [
        "def mnist_distance(a, b):\n",
        "  return (a-b).abs().mean((-1, -2))"
      ],
      "metadata": {
        "id": "CQzJvZn6VfZg"
      },
      "execution_count": 153,
      "outputs": []
    },
    {
      "cell_type": "code",
      "source": [
        "train_x = torch.cat([stacked_ones, stacked_twos, stacked_threes, stacked_fours, stacked_fives, stacked_sixes, stacked_sevens, stacked_eights, stacked_nines, stacked_zeros]).view(-1, 28*28)"
      ],
      "metadata": {
        "id": "-clJtEMEWCIE"
      },
      "execution_count": 154,
      "outputs": []
    },
    {
      "cell_type": "code",
      "source": [
        "train_y = tensor([1]*len(ones) + [2]*len(twos) + [3]*len(threes) + [4]*len(fours) + [5]*len(fives) + [6]*len(sixes) + [7]*len(sevens) + [8]*len(eights) + [9]*len(nines) + [0]*len(zeros)).unsqueeze(1)\n",
        "train_x.shape, train_y.shape"
      ],
      "metadata": {
        "colab": {
          "base_uri": "https://localhost:8080/"
        },
        "id": "kCwBg9c-XP1U",
        "outputId": "6b987449-ea39-4be8-899e-91907cccfdfe"
      },
      "execution_count": 155,
      "outputs": [
        {
          "output_type": "execute_result",
          "data": {
            "text/plain": [
              "(torch.Size([60000, 784]), torch.Size([60000, 1]))"
            ]
          },
          "metadata": {},
          "execution_count": 155
        }
      ]
    },
    {
      "cell_type": "code",
      "source": [
        "dset = list(zip(train_x, train_y))\n",
        "x, y = dset[0]\n",
        "x.shape, y"
      ],
      "metadata": {
        "colab": {
          "base_uri": "https://localhost:8080/"
        },
        "id": "agKZazqQXzTX",
        "outputId": "8166c591-c702-48d3-f802-da554799ec2c"
      },
      "execution_count": 156,
      "outputs": [
        {
          "output_type": "execute_result",
          "data": {
            "text/plain": [
              "(torch.Size([784]), tensor([1]))"
            ]
          },
          "metadata": {},
          "execution_count": 156
        }
      ]
    },
    {
      "cell_type": "code",
      "source": [
        "valid_x = torch.cat([valid_1_tens, valid_2_tens, valid_3_tens, valid_4_tens, valid_5_tens, valid_6_tens, valid_7_tens, valid_8_tens, valid_9_tens, valid_0_tens]).view(-1, 28*28)\n",
        "valid_y = tensor([1]*len(valid_1_tens) + [2]*len(valid_2_tens) + [3]*len(valid_3_tens) + [4]*len(valid_4_tens) + [5]*len(valid_5_tens) + [6]*len(valid_6_tens) + [7]*len(valid_7_tens) + [8]*len(valid_8_tens) + [9]*len(valid_9_tens) + [0]*len(valid_0_tens)).unsqueeze(1)\n",
        "valid_dset = list(zip(valid_x, valid_y))\n"
      ],
      "metadata": {
        "id": "FbcUvQyKX-ef"
      },
      "execution_count": 158,
      "outputs": []
    },
    {
      "cell_type": "code",
      "source": [
        "def init_params(size, std=1.0): return (torch.randn(size)*std).requires_grad_()\n",
        "\n",
        "weights = init_params((28*28, 1))"
      ],
      "metadata": {
        "id": "hysOuZmwbtLZ"
      },
      "execution_count": 159,
      "outputs": []
    },
    {
      "cell_type": "code",
      "source": [
        "bias = init_params(1)"
      ],
      "metadata": {
        "id": "xM6hkcFpcHta"
      },
      "execution_count": 160,
      "outputs": []
    },
    {
      "cell_type": "code",
      "source": [
        "(train_x[0]*weights.T).sum() + bias"
      ],
      "metadata": {
        "colab": {
          "base_uri": "https://localhost:8080/"
        },
        "id": "LHIZfSw_cMYB",
        "outputId": "f855bd64-0125-418d-ffba-25b12bfead05"
      },
      "execution_count": 161,
      "outputs": [
        {
          "output_type": "execute_result",
          "data": {
            "text/plain": [
              "tensor([-1.0509], grad_fn=<AddBackward0>)"
            ]
          },
          "metadata": {},
          "execution_count": 161
        }
      ]
    },
    {
      "cell_type": "code",
      "source": [
        "def linear1(xb): return xb@weights + bias\n",
        "\n",
        "preds = linear1(train_x)\n",
        "preds"
      ],
      "metadata": {
        "colab": {
          "base_uri": "https://localhost:8080/"
        },
        "id": "EpGh21zUcn_k",
        "outputId": "69067b4b-53d5-49b5-a4ab-8c3f374dddf7"
      },
      "execution_count": 162,
      "outputs": [
        {
          "output_type": "execute_result",
          "data": {
            "text/plain": [
              "tensor([[ -1.0509],\n",
              "        [-10.6975],\n",
              "        [  6.4778],\n",
              "        ...,\n",
              "        [-25.5123],\n",
              "        [ -6.5831],\n",
              "        [ -3.0984]], grad_fn=<AddBackward0>)"
            ]
          },
          "metadata": {},
          "execution_count": 162
        }
      ]
    },
    {
      "cell_type": "code",
      "source": [
        "def mnist_loss(predictions, targets):\n",
        "  return tensor(targets-predictions).mean()"
      ],
      "metadata": {
        "id": "mV1VCkSPdDY2"
      },
      "execution_count": 170,
      "outputs": []
    },
    {
      "cell_type": "code",
      "source": [
        "weights = init_params((28*28, 1))\n",
        "bias = init_params(1)"
      ],
      "metadata": {
        "id": "DUXFHXgVeQ2d"
      },
      "execution_count": 164,
      "outputs": []
    },
    {
      "cell_type": "code",
      "source": [
        "dl = DataLoader(dset, batch_size=256)\n",
        "xb, yb = first(dl)\n",
        "xb.shape, yb.shape"
      ],
      "metadata": {
        "colab": {
          "base_uri": "https://localhost:8080/"
        },
        "id": "rtj6Frq1eznX",
        "outputId": "970a12a2-219e-4052-f561-ba74012e941a"
      },
      "execution_count": 165,
      "outputs": [
        {
          "output_type": "execute_result",
          "data": {
            "text/plain": [
              "(torch.Size([256, 784]), torch.Size([256, 1]))"
            ]
          },
          "metadata": {},
          "execution_count": 165
        }
      ]
    },
    {
      "cell_type": "code",
      "source": [
        "valid_dl = DataLoader(valid_dset, batch_size=256)"
      ],
      "metadata": {
        "id": "APnMSSfkfB2I"
      },
      "execution_count": 166,
      "outputs": []
    },
    {
      "cell_type": "code",
      "source": [
        "batch = train_x[:4]\n",
        "batch.shape"
      ],
      "metadata": {
        "colab": {
          "base_uri": "https://localhost:8080/"
        },
        "id": "XltgvFPgfKFC",
        "outputId": "792a4717-2a8f-418d-f959-0bd942f0d77d"
      },
      "execution_count": 167,
      "outputs": [
        {
          "output_type": "execute_result",
          "data": {
            "text/plain": [
              "torch.Size([4, 784])"
            ]
          },
          "metadata": {},
          "execution_count": 167
        }
      ]
    },
    {
      "cell_type": "code",
      "source": [
        "preds = linear1(batch)\n",
        "preds"
      ],
      "metadata": {
        "colab": {
          "base_uri": "https://localhost:8080/"
        },
        "id": "dQSXh4XCfRlq",
        "outputId": "e2bff60a-3d73-49a3-ca91-91b525e45abd"
      },
      "execution_count": 168,
      "outputs": [
        {
          "output_type": "execute_result",
          "data": {
            "text/plain": [
              "tensor([[ 0.7173],\n",
              "        [-7.8474],\n",
              "        [-1.3248],\n",
              "        [-1.8167]], grad_fn=<AddBackward0>)"
            ]
          },
          "metadata": {},
          "execution_count": 168
        }
      ]
    },
    {
      "cell_type": "code",
      "source": [
        "loss = mnist_loss(preds, train_y[:4])\n",
        "loss"
      ],
      "metadata": {
        "colab": {
          "base_uri": "https://localhost:8080/"
        },
        "id": "d_Kko4xVfVsi",
        "outputId": "4855385c-8641-4002-aa96-66ab6a982409"
      },
      "execution_count": 171,
      "outputs": [
        {
          "output_type": "execute_result",
          "data": {
            "text/plain": [
              "tensor(3.5679, grad_fn=<MeanBackward0>)"
            ]
          },
          "metadata": {},
          "execution_count": 171
        }
      ]
    },
    {
      "cell_type": "code",
      "source": [
        "loss.backward()\n",
        "weights.grad.shape, weights.grad.mean(), bias.grad"
      ],
      "metadata": {
        "colab": {
          "base_uri": "https://localhost:8080/"
        },
        "id": "CC6XuxfGfeqL",
        "outputId": "edc0e799-2ab8-49f3-bebf-87703a09d809"
      },
      "execution_count": 172,
      "outputs": [
        {
          "output_type": "execute_result",
          "data": {
            "text/plain": [
              "(torch.Size([784, 1]), tensor(-0.0562), tensor([-1.]))"
            ]
          },
          "metadata": {},
          "execution_count": 172
        }
      ]
    },
    {
      "cell_type": "code",
      "source": [
        "def calc_grad(xb, yb, model):\n",
        "  preds = model(xb)\n",
        "  loss = mnist_loss(preds, yb)\n",
        "  loss.backward()\n",
        "  "
      ],
      "metadata": {
        "id": "gJ9SgsQwgOKv"
      },
      "execution_count": 173,
      "outputs": []
    },
    {
      "cell_type": "code",
      "source": [
        "weights.grad.zero_()\n",
        "bias.grad.zero_()"
      ],
      "metadata": {
        "colab": {
          "base_uri": "https://localhost:8080/"
        },
        "id": "v4ICNosjhMYQ",
        "outputId": "82f6e79b-b136-485c-d5a9-e8193d1a5e2f"
      },
      "execution_count": 175,
      "outputs": [
        {
          "output_type": "execute_result",
          "data": {
            "text/plain": [
              "tensor([0.])"
            ]
          },
          "metadata": {},
          "execution_count": 175
        }
      ]
    },
    {
      "cell_type": "code",
      "source": [
        "calc_grad(batch, train_y[:4], linear1)\n",
        "weights.grad.mean(), bias.grad"
      ],
      "metadata": {
        "colab": {
          "base_uri": "https://localhost:8080/"
        },
        "id": "0Xv8q2bMg9as",
        "outputId": "cfee1c8e-3214-4e1e-da8e-f7d774815b42"
      },
      "execution_count": 176,
      "outputs": [
        {
          "output_type": "execute_result",
          "data": {
            "text/plain": [
              "(tensor(-0.0562), tensor([-1.]))"
            ]
          },
          "metadata": {},
          "execution_count": 176
        }
      ]
    },
    {
      "cell_type": "code",
      "source": [
        "def train_epoch(model, lr, params):\n",
        "  for xb, yb in dl:\n",
        "    calc_grad(xb, yb, model)\n",
        "    for p in params:\n",
        "      p.data -= p.grad*lr\n",
        "      p.grad.zero_()"
      ],
      "metadata": {
        "id": "xfkGEhrWhH_k"
      },
      "execution_count": 177,
      "outputs": []
    },
    {
      "cell_type": "code",
      "source": [
        "def batch_accuracy(xb, yb):\n",
        "  corrects = (xb-yb).sigmoid()\n",
        "  return corrects.float().mean()"
      ],
      "metadata": {
        "id": "4rZ7HKhghzs5"
      },
      "execution_count": 200,
      "outputs": []
    },
    {
      "cell_type": "code",
      "source": [
        "batch_accuracy(linear1(batch), train_y[:4])"
      ],
      "metadata": {
        "colab": {
          "base_uri": "https://localhost:8080/"
        },
        "id": "8IITHEwLixME",
        "outputId": "21179af5-b120-4213-d085-533382ebdf67"
      },
      "execution_count": 201,
      "outputs": [
        {
          "output_type": "execute_result",
          "data": {
            "text/plain": [
              "tensor(1., grad_fn=<MeanBackward0>)"
            ]
          },
          "metadata": {},
          "execution_count": 201
        }
      ]
    },
    {
      "cell_type": "code",
      "source": [
        "def validate_epoch(model):\n",
        "  accs = [batch_accuracy(model(xb), yb) for xb, yb in valid_dl]\n",
        "  return round(torch.stack(accs).mean().item(), 4)\n",
        "\n",
        "validate_epoch(linear1)"
      ],
      "metadata": {
        "colab": {
          "base_uri": "https://localhost:8080/"
        },
        "id": "1cN7Ch7ei4D9",
        "outputId": "1e623b62-b72c-43f6-917b-b2699cfe2234"
      },
      "execution_count": 202,
      "outputs": [
        {
          "output_type": "execute_result",
          "data": {
            "text/plain": [
              "1.0"
            ]
          },
          "metadata": {},
          "execution_count": 202
        }
      ]
    },
    {
      "cell_type": "code",
      "source": [
        "lr = 1\n",
        "params = weights, bias\n",
        "train_epoch(linear1, lr, params)\n",
        "validate_epoch(linear1)"
      ],
      "metadata": {
        "colab": {
          "base_uri": "https://localhost:8080/"
        },
        "id": "S2QpLaEqmxfZ",
        "outputId": "40e34472-7454-4466-942a-b92e11bd4485"
      },
      "execution_count": 203,
      "outputs": [
        {
          "output_type": "execute_result",
          "data": {
            "text/plain": [
              "1.0"
            ]
          },
          "metadata": {},
          "execution_count": 203
        }
      ]
    },
    {
      "cell_type": "code",
      "source": [
        "for i in range(20):\n",
        "  train_epoch(linear1, lr, params)\n",
        "  print(validate_epoch(linear1), end=' ')"
      ],
      "metadata": {
        "colab": {
          "base_uri": "https://localhost:8080/"
        },
        "id": "v_T8_HvPnBPj",
        "outputId": "92be0b8d-94fa-467f-85a6-f3d4954149a4"
      },
      "execution_count": 204,
      "outputs": [
        {
          "output_type": "stream",
          "name": "stdout",
          "text": [
            "1.0 1.0 1.0 1.0 1.0 1.0 1.0 1.0 1.0 1.0 1.0 1.0 1.0 1.0 1.0 1.0 1.0 1.0 1.0 1.0 "
          ]
        }
      ]
    },
    {
      "cell_type": "code",
      "source": [
        "# dls = ImageDataLoaders.from_folder(path)\n",
        "learn = cnn_learner(dls, resnet18, pretrained=False, loss_func=F.cross_entropy, metrics=accuracy)\n",
        "learn.fit_one_cycle(5, 0.1)"
      ],
      "metadata": {
        "colab": {
          "base_uri": "https://localhost:8080/",
          "height": 335
        },
        "id": "SdM8gj_fnOPs",
        "outputId": "5d6f2349-2737-402e-cce5-21ba0d9446ad"
      },
      "execution_count": 207,
      "outputs": [
        {
          "output_type": "stream",
          "name": "stderr",
          "text": [
            "/usr/local/lib/python3.7/dist-packages/fastai/vision/learner.py:287: UserWarning: `cnn_learner` has been renamed to `vision_learner` -- please update your code\n",
            "  warn(\"`cnn_learner` has been renamed to `vision_learner` -- please update your code\")\n",
            "/usr/local/lib/python3.7/dist-packages/torchvision/models/_utils.py:136: UserWarning: Using 'weights' as positional parameter(s) is deprecated since 0.13 and will be removed in 0.15. Please use keyword parameter(s) instead.\n",
            "  f\"Using {sequence_to_str(tuple(keyword_only_kwargs.keys()), separate_last='and ')} as positional \"\n",
            "/usr/local/lib/python3.7/dist-packages/torchvision/models/_utils.py:223: UserWarning: Arguments other than a weight enum or `None` for 'weights' are deprecated since 0.13 and will be removed in 0.15. The current behavior is equivalent to passing `weights=None`.\n",
            "  warnings.warn(msg)\n"
          ]
        },
        {
          "output_type": "display_data",
          "data": {
            "text/plain": [
              "<IPython.core.display.HTML object>"
            ],
            "text/html": [
              "\n",
              "<style>\n",
              "    /* Turns off some styling */\n",
              "    progress {\n",
              "        /* gets rid of default border in Firefox and Opera. */\n",
              "        border: none;\n",
              "        /* Needs to be in here for Safari polyfill so background images work as expected. */\n",
              "        background-size: auto;\n",
              "    }\n",
              "    progress:not([value]), progress:not([value])::-webkit-progress-bar {\n",
              "        background: repeating-linear-gradient(45deg, #7e7e7e, #7e7e7e 10px, #5c5c5c 10px, #5c5c5c 20px);\n",
              "    }\n",
              "    .progress-bar-interrupted, .progress-bar-interrupted::-webkit-progress-bar {\n",
              "        background: #F44336;\n",
              "    }\n",
              "</style>\n"
            ]
          },
          "metadata": {}
        },
        {
          "output_type": "display_data",
          "data": {
            "text/plain": [
              "<IPython.core.display.HTML object>"
            ],
            "text/html": [
              "<table border=\"1\" class=\"dataframe\">\n",
              "  <thead>\n",
              "    <tr style=\"text-align: left;\">\n",
              "      <th>epoch</th>\n",
              "      <th>train_loss</th>\n",
              "      <th>valid_loss</th>\n",
              "      <th>accuracy</th>\n",
              "      <th>time</th>\n",
              "    </tr>\n",
              "  </thead>\n",
              "  <tbody>\n",
              "    <tr>\n",
              "      <td>0</td>\n",
              "      <td>0.314388</td>\n",
              "      <td>0.509965</td>\n",
              "      <td>0.975466</td>\n",
              "      <td>00:17</td>\n",
              "    </tr>\n",
              "    <tr>\n",
              "      <td>1</td>\n",
              "      <td>0.333926</td>\n",
              "      <td>0.058148</td>\n",
              "      <td>0.994112</td>\n",
              "      <td>00:16</td>\n",
              "    </tr>\n",
              "    <tr>\n",
              "      <td>2</td>\n",
              "      <td>0.037962</td>\n",
              "      <td>0.005441</td>\n",
              "      <td>0.998037</td>\n",
              "      <td>00:16</td>\n",
              "    </tr>\n",
              "    <tr>\n",
              "      <td>3</td>\n",
              "      <td>0.011924</td>\n",
              "      <td>0.003390</td>\n",
              "      <td>0.998528</td>\n",
              "      <td>00:16</td>\n",
              "    </tr>\n",
              "    <tr>\n",
              "      <td>4</td>\n",
              "      <td>0.006146</td>\n",
              "      <td>0.005249</td>\n",
              "      <td>0.999019</td>\n",
              "      <td>00:16</td>\n",
              "    </tr>\n",
              "  </tbody>\n",
              "</table>"
            ]
          },
          "metadata": {}
        }
      ]
    },
    {
      "cell_type": "code",
      "source": [
        "simple_net = nn.Sequential(\n",
        "    nn.Linear(28*28, 30),\n",
        "    nn.ReLU(),\n",
        "    nn.Linear(30, 1)\n",
        ")"
      ],
      "metadata": {
        "id": "ngdRDVdms3Et"
      },
      "execution_count": 210,
      "outputs": []
    },
    {
      "cell_type": "code",
      "source": [
        ""
      ],
      "metadata": {
        "id": "6BVBV-oBuUIT"
      },
      "execution_count": 214,
      "outputs": []
    },
    {
      "cell_type": "code",
      "source": [
        ""
      ],
      "metadata": {
        "id": "womg0eZsvI4y"
      },
      "execution_count": null,
      "outputs": []
    }
  ]
}