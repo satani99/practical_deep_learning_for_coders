{
  "nbformat": 4,
  "nbformat_minor": 0,
  "metadata": {
    "colab": {
      "name": "neural_net.ipynb",
      "provenance": [],
      "authorship_tag": "ABX9TyODEs8eLqZBWoxUh/RGu7wH",
      "include_colab_link": true
    },
    "kernelspec": {
      "name": "python3",
      "display_name": "Python 3"
    },
    "language_info": {
      "name": "python"
    },
    "accelerator": "GPU",
    "gpuClass": "standard",
    "widgets": {
      "application/vnd.jupyter.widget-state+json": {
        "aed2f990f10541c09b5361d2dac19a1d": {
          "model_module": "@jupyter-widgets/controls",
          "model_name": "VBoxModel",
          "model_module_version": "1.5.0",
          "state": {
            "_dom_classes": [
              "widget-interact"
            ],
            "_model_module": "@jupyter-widgets/controls",
            "_model_module_version": "1.5.0",
            "_model_name": "VBoxModel",
            "_view_count": null,
            "_view_module": "@jupyter-widgets/controls",
            "_view_module_version": "1.5.0",
            "_view_name": "VBoxView",
            "box_style": "",
            "children": [
              "IPY_MODEL_e90492d360c74fe59d85bf525dddf0a8",
              "IPY_MODEL_4275358198744dc7848f64a93a52ec3c",
              "IPY_MODEL_ef3051fa86eb494196a2e3508c300746",
              "IPY_MODEL_c0c6e2e6c36743e9a1802a32d89a9ebd"
            ],
            "layout": "IPY_MODEL_e0f4f2cac3da4c88b3d5b4c96b3bbe2a"
          }
        },
        "e90492d360c74fe59d85bf525dddf0a8": {
          "model_module": "@jupyter-widgets/controls",
          "model_name": "FloatSliderModel",
          "model_module_version": "1.5.0",
          "state": {
            "_dom_classes": [],
            "_model_module": "@jupyter-widgets/controls",
            "_model_module_version": "1.5.0",
            "_model_name": "FloatSliderModel",
            "_view_count": null,
            "_view_module": "@jupyter-widgets/controls",
            "_view_module_version": "1.5.0",
            "_view_name": "FloatSliderView",
            "continuous_update": true,
            "description": "a",
            "description_tooltip": null,
            "disabled": false,
            "layout": "IPY_MODEL_5da6a175fc9048fe9fd54f1b083804c7",
            "max": 3.3000000000000003,
            "min": -1.1,
            "orientation": "horizontal",
            "readout": true,
            "readout_format": ".2f",
            "step": 0.1,
            "style": "IPY_MODEL_09c23c756ba143c2a54f8766138d865a",
            "value": 2.7
          }
        },
        "4275358198744dc7848f64a93a52ec3c": {
          "model_module": "@jupyter-widgets/controls",
          "model_name": "FloatSliderModel",
          "model_module_version": "1.5.0",
          "state": {
            "_dom_classes": [],
            "_model_module": "@jupyter-widgets/controls",
            "_model_module_version": "1.5.0",
            "_model_name": "FloatSliderModel",
            "_view_count": null,
            "_view_module": "@jupyter-widgets/controls",
            "_view_module_version": "1.5.0",
            "_view_name": "FloatSliderView",
            "continuous_update": true,
            "description": "b",
            "description_tooltip": null,
            "disabled": false,
            "layout": "IPY_MODEL_5d966bafe1804f94bb9811a010f23cef",
            "max": 3.3000000000000003,
            "min": -1.1,
            "orientation": "horizontal",
            "readout": true,
            "readout_format": ".2f",
            "step": 0.1,
            "style": "IPY_MODEL_e97d266c37754ad58ba194feff56917d",
            "value": 1.8
          }
        },
        "ef3051fa86eb494196a2e3508c300746": {
          "model_module": "@jupyter-widgets/controls",
          "model_name": "FloatSliderModel",
          "model_module_version": "1.5.0",
          "state": {
            "_dom_classes": [],
            "_model_module": "@jupyter-widgets/controls",
            "_model_module_version": "1.5.0",
            "_model_name": "FloatSliderModel",
            "_view_count": null,
            "_view_module": "@jupyter-widgets/controls",
            "_view_module_version": "1.5.0",
            "_view_name": "FloatSliderView",
            "continuous_update": true,
            "description": "c",
            "description_tooltip": null,
            "disabled": false,
            "layout": "IPY_MODEL_c098fbe5aac34a5aadf6ff9482be24ab",
            "max": 3.3000000000000003,
            "min": -1.1,
            "orientation": "horizontal",
            "readout": true,
            "readout_format": ".2f",
            "step": 0.1,
            "style": "IPY_MODEL_15ffca7a60144bb3a98ab31049fef212",
            "value": 1.3
          }
        },
        "c0c6e2e6c36743e9a1802a32d89a9ebd": {
          "model_module": "@jupyter-widgets/output",
          "model_name": "OutputModel",
          "model_module_version": "1.0.0",
          "state": {
            "_dom_classes": [],
            "_model_module": "@jupyter-widgets/output",
            "_model_module_version": "1.0.0",
            "_model_name": "OutputModel",
            "_view_count": null,
            "_view_module": "@jupyter-widgets/output",
            "_view_module_version": "1.0.0",
            "_view_name": "OutputView",
            "layout": "IPY_MODEL_6e4ec0bf79f64dbb9bbad560518abfae",
            "msg_id": "",
            "outputs": [
              {
                "output_type": "display_data",
                "data": {
                  "text/plain": "<Figure size 432x288 with 1 Axes>",
                  "image/png": "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\n"
                },
                "metadata": {
                  "needs_background": "light"
                }
              }
            ]
          }
        },
        "e0f4f2cac3da4c88b3d5b4c96b3bbe2a": {
          "model_module": "@jupyter-widgets/base",
          "model_name": "LayoutModel",
          "model_module_version": "1.2.0",
          "state": {
            "_model_module": "@jupyter-widgets/base",
            "_model_module_version": "1.2.0",
            "_model_name": "LayoutModel",
            "_view_count": null,
            "_view_module": "@jupyter-widgets/base",
            "_view_module_version": "1.2.0",
            "_view_name": "LayoutView",
            "align_content": null,
            "align_items": null,
            "align_self": null,
            "border": null,
            "bottom": null,
            "display": null,
            "flex": null,
            "flex_flow": null,
            "grid_area": null,
            "grid_auto_columns": null,
            "grid_auto_flow": null,
            "grid_auto_rows": null,
            "grid_column": null,
            "grid_gap": null,
            "grid_row": null,
            "grid_template_areas": null,
            "grid_template_columns": null,
            "grid_template_rows": null,
            "height": null,
            "justify_content": null,
            "justify_items": null,
            "left": null,
            "margin": null,
            "max_height": null,
            "max_width": null,
            "min_height": null,
            "min_width": null,
            "object_fit": null,
            "object_position": null,
            "order": null,
            "overflow": null,
            "overflow_x": null,
            "overflow_y": null,
            "padding": null,
            "right": null,
            "top": null,
            "visibility": null,
            "width": null
          }
        },
        "5da6a175fc9048fe9fd54f1b083804c7": {
          "model_module": "@jupyter-widgets/base",
          "model_name": "LayoutModel",
          "model_module_version": "1.2.0",
          "state": {
            "_model_module": "@jupyter-widgets/base",
            "_model_module_version": "1.2.0",
            "_model_name": "LayoutModel",
            "_view_count": null,
            "_view_module": "@jupyter-widgets/base",
            "_view_module_version": "1.2.0",
            "_view_name": "LayoutView",
            "align_content": null,
            "align_items": null,
            "align_self": null,
            "border": null,
            "bottom": null,
            "display": null,
            "flex": null,
            "flex_flow": null,
            "grid_area": null,
            "grid_auto_columns": null,
            "grid_auto_flow": null,
            "grid_auto_rows": null,
            "grid_column": null,
            "grid_gap": null,
            "grid_row": null,
            "grid_template_areas": null,
            "grid_template_columns": null,
            "grid_template_rows": null,
            "height": null,
            "justify_content": null,
            "justify_items": null,
            "left": null,
            "margin": null,
            "max_height": null,
            "max_width": null,
            "min_height": null,
            "min_width": null,
            "object_fit": null,
            "object_position": null,
            "order": null,
            "overflow": null,
            "overflow_x": null,
            "overflow_y": null,
            "padding": null,
            "right": null,
            "top": null,
            "visibility": null,
            "width": null
          }
        },
        "09c23c756ba143c2a54f8766138d865a": {
          "model_module": "@jupyter-widgets/controls",
          "model_name": "SliderStyleModel",
          "model_module_version": "1.5.0",
          "state": {
            "_model_module": "@jupyter-widgets/controls",
            "_model_module_version": "1.5.0",
            "_model_name": "SliderStyleModel",
            "_view_count": null,
            "_view_module": "@jupyter-widgets/base",
            "_view_module_version": "1.2.0",
            "_view_name": "StyleView",
            "description_width": "",
            "handle_color": null
          }
        },
        "5d966bafe1804f94bb9811a010f23cef": {
          "model_module": "@jupyter-widgets/base",
          "model_name": "LayoutModel",
          "model_module_version": "1.2.0",
          "state": {
            "_model_module": "@jupyter-widgets/base",
            "_model_module_version": "1.2.0",
            "_model_name": "LayoutModel",
            "_view_count": null,
            "_view_module": "@jupyter-widgets/base",
            "_view_module_version": "1.2.0",
            "_view_name": "LayoutView",
            "align_content": null,
            "align_items": null,
            "align_self": null,
            "border": null,
            "bottom": null,
            "display": null,
            "flex": null,
            "flex_flow": null,
            "grid_area": null,
            "grid_auto_columns": null,
            "grid_auto_flow": null,
            "grid_auto_rows": null,
            "grid_column": null,
            "grid_gap": null,
            "grid_row": null,
            "grid_template_areas": null,
            "grid_template_columns": null,
            "grid_template_rows": null,
            "height": null,
            "justify_content": null,
            "justify_items": null,
            "left": null,
            "margin": null,
            "max_height": null,
            "max_width": null,
            "min_height": null,
            "min_width": null,
            "object_fit": null,
            "object_position": null,
            "order": null,
            "overflow": null,
            "overflow_x": null,
            "overflow_y": null,
            "padding": null,
            "right": null,
            "top": null,
            "visibility": null,
            "width": null
          }
        },
        "e97d266c37754ad58ba194feff56917d": {
          "model_module": "@jupyter-widgets/controls",
          "model_name": "SliderStyleModel",
          "model_module_version": "1.5.0",
          "state": {
            "_model_module": "@jupyter-widgets/controls",
            "_model_module_version": "1.5.0",
            "_model_name": "SliderStyleModel",
            "_view_count": null,
            "_view_module": "@jupyter-widgets/base",
            "_view_module_version": "1.2.0",
            "_view_name": "StyleView",
            "description_width": "",
            "handle_color": null
          }
        },
        "c098fbe5aac34a5aadf6ff9482be24ab": {
          "model_module": "@jupyter-widgets/base",
          "model_name": "LayoutModel",
          "model_module_version": "1.2.0",
          "state": {
            "_model_module": "@jupyter-widgets/base",
            "_model_module_version": "1.2.0",
            "_model_name": "LayoutModel",
            "_view_count": null,
            "_view_module": "@jupyter-widgets/base",
            "_view_module_version": "1.2.0",
            "_view_name": "LayoutView",
            "align_content": null,
            "align_items": null,
            "align_self": null,
            "border": null,
            "bottom": null,
            "display": null,
            "flex": null,
            "flex_flow": null,
            "grid_area": null,
            "grid_auto_columns": null,
            "grid_auto_flow": null,
            "grid_auto_rows": null,
            "grid_column": null,
            "grid_gap": null,
            "grid_row": null,
            "grid_template_areas": null,
            "grid_template_columns": null,
            "grid_template_rows": null,
            "height": null,
            "justify_content": null,
            "justify_items": null,
            "left": null,
            "margin": null,
            "max_height": null,
            "max_width": null,
            "min_height": null,
            "min_width": null,
            "object_fit": null,
            "object_position": null,
            "order": null,
            "overflow": null,
            "overflow_x": null,
            "overflow_y": null,
            "padding": null,
            "right": null,
            "top": null,
            "visibility": null,
            "width": null
          }
        },
        "15ffca7a60144bb3a98ab31049fef212": {
          "model_module": "@jupyter-widgets/controls",
          "model_name": "SliderStyleModel",
          "model_module_version": "1.5.0",
          "state": {
            "_model_module": "@jupyter-widgets/controls",
            "_model_module_version": "1.5.0",
            "_model_name": "SliderStyleModel",
            "_view_count": null,
            "_view_module": "@jupyter-widgets/base",
            "_view_module_version": "1.2.0",
            "_view_name": "StyleView",
            "description_width": "",
            "handle_color": null
          }
        },
        "6e4ec0bf79f64dbb9bbad560518abfae": {
          "model_module": "@jupyter-widgets/base",
          "model_name": "LayoutModel",
          "model_module_version": "1.2.0",
          "state": {
            "_model_module": "@jupyter-widgets/base",
            "_model_module_version": "1.2.0",
            "_model_name": "LayoutModel",
            "_view_count": null,
            "_view_module": "@jupyter-widgets/base",
            "_view_module_version": "1.2.0",
            "_view_name": "LayoutView",
            "align_content": null,
            "align_items": null,
            "align_self": null,
            "border": null,
            "bottom": null,
            "display": null,
            "flex": null,
            "flex_flow": null,
            "grid_area": null,
            "grid_auto_columns": null,
            "grid_auto_flow": null,
            "grid_auto_rows": null,
            "grid_column": null,
            "grid_gap": null,
            "grid_row": null,
            "grid_template_areas": null,
            "grid_template_columns": null,
            "grid_template_rows": null,
            "height": null,
            "justify_content": null,
            "justify_items": null,
            "left": null,
            "margin": null,
            "max_height": null,
            "max_width": null,
            "min_height": null,
            "min_width": null,
            "object_fit": null,
            "object_position": null,
            "order": null,
            "overflow": null,
            "overflow_x": null,
            "overflow_y": null,
            "padding": null,
            "right": null,
            "top": null,
            "visibility": null,
            "width": null
          }
        },
        "7b7474b5b6a54cf49cdc41368d91d429": {
          "model_module": "@jupyter-widgets/controls",
          "model_name": "VBoxModel",
          "model_module_version": "1.5.0",
          "state": {
            "_dom_classes": [
              "widget-interact"
            ],
            "_model_module": "@jupyter-widgets/controls",
            "_model_module_version": "1.5.0",
            "_model_name": "VBoxModel",
            "_view_count": null,
            "_view_module": "@jupyter-widgets/controls",
            "_view_module_version": "1.5.0",
            "_view_name": "VBoxView",
            "box_style": "",
            "children": [
              "IPY_MODEL_29c66ddd14dd4126a110826c7e5e9584",
              "IPY_MODEL_42c79788d6fa4c0cb508b563d481185c",
              "IPY_MODEL_b3d3ca68ae214fb28d2682d56711e157",
              "IPY_MODEL_3a734a0ac57c4b89a830c9ae5f5f0d84"
            ],
            "layout": "IPY_MODEL_39e737fbdae74142be83ea73b89fd63a"
          }
        },
        "29c66ddd14dd4126a110826c7e5e9584": {
          "model_module": "@jupyter-widgets/controls",
          "model_name": "FloatSliderModel",
          "model_module_version": "1.5.0",
          "state": {
            "_dom_classes": [],
            "_model_module": "@jupyter-widgets/controls",
            "_model_module_version": "1.5.0",
            "_model_name": "FloatSliderModel",
            "_view_count": null,
            "_view_module": "@jupyter-widgets/controls",
            "_view_module_version": "1.5.0",
            "_view_name": "FloatSliderView",
            "continuous_update": true,
            "description": "a",
            "description_tooltip": null,
            "disabled": false,
            "layout": "IPY_MODEL_c9544da052744ad6b1aaec25a6686c05",
            "max": 3.3000000000000003,
            "min": -1.1,
            "orientation": "horizontal",
            "readout": true,
            "readout_format": ".2f",
            "step": 0.1,
            "style": "IPY_MODEL_9f33aeeb1cf24c8e8e20bd5de358d07f",
            "value": 2
          }
        },
        "42c79788d6fa4c0cb508b563d481185c": {
          "model_module": "@jupyter-widgets/controls",
          "model_name": "FloatSliderModel",
          "model_module_version": "1.5.0",
          "state": {
            "_dom_classes": [],
            "_model_module": "@jupyter-widgets/controls",
            "_model_module_version": "1.5.0",
            "_model_name": "FloatSliderModel",
            "_view_count": null,
            "_view_module": "@jupyter-widgets/controls",
            "_view_module_version": "1.5.0",
            "_view_name": "FloatSliderView",
            "continuous_update": true,
            "description": "b",
            "description_tooltip": null,
            "disabled": false,
            "layout": "IPY_MODEL_3851959189764c0f881121132fbaaaf4",
            "max": 3.3000000000000003,
            "min": -1.1,
            "orientation": "horizontal",
            "readout": true,
            "readout_format": ".2f",
            "step": 0.1,
            "style": "IPY_MODEL_a8e1100a0d6b48239e24c3e35017419a",
            "value": 1.7
          }
        },
        "b3d3ca68ae214fb28d2682d56711e157": {
          "model_module": "@jupyter-widgets/controls",
          "model_name": "FloatSliderModel",
          "model_module_version": "1.5.0",
          "state": {
            "_dom_classes": [],
            "_model_module": "@jupyter-widgets/controls",
            "_model_module_version": "1.5.0",
            "_model_name": "FloatSliderModel",
            "_view_count": null,
            "_view_module": "@jupyter-widgets/controls",
            "_view_module_version": "1.5.0",
            "_view_name": "FloatSliderView",
            "continuous_update": true,
            "description": "c",
            "description_tooltip": null,
            "disabled": false,
            "layout": "IPY_MODEL_5600622e8ce14d44be7ea1356d0d6436",
            "max": 3.3000000000000003,
            "min": -1.1,
            "orientation": "horizontal",
            "readout": true,
            "readout_format": ".2f",
            "step": 0.1,
            "style": "IPY_MODEL_ab420f40773c4de4aae74daf1a58f515",
            "value": 1.4
          }
        },
        "3a734a0ac57c4b89a830c9ae5f5f0d84": {
          "model_module": "@jupyter-widgets/output",
          "model_name": "OutputModel",
          "model_module_version": "1.0.0",
          "state": {
            "_dom_classes": [],
            "_model_module": "@jupyter-widgets/output",
            "_model_module_version": "1.0.0",
            "_model_name": "OutputModel",
            "_view_count": null,
            "_view_module": "@jupyter-widgets/output",
            "_view_module_version": "1.0.0",
            "_view_name": "OutputView",
            "layout": "IPY_MODEL_9d8cc2795caf406f9a66a572e237bc11",
            "msg_id": "",
            "outputs": [
              {
                "output_type": "display_data",
                "data": {
                  "text/plain": "<Figure size 432x288 with 1 Axes>",
                  "image/png": "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\n"
                },
                "metadata": {
                  "needs_background": "light"
                }
              }
            ]
          }
        },
        "39e737fbdae74142be83ea73b89fd63a": {
          "model_module": "@jupyter-widgets/base",
          "model_name": "LayoutModel",
          "model_module_version": "1.2.0",
          "state": {
            "_model_module": "@jupyter-widgets/base",
            "_model_module_version": "1.2.0",
            "_model_name": "LayoutModel",
            "_view_count": null,
            "_view_module": "@jupyter-widgets/base",
            "_view_module_version": "1.2.0",
            "_view_name": "LayoutView",
            "align_content": null,
            "align_items": null,
            "align_self": null,
            "border": null,
            "bottom": null,
            "display": null,
            "flex": null,
            "flex_flow": null,
            "grid_area": null,
            "grid_auto_columns": null,
            "grid_auto_flow": null,
            "grid_auto_rows": null,
            "grid_column": null,
            "grid_gap": null,
            "grid_row": null,
            "grid_template_areas": null,
            "grid_template_columns": null,
            "grid_template_rows": null,
            "height": null,
            "justify_content": null,
            "justify_items": null,
            "left": null,
            "margin": null,
            "max_height": null,
            "max_width": null,
            "min_height": null,
            "min_width": null,
            "object_fit": null,
            "object_position": null,
            "order": null,
            "overflow": null,
            "overflow_x": null,
            "overflow_y": null,
            "padding": null,
            "right": null,
            "top": null,
            "visibility": null,
            "width": null
          }
        },
        "c9544da052744ad6b1aaec25a6686c05": {
          "model_module": "@jupyter-widgets/base",
          "model_name": "LayoutModel",
          "model_module_version": "1.2.0",
          "state": {
            "_model_module": "@jupyter-widgets/base",
            "_model_module_version": "1.2.0",
            "_model_name": "LayoutModel",
            "_view_count": null,
            "_view_module": "@jupyter-widgets/base",
            "_view_module_version": "1.2.0",
            "_view_name": "LayoutView",
            "align_content": null,
            "align_items": null,
            "align_self": null,
            "border": null,
            "bottom": null,
            "display": null,
            "flex": null,
            "flex_flow": null,
            "grid_area": null,
            "grid_auto_columns": null,
            "grid_auto_flow": null,
            "grid_auto_rows": null,
            "grid_column": null,
            "grid_gap": null,
            "grid_row": null,
            "grid_template_areas": null,
            "grid_template_columns": null,
            "grid_template_rows": null,
            "height": null,
            "justify_content": null,
            "justify_items": null,
            "left": null,
            "margin": null,
            "max_height": null,
            "max_width": null,
            "min_height": null,
            "min_width": null,
            "object_fit": null,
            "object_position": null,
            "order": null,
            "overflow": null,
            "overflow_x": null,
            "overflow_y": null,
            "padding": null,
            "right": null,
            "top": null,
            "visibility": null,
            "width": null
          }
        },
        "9f33aeeb1cf24c8e8e20bd5de358d07f": {
          "model_module": "@jupyter-widgets/controls",
          "model_name": "SliderStyleModel",
          "model_module_version": "1.5.0",
          "state": {
            "_model_module": "@jupyter-widgets/controls",
            "_model_module_version": "1.5.0",
            "_model_name": "SliderStyleModel",
            "_view_count": null,
            "_view_module": "@jupyter-widgets/base",
            "_view_module_version": "1.2.0",
            "_view_name": "StyleView",
            "description_width": "",
            "handle_color": null
          }
        },
        "3851959189764c0f881121132fbaaaf4": {
          "model_module": "@jupyter-widgets/base",
          "model_name": "LayoutModel",
          "model_module_version": "1.2.0",
          "state": {
            "_model_module": "@jupyter-widgets/base",
            "_model_module_version": "1.2.0",
            "_model_name": "LayoutModel",
            "_view_count": null,
            "_view_module": "@jupyter-widgets/base",
            "_view_module_version": "1.2.0",
            "_view_name": "LayoutView",
            "align_content": null,
            "align_items": null,
            "align_self": null,
            "border": null,
            "bottom": null,
            "display": null,
            "flex": null,
            "flex_flow": null,
            "grid_area": null,
            "grid_auto_columns": null,
            "grid_auto_flow": null,
            "grid_auto_rows": null,
            "grid_column": null,
            "grid_gap": null,
            "grid_row": null,
            "grid_template_areas": null,
            "grid_template_columns": null,
            "grid_template_rows": null,
            "height": null,
            "justify_content": null,
            "justify_items": null,
            "left": null,
            "margin": null,
            "max_height": null,
            "max_width": null,
            "min_height": null,
            "min_width": null,
            "object_fit": null,
            "object_position": null,
            "order": null,
            "overflow": null,
            "overflow_x": null,
            "overflow_y": null,
            "padding": null,
            "right": null,
            "top": null,
            "visibility": null,
            "width": null
          }
        },
        "a8e1100a0d6b48239e24c3e35017419a": {
          "model_module": "@jupyter-widgets/controls",
          "model_name": "SliderStyleModel",
          "model_module_version": "1.5.0",
          "state": {
            "_model_module": "@jupyter-widgets/controls",
            "_model_module_version": "1.5.0",
            "_model_name": "SliderStyleModel",
            "_view_count": null,
            "_view_module": "@jupyter-widgets/base",
            "_view_module_version": "1.2.0",
            "_view_name": "StyleView",
            "description_width": "",
            "handle_color": null
          }
        },
        "5600622e8ce14d44be7ea1356d0d6436": {
          "model_module": "@jupyter-widgets/base",
          "model_name": "LayoutModel",
          "model_module_version": "1.2.0",
          "state": {
            "_model_module": "@jupyter-widgets/base",
            "_model_module_version": "1.2.0",
            "_model_name": "LayoutModel",
            "_view_count": null,
            "_view_module": "@jupyter-widgets/base",
            "_view_module_version": "1.2.0",
            "_view_name": "LayoutView",
            "align_content": null,
            "align_items": null,
            "align_self": null,
            "border": null,
            "bottom": null,
            "display": null,
            "flex": null,
            "flex_flow": null,
            "grid_area": null,
            "grid_auto_columns": null,
            "grid_auto_flow": null,
            "grid_auto_rows": null,
            "grid_column": null,
            "grid_gap": null,
            "grid_row": null,
            "grid_template_areas": null,
            "grid_template_columns": null,
            "grid_template_rows": null,
            "height": null,
            "justify_content": null,
            "justify_items": null,
            "left": null,
            "margin": null,
            "max_height": null,
            "max_width": null,
            "min_height": null,
            "min_width": null,
            "object_fit": null,
            "object_position": null,
            "order": null,
            "overflow": null,
            "overflow_x": null,
            "overflow_y": null,
            "padding": null,
            "right": null,
            "top": null,
            "visibility": null,
            "width": null
          }
        },
        "ab420f40773c4de4aae74daf1a58f515": {
          "model_module": "@jupyter-widgets/controls",
          "model_name": "SliderStyleModel",
          "model_module_version": "1.5.0",
          "state": {
            "_model_module": "@jupyter-widgets/controls",
            "_model_module_version": "1.5.0",
            "_model_name": "SliderStyleModel",
            "_view_count": null,
            "_view_module": "@jupyter-widgets/base",
            "_view_module_version": "1.2.0",
            "_view_name": "StyleView",
            "description_width": "",
            "handle_color": null
          }
        },
        "9d8cc2795caf406f9a66a572e237bc11": {
          "model_module": "@jupyter-widgets/base",
          "model_name": "LayoutModel",
          "model_module_version": "1.2.0",
          "state": {
            "_model_module": "@jupyter-widgets/base",
            "_model_module_version": "1.2.0",
            "_model_name": "LayoutModel",
            "_view_count": null,
            "_view_module": "@jupyter-widgets/base",
            "_view_module_version": "1.2.0",
            "_view_name": "LayoutView",
            "align_content": null,
            "align_items": null,
            "align_self": null,
            "border": null,
            "bottom": null,
            "display": null,
            "flex": null,
            "flex_flow": null,
            "grid_area": null,
            "grid_auto_columns": null,
            "grid_auto_flow": null,
            "grid_auto_rows": null,
            "grid_column": null,
            "grid_gap": null,
            "grid_row": null,
            "grid_template_areas": null,
            "grid_template_columns": null,
            "grid_template_rows": null,
            "height": null,
            "justify_content": null,
            "justify_items": null,
            "left": null,
            "margin": null,
            "max_height": null,
            "max_width": null,
            "min_height": null,
            "min_width": null,
            "object_fit": null,
            "object_position": null,
            "order": null,
            "overflow": null,
            "overflow_x": null,
            "overflow_y": null,
            "padding": null,
            "right": null,
            "top": null,
            "visibility": null,
            "width": null
          }
        },
        "f4c0ae3b6186463e8254843f5cc2c771": {
          "model_module": "@jupyter-widgets/controls",
          "model_name": "VBoxModel",
          "model_module_version": "1.5.0",
          "state": {
            "_dom_classes": [
              "widget-interact"
            ],
            "_model_module": "@jupyter-widgets/controls",
            "_model_module_version": "1.5.0",
            "_model_name": "VBoxModel",
            "_view_count": null,
            "_view_module": "@jupyter-widgets/controls",
            "_view_module_version": "1.5.0",
            "_view_name": "VBoxView",
            "box_style": "",
            "children": [
              "IPY_MODEL_73c20e82bd3748869da5570c7a180394",
              "IPY_MODEL_0d7f8acd32544f08b0f7b5abde77f2be",
              "IPY_MODEL_0ebc8958214d42459af736430582b3d2"
            ],
            "layout": "IPY_MODEL_e4fa9e632ade48408dafcf6425e48bee"
          }
        },
        "73c20e82bd3748869da5570c7a180394": {
          "model_module": "@jupyter-widgets/controls",
          "model_name": "FloatSliderModel",
          "model_module_version": "1.5.0",
          "state": {
            "_dom_classes": [],
            "_model_module": "@jupyter-widgets/controls",
            "_model_module_version": "1.5.0",
            "_model_name": "FloatSliderModel",
            "_view_count": null,
            "_view_module": "@jupyter-widgets/controls",
            "_view_module_version": "1.5.0",
            "_view_name": "FloatSliderView",
            "continuous_update": true,
            "description": "m",
            "description_tooltip": null,
            "disabled": false,
            "layout": "IPY_MODEL_4e69d1f043774e27b81af2a41bf19ea0",
            "max": 4.5,
            "min": -1.5,
            "orientation": "horizontal",
            "readout": true,
            "readout_format": ".2f",
            "step": 0.1,
            "style": "IPY_MODEL_04ea4a804af54ce4b711dff1bc3c641f",
            "value": 3.6
          }
        },
        "0d7f8acd32544f08b0f7b5abde77f2be": {
          "model_module": "@jupyter-widgets/controls",
          "model_name": "FloatSliderModel",
          "model_module_version": "1.5.0",
          "state": {
            "_dom_classes": [],
            "_model_module": "@jupyter-widgets/controls",
            "_model_module_version": "1.5.0",
            "_model_name": "FloatSliderModel",
            "_view_count": null,
            "_view_module": "@jupyter-widgets/controls",
            "_view_module_version": "1.5.0",
            "_view_name": "FloatSliderView",
            "continuous_update": true,
            "description": "b",
            "description_tooltip": null,
            "disabled": false,
            "layout": "IPY_MODEL_85c3655c27914e1e92c6a161c6e2ab3b",
            "max": 4.5,
            "min": -1.5,
            "orientation": "horizontal",
            "readout": true,
            "readout_format": ".2f",
            "step": 0.1,
            "style": "IPY_MODEL_687a497351fc4dce8d48db7cc72b4140",
            "value": 3
          }
        },
        "0ebc8958214d42459af736430582b3d2": {
          "model_module": "@jupyter-widgets/output",
          "model_name": "OutputModel",
          "model_module_version": "1.0.0",
          "state": {
            "_dom_classes": [],
            "_model_module": "@jupyter-widgets/output",
            "_model_module_version": "1.0.0",
            "_model_name": "OutputModel",
            "_view_count": null,
            "_view_module": "@jupyter-widgets/output",
            "_view_module_version": "1.0.0",
            "_view_name": "OutputView",
            "layout": "IPY_MODEL_f94ff7d9be8145d0bf057e361212e6ca",
            "msg_id": "",
            "outputs": [
              {
                "output_type": "display_data",
                "data": {
                  "text/plain": "<Figure size 432x288 with 1 Axes>",
                  "image/png": "iVBORw0KGgoAAAANSUhEUgAAAXIAAAD8CAYAAABq6S8VAAAABHNCSVQICAgIfAhkiAAAAAlwSFlzAAALEgAACxIB0t1+/AAAADh0RVh0U29mdHdhcmUAbWF0cGxvdGxpYiB2ZXJzaW9uMy4yLjIsIGh0dHA6Ly9tYXRwbG90bGliLm9yZy+WH4yJAAAS+UlEQVR4nO3de7Cd0/3H8fdXgiBuJShxrVszVFXwa3VQqg1VtKqkLlVGSlySuPY3/eP3V/8450jiloiTiiDuv+jIoBotBlNUom5JMCmlQTnukh8isX5/PEdH01xOzn7OXvvZ+/2aycg52VnPZ/ac87HynLXWEyklJEnVtUbuAJKk2ljkklRxFrkkVZxFLkkVZ5FLUsVZ5JJUcaUVeUT0i4i/RsSdZY0pSVq1Mmfko4B5JY4nSeqBUoo8IgYDPwB+W8Z4kqSe61/SOJcAFwLrr+gFETECGAGw3nrr7bXrrruWdGmpQXV1wSuvwM47w/or/NaQemz27NlvpZQGLfv5mos8Ig4H3kwpzY6IA1f0upRSJ9AJMHTo0DRr1qxaLy01riVLigLfd1945BGIyJ1ITSAiXl7e58uYke8HHBERhwEDgA0iYlpK6YQSxpaqafp0eOklGDvWElefizIPzeqekZ+fUjp8Za9zRq6mlhLstRcsWgRz50K/frkTqUlExOyU0tBlP1/WPXJJn/vTn+Cvf4XJky1x1UWpRZ5SegB4oMwxpcppa4MttoATvLuo+nBnp1SmJ56AP/4RRo+GAQNyp1GLsMilMrW3F0sNTz89dxK1EItcKsuLL8JttxUlvuGGudOohVjkUlnGji1+uDl6dO4kajEWuVSGri6YMgVOPBG23DJ3GrUYi1wqw+WXw8cfwwUX5E6iFmSRS7VauBCuuAKOPBI8Q0gZWORSra6+Gt59Fy66KHcStSiLXKrFp5/CuHHw7W/DN7+ZO41alFv0pVrccktxVO2ECbmTqIU5I5d6K6ViA9CQIXDYYbnTqIU5I5d665574JlnYOpUWMM5kfLxq0/qrfZ2GDwYhg/PnUQtziKXeuMvf4EHHoAxY2CttXKnUYuzyKXeaG+HjTaC007LnUSyyKXV9sILcPvtMHKkD1VWQ7DIpdU1dmxxO+Wcc3InkQCLXFo9//wnXHstnHwybL557jQSYJFLq+eyy2DxYjj//NxJpH+xyKWe+vBDmDgRjj4adtwxdxrpXyxyqac6O+H99+HCC3Mnkf6NRS71xOLFMH48fOc7sPfeudNI/8Yt+lJP3HgjvPpqcWSt1GCckUur8tln0NEBe+wB3/te7jTSf3BGLq3KXXfB3Llwww0QkTuN9B+ckUur0t4O224LP/1p7iTScjkjl1bmz3+Ghx8u1o/399tFjckZubQy7e2wySZwyim5k0grZJFLKzJvHtxxB5x5Jqy3Xu400gpZ5NKKXHwxrLMOnH127iTSSlnk0vK8+ipcfz2ceipsumnuNNJKWeTS8lx6abF+/NxzcyeRVskil5b13nswaVKx3HD77XOnkVbJIpeWNWlScdLhBRfkTiL1iEUufdHHHxe3VQ45BPbcM3caqUdq3uEQEQOAB4G1u8f735TS/9Q6rpTFtGnFU4CmTcudROqxMraqfQIclFJaGBFrAg9HxO9TSo+WMLZUP0uXFodj7bUXHHRQ7jRSj9Vc5CmlBCzs/nDN7l+p1nGlupsxA154AW65xcOxVCml3COPiH4R8STwJnBvSumx5bxmRETMiohZXV1dZVxWKk9K0NYGO+xQPMpNqpBSijyltDSl9HVgMLBPROy2nNd0ppSGppSGDho0qIzLSuV56CF47LHiocr9+uVOI62WUletpJTeA+4HhpU5rtTn2tpg0CA4+eTcSaTVVnORR8SgiNio+/frAIcAz9U6rlQ3zzwDd98N55xTnK0iVUwZq1a+DFwbEf0o/sdwa0rpzhLGleqjo6M43XDkyNxJpF4pY9XK04A7J1RNr7wCN90EZ50FX/pS7jRSr7izU61t/Pjiv2PG5M0h1cAiV+t65x2YPBmGD4dttsmdRuo1i1yta+JEWLTIw7FUeRa5WtNHHxUPVD7sMNh999xppJpY5GpNU6dCVxdceGHuJFLNLHK1nqVLi+dx7rsv7L9/7jRSzcpYRy5Vy/Tp8OKLRZl7OJaagDNytZaUoL0ddt4ZjjgidxqpFM7I1Vruuw9mzy6WHXo4lpqEM3K1lvZ22GILOOGE3Emk0ljkah1PPgkzZ8KoUTBgQO40UmkscrWO9nZYf304/fTcSaRSWeRqDS+9VDzC7fTTYaONcqeRSmWRqzWMG1f8cHPUqNxJpNJZ5Gp+XV1w9dVw4omw1Va500ils8jV/CZMKM5WOf/83EmkPmGRq7ktWgRXXFFs/vnqV3OnkfqERa7mNmUKvP22h2OpqVnkal6ffgpjx8J++xW/pCblFn01r9tug5dfhssvz51E6lPOyNWcPj8ca8gQ+MEPcqeR+pQzcjWnmTPhqafgmmtgDecram5+has5tbUVa8Z/9rPcSaQ+Z5Gr+cyaBfffD2PGwFpr5U4j9TmLXM2nrQ023BBOOy13EqkuLHI1l/nzi0e5jRwJG2yQO41UFxa5msvFFxe3U845J3cSqW4scjWPN96AqVPh5z8vngIktQiLXM3jsstg8WIPx1LLscjVHD78ECZOhB//GHbaKXcaqa4scjWHyZPhvffgootyJ5HqziJX9S1eDOPHw4EHwt57504j1Z1b9FV9N90ECxZAZ2fuJFIWzshVbZ99Bh0dsPvuMGxY7jRSFjUXeURsHRH3R8TciJgTET7dVvVz990wZ07x4IiI3GmkLMq4tbIEOC+l9ERErA/Mjoh7U0pzSxhbWrn2dthmGzj22NxJpGxqnpGnlF5PKT3R/fsPgXmAjypX33vkEXjoITj3XFhzzdxppGxKvUceEdsBewKPLefPRkTErIiY1dXVVeZl1ara22HjjeHUU3MnkbIqrcgjYiAwHRidUvpg2T9PKXWmlIamlIYOGjSorMuqVT33HNxxB5x1FgwcmDuNlFUpRR4Ra1KU+A0ppdvLGFNaqYsvhrXXhrPPzp1Eyq6MVSsBXA3MSymNqz2StAqvvQbXXw+nnAL+604qZUa+H3AicFBEPNn967ASxpWW79JLYckSOO+83EmkhlDz8sOU0sOAC3hVH++/D5MmwTHHwA475E4jNQR3dqparroKPvig2AAkCbDIVSWffAKXXALf/S584xu500gNw0OzVB3TpsHrr8N11+VOIjUUZ+Sqhs8Px9pzTzj44NxppIbijFzVMGMGPP883Hyzh2NJy3BGrsaXErS1wfbbw9FH504jNRxn5Gp8Dz8Mjz4KEyZAf79kpWU5I1fja2uDTTeFk0/OnURqSBa5Gtuzz8Jdd8E558C66+ZOIzUki1yNraOjKPCRI3MnkRqWRa7G9corcOONcNppsMkmudNIDcsiV+O65JJixcqYMbmTSA3NIldjeucd6OyE4cNh221zp5EamkWuxnTllbBoEVxwQe4kUsOzyNV4PvqoOHN82DD42tdyp5EankWuxnPttdDVBRddlDuJVAkWuRrL0qXF8zj32QcOOCB3GqkSLHI1lttvh7/9rXhwhIdjST1ikatxfH441k47wVFH5U4jVYYnEKlx3H8/zJ5dPM6tX7/caaTKcEauxtHWBptvDiedlDuJVCkWuRrDk0/CzJkwahQMGJA7jVQpFrkaQ3s7DBwIZ5yRO4lUORa58nvpJbj1VvjlL2GjjXKnkSrHIld+48bBGmvA6NG5k0iVZJErr7fegquvhuOPh8GDc6eRKskiV15XXFGcreLhWFKvWeTKZ9Giosh/+EMYMiR3GqmyLHLlM2UKvP22h2NJNbLIlceSJTB2LHzrW7DffrnTSJXmFn3lceut8PLLcNlluZNIleeMXPWXUrEBaNdd4fDDc6eRKs8Zuepv5kx46qli2eEaziWkWvldpPprb4cttyzWjkuqmUWu+po1C+67r9jFufbaudNITaGUIo+IKRHxZkQ8W8Z4amLt7bDBBsW5KpJKUdaMfCowrKSx1Kzmz4fp04sTDjfYIHcaqWmUUuQppQeBd8oYS01s7Fjo3784c1xSaep2jzwiRkTErIiY1dXVVa/LqlG88QZcc03x9J8vfzl3Gqmp1K3IU0qdKaWhKaWhgwYNqtdl1SguvxwWL4bzz8+dRGo6rlpR31u4ECZOhKOOgl12yZ1GajoWufre5Mnw7rsejiX1kbKWH94EPALsEhELIuLUMsZVE/j00+IJQPvvD/vumzuN1JRK2aKfUhpexjhqQjfdBAsWwFVX5U4iNS1vrajvfH441m67waGH5k4jNS0PzVLfuftumDMHrrsOInKnkZqWM3L1nfZ22HprOO643EmkpmaRq288+ig8+CCMGQNrrpk7jdTULHL1jbY22HhjOO203EmkpmeRq3zPPQd33AFnngkDB+ZOIzU9i1zlu/ji4qzxs8/OnURqCRa5yvXaa3D99fCLX8Bmm+VOI7UEi1zluvRSWLIEzjsvdxKpZVjkKs/778OkSfCTn8BXvpI7jdQyLHKV56qr4IMP4MILcyeRWopFrnJ88glccgkcfDDstVfuNFJLcYu+yjFtGrz+OkydmjuJ1HKckat2n30GHR3w9a/DIYfkTiO1HGfkqt2MGfD883DjjR6OJWXgjFy1SanYjr/ddnDMMbnTSC3JGblq8/DDxQFZl18O/f1yknJwRq7atLfDJpvAKafkTiK1LItcvTdnDtx5Z3Gmyrrr5k4jtSyLXL3X0VEU+Fln5U4itTSLXL2zYAHccAOcempxa0VSNha5emf8+GLFyrnn5k4itTyLXKvv3XehsxOOPbZYdigpK4tcq+/KK2HhQg/HkhqERa7V8/HHxZnj3/8+7LFH7jSSsMi1uq69Ft58Ey66KHcSSd0scvXc0qXF8ziHDoUDD8ydRlI391Sr5373O5g/H267zcOxpAbijFw9k1KxHX/HHeFHP8qdRtIXOCNXzzzwADz+ePFMzn79cqeR9AXOyNUz7e2w2WZw0km5k0hahkWuVXvqKbjnHhg1CtZZJ3caScuwyLVqHR0wcCCccUbuJJKWwyLXyv3973DzzTBiBGy8ce40kpajlCKPiGER8XxEzI+IX5UxphrE+PHFUsPRo3MnkbQCNRd5RPQDJgCHAkOA4RExpNZx1QDmzoXf/haOPx623jp3GkkrUMbyw32A+SmlFwEi4mbgSGBuCWP/u/vug6efLn1YLeP112HGDHjuORgwAC64IHciSStRRpFvBfzjCx8vAPZd9kURMQIYAbDNNtv07krTp8PEib37u+q5/v3hgANg5Eg46ihn41KDq9uGoJRSJ9AJMHTo0NSrQTo64De/KTOWlmfttV1mKFVIGUX+KvDFKdvg7s+Vb911fcivJC2jjFUrjwM7RcT2EbEWcBwwo4RxJUk9UPOMPKW0JCLOAv4A9AOmpJTm1JxMktQjpdwjTyndDdxdxliSpNXjzk5JqjiLXJIqziKXpIqzyCWp4ixySao4i1ySKs4il6SKs8glqeIsckmqOItckirOIpekirPIJaniLHJJqjiLXJIqziKXpIqzyCWp4ixySao4i1ySKs4il6SKs8glqeIsckmqOItckirOIpekirPIJaniLHJJqjiLXJIqziKXpIqzyCWp4ixySao4i1ySKs4il6SKs8glqeIsckmqOItckirOIpekiqupyCPimIiYExGfRcTQskJJknqu1hn5s8CPgQdLyCJJ6oX+tfzllNI8gIgoJ40kabXVVOSrIyJGACO6P1wYEc/3wWU2Bd7qg3Gbie/Ryvn+rJrv0cr15fuz7fI+ucoij4g/Alss549+nVK6o6dXTyl1Ap09fX1vRMSslJL36lfC92jlfH9Wzfdo5XK8P6ss8pTSd+sRRJLUOy4/lKSKq3X54Y8iYgHwTeCuiPhDObF6rU9v3TQJ36OV8/1ZNd+jlav7+xMppXpfU5JUIm+tSFLFWeSSVHFNV+QR0RERz0XE0xHxu4jYKHemRuPRCssXEcMi4vmImB8Rv8qdp9FExJSIeDMins2dpRFFxNYRcX9EzO3+/hpVr2s3XZED9wK7pZS+BrwA/HfmPI3IoxWWERH9gAnAocAQYHhEDMmbquFMBYblDtHAlgDnpZSGAP8FnFmvr6GmK/KU0syU0pLuDx8FBufM04hSSvNSSn2xs7bK9gHmp5ReTCktBm4GjsycqaGklB4E3smdo1GllF5PKT3R/fsPgXnAVvW4dtMV+TJOAX6fO4QqYSvgH1/4eAF1+iZU84mI7YA9gcfqcb26nbVSpp4cGxARv6b4p84N9czWKMo6WkHS6omIgcB0YHRK6YN6XLOSRb6qYwMi4mTgcODg1KIL5T1aYbW9Cmz9hY8Hd39O6rGIWJOixG9IKd1er+s23a2ViBgGXAgckVL6v9x5VBmPAztFxPYRsRZwHDAjcyZVSBTneV8NzEspjavntZuuyIErgPWBeyPiyYiYlDtQo2nAoxWy6/4B+VnAHyh+SHVrSmlO3lSNJSJuAh4BdomIBRFxau5MDWY/4ETgoO7ueTIiDqvHhd2iL0kV14wzcklqKRa5JFWcRS5JFWeRS1LFWeSSVHEWuSRVnEUuSRX3//zqUI2WuaB6AAAAAElFTkSuQmCC\n"
                },
                "metadata": {
                  "needs_background": "light"
                }
              }
            ]
          }
        },
        "e4fa9e632ade48408dafcf6425e48bee": {
          "model_module": "@jupyter-widgets/base",
          "model_name": "LayoutModel",
          "model_module_version": "1.2.0",
          "state": {
            "_model_module": "@jupyter-widgets/base",
            "_model_module_version": "1.2.0",
            "_model_name": "LayoutModel",
            "_view_count": null,
            "_view_module": "@jupyter-widgets/base",
            "_view_module_version": "1.2.0",
            "_view_name": "LayoutView",
            "align_content": null,
            "align_items": null,
            "align_self": null,
            "border": null,
            "bottom": null,
            "display": null,
            "flex": null,
            "flex_flow": null,
            "grid_area": null,
            "grid_auto_columns": null,
            "grid_auto_flow": null,
            "grid_auto_rows": null,
            "grid_column": null,
            "grid_gap": null,
            "grid_row": null,
            "grid_template_areas": null,
            "grid_template_columns": null,
            "grid_template_rows": null,
            "height": null,
            "justify_content": null,
            "justify_items": null,
            "left": null,
            "margin": null,
            "max_height": null,
            "max_width": null,
            "min_height": null,
            "min_width": null,
            "object_fit": null,
            "object_position": null,
            "order": null,
            "overflow": null,
            "overflow_x": null,
            "overflow_y": null,
            "padding": null,
            "right": null,
            "top": null,
            "visibility": null,
            "width": null
          }
        },
        "4e69d1f043774e27b81af2a41bf19ea0": {
          "model_module": "@jupyter-widgets/base",
          "model_name": "LayoutModel",
          "model_module_version": "1.2.0",
          "state": {
            "_model_module": "@jupyter-widgets/base",
            "_model_module_version": "1.2.0",
            "_model_name": "LayoutModel",
            "_view_count": null,
            "_view_module": "@jupyter-widgets/base",
            "_view_module_version": "1.2.0",
            "_view_name": "LayoutView",
            "align_content": null,
            "align_items": null,
            "align_self": null,
            "border": null,
            "bottom": null,
            "display": null,
            "flex": null,
            "flex_flow": null,
            "grid_area": null,
            "grid_auto_columns": null,
            "grid_auto_flow": null,
            "grid_auto_rows": null,
            "grid_column": null,
            "grid_gap": null,
            "grid_row": null,
            "grid_template_areas": null,
            "grid_template_columns": null,
            "grid_template_rows": null,
            "height": null,
            "justify_content": null,
            "justify_items": null,
            "left": null,
            "margin": null,
            "max_height": null,
            "max_width": null,
            "min_height": null,
            "min_width": null,
            "object_fit": null,
            "object_position": null,
            "order": null,
            "overflow": null,
            "overflow_x": null,
            "overflow_y": null,
            "padding": null,
            "right": null,
            "top": null,
            "visibility": null,
            "width": null
          }
        },
        "04ea4a804af54ce4b711dff1bc3c641f": {
          "model_module": "@jupyter-widgets/controls",
          "model_name": "SliderStyleModel",
          "model_module_version": "1.5.0",
          "state": {
            "_model_module": "@jupyter-widgets/controls",
            "_model_module_version": "1.5.0",
            "_model_name": "SliderStyleModel",
            "_view_count": null,
            "_view_module": "@jupyter-widgets/base",
            "_view_module_version": "1.2.0",
            "_view_name": "StyleView",
            "description_width": "",
            "handle_color": null
          }
        },
        "85c3655c27914e1e92c6a161c6e2ab3b": {
          "model_module": "@jupyter-widgets/base",
          "model_name": "LayoutModel",
          "model_module_version": "1.2.0",
          "state": {
            "_model_module": "@jupyter-widgets/base",
            "_model_module_version": "1.2.0",
            "_model_name": "LayoutModel",
            "_view_count": null,
            "_view_module": "@jupyter-widgets/base",
            "_view_module_version": "1.2.0",
            "_view_name": "LayoutView",
            "align_content": null,
            "align_items": null,
            "align_self": null,
            "border": null,
            "bottom": null,
            "display": null,
            "flex": null,
            "flex_flow": null,
            "grid_area": null,
            "grid_auto_columns": null,
            "grid_auto_flow": null,
            "grid_auto_rows": null,
            "grid_column": null,
            "grid_gap": null,
            "grid_row": null,
            "grid_template_areas": null,
            "grid_template_columns": null,
            "grid_template_rows": null,
            "height": null,
            "justify_content": null,
            "justify_items": null,
            "left": null,
            "margin": null,
            "max_height": null,
            "max_width": null,
            "min_height": null,
            "min_width": null,
            "object_fit": null,
            "object_position": null,
            "order": null,
            "overflow": null,
            "overflow_x": null,
            "overflow_y": null,
            "padding": null,
            "right": null,
            "top": null,
            "visibility": null,
            "width": null
          }
        },
        "687a497351fc4dce8d48db7cc72b4140": {
          "model_module": "@jupyter-widgets/controls",
          "model_name": "SliderStyleModel",
          "model_module_version": "1.5.0",
          "state": {
            "_model_module": "@jupyter-widgets/controls",
            "_model_module_version": "1.5.0",
            "_model_name": "SliderStyleModel",
            "_view_count": null,
            "_view_module": "@jupyter-widgets/base",
            "_view_module_version": "1.2.0",
            "_view_name": "StyleView",
            "description_width": "",
            "handle_color": null
          }
        },
        "f94ff7d9be8145d0bf057e361212e6ca": {
          "model_module": "@jupyter-widgets/base",
          "model_name": "LayoutModel",
          "model_module_version": "1.2.0",
          "state": {
            "_model_module": "@jupyter-widgets/base",
            "_model_module_version": "1.2.0",
            "_model_name": "LayoutModel",
            "_view_count": null,
            "_view_module": "@jupyter-widgets/base",
            "_view_module_version": "1.2.0",
            "_view_name": "LayoutView",
            "align_content": null,
            "align_items": null,
            "align_self": null,
            "border": null,
            "bottom": null,
            "display": null,
            "flex": null,
            "flex_flow": null,
            "grid_area": null,
            "grid_auto_columns": null,
            "grid_auto_flow": null,
            "grid_auto_rows": null,
            "grid_column": null,
            "grid_gap": null,
            "grid_row": null,
            "grid_template_areas": null,
            "grid_template_columns": null,
            "grid_template_rows": null,
            "height": null,
            "justify_content": null,
            "justify_items": null,
            "left": null,
            "margin": null,
            "max_height": null,
            "max_width": null,
            "min_height": null,
            "min_width": null,
            "object_fit": null,
            "object_position": null,
            "order": null,
            "overflow": null,
            "overflow_x": null,
            "overflow_y": null,
            "padding": null,
            "right": null,
            "top": null,
            "visibility": null,
            "width": null
          }
        },
        "eb78d39a5c394c38b8cf4b6f5ba7b8b7": {
          "model_module": "@jupyter-widgets/controls",
          "model_name": "VBoxModel",
          "model_module_version": "1.5.0",
          "state": {
            "_dom_classes": [
              "widget-interact"
            ],
            "_model_module": "@jupyter-widgets/controls",
            "_model_module_version": "1.5.0",
            "_model_name": "VBoxModel",
            "_view_count": null,
            "_view_module": "@jupyter-widgets/controls",
            "_view_module_version": "1.5.0",
            "_view_name": "VBoxView",
            "box_style": "",
            "children": [
              "IPY_MODEL_84538a72092641ff91a34389656cdfb3",
              "IPY_MODEL_42e6cdd4e0544149b5f8def5689eb8b2",
              "IPY_MODEL_7f85ea4f499f42178954666ea2d0c1dc",
              "IPY_MODEL_cb92658d9aaf48acbe487dccc2b33a07",
              "IPY_MODEL_249cc2ca2c1647e2826eba9d9b8b34e4"
            ],
            "layout": "IPY_MODEL_a0f75059ba8c4a74ba549bdd61a17284"
          }
        },
        "84538a72092641ff91a34389656cdfb3": {
          "model_module": "@jupyter-widgets/controls",
          "model_name": "FloatSliderModel",
          "model_module_version": "1.5.0",
          "state": {
            "_dom_classes": [],
            "_model_module": "@jupyter-widgets/controls",
            "_model_module_version": "1.5.0",
            "_model_name": "FloatSliderModel",
            "_view_count": null,
            "_view_module": "@jupyter-widgets/controls",
            "_view_module_version": "1.5.0",
            "_view_name": "FloatSliderView",
            "continuous_update": true,
            "description": "m1",
            "description_tooltip": null,
            "disabled": false,
            "layout": "IPY_MODEL_b77f3def8bc14a7eb67fc8679e73b07b",
            "max": 1.5,
            "min": -4.5,
            "orientation": "horizontal",
            "readout": true,
            "readout_format": ".2f",
            "step": 0.1,
            "style": "IPY_MODEL_fc82b1e0f6d64a319423ecc2459e0bee",
            "value": -0.7
          }
        },
        "42e6cdd4e0544149b5f8def5689eb8b2": {
          "model_module": "@jupyter-widgets/controls",
          "model_name": "FloatSliderModel",
          "model_module_version": "1.5.0",
          "state": {
            "_dom_classes": [],
            "_model_module": "@jupyter-widgets/controls",
            "_model_module_version": "1.5.0",
            "_model_name": "FloatSliderModel",
            "_view_count": null,
            "_view_module": "@jupyter-widgets/controls",
            "_view_module_version": "1.5.0",
            "_view_name": "FloatSliderView",
            "continuous_update": true,
            "description": "b1",
            "description_tooltip": null,
            "disabled": false,
            "layout": "IPY_MODEL_a3af056a0b8a4d79b7d544b54f4f8ee5",
            "max": 1.5,
            "min": -4.5,
            "orientation": "horizontal",
            "readout": true,
            "readout_format": ".2f",
            "step": 0.1,
            "style": "IPY_MODEL_dac7e56d0c9243249a67f55b7bf2b38e",
            "value": -0.4
          }
        },
        "7f85ea4f499f42178954666ea2d0c1dc": {
          "model_module": "@jupyter-widgets/controls",
          "model_name": "FloatSliderModel",
          "model_module_version": "1.5.0",
          "state": {
            "_dom_classes": [],
            "_model_module": "@jupyter-widgets/controls",
            "_model_module_version": "1.5.0",
            "_model_name": "FloatSliderModel",
            "_view_count": null,
            "_view_module": "@jupyter-widgets/controls",
            "_view_module_version": "1.5.0",
            "_view_name": "FloatSliderView",
            "continuous_update": true,
            "description": "m2",
            "description_tooltip": null,
            "disabled": false,
            "layout": "IPY_MODEL_8d151ab48eb24302a86e797be5d8bcde",
            "max": 4.5,
            "min": -1.5,
            "orientation": "horizontal",
            "readout": true,
            "readout_format": ".2f",
            "step": 0.1,
            "style": "IPY_MODEL_1d8e453b1318448facf4e8de07239de6",
            "value": 3.2
          }
        },
        "cb92658d9aaf48acbe487dccc2b33a07": {
          "model_module": "@jupyter-widgets/controls",
          "model_name": "FloatSliderModel",
          "model_module_version": "1.5.0",
          "state": {
            "_dom_classes": [],
            "_model_module": "@jupyter-widgets/controls",
            "_model_module_version": "1.5.0",
            "_model_name": "FloatSliderModel",
            "_view_count": null,
            "_view_module": "@jupyter-widgets/controls",
            "_view_module_version": "1.5.0",
            "_view_name": "FloatSliderView",
            "continuous_update": true,
            "description": "b2",
            "description_tooltip": null,
            "disabled": false,
            "layout": "IPY_MODEL_ae5d323a9aa64b588a6313e5576e9129",
            "max": 4.5,
            "min": -1.5,
            "orientation": "horizontal",
            "readout": true,
            "readout_format": ".2f",
            "step": 0.1,
            "style": "IPY_MODEL_fb4ab6cdfb2d4ef08dea2cb7e0293be0",
            "value": -1.3
          }
        },
        "249cc2ca2c1647e2826eba9d9b8b34e4": {
          "model_module": "@jupyter-widgets/output",
          "model_name": "OutputModel",
          "model_module_version": "1.0.0",
          "state": {
            "_dom_classes": [],
            "_model_module": "@jupyter-widgets/output",
            "_model_module_version": "1.0.0",
            "_model_name": "OutputModel",
            "_view_count": null,
            "_view_module": "@jupyter-widgets/output",
            "_view_module_version": "1.0.0",
            "_view_name": "OutputView",
            "layout": "IPY_MODEL_19e21eb75a0c42e39a56b1aff8a4364d",
            "msg_id": "",
            "outputs": [
              {
                "output_type": "display_data",
                "data": {
                  "text/plain": "<Figure size 432x288 with 1 Axes>",
                  "image/png": "iVBORw0KGgoAAAANSUhEUgAAAXIAAAD8CAYAAABq6S8VAAAABHNCSVQICAgIfAhkiAAAAAlwSFlzAAALEgAACxIB0t1+/AAAADh0RVh0U29mdHdhcmUAbWF0cGxvdGxpYiB2ZXJzaW9uMy4yLjIsIGh0dHA6Ly9tYXRwbG90bGliLm9yZy+WH4yJAAAX3UlEQVR4nO3de7iVY/7H8fdXSlTOkUMpM8kYpmI7+13jMPllFIZxKSTCHtTIODfKIeeYxuGXmigddHDIqSTlLIeoiA7CSJRODkMkVN/fH/feY8ve7V3rWetez1qf13Xtq71Wq+f5Xqv6rHt/n/u+H3N3REQkvTaKXYCIiGRGQS4iknIKchGRlFOQi4iknIJcRCTlFOQiIimXSJCb2ZZm9pCZvWtmc8zswCSOKyIi1ds4oePcDkxw9z+bWR1gs4SOKyIi1bBMFwSZ2RbAW8CurtVFIiI5l8SIvBmwDLjXzFoC04Du7v5txReZWSlQClCvXr19dt999wROLSJSPKZNm/aZuzdc+/kkRuQlwGvAwe4+xcxuB752915V/ZmSkhKfOnVqRucVESk2ZjbN3UvWfj6Ji50LgAXuPqXs8UPA3gkcV0REaiDjIHf3xcAnZtai7KkjgNmZHldERGomqVkrfwVGlM1Y+RA4I6HjiohINRIJcnd/C/hF30ZERLJPKztFRFJOQS4iknIKchGRlFOQi4iknIJcRCTlFOQiIimnIBcRSTkFuYhIyinIRURSTkEuIpJyCnIRkZRTkIuI5MLq1XDbbbByZeKHVpCLiOTCDTfA3/4G48cnfmgFuYhItk2eDFdfDaeeCscfn/jhFeQiItn0xRdw8snQrBncdVdWTpHUjSVERGRt7nD22bBoEbz6KjRokJXTKMhFRLLlX/+Chx+GW26Bkuzde0etFRGRbJg5M1zcPPJIuPDCrJ5KQS4ikrQVK6BDB9hiCxg2DDbKbtSqtSIikrQLL4RZs+Cpp2D77bN+Oo3IRUSSNGZM6I1fckloq+SAglxEJCnz58NZZ8G++8J11+XstIm0VszsI2A5sBpY5e7ZuzwrIpKPVq2CU04JS/FHj4Y6dXJ26iR75Ie5+2cJHk9EJD1694aXX4aRI2HXXXN6arVWREQy9fzzoZVy+unQsWPOT59UkDsw0cymmVlpZS8ws1Izm2pmU5ctW5bQaUVEIvvss9BSad4c7rwzSglJtVYOcfeFZrYdMMnM3nX3Fyu+wN0HAgMBSkpKPKHziojE4w5duoQwHzcO6tePUkYiI3J3X1j261LgEWC/JI4rIpLX+vWDsWOhTx9o3TpaGRkHuZnVM7MG5d8DRwIzMz2uiEhemzEDLr4Yjj4azj8/ailJtFa2Bx4xs/LjjXT3CQkcV0QkP337LZx0Emy9Ndx7L4T8iybjIHf3D4GWCdQiIpIO3bvDe+/B009Dw4axq9H0QxGR9XL//TBoEPz973D44bGrARTkIiI1N28elJbCgQfCVVfFrua/FOQiIjXx449hsY9ZWL1Zu3bsiv5L29iKiNTElVfClCnwwAPQtGnsan5GI3IRkeo8/TTcfHO4/+aJJ8au5hcU5CIi67J0KXTqBLvvDrfdFruaSqm1IiJSlTVrwkZYX34JEyfCZpvFrqhSCnIRkarcfjs8+WRYir/XXrGrqZJaKyIilZk2DS67DI47Ds49N3Y166QgFxFZ2/Ll0KFDuHHyoEHRl+BXR60VEZG1de0KH34Ybhix9daxq6mWRuQiIhUNHx6+evWC//mf2NXUiIJcRKTc++/DeeeFAO/ZM3Y1NaYgFxEB+OGHsAS/dm0YMQI2Tk/nOT2ViohkU48eYabKo49C48axq1kvGpGLiDz5JPTtG9oqxx4bu5r1piAXkeK2aBF07hwW/Nx6a+xqNoiCXESK15o1cNpp8M03MHo0bLpp7Io2iHrkIlK8brkl7Gw4cCDssUfsajaYRuQiUpymTAlTDE88Ec46K3Y1GVGQi0jx+eqrMNVwp53CaDzPl+BXR60VESku7nDOOfDxx/DSS7DllrErylhiI3Izq2Vmb5rZuKSOKSKSuCFDwoXN3r3DTZQLQJKtle7AnASPJyKSrLlzoVs3OOywsEVtgUgkyM1sZ+Bo4J4kjicikriVK+Gkk8IUw/vug1q1YleUmKR65LcBlwINqnqBmZUCpQBNmjRJ6LQiIjV02WUwYwaMHQs77hi7mkRlPCI3s3bAUneftq7XuftAdy9x95KGDRtmeloRkZobOxbuuAO6d4d27WJXk7gkWisHA8eY2UfAaOBwM7svgeOKiGRu4UI44wxo1Qpuvjl2NVmRcZC7ew9339ndmwIdgGfd/dSMKxMRydTq1XDqqaE/Pno0bLJJ7IqyQvPIRaRw3XRTuF3bvfdCixaxq8maRIPc3Z8Hnk/ymCIiG+SVV+Cqq8IKzs6dY1eTVVqiLyKF58sv4eSTYZddYMCA1C/Br45aKyJSWNzh7LPDRc6XX4bNN49dUdYpyEWksNx9N4wZE2ao7Ldf7GpyQq0VESkcs2aFueJt2sDFF8euJmcU5CJSGL77Djp0CK2UYcNgo+KJN7VWRKQwXHQRzJwZbqTcqFHsanKqeD6yRKRwPfww9O8f2ilt28auJucU5CKSbh9/DGeeCSUlcP31sauJQkEuIum1ahWcckr4ddQoqFMndkVRqEcuIul17bUweTIMHw6//nXsaqLRiFxE0umFF+C66+C008LGWEVMQS4i6fP556Gl8qtfQb9+sauJTq0VEUkXd+jSBZYuhddeg/r1Y1cUnYJcRNLlrrvg8cehb1/Ye+/Y1eQFtVZEJD1mzAgLf446KizFF0BBLiJp8e23YQn+VlvBkCFFtQS/OmqtiEg6dO8Oc+fCpEmw3Xaxq8kr+kgTkfz3wAMwaBBcfjkccUTsavKOglxE8tu8eeFGEQccANdcE7uavKQgF5H89eOP4ZZtACNHQu3acevJU+qRi0j+uuqqMFd89Gho1ix2NXlLI3IRyU/PPAM33RR2NjzppNjV5LWMg9zM6prZ62Y2w8xmmZmaWCKSmWXLwv4pLVrA7bfHribvJdFa+R443N2/MbPawGQze9LdX0vg2CJSbNasgdNPhy+/hAkToF692BXlvYyD3N0d+KbsYe2yL8/0uCJSpG6/HcaPhzvvhJYtY1eTCon0yM2slpm9BSwFJrn7lCSOKyJFZvp0uOwyOOYY6No1djWpkUiQu/tqd28F7AzsZ2Z7rv0aMys1s6lmNnXZsmVJnFZECsny5WEJ/nbbweDBYBa7otRIdNaKu/8HeA74xd1P3X2gu5e4e0nDhg2TPK2IFIK//hU++ABGjIBttoldTaokMWuloZltWfb9pkAb4N1MjysiRWTECBg6FHr2hN//PnY1qZPErJUdgKFmVovwwfCAu49L4LgiUgw++ADOOQcOOQSuvDJ2NamUxKyVt4HWCdQiIsXmhx+gY0fYeOMwKt9Yi803hN41EYnniitg6lQYMwaaNIldTWppib6IxDFhAtx6a2irHH987GpSTUEuIrm3eDF07gx77hnuvSkZUWtFRHJrzZoQ4suXw7PPwqabxq4o9RTkIpJbt94KEyfCgAHw29/GrqYgqLUiIrnz+uvhAucJJ0BpaexqCoaCXERy4+uvw1TDHXeEu+/WEvwEqbUiItnnDueeC/Pnw4svwlZbxa6ooCjIRST7hg4N99y89lo46KDY1RQctVZEJLvmzoVu3eDQQ6FHj9jVFCQFuYhkz/ffh7543bpw331Qq1bsigqSWisikj2XXw5vvgmPPw477RS7moKlEbmIZMcTT8Btt4V9xtu3j11NQVOQi0jyPv003EC5ZUvo0yd2NQVPQS4iyVq9Gk49FVasgPvvD/1xySr1yEUkWTffDM89F+672aJF7GqKgkbkIpKcV14Jd/np0CG0ViQnFOQikoz//AdOPjncIGLAAC3BzyG1VkQkc+5hE6yFC2HyZNhii9gVFRUFuYhk7p574MEH4aabYP/9Y1dTdNRaEZHMzJ4N3bvDH/4Al1wSu5qipCAXkQ333Xfhwmb9+jBsGGykSIkh43fdzBqb2XNmNtvMZplZ9yQKE5EUuPhieOedEOI77BC7mqKVRI98FXCRu083swbANDOb5O6zEzi2iOSrRx+Fu+6Ciy6Ctm1jV1PUMh6Ru/sid59e9v1yYA6g3XFECtknn0CXLrDPPnDDDbGrKXqJNrTMrCnQGpiS5HFFJI+sWgWnnAI//gijRkGdOrErKnqJTT80s/rAGOACd/+6kt8vBUoBmjRpktRpRSTXrr8eXnoJhg+H5s1jVyMkNCI3s9qEEB/h7g9X9hp3H+juJe5e0rBhwyROKyK59uKL0Ls3dOoUNsaSvJDErBUDBgFz3L1v5iWJSF764ovQUtl1V+jXL3Y1UkESrZWDgU7AO2b2Vtlzf3f38QkcW0TygTuceSYsWQKvvgoNGsSuSCrIOMjdfTKg3XFECln//mG64T/+EWaqSF7RMiwRWbd33oELL4SjjoILLohdjVRCQS4iVVuxIizB32orGDJES/DzlHY/FJGqXXBB2BRr4kTYbrvY1UgV9PEqIpV78EG4+2647DJo0yZ2NbIOCnIR+aWPPoKzzw57i197bexqpBoKchH5uVWrwi3b3MMS/Nq1Y1ck1VCPXER+7uqrw1zxUaOgWbPY1UgNaEQuIj959tmwm2GXLmG2iqSCglxEgs8+C/un7LYb3HFH7GpkPai1IiKhH37GGfD55zB+PNSrF7siWQ8KchEJI/Bx48KvrVrFrkbWk1orIsXuzTfh0kuhfXvo1i12NbIBFOQixeybb8JFzW23hcGDwbT/XRqptSJSzM4/H95/P8xW2Xbb2NXIBtKIXKRYjRoF994LPXvCoYfGrkYyoCAXKUb//jf85S9w8MFw5ZWxq5EMKchFis0PP0DHjlCrFowYARurw5p2+hsUKTa9esEbb8BDD8Euu8SuRhKgEblIMZk0Cfr0CW2VE06IXY0kREEuUiyWLIFOnWCPPaBv39jVSILUWhEpBmvWQOfO8NVX8PTTsNlmsSuSBCnIRYrBP/8JTz0F/fvDnnvGrkYSlq7Wypw58NZbYYMfEamZqVOhRw84/vjQG5eCk0iQm9lgM1tqZjOTOF6VbrkFWrcOV9rPOw+efBJWrszqKUVS7euvwxL8Ro3C/Te1BL8gJTUiHwK0TehYVbvxRhg0CPbZB4YOhT/+EbbZBo47Ljy/eHHWSxBJla5dYd48GDkStt46djWSJYn0yN39RTNrmsSx1mn77cOdS7p0CSPx55+HsWPD12OPhdfst1/Yxa19e/jd7zQCkeI1bBjcdx9ccw0cckjsaiSLzBPqN5cF+Th3r/RKipmVAqUATZo02Wf+/PmJnBcIPfO33w77KY8dC6+/Hp5r3BjatQuhfthhULducucUyWfvvQd77w0lJfDMM2EVp6SemU1z95JfPJ+rIK+opKTEp06dmsh5K7VkCTzxRAj2iRPh22/DHU/atAnBfvTRoWcoUoi+/x4OOgg++ghmzICdd45dkSSkqiAvzOmHlbVgHn88BPujj4bXlLdg2rWDli3VgpHC0aMHTJ8e/q0rxItCuqYfboi6daFtW7jrLpg/P0xfvPba8Hu9emkWjBSW8ePDnPFu3eDYY2NXIzmSSGvFzEYBhwLbAkuAq9x9UFWvz3prpaYWLw7/8MeODS2YFSvCirc2bcJoXS0YSZNFi8JPlzvsAFOm6JpQAcp6j3x95E2QV7RyJTz3XAj1cePgk0/C8/vuC8cco1kwkt/WrIEjj4RXXw0LgH7zm9gVSRZUFeSF31qpqbp14aijftmC2WijsPF+q1ZqwUj+6tMnzE654w6FeBHSiLwmymfBVGzBVJwF065duMAqEsNrr4V54n/+c7h9m35qLFhqrSSlYgtm7FhYsCA8r4VIEsNXX4WfFiH8FLnFFnHrkaxSkGeDe5inW3EhEmghkuSGe7hl20MPweTJcMABsSuSLFOPPBvMwmioZ88wS2DRIrjnHu0FI7kxeDDcf3+4lqMQL2oakWdLVbNg1IKRJMyZE5bfH3hguG6zkcZkxUCtlZjK94IpD/UpU8LzTZr81II59FC1YKRmVq6E/feHTz8Nrb0dd4xdkeSIWisxmYWFGj17hhkGixeHVsvee8OQIWHa47bbwp/+FH5cXrIkdsWSzy65JAwMhg5ViAugEXl8mgUj6+Oxx8I1lwsuCEvxpaiotZIGmgUj67JgQfjJbpddwgrOTTaJXZHkmII8jRYv/mkh0qRJP1+I1L59mBWjvWCKw+rVcMQRYfn99Omw226xK5IIimsb20LRqBGceWb4WnsWzNrb8aoFU9iuvx5eeCH0xRXishaNyNOo4iyYii0YzYIpTC+9FP4+O3aE4cP1YV3E1FopZOUtmPI7IpW3YI488qc7ImkvmHT64ouw6KxOndBS2Xzz2BVJRGqtFLK1WzDPPvtTC+aRR8IIruIdkdSCSQd3OOussGL4lVcU4lIlzSMvNHXrhoug/fvDxx/Dm2+Gu6ivWRPmsbdqBU2bQteuMGGCtuPNZwMGhA/iG28M++KLVEGtlWKyaNFPd0SqbBaMWjD5Y+bMEN6//334O9MSfEE9cllbZQuRKrZg2reHvfZSCyaGFStCiH/+eVhXoA9XKaMl+vJzFe+IVN6C6d079GV79gwLT5o2DTfxVQsmty68EGbPhmHDFOJSIxqRyy9pFkw8Y8aEO/1cckm4fZtIBWqtyIZZexbM2i0YzYJJzrx5YSO15s3DjSLq1IldkeQZBblkrnwvmPK++htvhOe1EClzK1bAQQeFG39Pmwa77hq7IslDWe2Rm1lbM5trZh+Y2eVJHFPyUPkdkXr1CqtJP/003BGpdWttx5sJdygtDat1R45UiMt6y3hEbma1gPeANsAC4A2go7vPrurPaERegL777ud7wZS3YPbd96dZMLvtFqbRlX9J0K8fdO8eLjb36hW7GsljWWutmNmBwNXu/r9lj3sAuPuNVf0ZBXmBq6oFI1Vr3z5shKYPOFmHbC7R3wn4pMLjBcD+lRRQCpQCNGnSJIHTSt4qb8GUt2EWLw5TGJcsCStMV68OYS9B/fphKb5CXDZQzvZacfeBwEAII/JcnVfyQKNGcPrpsasQKVhJDAEWAo0rPN657DkREcmBJIL8DaC5mTUzszpAB+DxBI4rIiI1kHFrxd1XmVk34CmgFjDY3WdlXJmIiNRIIj1ydx8PjE/iWCIisn50mVxEJOUU5CIiKacgFxFJOQW5iEjKKchFRFJOQS4iknIKchGRlFOQi4iknIJcRCTlFOQiIimnIBcRSTkFuYhIyinIRURSTkEuIpJyCnIRkZRTkIuIpJyCXEQk5RTkIiIppyAXEUk5BbmISMopyEVEUk5BLiKSchkFuZmdaGazzGyNmZUkVZSIiNRcpiPymcDxwIsJ1CIiIhtg40z+sLvPATCzZKoREZH1llGQrw8zKwVKyx5+Y2Zzs3CabYHPsnDcQqL3aN30/lRP79G6ZfP92aWyJ6sNcjN7GmhUyW9d4e6P1fTs7j4QGFjT128IM5vq7urVr4Peo3XT+1M9vUfrFuP9qTbI3f0PuShEREQ2jKYfioikXKbTD/9kZguAA4EnzOypZMraYFlt3RQIvUfrpvenenqP1i3n74+5e67PKSIiCVJrRUQk5RTkIiIpV3BBbma3mNm7Zva2mT1iZlvGrinfaGuFyplZWzOba2YfmNnlsevJN2Y22MyWmtnM2LXkIzNrbGbPmdnssv9f3XN17oILcmASsKe7/w54D+gRuZ58pK0V1mJmtYB+wFHAHkBHM9sjblV5ZwjQNnYReWwVcJG77wEcAHTN1b+hggtyd5/o7qvKHr4G7Byznnzk7nPcPRsra9NsP+ADd//Q3X8ARgPHRq4pr7j7i8AXsevIV+6+yN2nl32/HJgD7JSLcxdckK+lC/Bk7CIkFXYCPqnweAE5+k8ohcfMmgKtgSm5OF/O9lpJUk22DTCzKwg/6ozIZW35IqmtFURk/ZhZfWAMcIG7f52Lc6YyyKvbNsDMTgfaAUd4kU6U19YK620h0LjC453LnhOpMTOrTQjxEe7+cK7OW3CtFTNrC1wKHOPuK2LXI6nxBtDczJqZWR2gA/B45JokRSzs5z0ImOPufXN57oILcuD/gAbAJDN7y8wGxC4o3+Th1grRlV0g7wY8RbhI9YC7z4pbVX4xs1HAq0ALM1tgZmfGrinPHAx0Ag4vy563zOyPuTixluiLiKRcIY7IRUSKioJcRCTlFOQiIimnIBcRSTkFuYhIyinIRURSTkEuIpJy/w8Op4LFYVYzAwAAAABJRU5ErkJggg==\n"
                },
                "metadata": {
                  "needs_background": "light"
                }
              }
            ]
          }
        },
        "a0f75059ba8c4a74ba549bdd61a17284": {
          "model_module": "@jupyter-widgets/base",
          "model_name": "LayoutModel",
          "model_module_version": "1.2.0",
          "state": {
            "_model_module": "@jupyter-widgets/base",
            "_model_module_version": "1.2.0",
            "_model_name": "LayoutModel",
            "_view_count": null,
            "_view_module": "@jupyter-widgets/base",
            "_view_module_version": "1.2.0",
            "_view_name": "LayoutView",
            "align_content": null,
            "align_items": null,
            "align_self": null,
            "border": null,
            "bottom": null,
            "display": null,
            "flex": null,
            "flex_flow": null,
            "grid_area": null,
            "grid_auto_columns": null,
            "grid_auto_flow": null,
            "grid_auto_rows": null,
            "grid_column": null,
            "grid_gap": null,
            "grid_row": null,
            "grid_template_areas": null,
            "grid_template_columns": null,
            "grid_template_rows": null,
            "height": null,
            "justify_content": null,
            "justify_items": null,
            "left": null,
            "margin": null,
            "max_height": null,
            "max_width": null,
            "min_height": null,
            "min_width": null,
            "object_fit": null,
            "object_position": null,
            "order": null,
            "overflow": null,
            "overflow_x": null,
            "overflow_y": null,
            "padding": null,
            "right": null,
            "top": null,
            "visibility": null,
            "width": null
          }
        },
        "b77f3def8bc14a7eb67fc8679e73b07b": {
          "model_module": "@jupyter-widgets/base",
          "model_name": "LayoutModel",
          "model_module_version": "1.2.0",
          "state": {
            "_model_module": "@jupyter-widgets/base",
            "_model_module_version": "1.2.0",
            "_model_name": "LayoutModel",
            "_view_count": null,
            "_view_module": "@jupyter-widgets/base",
            "_view_module_version": "1.2.0",
            "_view_name": "LayoutView",
            "align_content": null,
            "align_items": null,
            "align_self": null,
            "border": null,
            "bottom": null,
            "display": null,
            "flex": null,
            "flex_flow": null,
            "grid_area": null,
            "grid_auto_columns": null,
            "grid_auto_flow": null,
            "grid_auto_rows": null,
            "grid_column": null,
            "grid_gap": null,
            "grid_row": null,
            "grid_template_areas": null,
            "grid_template_columns": null,
            "grid_template_rows": null,
            "height": null,
            "justify_content": null,
            "justify_items": null,
            "left": null,
            "margin": null,
            "max_height": null,
            "max_width": null,
            "min_height": null,
            "min_width": null,
            "object_fit": null,
            "object_position": null,
            "order": null,
            "overflow": null,
            "overflow_x": null,
            "overflow_y": null,
            "padding": null,
            "right": null,
            "top": null,
            "visibility": null,
            "width": null
          }
        },
        "fc82b1e0f6d64a319423ecc2459e0bee": {
          "model_module": "@jupyter-widgets/controls",
          "model_name": "SliderStyleModel",
          "model_module_version": "1.5.0",
          "state": {
            "_model_module": "@jupyter-widgets/controls",
            "_model_module_version": "1.5.0",
            "_model_name": "SliderStyleModel",
            "_view_count": null,
            "_view_module": "@jupyter-widgets/base",
            "_view_module_version": "1.2.0",
            "_view_name": "StyleView",
            "description_width": "",
            "handle_color": null
          }
        },
        "a3af056a0b8a4d79b7d544b54f4f8ee5": {
          "model_module": "@jupyter-widgets/base",
          "model_name": "LayoutModel",
          "model_module_version": "1.2.0",
          "state": {
            "_model_module": "@jupyter-widgets/base",
            "_model_module_version": "1.2.0",
            "_model_name": "LayoutModel",
            "_view_count": null,
            "_view_module": "@jupyter-widgets/base",
            "_view_module_version": "1.2.0",
            "_view_name": "LayoutView",
            "align_content": null,
            "align_items": null,
            "align_self": null,
            "border": null,
            "bottom": null,
            "display": null,
            "flex": null,
            "flex_flow": null,
            "grid_area": null,
            "grid_auto_columns": null,
            "grid_auto_flow": null,
            "grid_auto_rows": null,
            "grid_column": null,
            "grid_gap": null,
            "grid_row": null,
            "grid_template_areas": null,
            "grid_template_columns": null,
            "grid_template_rows": null,
            "height": null,
            "justify_content": null,
            "justify_items": null,
            "left": null,
            "margin": null,
            "max_height": null,
            "max_width": null,
            "min_height": null,
            "min_width": null,
            "object_fit": null,
            "object_position": null,
            "order": null,
            "overflow": null,
            "overflow_x": null,
            "overflow_y": null,
            "padding": null,
            "right": null,
            "top": null,
            "visibility": null,
            "width": null
          }
        },
        "dac7e56d0c9243249a67f55b7bf2b38e": {
          "model_module": "@jupyter-widgets/controls",
          "model_name": "SliderStyleModel",
          "model_module_version": "1.5.0",
          "state": {
            "_model_module": "@jupyter-widgets/controls",
            "_model_module_version": "1.5.0",
            "_model_name": "SliderStyleModel",
            "_view_count": null,
            "_view_module": "@jupyter-widgets/base",
            "_view_module_version": "1.2.0",
            "_view_name": "StyleView",
            "description_width": "",
            "handle_color": null
          }
        },
        "8d151ab48eb24302a86e797be5d8bcde": {
          "model_module": "@jupyter-widgets/base",
          "model_name": "LayoutModel",
          "model_module_version": "1.2.0",
          "state": {
            "_model_module": "@jupyter-widgets/base",
            "_model_module_version": "1.2.0",
            "_model_name": "LayoutModel",
            "_view_count": null,
            "_view_module": "@jupyter-widgets/base",
            "_view_module_version": "1.2.0",
            "_view_name": "LayoutView",
            "align_content": null,
            "align_items": null,
            "align_self": null,
            "border": null,
            "bottom": null,
            "display": null,
            "flex": null,
            "flex_flow": null,
            "grid_area": null,
            "grid_auto_columns": null,
            "grid_auto_flow": null,
            "grid_auto_rows": null,
            "grid_column": null,
            "grid_gap": null,
            "grid_row": null,
            "grid_template_areas": null,
            "grid_template_columns": null,
            "grid_template_rows": null,
            "height": null,
            "justify_content": null,
            "justify_items": null,
            "left": null,
            "margin": null,
            "max_height": null,
            "max_width": null,
            "min_height": null,
            "min_width": null,
            "object_fit": null,
            "object_position": null,
            "order": null,
            "overflow": null,
            "overflow_x": null,
            "overflow_y": null,
            "padding": null,
            "right": null,
            "top": null,
            "visibility": null,
            "width": null
          }
        },
        "1d8e453b1318448facf4e8de07239de6": {
          "model_module": "@jupyter-widgets/controls",
          "model_name": "SliderStyleModel",
          "model_module_version": "1.5.0",
          "state": {
            "_model_module": "@jupyter-widgets/controls",
            "_model_module_version": "1.5.0",
            "_model_name": "SliderStyleModel",
            "_view_count": null,
            "_view_module": "@jupyter-widgets/base",
            "_view_module_version": "1.2.0",
            "_view_name": "StyleView",
            "description_width": "",
            "handle_color": null
          }
        },
        "ae5d323a9aa64b588a6313e5576e9129": {
          "model_module": "@jupyter-widgets/base",
          "model_name": "LayoutModel",
          "model_module_version": "1.2.0",
          "state": {
            "_model_module": "@jupyter-widgets/base",
            "_model_module_version": "1.2.0",
            "_model_name": "LayoutModel",
            "_view_count": null,
            "_view_module": "@jupyter-widgets/base",
            "_view_module_version": "1.2.0",
            "_view_name": "LayoutView",
            "align_content": null,
            "align_items": null,
            "align_self": null,
            "border": null,
            "bottom": null,
            "display": null,
            "flex": null,
            "flex_flow": null,
            "grid_area": null,
            "grid_auto_columns": null,
            "grid_auto_flow": null,
            "grid_auto_rows": null,
            "grid_column": null,
            "grid_gap": null,
            "grid_row": null,
            "grid_template_areas": null,
            "grid_template_columns": null,
            "grid_template_rows": null,
            "height": null,
            "justify_content": null,
            "justify_items": null,
            "left": null,
            "margin": null,
            "max_height": null,
            "max_width": null,
            "min_height": null,
            "min_width": null,
            "object_fit": null,
            "object_position": null,
            "order": null,
            "overflow": null,
            "overflow_x": null,
            "overflow_y": null,
            "padding": null,
            "right": null,
            "top": null,
            "visibility": null,
            "width": null
          }
        },
        "fb4ab6cdfb2d4ef08dea2cb7e0293be0": {
          "model_module": "@jupyter-widgets/controls",
          "model_name": "SliderStyleModel",
          "model_module_version": "1.5.0",
          "state": {
            "_model_module": "@jupyter-widgets/controls",
            "_model_module_version": "1.5.0",
            "_model_name": "SliderStyleModel",
            "_view_count": null,
            "_view_module": "@jupyter-widgets/base",
            "_view_module_version": "1.2.0",
            "_view_name": "StyleView",
            "description_width": "",
            "handle_color": null
          }
        },
        "19e21eb75a0c42e39a56b1aff8a4364d": {
          "model_module": "@jupyter-widgets/base",
          "model_name": "LayoutModel",
          "model_module_version": "1.2.0",
          "state": {
            "_model_module": "@jupyter-widgets/base",
            "_model_module_version": "1.2.0",
            "_model_name": "LayoutModel",
            "_view_count": null,
            "_view_module": "@jupyter-widgets/base",
            "_view_module_version": "1.2.0",
            "_view_name": "LayoutView",
            "align_content": null,
            "align_items": null,
            "align_self": null,
            "border": null,
            "bottom": null,
            "display": null,
            "flex": null,
            "flex_flow": null,
            "grid_area": null,
            "grid_auto_columns": null,
            "grid_auto_flow": null,
            "grid_auto_rows": null,
            "grid_column": null,
            "grid_gap": null,
            "grid_row": null,
            "grid_template_areas": null,
            "grid_template_columns": null,
            "grid_template_rows": null,
            "height": null,
            "justify_content": null,
            "justify_items": null,
            "left": null,
            "margin": null,
            "max_height": null,
            "max_width": null,
            "min_height": null,
            "min_width": null,
            "object_fit": null,
            "object_position": null,
            "order": null,
            "overflow": null,
            "overflow_x": null,
            "overflow_y": null,
            "padding": null,
            "right": null,
            "top": null,
            "visibility": null,
            "width": null
          }
        },
        "338b19905cf3407cb45e4b178505f26c": {
          "model_module": "@jupyter-widgets/controls",
          "model_name": "VBoxModel",
          "model_module_version": "1.5.0",
          "state": {
            "_dom_classes": [
              "widget-interact"
            ],
            "_model_module": "@jupyter-widgets/controls",
            "_model_module_version": "1.5.0",
            "_model_name": "VBoxModel",
            "_view_count": null,
            "_view_module": "@jupyter-widgets/controls",
            "_view_module_version": "1.5.0",
            "_view_name": "VBoxView",
            "box_style": "",
            "children": [
              "IPY_MODEL_64112d06ace640b2a1a111d81d7d37b2",
              "IPY_MODEL_be0e18d966f64cbe86e5ca901ea28238",
              "IPY_MODEL_5579c92d6d5348f3b5294a1f74314cbe",
              "IPY_MODEL_8447ce424ba0418b94fb68b804ceeb66",
              "IPY_MODEL_3e943590cf074b2c8d2e8ca4348127ec",
              "IPY_MODEL_621c51ee36b44ba9a14c02abab0b4128",
              "IPY_MODEL_aa06e533dfaf4dd1ad2f82bff4158f34"
            ],
            "layout": "IPY_MODEL_dbaa9bde9ef94514b15818802243fb35"
          }
        },
        "64112d06ace640b2a1a111d81d7d37b2": {
          "model_module": "@jupyter-widgets/controls",
          "model_name": "FloatSliderModel",
          "model_module_version": "1.5.0",
          "state": {
            "_dom_classes": [],
            "_model_module": "@jupyter-widgets/controls",
            "_model_module_version": "1.5.0",
            "_model_name": "FloatSliderModel",
            "_view_count": null,
            "_view_module": "@jupyter-widgets/controls",
            "_view_module_version": "1.5.0",
            "_view_name": "FloatSliderView",
            "continuous_update": true,
            "description": "m1",
            "description_tooltip": null,
            "disabled": false,
            "layout": "IPY_MODEL_2a50fd4fa40d4f80a29c34750efaa0ef",
            "max": 1.51,
            "min": -4.53,
            "orientation": "horizontal",
            "readout": true,
            "readout_format": ".2f",
            "step": 0.1,
            "style": "IPY_MODEL_92cf3fb9c0bb4666971f0cdd3bc45172",
            "value": -0.73
          }
        },
        "be0e18d966f64cbe86e5ca901ea28238": {
          "model_module": "@jupyter-widgets/controls",
          "model_name": "FloatSliderModel",
          "model_module_version": "1.5.0",
          "state": {
            "_dom_classes": [],
            "_model_module": "@jupyter-widgets/controls",
            "_model_module_version": "1.5.0",
            "_model_name": "FloatSliderModel",
            "_view_count": null,
            "_view_module": "@jupyter-widgets/controls",
            "_view_module_version": "1.5.0",
            "_view_name": "FloatSliderView",
            "continuous_update": true,
            "description": "b1",
            "description_tooltip": null,
            "disabled": false,
            "layout": "IPY_MODEL_99659e87063c4e128926d88e944f7dcf",
            "max": 1.51,
            "min": -4.53,
            "orientation": "horizontal",
            "readout": true,
            "readout_format": ".2f",
            "step": 0.1,
            "style": "IPY_MODEL_fb03500553554dc2923de7f9f21fa82b",
            "value": -1.83
          }
        },
        "5579c92d6d5348f3b5294a1f74314cbe": {
          "model_module": "@jupyter-widgets/controls",
          "model_name": "FloatSliderModel",
          "model_module_version": "1.5.0",
          "state": {
            "_dom_classes": [],
            "_model_module": "@jupyter-widgets/controls",
            "_model_module_version": "1.5.0",
            "_model_name": "FloatSliderModel",
            "_view_count": null,
            "_view_module": "@jupyter-widgets/controls",
            "_view_module_version": "1.5.0",
            "_view_name": "FloatSliderView",
            "continuous_update": true,
            "description": "m2",
            "description_tooltip": null,
            "disabled": false,
            "layout": "IPY_MODEL_7e723b7a47da45ddb2c659790489e086",
            "max": 4.53,
            "min": -1.51,
            "orientation": "horizontal",
            "readout": true,
            "readout_format": ".2f",
            "step": 0.1,
            "style": "IPY_MODEL_c37e138148834b758a8ffe92a09dc1e9",
            "value": 1.29
          }
        },
        "8447ce424ba0418b94fb68b804ceeb66": {
          "model_module": "@jupyter-widgets/controls",
          "model_name": "FloatSliderModel",
          "model_module_version": "1.5.0",
          "state": {
            "_dom_classes": [],
            "_model_module": "@jupyter-widgets/controls",
            "_model_module_version": "1.5.0",
            "_model_name": "FloatSliderModel",
            "_view_count": null,
            "_view_module": "@jupyter-widgets/controls",
            "_view_module_version": "1.5.0",
            "_view_name": "FloatSliderView",
            "continuous_update": true,
            "description": "b2",
            "description_tooltip": null,
            "disabled": false,
            "layout": "IPY_MODEL_d9bf27d8111e40ffac1f6c2bf20f777c",
            "max": 4.53,
            "min": -1.51,
            "orientation": "horizontal",
            "readout": true,
            "readout_format": ".2f",
            "step": 0.1,
            "style": "IPY_MODEL_e2565b27fb5e4cf0b89c2d271a2a2792",
            "value": 1.69
          }
        },
        "3e943590cf074b2c8d2e8ca4348127ec": {
          "model_module": "@jupyter-widgets/controls",
          "model_name": "FloatSliderModel",
          "model_module_version": "1.5.0",
          "state": {
            "_dom_classes": [],
            "_model_module": "@jupyter-widgets/controls",
            "_model_module_version": "1.5.0",
            "_model_name": "FloatSliderModel",
            "_view_count": null,
            "_view_module": "@jupyter-widgets/controls",
            "_view_module_version": "1.5.0",
            "_view_name": "FloatSliderView",
            "continuous_update": true,
            "description": "m3",
            "description_tooltip": null,
            "disabled": false,
            "layout": "IPY_MODEL_375a8d129bf14121b10959c32e616cf2",
            "max": 4.53,
            "min": -1.51,
            "orientation": "horizontal",
            "readout": true,
            "readout_format": ".2f",
            "step": 0.1,
            "style": "IPY_MODEL_68319544be77479d9a461a55be744b8f",
            "value": 3.39
          }
        },
        "621c51ee36b44ba9a14c02abab0b4128": {
          "model_module": "@jupyter-widgets/controls",
          "model_name": "FloatSliderModel",
          "model_module_version": "1.5.0",
          "state": {
            "_dom_classes": [],
            "_model_module": "@jupyter-widgets/controls",
            "_model_module_version": "1.5.0",
            "_model_name": "FloatSliderModel",
            "_view_count": null,
            "_view_module": "@jupyter-widgets/controls",
            "_view_module_version": "1.5.0",
            "_view_name": "FloatSliderView",
            "continuous_update": true,
            "description": "b3",
            "description_tooltip": null,
            "disabled": false,
            "layout": "IPY_MODEL_66def3aa9f7d4b50b757fb818cf31e5e",
            "max": 4.53,
            "min": -1.51,
            "orientation": "horizontal",
            "readout": true,
            "readout_format": ".2f",
            "step": 0.1,
            "style": "IPY_MODEL_43fe201396ea4c88a54129cfddbc91d4",
            "value": 1.19
          }
        },
        "aa06e533dfaf4dd1ad2f82bff4158f34": {
          "model_module": "@jupyter-widgets/output",
          "model_name": "OutputModel",
          "model_module_version": "1.0.0",
          "state": {
            "_dom_classes": [],
            "_model_module": "@jupyter-widgets/output",
            "_model_module_version": "1.0.0",
            "_model_name": "OutputModel",
            "_view_count": null,
            "_view_module": "@jupyter-widgets/output",
            "_view_module_version": "1.0.0",
            "_view_name": "OutputView",
            "layout": "IPY_MODEL_9be8b5e4c4e4483bb01222741c99d2d1",
            "msg_id": "",
            "outputs": [
              {
                "output_type": "display_data",
                "data": {
                  "text/plain": "<Figure size 432x288 with 1 Axes>",
                  "image/png": "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\n"
                },
                "metadata": {
                  "needs_background": "light"
                }
              }
            ]
          }
        },
        "dbaa9bde9ef94514b15818802243fb35": {
          "model_module": "@jupyter-widgets/base",
          "model_name": "LayoutModel",
          "model_module_version": "1.2.0",
          "state": {
            "_model_module": "@jupyter-widgets/base",
            "_model_module_version": "1.2.0",
            "_model_name": "LayoutModel",
            "_view_count": null,
            "_view_module": "@jupyter-widgets/base",
            "_view_module_version": "1.2.0",
            "_view_name": "LayoutView",
            "align_content": null,
            "align_items": null,
            "align_self": null,
            "border": null,
            "bottom": null,
            "display": null,
            "flex": null,
            "flex_flow": null,
            "grid_area": null,
            "grid_auto_columns": null,
            "grid_auto_flow": null,
            "grid_auto_rows": null,
            "grid_column": null,
            "grid_gap": null,
            "grid_row": null,
            "grid_template_areas": null,
            "grid_template_columns": null,
            "grid_template_rows": null,
            "height": null,
            "justify_content": null,
            "justify_items": null,
            "left": null,
            "margin": null,
            "max_height": null,
            "max_width": null,
            "min_height": null,
            "min_width": null,
            "object_fit": null,
            "object_position": null,
            "order": null,
            "overflow": null,
            "overflow_x": null,
            "overflow_y": null,
            "padding": null,
            "right": null,
            "top": null,
            "visibility": null,
            "width": null
          }
        },
        "2a50fd4fa40d4f80a29c34750efaa0ef": {
          "model_module": "@jupyter-widgets/base",
          "model_name": "LayoutModel",
          "model_module_version": "1.2.0",
          "state": {
            "_model_module": "@jupyter-widgets/base",
            "_model_module_version": "1.2.0",
            "_model_name": "LayoutModel",
            "_view_count": null,
            "_view_module": "@jupyter-widgets/base",
            "_view_module_version": "1.2.0",
            "_view_name": "LayoutView",
            "align_content": null,
            "align_items": null,
            "align_self": null,
            "border": null,
            "bottom": null,
            "display": null,
            "flex": null,
            "flex_flow": null,
            "grid_area": null,
            "grid_auto_columns": null,
            "grid_auto_flow": null,
            "grid_auto_rows": null,
            "grid_column": null,
            "grid_gap": null,
            "grid_row": null,
            "grid_template_areas": null,
            "grid_template_columns": null,
            "grid_template_rows": null,
            "height": null,
            "justify_content": null,
            "justify_items": null,
            "left": null,
            "margin": null,
            "max_height": null,
            "max_width": null,
            "min_height": null,
            "min_width": null,
            "object_fit": null,
            "object_position": null,
            "order": null,
            "overflow": null,
            "overflow_x": null,
            "overflow_y": null,
            "padding": null,
            "right": null,
            "top": null,
            "visibility": null,
            "width": null
          }
        },
        "92cf3fb9c0bb4666971f0cdd3bc45172": {
          "model_module": "@jupyter-widgets/controls",
          "model_name": "SliderStyleModel",
          "model_module_version": "1.5.0",
          "state": {
            "_model_module": "@jupyter-widgets/controls",
            "_model_module_version": "1.5.0",
            "_model_name": "SliderStyleModel",
            "_view_count": null,
            "_view_module": "@jupyter-widgets/base",
            "_view_module_version": "1.2.0",
            "_view_name": "StyleView",
            "description_width": "",
            "handle_color": null
          }
        },
        "99659e87063c4e128926d88e944f7dcf": {
          "model_module": "@jupyter-widgets/base",
          "model_name": "LayoutModel",
          "model_module_version": "1.2.0",
          "state": {
            "_model_module": "@jupyter-widgets/base",
            "_model_module_version": "1.2.0",
            "_model_name": "LayoutModel",
            "_view_count": null,
            "_view_module": "@jupyter-widgets/base",
            "_view_module_version": "1.2.0",
            "_view_name": "LayoutView",
            "align_content": null,
            "align_items": null,
            "align_self": null,
            "border": null,
            "bottom": null,
            "display": null,
            "flex": null,
            "flex_flow": null,
            "grid_area": null,
            "grid_auto_columns": null,
            "grid_auto_flow": null,
            "grid_auto_rows": null,
            "grid_column": null,
            "grid_gap": null,
            "grid_row": null,
            "grid_template_areas": null,
            "grid_template_columns": null,
            "grid_template_rows": null,
            "height": null,
            "justify_content": null,
            "justify_items": null,
            "left": null,
            "margin": null,
            "max_height": null,
            "max_width": null,
            "min_height": null,
            "min_width": null,
            "object_fit": null,
            "object_position": null,
            "order": null,
            "overflow": null,
            "overflow_x": null,
            "overflow_y": null,
            "padding": null,
            "right": null,
            "top": null,
            "visibility": null,
            "width": null
          }
        },
        "fb03500553554dc2923de7f9f21fa82b": {
          "model_module": "@jupyter-widgets/controls",
          "model_name": "SliderStyleModel",
          "model_module_version": "1.5.0",
          "state": {
            "_model_module": "@jupyter-widgets/controls",
            "_model_module_version": "1.5.0",
            "_model_name": "SliderStyleModel",
            "_view_count": null,
            "_view_module": "@jupyter-widgets/base",
            "_view_module_version": "1.2.0",
            "_view_name": "StyleView",
            "description_width": "",
            "handle_color": null
          }
        },
        "7e723b7a47da45ddb2c659790489e086": {
          "model_module": "@jupyter-widgets/base",
          "model_name": "LayoutModel",
          "model_module_version": "1.2.0",
          "state": {
            "_model_module": "@jupyter-widgets/base",
            "_model_module_version": "1.2.0",
            "_model_name": "LayoutModel",
            "_view_count": null,
            "_view_module": "@jupyter-widgets/base",
            "_view_module_version": "1.2.0",
            "_view_name": "LayoutView",
            "align_content": null,
            "align_items": null,
            "align_self": null,
            "border": null,
            "bottom": null,
            "display": null,
            "flex": null,
            "flex_flow": null,
            "grid_area": null,
            "grid_auto_columns": null,
            "grid_auto_flow": null,
            "grid_auto_rows": null,
            "grid_column": null,
            "grid_gap": null,
            "grid_row": null,
            "grid_template_areas": null,
            "grid_template_columns": null,
            "grid_template_rows": null,
            "height": null,
            "justify_content": null,
            "justify_items": null,
            "left": null,
            "margin": null,
            "max_height": null,
            "max_width": null,
            "min_height": null,
            "min_width": null,
            "object_fit": null,
            "object_position": null,
            "order": null,
            "overflow": null,
            "overflow_x": null,
            "overflow_y": null,
            "padding": null,
            "right": null,
            "top": null,
            "visibility": null,
            "width": null
          }
        },
        "c37e138148834b758a8ffe92a09dc1e9": {
          "model_module": "@jupyter-widgets/controls",
          "model_name": "SliderStyleModel",
          "model_module_version": "1.5.0",
          "state": {
            "_model_module": "@jupyter-widgets/controls",
            "_model_module_version": "1.5.0",
            "_model_name": "SliderStyleModel",
            "_view_count": null,
            "_view_module": "@jupyter-widgets/base",
            "_view_module_version": "1.2.0",
            "_view_name": "StyleView",
            "description_width": "",
            "handle_color": null
          }
        },
        "d9bf27d8111e40ffac1f6c2bf20f777c": {
          "model_module": "@jupyter-widgets/base",
          "model_name": "LayoutModel",
          "model_module_version": "1.2.0",
          "state": {
            "_model_module": "@jupyter-widgets/base",
            "_model_module_version": "1.2.0",
            "_model_name": "LayoutModel",
            "_view_count": null,
            "_view_module": "@jupyter-widgets/base",
            "_view_module_version": "1.2.0",
            "_view_name": "LayoutView",
            "align_content": null,
            "align_items": null,
            "align_self": null,
            "border": null,
            "bottom": null,
            "display": null,
            "flex": null,
            "flex_flow": null,
            "grid_area": null,
            "grid_auto_columns": null,
            "grid_auto_flow": null,
            "grid_auto_rows": null,
            "grid_column": null,
            "grid_gap": null,
            "grid_row": null,
            "grid_template_areas": null,
            "grid_template_columns": null,
            "grid_template_rows": null,
            "height": null,
            "justify_content": null,
            "justify_items": null,
            "left": null,
            "margin": null,
            "max_height": null,
            "max_width": null,
            "min_height": null,
            "min_width": null,
            "object_fit": null,
            "object_position": null,
            "order": null,
            "overflow": null,
            "overflow_x": null,
            "overflow_y": null,
            "padding": null,
            "right": null,
            "top": null,
            "visibility": null,
            "width": null
          }
        },
        "e2565b27fb5e4cf0b89c2d271a2a2792": {
          "model_module": "@jupyter-widgets/controls",
          "model_name": "SliderStyleModel",
          "model_module_version": "1.5.0",
          "state": {
            "_model_module": "@jupyter-widgets/controls",
            "_model_module_version": "1.5.0",
            "_model_name": "SliderStyleModel",
            "_view_count": null,
            "_view_module": "@jupyter-widgets/base",
            "_view_module_version": "1.2.0",
            "_view_name": "StyleView",
            "description_width": "",
            "handle_color": null
          }
        },
        "375a8d129bf14121b10959c32e616cf2": {
          "model_module": "@jupyter-widgets/base",
          "model_name": "LayoutModel",
          "model_module_version": "1.2.0",
          "state": {
            "_model_module": "@jupyter-widgets/base",
            "_model_module_version": "1.2.0",
            "_model_name": "LayoutModel",
            "_view_count": null,
            "_view_module": "@jupyter-widgets/base",
            "_view_module_version": "1.2.0",
            "_view_name": "LayoutView",
            "align_content": null,
            "align_items": null,
            "align_self": null,
            "border": null,
            "bottom": null,
            "display": null,
            "flex": null,
            "flex_flow": null,
            "grid_area": null,
            "grid_auto_columns": null,
            "grid_auto_flow": null,
            "grid_auto_rows": null,
            "grid_column": null,
            "grid_gap": null,
            "grid_row": null,
            "grid_template_areas": null,
            "grid_template_columns": null,
            "grid_template_rows": null,
            "height": null,
            "justify_content": null,
            "justify_items": null,
            "left": null,
            "margin": null,
            "max_height": null,
            "max_width": null,
            "min_height": null,
            "min_width": null,
            "object_fit": null,
            "object_position": null,
            "order": null,
            "overflow": null,
            "overflow_x": null,
            "overflow_y": null,
            "padding": null,
            "right": null,
            "top": null,
            "visibility": null,
            "width": null
          }
        },
        "68319544be77479d9a461a55be744b8f": {
          "model_module": "@jupyter-widgets/controls",
          "model_name": "SliderStyleModel",
          "model_module_version": "1.5.0",
          "state": {
            "_model_module": "@jupyter-widgets/controls",
            "_model_module_version": "1.5.0",
            "_model_name": "SliderStyleModel",
            "_view_count": null,
            "_view_module": "@jupyter-widgets/base",
            "_view_module_version": "1.2.0",
            "_view_name": "StyleView",
            "description_width": "",
            "handle_color": null
          }
        },
        "66def3aa9f7d4b50b757fb818cf31e5e": {
          "model_module": "@jupyter-widgets/base",
          "model_name": "LayoutModel",
          "model_module_version": "1.2.0",
          "state": {
            "_model_module": "@jupyter-widgets/base",
            "_model_module_version": "1.2.0",
            "_model_name": "LayoutModel",
            "_view_count": null,
            "_view_module": "@jupyter-widgets/base",
            "_view_module_version": "1.2.0",
            "_view_name": "LayoutView",
            "align_content": null,
            "align_items": null,
            "align_self": null,
            "border": null,
            "bottom": null,
            "display": null,
            "flex": null,
            "flex_flow": null,
            "grid_area": null,
            "grid_auto_columns": null,
            "grid_auto_flow": null,
            "grid_auto_rows": null,
            "grid_column": null,
            "grid_gap": null,
            "grid_row": null,
            "grid_template_areas": null,
            "grid_template_columns": null,
            "grid_template_rows": null,
            "height": null,
            "justify_content": null,
            "justify_items": null,
            "left": null,
            "margin": null,
            "max_height": null,
            "max_width": null,
            "min_height": null,
            "min_width": null,
            "object_fit": null,
            "object_position": null,
            "order": null,
            "overflow": null,
            "overflow_x": null,
            "overflow_y": null,
            "padding": null,
            "right": null,
            "top": null,
            "visibility": null,
            "width": null
          }
        },
        "43fe201396ea4c88a54129cfddbc91d4": {
          "model_module": "@jupyter-widgets/controls",
          "model_name": "SliderStyleModel",
          "model_module_version": "1.5.0",
          "state": {
            "_model_module": "@jupyter-widgets/controls",
            "_model_module_version": "1.5.0",
            "_model_name": "SliderStyleModel",
            "_view_count": null,
            "_view_module": "@jupyter-widgets/base",
            "_view_module_version": "1.2.0",
            "_view_name": "StyleView",
            "description_width": "",
            "handle_color": null
          }
        },
        "9be8b5e4c4e4483bb01222741c99d2d1": {
          "model_module": "@jupyter-widgets/base",
          "model_name": "LayoutModel",
          "model_module_version": "1.2.0",
          "state": {
            "_model_module": "@jupyter-widgets/base",
            "_model_module_version": "1.2.0",
            "_model_name": "LayoutModel",
            "_view_count": null,
            "_view_module": "@jupyter-widgets/base",
            "_view_module_version": "1.2.0",
            "_view_name": "LayoutView",
            "align_content": null,
            "align_items": null,
            "align_self": null,
            "border": null,
            "bottom": null,
            "display": null,
            "flex": null,
            "flex_flow": null,
            "grid_area": null,
            "grid_auto_columns": null,
            "grid_auto_flow": null,
            "grid_auto_rows": null,
            "grid_column": null,
            "grid_gap": null,
            "grid_row": null,
            "grid_template_areas": null,
            "grid_template_columns": null,
            "grid_template_rows": null,
            "height": null,
            "justify_content": null,
            "justify_items": null,
            "left": null,
            "margin": null,
            "max_height": null,
            "max_width": null,
            "min_height": null,
            "min_width": null,
            "object_fit": null,
            "object_position": null,
            "order": null,
            "overflow": null,
            "overflow_x": null,
            "overflow_y": null,
            "padding": null,
            "right": null,
            "top": null,
            "visibility": null,
            "width": null
          }
        }
      }
    }
  },
  "cells": [
    {
      "cell_type": "markdown",
      "metadata": {
        "id": "view-in-github",
        "colab_type": "text"
      },
      "source": [
        "<a href=\"https://colab.research.google.com/github/satani99/practical_deep_learning_for_coders/blob/main/neural_net.ipynb\" target=\"_parent\"><img src=\"https://colab.research.google.com/assets/colab-badge.svg\" alt=\"Open In Colab\"/></a>"
      ]
    },
    {
      "cell_type": "code",
      "execution_count": 1,
      "metadata": {
        "id": "2RUBWO5EV9du"
      },
      "outputs": [],
      "source": [
        "from ipywidgets import interact\n",
        "from fastai.basics import *\n",
        "\n",
        "plt.rc('figure', dpi=90)\n",
        "\n",
        "def plot_function(f, title=None, min=-2.1, max=2.1, color='r', ylim=None):\n",
        "  x = torch.linspace(min, max, 100)[:, None]\n",
        "  if ylim: plt.ylim(ylim)\n",
        "  plt.plot(x, f(x), color)\n",
        "  if title is not None: plt.title(title)"
      ]
    },
    {
      "cell_type": "code",
      "source": [
        "def f(x): return 3*x**2 + 2*x + 1\n",
        "\n",
        "plot_function(f, \"$3x^2 + 2x + 1$\")"
      ],
      "metadata": {
        "colab": {
          "base_uri": "https://localhost:8080/",
          "height": 285
        },
        "id": "nMG1mihCZKpk",
        "outputId": "69a58ed2-5804-4f55-984f-269c6b50cf6c"
      },
      "execution_count": 2,
      "outputs": [
        {
          "output_type": "display_data",
          "data": {
            "text/plain": [
              "<Figure size 432x288 with 1 Axes>"
            ],
            "image/png": "[encoded data removed]"
          },
          "metadata": {
            "needs_background": "light"
          }
        }
      ]
    },
    {
      "cell_type": "code",
      "source": [
        "def quad(a, b, c, x): return a*x**2 + b*x + c"
      ],
      "metadata": {
        "id": "803UEQhWZgMZ"
      },
      "execution_count": 3,
      "outputs": []
    },
    {
      "cell_type": "code",
      "source": [
        "def mk_quad(a, b, c): return partial(quad, a, b, c)"
      ],
      "metadata": {
        "id": "5hj4P3W3aDuU"
      },
      "execution_count": 4,
      "outputs": []
    },
    {
      "cell_type": "code",
      "source": [
        "f2 = mk_quad(3, 2, 1)\n",
        "plot_function(f2)"
      ],
      "metadata": {
        "colab": {
          "base_uri": "https://localhost:8080/",
          "height": 265
        },
        "id": "6uUSUY_PaRRm",
        "outputId": "0fac85fa-02a9-4f14-f83c-a997812be83f"
      },
      "execution_count": 5,
      "outputs": [
        {
          "output_type": "display_data",
          "data": {
            "text/plain": [
              "<Figure size 432x288 with 1 Axes>"
            ],
            "image/png": "[encoded data removed]"
          },
          "metadata": {
            "needs_background": "light"
          }
        }
      ]
    },
    {
      "cell_type": "code",
      "source": [
        "def noise(x, scale): return np.random.normal(scale=scale, size=x.shape)\n",
        "def add_noise(x, mult, add): return x * (1+noise(x, mult)) + noise(x, add)"
      ],
      "metadata": {
        "id": "fJZQaNNGacfX"
      },
      "execution_count": 6,
      "outputs": []
    },
    {
      "cell_type": "code",
      "source": [
        "np.random.seed(42)\n",
        "\n",
        "x = torch.linspace(-2, 2, steps=20)[:, None]\n",
        "y = add_noise(f(x), 0.15, 1.5)"
      ],
      "metadata": {
        "id": "SNfmeIP7a0UW"
      },
      "execution_count": 7,
      "outputs": []
    },
    {
      "cell_type": "code",
      "source": [
        "x[:5], y[: 5]"
      ],
      "metadata": {
        "colab": {
          "base_uri": "https://localhost:8080/"
        },
        "id": "QZM0m8gRbZmT",
        "outputId": "99f40a29-6e48-48c1-fc70-ecbca0745c10"
      },
      "execution_count": 9,
      "outputs": [
        {
          "output_type": "execute_result",
          "data": {
            "text/plain": [
              "(tensor([[-2.0000],\n",
              "         [-1.7895],\n",
              "         [-1.5789],\n",
              "         [-1.3684],\n",
              "         [-1.1579]]), tensor([[11.8690],\n",
              "         [ 6.5433],\n",
              "         [ 5.9396],\n",
              "         [ 2.6304],\n",
              "         [ 1.7947]], dtype=torch.float64))"
            ]
          },
          "metadata": {},
          "execution_count": 9
        }
      ]
    },
    {
      "cell_type": "code",
      "source": [
        "plt.scatter(x, y);"
      ],
      "metadata": {
        "colab": {
          "base_uri": "https://localhost:8080/",
          "height": 265
        },
        "id": "Djy5cdGAbpz7",
        "outputId": "a03c4f6e-1744-44f6-c6f8-0ba571d50cd6"
      },
      "execution_count": 10,
      "outputs": [
        {
          "output_type": "display_data",
          "data": {
            "text/plain": [
              "<Figure size 432x288 with 1 Axes>"
            ],
            "image/png": "[encoded data removed]"
          },
          "metadata": {
            "needs_background": "light"
          }
        }
      ]
    },
    {
      "cell_type": "code",
      "source": [
        "@interact(a=1.1, b=1.1, c=1.1)\n",
        "def plot_quad(a, b, c):\n",
        "  plt.scatter(x, y)\n",
        "  plot_function(mk_quad(a, b, c), ylim=(-3, 13))"
      ],
      "metadata": {
        "colab": {
          "base_uri": "https://localhost:8080/",
          "height": 361,
          "referenced_widgets": [
            "aed2f990f10541c09b5361d2dac19a1d",
            "e90492d360c74fe59d85bf525dddf0a8",
            "4275358198744dc7848f64a93a52ec3c",
            "ef3051fa86eb494196a2e3508c300746",
            "c0c6e2e6c36743e9a1802a32d89a9ebd",
            "e0f4f2cac3da4c88b3d5b4c96b3bbe2a",
            "5da6a175fc9048fe9fd54f1b083804c7",
            "09c23c756ba143c2a54f8766138d865a",
            "5d966bafe1804f94bb9811a010f23cef",
            "e97d266c37754ad58ba194feff56917d",
            "c098fbe5aac34a5aadf6ff9482be24ab",
            "15ffca7a60144bb3a98ab31049fef212",
            "6e4ec0bf79f64dbb9bbad560518abfae"
          ]
        },
        "id": "-k9omssjb_vq",
        "outputId": "970eae9d-c6c6-457d-b8f8-37b4aa79fa52"
      },
      "execution_count": 12,
      "outputs": [
        {
          "output_type": "display_data",
          "data": {
            "text/plain": [
              "interactive(children=(FloatSlider(value=1.1, description='a', max=3.3000000000000003, min=-1.1), FloatSlider(v…"
            ],
            "application/vnd.jupyter.widget-view+json": {
              "version_major": 2,
              "version_minor": 0,
              "model_id": "aed2f990f10541c09b5361d2dac19a1d"
            }
          },
          "metadata": {}
        }
      ]
    },
    {
      "cell_type": "code",
      "source": [
        "def mae(preds, acts): return (torch.abs(preds - acts)).mean()"
      ],
      "metadata": {
        "id": "hqLjRPeycUK1"
      },
      "execution_count": 13,
      "outputs": []
    },
    {
      "cell_type": "code",
      "source": [
        "@interact(a=1.1, b=1.1, c=1.1)\n",
        "def plot_quad(a, b, c):\n",
        "  f = mk_quad(a, b, c)\n",
        "  plt.scatter(x, y)\n",
        "  loss = mae(f(x), y)\n",
        "  plot_function(f, ylim=(-3, 12), title=f\"MAE: {loss:.2f}\")"
      ],
      "metadata": {
        "colab": {
          "base_uri": "https://localhost:8080/",
          "height": 377,
          "referenced_widgets": [
            "7b7474b5b6a54cf49cdc41368d91d429",
            "29c66ddd14dd4126a110826c7e5e9584",
            "42c79788d6fa4c0cb508b563d481185c",
            "b3d3ca68ae214fb28d2682d56711e157",
            "3a734a0ac57c4b89a830c9ae5f5f0d84",
            "39e737fbdae74142be83ea73b89fd63a",
            "c9544da052744ad6b1aaec25a6686c05",
            "9f33aeeb1cf24c8e8e20bd5de358d07f",
            "3851959189764c0f881121132fbaaaf4",
            "a8e1100a0d6b48239e24c3e35017419a",
            "5600622e8ce14d44be7ea1356d0d6436",
            "ab420f40773c4de4aae74daf1a58f515",
            "9d8cc2795caf406f9a66a572e237bc11"
          ]
        },
        "id": "U-J1P_C4cz2C",
        "outputId": "045f9f8d-0574-4ff0-a9eb-e7fdce815b8d"
      },
      "execution_count": 14,
      "outputs": [
        {
          "output_type": "display_data",
          "data": {
            "text/plain": [
              "interactive(children=(FloatSlider(value=1.1, description='a', max=3.3000000000000003, min=-1.1), FloatSlider(v…"
            ],
            "application/vnd.jupyter.widget-view+json": {
              "version_major": 2,
              "version_minor": 0,
              "model_id": "7b7474b5b6a54cf49cdc41368d91d429"
            }
          },
          "metadata": {}
        }
      ]
    },
    {
      "cell_type": "code",
      "source": [
        "def quad_mae(params):\n",
        "  f = mk_quad(*params)\n",
        "  return mae(f(x), y)"
      ],
      "metadata": {
        "id": "CfYu1bLDdUoC"
      },
      "execution_count": 17,
      "outputs": []
    },
    {
      "cell_type": "code",
      "source": [
        "quad_mae([1.1, 1.1, 1.1])"
      ],
      "metadata": {
        "colab": {
          "base_uri": "https://localhost:8080/"
        },
        "id": "gp74LYPjeH3K",
        "outputId": "2e48ed97-62cf-4af8-ea18-8a09eaa303c1"
      },
      "execution_count": 18,
      "outputs": [
        {
          "output_type": "execute_result",
          "data": {
            "text/plain": [
              "tensor(2.4219, dtype=torch.float64)"
            ]
          },
          "metadata": {},
          "execution_count": 18
        }
      ]
    },
    {
      "cell_type": "code",
      "source": [
        "abc = torch.tensor([1.1, 1.1, 1.1])"
      ],
      "metadata": {
        "id": "F3cAI9GVedQd"
      },
      "execution_count": 19,
      "outputs": []
    },
    {
      "cell_type": "code",
      "source": [
        "abc.requires_grad_()"
      ],
      "metadata": {
        "colab": {
          "base_uri": "https://localhost:8080/"
        },
        "id": "_4G9ddnvgodn",
        "outputId": "09548c67-e5f6-4853-da7a-de8ec7095c53"
      },
      "execution_count": 20,
      "outputs": [
        {
          "output_type": "execute_result",
          "data": {
            "text/plain": [
              "tensor([1.1000, 1.1000, 1.1000], requires_grad=True)"
            ]
          },
          "metadata": {},
          "execution_count": 20
        }
      ]
    },
    {
      "cell_type": "code",
      "source": [
        "loss = quad_mae(abc)\n",
        "loss"
      ],
      "metadata": {
        "colab": {
          "base_uri": "https://localhost:8080/"
        },
        "id": "YDJS-HZPgtH6",
        "outputId": "6414fdcd-6ec3-45f1-99ba-e38245628768"
      },
      "execution_count": 22,
      "outputs": [
        {
          "output_type": "execute_result",
          "data": {
            "text/plain": [
              "tensor(2.4219, dtype=torch.float64, grad_fn=<MeanBackward0>)"
            ]
          },
          "metadata": {},
          "execution_count": 22
        }
      ]
    },
    {
      "cell_type": "code",
      "source": [
        "loss.backward()"
      ],
      "metadata": {
        "id": "M_6Z8tIOgySy"
      },
      "execution_count": 23,
      "outputs": []
    },
    {
      "cell_type": "code",
      "source": [
        "abc.grad"
      ],
      "metadata": {
        "colab": {
          "base_uri": "https://localhost:8080/"
        },
        "id": "iXOGgfw4g2Z6",
        "outputId": "b805fb05-199f-4318-bcf7-a035d3c27307"
      },
      "execution_count": 24,
      "outputs": [
        {
          "output_type": "execute_result",
          "data": {
            "text/plain": [
              "tensor([-1.3529, -0.0316, -0.5000])"
            ]
          },
          "metadata": {},
          "execution_count": 24
        }
      ]
    },
    {
      "cell_type": "code",
      "source": [
        "with torch.no_grad():\n",
        "  abc -= abc.grad*0.01\n",
        "  loss = quad_mae(abc)\n",
        "\n",
        "print(f'loss={loss:.2f}')"
      ],
      "metadata": {
        "colab": {
          "base_uri": "https://localhost:8080/"
        },
        "id": "uQpXujaTg4sq",
        "outputId": "2c76088e-97ff-4f0f-d322-c3795c457386"
      },
      "execution_count": 31,
      "outputs": [
        {
          "output_type": "stream",
          "name": "stdout",
          "text": [
            "loss=7.53\n"
          ]
        }
      ]
    },
    {
      "cell_type": "code",
      "source": [
        "for i in range(10):\n",
        "  loss = quad_mae(abc)\n",
        "  loss.backward()\n",
        "  with torch.no_grad(): abc -= abc.grad*0.01\n",
        "  print(f'step={i}; loss={loss:.2f}')"
      ],
      "metadata": {
        "colab": {
          "base_uri": "https://localhost:8080/"
        },
        "id": "MsJnnmjghJ8x",
        "outputId": "573c8820-a7bf-4948-8460-e24b5340d43b"
      },
      "execution_count": 34,
      "outputs": [
        {
          "output_type": "stream",
          "name": "stdout",
          "text": [
            "step=0; loss=9.53\n",
            "step=1; loss=9.42\n",
            "step=2; loss=9.29\n",
            "step=3; loss=9.12\n",
            "step=4; loss=8.92\n",
            "step=5; loss=8.69\n",
            "step=6; loss=8.43\n",
            "step=7; loss=8.13\n",
            "step=8; loss=7.80\n",
            "step=9; loss=7.50\n"
          ]
        }
      ]
    },
    {
      "cell_type": "code",
      "source": [
        "def rectified_linear(m, b, x):\n",
        "  y = m*x + b\n",
        "  return torch.clip(y, 0.)"
      ],
      "metadata": {
        "id": "dUqjJ81Phxaa"
      },
      "execution_count": 35,
      "outputs": []
    },
    {
      "cell_type": "code",
      "source": [
        "plot_function(partial(rectified_linear, 1, 1))"
      ],
      "metadata": {
        "colab": {
          "base_uri": "https://localhost:8080/",
          "height": 265
        },
        "id": "WYfJES5-isYe",
        "outputId": "64e85e3a-3b40-4a6c-d289-a85142f00769"
      },
      "execution_count": 36,
      "outputs": [
        {
          "output_type": "display_data",
          "data": {
            "text/plain": [
              "<Figure size 432x288 with 1 Axes>"
            ],
            "image/png": "[encoded data removed]"
          },
          "metadata": {
            "needs_background": "light"
          }
        }
      ]
    },
    {
      "cell_type": "code",
      "source": [
        "import torch.nn.functional as F\n",
        "def rectified_linear2(m, b, x): return F.relu(m*x + b)\n",
        "plot_function(partial(rectified_linear2, 1, 1))"
      ],
      "metadata": {
        "colab": {
          "base_uri": "https://localhost:8080/",
          "height": 265
        },
        "id": "ldqRN_dciy3F",
        "outputId": "838ad6ef-c17f-496f-bdc4-c6c3f3724f70"
      },
      "execution_count": 37,
      "outputs": [
        {
          "output_type": "display_data",
          "data": {
            "text/plain": [
              "<Figure size 432x288 with 1 Axes>"
            ],
            "image/png": "[encoded data removed]"
          },
          "metadata": {
            "needs_background": "light"
          }
        }
      ]
    },
    {
      "cell_type": "code",
      "source": [
        "@interact(m=1.5, b=1.5)\n",
        "def plot_relu(m, b):\n",
        "  plot_function(partial(rectified_linear, m, b), ylim=(-1, 4))"
      ],
      "metadata": {
        "colab": {
          "base_uri": "https://localhost:8080/",
          "height": 333,
          "referenced_widgets": [
            "f4c0ae3b6186463e8254843f5cc2c771",
            "73c20e82bd3748869da5570c7a180394",
            "0d7f8acd32544f08b0f7b5abde77f2be",
            "0ebc8958214d42459af736430582b3d2",
            "e4fa9e632ade48408dafcf6425e48bee",
            "4e69d1f043774e27b81af2a41bf19ea0",
            "04ea4a804af54ce4b711dff1bc3c641f",
            "85c3655c27914e1e92c6a161c6e2ab3b",
            "687a497351fc4dce8d48db7cc72b4140",
            "f94ff7d9be8145d0bf057e361212e6ca"
          ]
        },
        "id": "_sAIgg7GlmXu",
        "outputId": "3b82c98f-540e-480f-c789-eba12aabf502"
      },
      "execution_count": 38,
      "outputs": [
        {
          "output_type": "display_data",
          "data": {
            "text/plain": [
              "interactive(children=(FloatSlider(value=1.5, description='m', max=4.5, min=-1.5), FloatSlider(value=1.5, descr…"
            ],
            "application/vnd.jupyter.widget-view+json": {
              "version_major": 2,
              "version_minor": 0,
              "model_id": "f4c0ae3b6186463e8254843f5cc2c771"
            }
          },
          "metadata": {}
        }
      ]
    },
    {
      "cell_type": "code",
      "source": [
        "def double_relu(m1, b1, m2, b2, x):\n",
        "  return rectified_linear(m1, b1, x) + rectified_linear(m2, b2, x)\n",
        "\n",
        "@interact(m1=-1.5, b1=-1.5, m2=1.5, b2=1.5)\n",
        "def plot_double_relu(m1, b1, m2, b2):\n",
        "  plot_function(partial(double_relu, m1, b1, m2, b2), ylim=(-1, 6))"
      ],
      "metadata": {
        "colab": {
          "base_uri": "https://localhost:8080/",
          "height": 397,
          "referenced_widgets": [
            "eb78d39a5c394c38b8cf4b6f5ba7b8b7",
            "84538a72092641ff91a34389656cdfb3",
            "42e6cdd4e0544149b5f8def5689eb8b2",
            "7f85ea4f499f42178954666ea2d0c1dc",
            "cb92658d9aaf48acbe487dccc2b33a07",
            "249cc2ca2c1647e2826eba9d9b8b34e4",
            "a0f75059ba8c4a74ba549bdd61a17284",
            "b77f3def8bc14a7eb67fc8679e73b07b",
            "fc82b1e0f6d64a319423ecc2459e0bee",
            "a3af056a0b8a4d79b7d544b54f4f8ee5",
            "dac7e56d0c9243249a67f55b7bf2b38e",
            "8d151ab48eb24302a86e797be5d8bcde",
            "1d8e453b1318448facf4e8de07239de6",
            "ae5d323a9aa64b588a6313e5576e9129",
            "fb4ab6cdfb2d4ef08dea2cb7e0293be0",
            "19e21eb75a0c42e39a56b1aff8a4364d"
          ]
        },
        "id": "thoiZTXNjMM6",
        "outputId": "bd586910-709f-4830-b200-cd4c13e6d073"
      },
      "execution_count": 39,
      "outputs": [
        {
          "output_type": "display_data",
          "data": {
            "text/plain": [
              "interactive(children=(FloatSlider(value=-1.5, description='m1', max=1.5, min=-4.5), FloatSlider(value=-1.5, de…"
            ],
            "application/vnd.jupyter.widget-view+json": {
              "version_major": 2,
              "version_minor": 0,
              "model_id": "eb78d39a5c394c38b8cf4b6f5ba7b8b7"
            }
          },
          "metadata": {}
        }
      ]
    },
    {
      "cell_type": "code",
      "source": [
        "def triple_relu(m1, b1, m2, b2, m3, b3, x):\n",
        "  return rectified_linear(m1, b1, x) + rectified_linear(m2, b2, x) + rectified_linear(m3, b3, x)\n",
        "\n",
        "# plot_scatter(x, y)\n",
        "@interact(m1=-1.51, b1=-1.51, m2=1.51, b2=1.51, m3=1.51, b3=1.51)\n",
        "def plot_triple_relu(m1, b1, m2, b2, m3, b3):\n",
        "  plt.scatter(x, y)\n",
        "  plot_function(partial(triple_relu, m1, b1, m2, b2, m3, b3), ylim=(-4, 15))"
      ],
      "metadata": {
        "colab": {
          "base_uri": "https://localhost:8080/",
          "height": 461,
          "referenced_widgets": [
            "338b19905cf3407cb45e4b178505f26c",
            "64112d06ace640b2a1a111d81d7d37b2",
            "be0e18d966f64cbe86e5ca901ea28238",
            "5579c92d6d5348f3b5294a1f74314cbe",
            "8447ce424ba0418b94fb68b804ceeb66",
            "3e943590cf074b2c8d2e8ca4348127ec",
            "621c51ee36b44ba9a14c02abab0b4128",
            "aa06e533dfaf4dd1ad2f82bff4158f34",
            "dbaa9bde9ef94514b15818802243fb35",
            "2a50fd4fa40d4f80a29c34750efaa0ef",
            "92cf3fb9c0bb4666971f0cdd3bc45172",
            "99659e87063c4e128926d88e944f7dcf",
            "fb03500553554dc2923de7f9f21fa82b",
            "7e723b7a47da45ddb2c659790489e086",
            "c37e138148834b758a8ffe92a09dc1e9",
            "d9bf27d8111e40ffac1f6c2bf20f777c",
            "e2565b27fb5e4cf0b89c2d271a2a2792",
            "375a8d129bf14121b10959c32e616cf2",
            "68319544be77479d9a461a55be744b8f",
            "66def3aa9f7d4b50b757fb818cf31e5e",
            "43fe201396ea4c88a54129cfddbc91d4",
            "9be8b5e4c4e4483bb01222741c99d2d1"
          ]
        },
        "id": "6aHeCsOXmgnq",
        "outputId": "88f6ec83-5483-4f2a-aff4-8cbf2ad65fcf"
      },
      "execution_count": 48,
      "outputs": [
        {
          "output_type": "display_data",
          "data": {
            "text/plain": [
              "interactive(children=(FloatSlider(value=-1.51, description='m1', max=1.51, min=-4.53), FloatSlider(value=-1.51…"
            ],
            "application/vnd.jupyter.widget-view+json": {
              "version_major": 2,
              "version_minor": 0,
              "model_id": "338b19905cf3407cb45e4b178505f26c"
            }
          },
          "metadata": {}
        }
      ]
    },
    {
      "cell_type": "code",
      "source": [
        ""
      ],
      "metadata": {
        "id": "EXIf5K2Zn-4R"
      },
      "execution_count": null,
      "outputs": []
    }
  ]
}