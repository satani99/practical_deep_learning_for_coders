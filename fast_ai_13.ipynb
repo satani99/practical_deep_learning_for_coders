{
  "nbformat": 4,
  "nbformat_minor": 0,
  "metadata": {
    "colab": {
      "provenance": [],
      "authorship_tag": "ABX9TyMEpryX7fcoQNta6ncKZy/W",
      "include_colab_link": true
    },
    "kernelspec": {
      "name": "python3",
      "display_name": "Python 3"
    },
    "language_info": {
      "name": "python"
    }
  },
  "cells": [
    {
      "cell_type": "markdown",
      "metadata": {
        "id": "view-in-github",
        "colab_type": "text"
      },
      "source": [
        "<a href=\"https://colab.research.google.com/github/satani99/practical_deep_learning_for_coders/blob/main/fast_ai_13.ipynb\" target=\"_parent\"><img src=\"https://colab.research.google.com/assets/colab-badge.svg\" alt=\"Open In Colab\"/></a>"
      ]
    },
    {
      "cell_type": "code",
      "execution_count": 1,
      "metadata": {
        "id": "hf4U_0z62Hlp"
      },
      "outputs": [],
      "source": [
        "from fastai.vision.all import *"
      ]
    },
    {
      "cell_type": "code",
      "source": [
        "top_edge = tensor([[1, 1, 1],\n",
        "                   [0, 0, 0],\n",
        "                   [-1, -1, -1]]).float()"
      ],
      "metadata": {
        "id": "U6mTDv9q8FnT"
      },
      "execution_count": 2,
      "outputs": []
    },
    {
      "cell_type": "code",
      "source": [
        "path = untar_data(URLs.MNIST_SAMPLE)\n",
        "\n",
        "im3 = Image.open(path/'train'/'3'/'12.png')\n",
        "show_image(im3);"
      ],
      "metadata": {
        "colab": {
          "base_uri": "https://localhost:8080/",
          "height": 105
        },
        "id": "gqOO7tJz8N7F",
        "outputId": "eea81f47-1422-4c64-d6b3-85b24feb7292"
      },
      "execution_count": 3,
      "outputs": [
        {
          "output_type": "display_data",
          "data": {
            "text/plain": [
              "<IPython.core.display.HTML object>"
            ],
            "text/html": [
              "\n",
              "<style>\n",
              "    /* Turns off some styling */\n",
              "    progress {\n",
              "        /* gets rid of default border in Firefox and Opera. */\n",
              "        border: none;\n",
              "        /* Needs to be in here for Safari polyfill so background images work as expected. */\n",
              "        background-size: auto;\n",
              "    }\n",
              "    progress:not([value]), progress:not([value])::-webkit-progress-bar {\n",
              "        background: repeating-linear-gradient(45deg, #7e7e7e, #7e7e7e 10px, #5c5c5c 10px, #5c5c5c 20px);\n",
              "    }\n",
              "    .progress-bar-interrupted, .progress-bar-interrupted::-webkit-progress-bar {\n",
              "        background: #F44336;\n",
              "    }\n",
              "</style>\n"
            ]
          },
          "metadata": {}
        },
        {
          "output_type": "display_data",
          "data": {
            "text/plain": [
              "<IPython.core.display.HTML object>"
            ],
            "text/html": [
              "\n",
              "    <div>\n",
              "      <progress value='3219456' class='' max='3214948' style='width:300px; height:20px; vertical-align: middle;'></progress>\n",
              "      100.14% [3219456/3214948 00:00&lt;00:00]\n",
              "    </div>\n",
              "    "
            ]
          },
          "metadata": {}
        },
        {
          "output_type": "display_data",
          "data": {
            "text/plain": [
              "<Figure size 72x72 with 1 Axes>"
            ],
            "image/png": "[encoded data removed]"
          },
          "metadata": {
            "needs_background": "light"
          }
        }
      ]
    },
    {
      "cell_type": "code",
      "source": [
        "im3_t = tensor(im3)\n",
        "im3_t[0:3, 0:3] * top_edge "
      ],
      "metadata": {
        "colab": {
          "base_uri": "https://localhost:8080/"
        },
        "id": "GiYpiIMl8ltZ",
        "outputId": "350f33a7-57fd-4349-82db-12e66a9e0e75"
      },
      "execution_count": 4,
      "outputs": [
        {
          "output_type": "execute_result",
          "data": {
            "text/plain": [
              "tensor([[0., 0., 0.],\n",
              "        [0., 0., 0.],\n",
              "        [-0., -0., -0.]])"
            ]
          },
          "metadata": {},
          "execution_count": 4
        }
      ]
    },
    {
      "cell_type": "code",
      "source": [
        "(im3_t[0:3, 0:3] * top_edge).sum()"
      ],
      "metadata": {
        "colab": {
          "base_uri": "https://localhost:8080/"
        },
        "id": "4CVpMAJ082aB",
        "outputId": "0410fec2-5dc9-4d78-b69c-b1d51d757b2d"
      },
      "execution_count": 5,
      "outputs": [
        {
          "output_type": "execute_result",
          "data": {
            "text/plain": [
              "tensor(0.)"
            ]
          },
          "metadata": {},
          "execution_count": 5
        }
      ]
    },
    {
      "cell_type": "code",
      "source": [
        "df = pd.DataFrame(im3_t[:10,:20])\n",
        "df.style.set_properties(**{'font-size':'6pt'}).background_gradient('Greys')"
      ],
      "metadata": {
        "colab": {
          "base_uri": "https://localhost:8080/",
          "height": 363
        },
        "id": "80sIYgfk890O",
        "outputId": "ef775f9a-7b7b-4e39-949f-aebf1d34c094"
      },
      "execution_count": 6,
      "outputs": [
        {
          "output_type": "execute_result",
          "data": {
            "text/plain": [
              "<pandas.io.formats.style.Styler at 0x7f6a2c914750>"
            ],
            "text/html": [
              "<style type=\"text/css\">\n",
              "#T_82124_row0_col0, #T_82124_row0_col1, #T_82124_row0_col2, #T_82124_row0_col3, #T_82124_row0_col4, #T_82124_row0_col5, #T_82124_row0_col6, #T_82124_row0_col7, #T_82124_row0_col8, #T_82124_row0_col9, #T_82124_row0_col10, #T_82124_row0_col11, #T_82124_row0_col12, #T_82124_row0_col13, #T_82124_row0_col14, #T_82124_row0_col15, #T_82124_row0_col16, #T_82124_row0_col17, #T_82124_row0_col18, #T_82124_row0_col19, #T_82124_row1_col0, #T_82124_row1_col1, #T_82124_row1_col2, #T_82124_row1_col3, #T_82124_row1_col4, #T_82124_row1_col5, #T_82124_row1_col6, #T_82124_row1_col7, #T_82124_row1_col8, #T_82124_row1_col9, #T_82124_row1_col10, #T_82124_row1_col11, #T_82124_row1_col12, #T_82124_row1_col13, #T_82124_row1_col14, #T_82124_row1_col15, #T_82124_row1_col16, #T_82124_row1_col17, #T_82124_row1_col18, #T_82124_row1_col19, #T_82124_row2_col0, #T_82124_row2_col1, #T_82124_row2_col2, #T_82124_row2_col3, #T_82124_row2_col4, #T_82124_row2_col5, #T_82124_row2_col6, #T_82124_row2_col7, #T_82124_row2_col8, #T_82124_row2_col9, #T_82124_row2_col10, #T_82124_row2_col11, #T_82124_row2_col12, #T_82124_row2_col13, #T_82124_row2_col14, #T_82124_row2_col15, #T_82124_row2_col16, #T_82124_row2_col17, #T_82124_row2_col18, #T_82124_row2_col19, #T_82124_row3_col0, #T_82124_row3_col1, #T_82124_row3_col2, #T_82124_row3_col3, #T_82124_row3_col4, #T_82124_row3_col5, #T_82124_row3_col6, #T_82124_row3_col7, #T_82124_row3_col8, #T_82124_row3_col9, #T_82124_row3_col10, #T_82124_row3_col11, #T_82124_row3_col12, #T_82124_row3_col13, #T_82124_row3_col14, #T_82124_row3_col15, #T_82124_row3_col16, #T_82124_row3_col17, #T_82124_row3_col18, #T_82124_row3_col19, #T_82124_row4_col0, #T_82124_row4_col1, #T_82124_row4_col2, #T_82124_row4_col3, #T_82124_row4_col4, #T_82124_row4_col5, #T_82124_row4_col6, #T_82124_row4_col7, #T_82124_row4_col8, #T_82124_row4_col9, #T_82124_row4_col10, #T_82124_row4_col11, #T_82124_row4_col12, #T_82124_row4_col13, #T_82124_row4_col14, #T_82124_row4_col15, #T_82124_row4_col16, #T_82124_row4_col17, #T_82124_row4_col18, #T_82124_row4_col19, #T_82124_row5_col0, #T_82124_row5_col1, #T_82124_row5_col2, #T_82124_row5_col16, #T_82124_row5_col17, #T_82124_row5_col18, #T_82124_row5_col19, #T_82124_row6_col0, #T_82124_row6_col1, #T_82124_row6_col2, #T_82124_row6_col19, #T_82124_row7_col0, #T_82124_row7_col1, #T_82124_row7_col2, #T_82124_row7_col19, #T_82124_row8_col0, #T_82124_row8_col1, #T_82124_row8_col2, #T_82124_row8_col8, #T_82124_row8_col9, #T_82124_row8_col10, #T_82124_row8_col11, #T_82124_row8_col12, #T_82124_row8_col13, #T_82124_row8_col19, #T_82124_row9_col0, #T_82124_row9_col1, #T_82124_row9_col2, #T_82124_row9_col3, #T_82124_row9_col4, #T_82124_row9_col5, #T_82124_row9_col6, #T_82124_row9_col7, #T_82124_row9_col8, #T_82124_row9_col9, #T_82124_row9_col10, #T_82124_row9_col11, #T_82124_row9_col12, #T_82124_row9_col13, #T_82124_row9_col19 {\n",
              "  font-size: 6pt;\n",
              "  background-color: #ffffff;\n",
              "  color: #000000;\n",
              "}\n",
              "#T_82124_row5_col3, #T_82124_row8_col14 {\n",
              "  font-size: 6pt;\n",
              "  background-color: #f9f9f9;\n",
              "  color: #000000;\n",
              "}\n",
              "#T_82124_row5_col4 {\n",
              "  font-size: 6pt;\n",
              "  background-color: #b9b9b9;\n",
              "  color: #000000;\n",
              "}\n",
              "#T_82124_row5_col5 {\n",
              "  font-size: 6pt;\n",
              "  background-color: #c1c1c1;\n",
              "  color: #000000;\n",
              "}\n",
              "#T_82124_row5_col6 {\n",
              "  font-size: 6pt;\n",
              "  background-color: #858585;\n",
              "  color: #f1f1f1;\n",
              "}\n",
              "#T_82124_row5_col7, #T_82124_row5_col10, #T_82124_row5_col11, #T_82124_row5_col12, #T_82124_row5_col13 {\n",
              "  font-size: 6pt;\n",
              "  background-color: #777777;\n",
              "  color: #f1f1f1;\n",
              "}\n",
              "#T_82124_row5_col8 {\n",
              "  font-size: 6pt;\n",
              "  background-color: #090909;\n",
              "  color: #f1f1f1;\n",
              "}\n",
              "#T_82124_row5_col9 {\n",
              "  font-size: 6pt;\n",
              "  background-color: #5b5b5b;\n",
              "  color: #f1f1f1;\n",
              "}\n",
              "#T_82124_row5_col14 {\n",
              "  font-size: 6pt;\n",
              "  background-color: #919191;\n",
              "  color: #f1f1f1;\n",
              "}\n",
              "#T_82124_row5_col15 {\n",
              "  font-size: 6pt;\n",
              "  background-color: #e1e1e1;\n",
              "  color: #000000;\n",
              "}\n",
              "#T_82124_row6_col3 {\n",
              "  font-size: 6pt;\n",
              "  background-color: #727272;\n",
              "  color: #f1f1f1;\n",
              "}\n",
              "#T_82124_row6_col4, #T_82124_row6_col5, #T_82124_row6_col6, #T_82124_row6_col7, #T_82124_row6_col8, #T_82124_row6_col9, #T_82124_row6_col10, #T_82124_row6_col11, #T_82124_row6_col12, #T_82124_row6_col13, #T_82124_row6_col14, #T_82124_row7_col3, #T_82124_row7_col4, #T_82124_row7_col5, #T_82124_row7_col6, #T_82124_row7_col15, #T_82124_row7_col16, #T_82124_row7_col17, #T_82124_row8_col16, #T_82124_row8_col17, #T_82124_row8_col18, #T_82124_row9_col15, #T_82124_row9_col16 {\n",
              "  font-size: 6pt;\n",
              "  background-color: #000000;\n",
              "  color: #f1f1f1;\n",
              "}\n",
              "#T_82124_row6_col15 {\n",
              "  font-size: 6pt;\n",
              "  background-color: #020202;\n",
              "  color: #f1f1f1;\n",
              "}\n",
              "#T_82124_row6_col16 {\n",
              "  font-size: 6pt;\n",
              "  background-color: #363636;\n",
              "  color: #f1f1f1;\n",
              "}\n",
              "#T_82124_row6_col17 {\n",
              "  font-size: 6pt;\n",
              "  background-color: #9d9d9d;\n",
              "  color: #f1f1f1;\n",
              "}\n",
              "#T_82124_row6_col18 {\n",
              "  font-size: 6pt;\n",
              "  background-color: #dfdfdf;\n",
              "  color: #000000;\n",
              "}\n",
              "#T_82124_row7_col7 {\n",
              "  font-size: 6pt;\n",
              "  background-color: #161616;\n",
              "  color: #f1f1f1;\n",
              "}\n",
              "#T_82124_row7_col8, #T_82124_row7_col9, #T_82124_row7_col10, #T_82124_row7_col11, #T_82124_row7_col13 {\n",
              "  font-size: 6pt;\n",
              "  background-color: #535353;\n",
              "  color: #f1f1f1;\n",
              "}\n",
              "#T_82124_row7_col12 {\n",
              "  font-size: 6pt;\n",
              "  background-color: #7c7c7c;\n",
              "  color: #f1f1f1;\n",
              "}\n",
              "#T_82124_row7_col14 {\n",
              "  font-size: 6pt;\n",
              "  background-color: #3d3d3d;\n",
              "  color: #f1f1f1;\n",
              "}\n",
              "#T_82124_row7_col18 {\n",
              "  font-size: 6pt;\n",
              "  background-color: #999999;\n",
              "  color: #f1f1f1;\n",
              "}\n",
              "#T_82124_row8_col3 {\n",
              "  font-size: 6pt;\n",
              "  background-color: #eaeaea;\n",
              "  color: #000000;\n",
              "}\n",
              "#T_82124_row8_col4 {\n",
              "  font-size: 6pt;\n",
              "  background-color: #d0d0d0;\n",
              "  color: #000000;\n",
              "}\n",
              "#T_82124_row8_col5, #T_82124_row8_col6 {\n",
              "  font-size: 6pt;\n",
              "  background-color: #eeeeee;\n",
              "  color: #000000;\n",
              "}\n",
              "#T_82124_row8_col7 {\n",
              "  font-size: 6pt;\n",
              "  background-color: #f3f3f3;\n",
              "  color: #000000;\n",
              "}\n",
              "#T_82124_row8_col15 {\n",
              "  font-size: 6pt;\n",
              "  background-color: #232323;\n",
              "  color: #f1f1f1;\n",
              "}\n",
              "#T_82124_row9_col14 {\n",
              "  font-size: 6pt;\n",
              "  background-color: #c2c2c2;\n",
              "  color: #000000;\n",
              "}\n",
              "#T_82124_row9_col17 {\n",
              "  font-size: 6pt;\n",
              "  background-color: #080808;\n",
              "  color: #f1f1f1;\n",
              "}\n",
              "#T_82124_row9_col18 {\n",
              "  font-size: 6pt;\n",
              "  background-color: #c4c4c4;\n",
              "  color: #000000;\n",
              "}\n",
              "</style>\n",
              "<table id=\"T_82124_\" class=\"dataframe\">\n",
              "  <thead>\n",
              "    <tr>\n",
              "      <th class=\"blank level0\" >&nbsp;</th>\n",
              "      <th class=\"col_heading level0 col0\" >0</th>\n",
              "      <th class=\"col_heading level0 col1\" >1</th>\n",
              "      <th class=\"col_heading level0 col2\" >2</th>\n",
              "      <th class=\"col_heading level0 col3\" >3</th>\n",
              "      <th class=\"col_heading level0 col4\" >4</th>\n",
              "      <th class=\"col_heading level0 col5\" >5</th>\n",
              "      <th class=\"col_heading level0 col6\" >6</th>\n",
              "      <th class=\"col_heading level0 col7\" >7</th>\n",
              "      <th class=\"col_heading level0 col8\" >8</th>\n",
              "      <th class=\"col_heading level0 col9\" >9</th>\n",
              "      <th class=\"col_heading level0 col10\" >10</th>\n",
              "      <th class=\"col_heading level0 col11\" >11</th>\n",
              "      <th class=\"col_heading level0 col12\" >12</th>\n",
              "      <th class=\"col_heading level0 col13\" >13</th>\n",
              "      <th class=\"col_heading level0 col14\" >14</th>\n",
              "      <th class=\"col_heading level0 col15\" >15</th>\n",
              "      <th class=\"col_heading level0 col16\" >16</th>\n",
              "      <th class=\"col_heading level0 col17\" >17</th>\n",
              "      <th class=\"col_heading level0 col18\" >18</th>\n",
              "      <th class=\"col_heading level0 col19\" >19</th>\n",
              "    </tr>\n",
              "  </thead>\n",
              "  <tbody>\n",
              "    <tr>\n",
              "      <th id=\"T_82124_level0_row0\" class=\"row_heading level0 row0\" >0</th>\n",
              "      <td id=\"T_82124_row0_col0\" class=\"data row0 col0\" >0</td>\n",
              "      <td id=\"T_82124_row0_col1\" class=\"data row0 col1\" >0</td>\n",
              "      <td id=\"T_82124_row0_col2\" class=\"data row0 col2\" >0</td>\n",
              "      <td id=\"T_82124_row0_col3\" class=\"data row0 col3\" >0</td>\n",
              "      <td id=\"T_82124_row0_col4\" class=\"data row0 col4\" >0</td>\n",
              "      <td id=\"T_82124_row0_col5\" class=\"data row0 col5\" >0</td>\n",
              "      <td id=\"T_82124_row0_col6\" class=\"data row0 col6\" >0</td>\n",
              "      <td id=\"T_82124_row0_col7\" class=\"data row0 col7\" >0</td>\n",
              "      <td id=\"T_82124_row0_col8\" class=\"data row0 col8\" >0</td>\n",
              "      <td id=\"T_82124_row0_col9\" class=\"data row0 col9\" >0</td>\n",
              "      <td id=\"T_82124_row0_col10\" class=\"data row0 col10\" >0</td>\n",
              "      <td id=\"T_82124_row0_col11\" class=\"data row0 col11\" >0</td>\n",
              "      <td id=\"T_82124_row0_col12\" class=\"data row0 col12\" >0</td>\n",
              "      <td id=\"T_82124_row0_col13\" class=\"data row0 col13\" >0</td>\n",
              "      <td id=\"T_82124_row0_col14\" class=\"data row0 col14\" >0</td>\n",
              "      <td id=\"T_82124_row0_col15\" class=\"data row0 col15\" >0</td>\n",
              "      <td id=\"T_82124_row0_col16\" class=\"data row0 col16\" >0</td>\n",
              "      <td id=\"T_82124_row0_col17\" class=\"data row0 col17\" >0</td>\n",
              "      <td id=\"T_82124_row0_col18\" class=\"data row0 col18\" >0</td>\n",
              "      <td id=\"T_82124_row0_col19\" class=\"data row0 col19\" >0</td>\n",
              "    </tr>\n",
              "    <tr>\n",
              "      <th id=\"T_82124_level0_row1\" class=\"row_heading level0 row1\" >1</th>\n",
              "      <td id=\"T_82124_row1_col0\" class=\"data row1 col0\" >0</td>\n",
              "      <td id=\"T_82124_row1_col1\" class=\"data row1 col1\" >0</td>\n",
              "      <td id=\"T_82124_row1_col2\" class=\"data row1 col2\" >0</td>\n",
              "      <td id=\"T_82124_row1_col3\" class=\"data row1 col3\" >0</td>\n",
              "      <td id=\"T_82124_row1_col4\" class=\"data row1 col4\" >0</td>\n",
              "      <td id=\"T_82124_row1_col5\" class=\"data row1 col5\" >0</td>\n",
              "      <td id=\"T_82124_row1_col6\" class=\"data row1 col6\" >0</td>\n",
              "      <td id=\"T_82124_row1_col7\" class=\"data row1 col7\" >0</td>\n",
              "      <td id=\"T_82124_row1_col8\" class=\"data row1 col8\" >0</td>\n",
              "      <td id=\"T_82124_row1_col9\" class=\"data row1 col9\" >0</td>\n",
              "      <td id=\"T_82124_row1_col10\" class=\"data row1 col10\" >0</td>\n",
              "      <td id=\"T_82124_row1_col11\" class=\"data row1 col11\" >0</td>\n",
              "      <td id=\"T_82124_row1_col12\" class=\"data row1 col12\" >0</td>\n",
              "      <td id=\"T_82124_row1_col13\" class=\"data row1 col13\" >0</td>\n",
              "      <td id=\"T_82124_row1_col14\" class=\"data row1 col14\" >0</td>\n",
              "      <td id=\"T_82124_row1_col15\" class=\"data row1 col15\" >0</td>\n",
              "      <td id=\"T_82124_row1_col16\" class=\"data row1 col16\" >0</td>\n",
              "      <td id=\"T_82124_row1_col17\" class=\"data row1 col17\" >0</td>\n",
              "      <td id=\"T_82124_row1_col18\" class=\"data row1 col18\" >0</td>\n",
              "      <td id=\"T_82124_row1_col19\" class=\"data row1 col19\" >0</td>\n",
              "    </tr>\n",
              "    <tr>\n",
              "      <th id=\"T_82124_level0_row2\" class=\"row_heading level0 row2\" >2</th>\n",
              "      <td id=\"T_82124_row2_col0\" class=\"data row2 col0\" >0</td>\n",
              "      <td id=\"T_82124_row2_col1\" class=\"data row2 col1\" >0</td>\n",
              "      <td id=\"T_82124_row2_col2\" class=\"data row2 col2\" >0</td>\n",
              "      <td id=\"T_82124_row2_col3\" class=\"data row2 col3\" >0</td>\n",
              "      <td id=\"T_82124_row2_col4\" class=\"data row2 col4\" >0</td>\n",
              "      <td id=\"T_82124_row2_col5\" class=\"data row2 col5\" >0</td>\n",
              "      <td id=\"T_82124_row2_col6\" class=\"data row2 col6\" >0</td>\n",
              "      <td id=\"T_82124_row2_col7\" class=\"data row2 col7\" >0</td>\n",
              "      <td id=\"T_82124_row2_col8\" class=\"data row2 col8\" >0</td>\n",
              "      <td id=\"T_82124_row2_col9\" class=\"data row2 col9\" >0</td>\n",
              "      <td id=\"T_82124_row2_col10\" class=\"data row2 col10\" >0</td>\n",
              "      <td id=\"T_82124_row2_col11\" class=\"data row2 col11\" >0</td>\n",
              "      <td id=\"T_82124_row2_col12\" class=\"data row2 col12\" >0</td>\n",
              "      <td id=\"T_82124_row2_col13\" class=\"data row2 col13\" >0</td>\n",
              "      <td id=\"T_82124_row2_col14\" class=\"data row2 col14\" >0</td>\n",
              "      <td id=\"T_82124_row2_col15\" class=\"data row2 col15\" >0</td>\n",
              "      <td id=\"T_82124_row2_col16\" class=\"data row2 col16\" >0</td>\n",
              "      <td id=\"T_82124_row2_col17\" class=\"data row2 col17\" >0</td>\n",
              "      <td id=\"T_82124_row2_col18\" class=\"data row2 col18\" >0</td>\n",
              "      <td id=\"T_82124_row2_col19\" class=\"data row2 col19\" >0</td>\n",
              "    </tr>\n",
              "    <tr>\n",
              "      <th id=\"T_82124_level0_row3\" class=\"row_heading level0 row3\" >3</th>\n",
              "      <td id=\"T_82124_row3_col0\" class=\"data row3 col0\" >0</td>\n",
              "      <td id=\"T_82124_row3_col1\" class=\"data row3 col1\" >0</td>\n",
              "      <td id=\"T_82124_row3_col2\" class=\"data row3 col2\" >0</td>\n",
              "      <td id=\"T_82124_row3_col3\" class=\"data row3 col3\" >0</td>\n",
              "      <td id=\"T_82124_row3_col4\" class=\"data row3 col4\" >0</td>\n",
              "      <td id=\"T_82124_row3_col5\" class=\"data row3 col5\" >0</td>\n",
              "      <td id=\"T_82124_row3_col6\" class=\"data row3 col6\" >0</td>\n",
              "      <td id=\"T_82124_row3_col7\" class=\"data row3 col7\" >0</td>\n",
              "      <td id=\"T_82124_row3_col8\" class=\"data row3 col8\" >0</td>\n",
              "      <td id=\"T_82124_row3_col9\" class=\"data row3 col9\" >0</td>\n",
              "      <td id=\"T_82124_row3_col10\" class=\"data row3 col10\" >0</td>\n",
              "      <td id=\"T_82124_row3_col11\" class=\"data row3 col11\" >0</td>\n",
              "      <td id=\"T_82124_row3_col12\" class=\"data row3 col12\" >0</td>\n",
              "      <td id=\"T_82124_row3_col13\" class=\"data row3 col13\" >0</td>\n",
              "      <td id=\"T_82124_row3_col14\" class=\"data row3 col14\" >0</td>\n",
              "      <td id=\"T_82124_row3_col15\" class=\"data row3 col15\" >0</td>\n",
              "      <td id=\"T_82124_row3_col16\" class=\"data row3 col16\" >0</td>\n",
              "      <td id=\"T_82124_row3_col17\" class=\"data row3 col17\" >0</td>\n",
              "      <td id=\"T_82124_row3_col18\" class=\"data row3 col18\" >0</td>\n",
              "      <td id=\"T_82124_row3_col19\" class=\"data row3 col19\" >0</td>\n",
              "    </tr>\n",
              "    <tr>\n",
              "      <th id=\"T_82124_level0_row4\" class=\"row_heading level0 row4\" >4</th>\n",
              "      <td id=\"T_82124_row4_col0\" class=\"data row4 col0\" >0</td>\n",
              "      <td id=\"T_82124_row4_col1\" class=\"data row4 col1\" >0</td>\n",
              "      <td id=\"T_82124_row4_col2\" class=\"data row4 col2\" >0</td>\n",
              "      <td id=\"T_82124_row4_col3\" class=\"data row4 col3\" >0</td>\n",
              "      <td id=\"T_82124_row4_col4\" class=\"data row4 col4\" >0</td>\n",
              "      <td id=\"T_82124_row4_col5\" class=\"data row4 col5\" >0</td>\n",
              "      <td id=\"T_82124_row4_col6\" class=\"data row4 col6\" >0</td>\n",
              "      <td id=\"T_82124_row4_col7\" class=\"data row4 col7\" >0</td>\n",
              "      <td id=\"T_82124_row4_col8\" class=\"data row4 col8\" >0</td>\n",
              "      <td id=\"T_82124_row4_col9\" class=\"data row4 col9\" >0</td>\n",
              "      <td id=\"T_82124_row4_col10\" class=\"data row4 col10\" >0</td>\n",
              "      <td id=\"T_82124_row4_col11\" class=\"data row4 col11\" >0</td>\n",
              "      <td id=\"T_82124_row4_col12\" class=\"data row4 col12\" >0</td>\n",
              "      <td id=\"T_82124_row4_col13\" class=\"data row4 col13\" >0</td>\n",
              "      <td id=\"T_82124_row4_col14\" class=\"data row4 col14\" >0</td>\n",
              "      <td id=\"T_82124_row4_col15\" class=\"data row4 col15\" >0</td>\n",
              "      <td id=\"T_82124_row4_col16\" class=\"data row4 col16\" >0</td>\n",
              "      <td id=\"T_82124_row4_col17\" class=\"data row4 col17\" >0</td>\n",
              "      <td id=\"T_82124_row4_col18\" class=\"data row4 col18\" >0</td>\n",
              "      <td id=\"T_82124_row4_col19\" class=\"data row4 col19\" >0</td>\n",
              "    </tr>\n",
              "    <tr>\n",
              "      <th id=\"T_82124_level0_row5\" class=\"row_heading level0 row5\" >5</th>\n",
              "      <td id=\"T_82124_row5_col0\" class=\"data row5 col0\" >0</td>\n",
              "      <td id=\"T_82124_row5_col1\" class=\"data row5 col1\" >0</td>\n",
              "      <td id=\"T_82124_row5_col2\" class=\"data row5 col2\" >0</td>\n",
              "      <td id=\"T_82124_row5_col3\" class=\"data row5 col3\" >12</td>\n",
              "      <td id=\"T_82124_row5_col4\" class=\"data row5 col4\" >99</td>\n",
              "      <td id=\"T_82124_row5_col5\" class=\"data row5 col5\" >91</td>\n",
              "      <td id=\"T_82124_row5_col6\" class=\"data row5 col6\" >142</td>\n",
              "      <td id=\"T_82124_row5_col7\" class=\"data row5 col7\" >155</td>\n",
              "      <td id=\"T_82124_row5_col8\" class=\"data row5 col8\" >246</td>\n",
              "      <td id=\"T_82124_row5_col9\" class=\"data row5 col9\" >182</td>\n",
              "      <td id=\"T_82124_row5_col10\" class=\"data row5 col10\" >155</td>\n",
              "      <td id=\"T_82124_row5_col11\" class=\"data row5 col11\" >155</td>\n",
              "      <td id=\"T_82124_row5_col12\" class=\"data row5 col12\" >155</td>\n",
              "      <td id=\"T_82124_row5_col13\" class=\"data row5 col13\" >155</td>\n",
              "      <td id=\"T_82124_row5_col14\" class=\"data row5 col14\" >131</td>\n",
              "      <td id=\"T_82124_row5_col15\" class=\"data row5 col15\" >52</td>\n",
              "      <td id=\"T_82124_row5_col16\" class=\"data row5 col16\" >0</td>\n",
              "      <td id=\"T_82124_row5_col17\" class=\"data row5 col17\" >0</td>\n",
              "      <td id=\"T_82124_row5_col18\" class=\"data row5 col18\" >0</td>\n",
              "      <td id=\"T_82124_row5_col19\" class=\"data row5 col19\" >0</td>\n",
              "    </tr>\n",
              "    <tr>\n",
              "      <th id=\"T_82124_level0_row6\" class=\"row_heading level0 row6\" >6</th>\n",
              "      <td id=\"T_82124_row6_col0\" class=\"data row6 col0\" >0</td>\n",
              "      <td id=\"T_82124_row6_col1\" class=\"data row6 col1\" >0</td>\n",
              "      <td id=\"T_82124_row6_col2\" class=\"data row6 col2\" >0</td>\n",
              "      <td id=\"T_82124_row6_col3\" class=\"data row6 col3\" >138</td>\n",
              "      <td id=\"T_82124_row6_col4\" class=\"data row6 col4\" >254</td>\n",
              "      <td id=\"T_82124_row6_col5\" class=\"data row6 col5\" >254</td>\n",
              "      <td id=\"T_82124_row6_col6\" class=\"data row6 col6\" >254</td>\n",
              "      <td id=\"T_82124_row6_col7\" class=\"data row6 col7\" >254</td>\n",
              "      <td id=\"T_82124_row6_col8\" class=\"data row6 col8\" >254</td>\n",
              "      <td id=\"T_82124_row6_col9\" class=\"data row6 col9\" >254</td>\n",
              "      <td id=\"T_82124_row6_col10\" class=\"data row6 col10\" >254</td>\n",
              "      <td id=\"T_82124_row6_col11\" class=\"data row6 col11\" >254</td>\n",
              "      <td id=\"T_82124_row6_col12\" class=\"data row6 col12\" >254</td>\n",
              "      <td id=\"T_82124_row6_col13\" class=\"data row6 col13\" >254</td>\n",
              "      <td id=\"T_82124_row6_col14\" class=\"data row6 col14\" >254</td>\n",
              "      <td id=\"T_82124_row6_col15\" class=\"data row6 col15\" >252</td>\n",
              "      <td id=\"T_82124_row6_col16\" class=\"data row6 col16\" >210</td>\n",
              "      <td id=\"T_82124_row6_col17\" class=\"data row6 col17\" >122</td>\n",
              "      <td id=\"T_82124_row6_col18\" class=\"data row6 col18\" >33</td>\n",
              "      <td id=\"T_82124_row6_col19\" class=\"data row6 col19\" >0</td>\n",
              "    </tr>\n",
              "    <tr>\n",
              "      <th id=\"T_82124_level0_row7\" class=\"row_heading level0 row7\" >7</th>\n",
              "      <td id=\"T_82124_row7_col0\" class=\"data row7 col0\" >0</td>\n",
              "      <td id=\"T_82124_row7_col1\" class=\"data row7 col1\" >0</td>\n",
              "      <td id=\"T_82124_row7_col2\" class=\"data row7 col2\" >0</td>\n",
              "      <td id=\"T_82124_row7_col3\" class=\"data row7 col3\" >220</td>\n",
              "      <td id=\"T_82124_row7_col4\" class=\"data row7 col4\" >254</td>\n",
              "      <td id=\"T_82124_row7_col5\" class=\"data row7 col5\" >254</td>\n",
              "      <td id=\"T_82124_row7_col6\" class=\"data row7 col6\" >254</td>\n",
              "      <td id=\"T_82124_row7_col7\" class=\"data row7 col7\" >235</td>\n",
              "      <td id=\"T_82124_row7_col8\" class=\"data row7 col8\" >189</td>\n",
              "      <td id=\"T_82124_row7_col9\" class=\"data row7 col9\" >189</td>\n",
              "      <td id=\"T_82124_row7_col10\" class=\"data row7 col10\" >189</td>\n",
              "      <td id=\"T_82124_row7_col11\" class=\"data row7 col11\" >189</td>\n",
              "      <td id=\"T_82124_row7_col12\" class=\"data row7 col12\" >150</td>\n",
              "      <td id=\"T_82124_row7_col13\" class=\"data row7 col13\" >189</td>\n",
              "      <td id=\"T_82124_row7_col14\" class=\"data row7 col14\" >205</td>\n",
              "      <td id=\"T_82124_row7_col15\" class=\"data row7 col15\" >254</td>\n",
              "      <td id=\"T_82124_row7_col16\" class=\"data row7 col16\" >254</td>\n",
              "      <td id=\"T_82124_row7_col17\" class=\"data row7 col17\" >254</td>\n",
              "      <td id=\"T_82124_row7_col18\" class=\"data row7 col18\" >75</td>\n",
              "      <td id=\"T_82124_row7_col19\" class=\"data row7 col19\" >0</td>\n",
              "    </tr>\n",
              "    <tr>\n",
              "      <th id=\"T_82124_level0_row8\" class=\"row_heading level0 row8\" >8</th>\n",
              "      <td id=\"T_82124_row8_col0\" class=\"data row8 col0\" >0</td>\n",
              "      <td id=\"T_82124_row8_col1\" class=\"data row8 col1\" >0</td>\n",
              "      <td id=\"T_82124_row8_col2\" class=\"data row8 col2\" >0</td>\n",
              "      <td id=\"T_82124_row8_col3\" class=\"data row8 col3\" >35</td>\n",
              "      <td id=\"T_82124_row8_col4\" class=\"data row8 col4\" >74</td>\n",
              "      <td id=\"T_82124_row8_col5\" class=\"data row8 col5\" >35</td>\n",
              "      <td id=\"T_82124_row8_col6\" class=\"data row8 col6\" >35</td>\n",
              "      <td id=\"T_82124_row8_col7\" class=\"data row8 col7\" >25</td>\n",
              "      <td id=\"T_82124_row8_col8\" class=\"data row8 col8\" >0</td>\n",
              "      <td id=\"T_82124_row8_col9\" class=\"data row8 col9\" >0</td>\n",
              "      <td id=\"T_82124_row8_col10\" class=\"data row8 col10\" >0</td>\n",
              "      <td id=\"T_82124_row8_col11\" class=\"data row8 col11\" >0</td>\n",
              "      <td id=\"T_82124_row8_col12\" class=\"data row8 col12\" >0</td>\n",
              "      <td id=\"T_82124_row8_col13\" class=\"data row8 col13\" >0</td>\n",
              "      <td id=\"T_82124_row8_col14\" class=\"data row8 col14\" >13</td>\n",
              "      <td id=\"T_82124_row8_col15\" class=\"data row8 col15\" >224</td>\n",
              "      <td id=\"T_82124_row8_col16\" class=\"data row8 col16\" >254</td>\n",
              "      <td id=\"T_82124_row8_col17\" class=\"data row8 col17\" >254</td>\n",
              "      <td id=\"T_82124_row8_col18\" class=\"data row8 col18\" >153</td>\n",
              "      <td id=\"T_82124_row8_col19\" class=\"data row8 col19\" >0</td>\n",
              "    </tr>\n",
              "    <tr>\n",
              "      <th id=\"T_82124_level0_row9\" class=\"row_heading level0 row9\" >9</th>\n",
              "      <td id=\"T_82124_row9_col0\" class=\"data row9 col0\" >0</td>\n",
              "      <td id=\"T_82124_row9_col1\" class=\"data row9 col1\" >0</td>\n",
              "      <td id=\"T_82124_row9_col2\" class=\"data row9 col2\" >0</td>\n",
              "      <td id=\"T_82124_row9_col3\" class=\"data row9 col3\" >0</td>\n",
              "      <td id=\"T_82124_row9_col4\" class=\"data row9 col4\" >0</td>\n",
              "      <td id=\"T_82124_row9_col5\" class=\"data row9 col5\" >0</td>\n",
              "      <td id=\"T_82124_row9_col6\" class=\"data row9 col6\" >0</td>\n",
              "      <td id=\"T_82124_row9_col7\" class=\"data row9 col7\" >0</td>\n",
              "      <td id=\"T_82124_row9_col8\" class=\"data row9 col8\" >0</td>\n",
              "      <td id=\"T_82124_row9_col9\" class=\"data row9 col9\" >0</td>\n",
              "      <td id=\"T_82124_row9_col10\" class=\"data row9 col10\" >0</td>\n",
              "      <td id=\"T_82124_row9_col11\" class=\"data row9 col11\" >0</td>\n",
              "      <td id=\"T_82124_row9_col12\" class=\"data row9 col12\" >0</td>\n",
              "      <td id=\"T_82124_row9_col13\" class=\"data row9 col13\" >0</td>\n",
              "      <td id=\"T_82124_row9_col14\" class=\"data row9 col14\" >90</td>\n",
              "      <td id=\"T_82124_row9_col15\" class=\"data row9 col15\" >254</td>\n",
              "      <td id=\"T_82124_row9_col16\" class=\"data row9 col16\" >254</td>\n",
              "      <td id=\"T_82124_row9_col17\" class=\"data row9 col17\" >247</td>\n",
              "      <td id=\"T_82124_row9_col18\" class=\"data row9 col18\" >53</td>\n",
              "      <td id=\"T_82124_row9_col19\" class=\"data row9 col19\" >0</td>\n",
              "    </tr>\n",
              "  </tbody>\n",
              "</table>\n"
            ]
          },
          "metadata": {},
          "execution_count": 6
        }
      ]
    },
    {
      "cell_type": "code",
      "source": [
        "(im3_t[4:7,6:9] * top_edge).sum()"
      ],
      "metadata": {
        "colab": {
          "base_uri": "https://localhost:8080/"
        },
        "id": "VVYJXrCx9RyD",
        "outputId": "f9bb1f82-534c-47cf-f24f-7af74929c9d2"
      },
      "execution_count": 7,
      "outputs": [
        {
          "output_type": "execute_result",
          "data": {
            "text/plain": [
              "tensor(-762.)"
            ]
          },
          "metadata": {},
          "execution_count": 7
        }
      ]
    },
    {
      "cell_type": "code",
      "source": [
        "(im3_t[7:10,17:20] * top_edge).sum()"
      ],
      "metadata": {
        "colab": {
          "base_uri": "https://localhost:8080/"
        },
        "id": "1bJth6jq95jF",
        "outputId": "e67df539-f258-4559-9cb2-950455fc1814"
      },
      "execution_count": 8,
      "outputs": [
        {
          "output_type": "execute_result",
          "data": {
            "text/plain": [
              "tensor(29.)"
            ]
          },
          "metadata": {},
          "execution_count": 8
        }
      ]
    },
    {
      "cell_type": "code",
      "source": [
        "def apply_kernel(row, col, kernel):\n",
        "  return (im3_t[row-1:row+2, col-1:col+2] * kernel).sum()\n",
        "\n",
        "apply_kernel(5, 7, top_edge)"
      ],
      "metadata": {
        "colab": {
          "base_uri": "https://localhost:8080/"
        },
        "id": "cABVBJdw9_mv",
        "outputId": "c75c5697-2bdb-4f1d-d2b9-d91274b9f7a7"
      },
      "execution_count": 9,
      "outputs": [
        {
          "output_type": "execute_result",
          "data": {
            "text/plain": [
              "tensor(-762.)"
            ]
          },
          "metadata": {},
          "execution_count": 9
        }
      ]
    },
    {
      "cell_type": "code",
      "source": [
        "[[(i,j) for j in range(1, 5)] for i in range(1, 5)]"
      ],
      "metadata": {
        "colab": {
          "base_uri": "https://localhost:8080/"
        },
        "id": "Q85LosOS_Yev",
        "outputId": "63c57127-5501-4bfa-ab7d-64bba91ba099"
      },
      "execution_count": 10,
      "outputs": [
        {
          "output_type": "execute_result",
          "data": {
            "text/plain": [
              "[[(1, 1), (1, 2), (1, 3), (1, 4)],\n",
              " [(2, 1), (2, 2), (2, 3), (2, 4)],\n",
              " [(3, 1), (3, 2), (3, 3), (3, 4)],\n",
              " [(4, 1), (4, 2), (4, 3), (4, 4)]]"
            ]
          },
          "metadata": {},
          "execution_count": 10
        }
      ]
    },
    {
      "cell_type": "code",
      "source": [
        "rng = range(1, 27)\n",
        "top_edge3 = tensor([[apply_kernel(i, j, top_edge) for j in rng] for i in rng])\n",
        "\n",
        "show_image(top_edge3);"
      ],
      "metadata": {
        "colab": {
          "base_uri": "https://localhost:8080/",
          "height": 85
        },
        "id": "VBUAH3wO_sbs",
        "outputId": "8ce02775-5ac9-46d9-8f99-9d86ccc2f291"
      },
      "execution_count": 11,
      "outputs": [
        {
          "output_type": "display_data",
          "data": {
            "text/plain": [
              "<Figure size 72x72 with 1 Axes>"
            ],
            "image/png": "[encoded data removed]"
          },
          "metadata": {
            "needs_background": "light"
          }
        }
      ]
    },
    {
      "cell_type": "code",
      "source": [
        "left_edge = tensor([[0, 1, -1],\n",
        "                    [0, 1, -1],\n",
        "                    [0, 1, -1]]).float()\n",
        "\n",
        "left_edge3 = tensor([[apply_kernel(i, j, left_edge) for j in rng] for i in rng])\n",
        "\n",
        "show_image(left_edge3);"
      ],
      "metadata": {
        "colab": {
          "base_uri": "https://localhost:8080/",
          "height": 85
        },
        "id": "otUZPBQLAVG-",
        "outputId": "1fc05b3b-996b-4a37-d91f-121be0f748c9"
      },
      "execution_count": 12,
      "outputs": [
        {
          "output_type": "display_data",
          "data": {
            "text/plain": [
              "<Figure size 72x72 with 1 Axes>"
            ],
            "image/png": "[encoded data removed]"
          },
          "metadata": {
            "needs_background": "light"
          }
        }
      ]
    },
    {
      "cell_type": "code",
      "source": [
        "diag1_edge = tensor([[0,-1,1],\n",
        "                     [-1,1,0],\n",
        "                     [1,0,0]]).float()\n",
        "diag2_edge = tensor([[1,-1,0],\n",
        "                     [0,1,-1],\n",
        "                     [0,0,1]]).float()\n",
        "\n",
        "edge_kernels = torch.stack([left_edge, top_edge, diag1_edge, diag2_edge])\n",
        "edge_kernels.shape    "
      ],
      "metadata": {
        "id": "NFYSg6XdBUDQ",
        "colab": {
          "base_uri": "https://localhost:8080/"
        },
        "outputId": "3e52dd9c-7d8f-4e16-bda3-8714531953c9"
      },
      "execution_count": 13,
      "outputs": [
        {
          "output_type": "execute_result",
          "data": {
            "text/plain": [
              "torch.Size([4, 3, 3])"
            ]
          },
          "metadata": {},
          "execution_count": 13
        }
      ]
    },
    {
      "cell_type": "code",
      "source": [
        "mnist = DataBlock((ImageBlock(cls=PILImageBW), CategoryBlock),\n",
        "                  get_items=get_image_files,\n",
        "                  splitter=GrandparentSplitter(),\n",
        "                  get_y=parent_label)\n",
        "\n",
        "dls = mnist.dataloaders(path)\n",
        "xb, yb = first(dls.valid)\n",
        "xb.shape"
      ],
      "metadata": {
        "colab": {
          "base_uri": "https://localhost:8080/"
        },
        "id": "OEAspSIz9wLQ",
        "outputId": "a4f03ab4-71ed-4c5f-b660-78ed7bd9e273"
      },
      "execution_count": 14,
      "outputs": [
        {
          "output_type": "execute_result",
          "data": {
            "text/plain": [
              "torch.Size([64, 1, 28, 28])"
            ]
          },
          "metadata": {},
          "execution_count": 14
        }
      ]
    },
    {
      "cell_type": "code",
      "source": [
        "xb, yb = to_cpu(xb), to_cpu(yb)"
      ],
      "metadata": {
        "id": "gMLA3v65-QpH"
      },
      "execution_count": 15,
      "outputs": []
    },
    {
      "cell_type": "code",
      "source": [
        "edge_kernels.shape, edge_kernels.unsqueeze(1).shape"
      ],
      "metadata": {
        "colab": {
          "base_uri": "https://localhost:8080/"
        },
        "id": "4JQNSN1C-fFg",
        "outputId": "76039d01-bc34-43dc-c069-e4964caec26f"
      },
      "execution_count": 16,
      "outputs": [
        {
          "output_type": "execute_result",
          "data": {
            "text/plain": [
              "(torch.Size([4, 3, 3]), torch.Size([4, 1, 3, 3]))"
            ]
          },
          "metadata": {},
          "execution_count": 16
        }
      ]
    },
    {
      "cell_type": "code",
      "source": [
        "edge_kernels = edge_kernels.unsqueeze(1)\n",
        "\n",
        "batch_features = F.conv2d(xb, edge_kernels)\n",
        "batch_features.shape"
      ],
      "metadata": {
        "colab": {
          "base_uri": "https://localhost:8080/"
        },
        "id": "zWA3DHQZ_ds8",
        "outputId": "e8df533a-c681-40a2-fbc6-9f3c892ba511"
      },
      "execution_count": 17,
      "outputs": [
        {
          "output_type": "execute_result",
          "data": {
            "text/plain": [
              "torch.Size([64, 4, 26, 26])"
            ]
          },
          "metadata": {},
          "execution_count": 17
        }
      ]
    },
    {
      "cell_type": "code",
      "source": [
        "show_image(batch_features[0,0]);"
      ],
      "metadata": {
        "colab": {
          "base_uri": "https://localhost:8080/",
          "height": 85
        },
        "id": "zAr5GRFAAFkV",
        "outputId": "e5b28478-7981-438c-d092-af77994418d0"
      },
      "execution_count": 18,
      "outputs": [
        {
          "output_type": "display_data",
          "data": {
            "text/plain": [
              "<Figure size 72x72 with 1 Axes>"
            ],
            "image/png": "[encoded data removed]"
          },
          "metadata": {
            "needs_background": "light"
          }
        }
      ]
    },
    {
      "cell_type": "code",
      "source": [
        "simple_net = nn.Sequential(\n",
        "    nn.Linear(28*28, 30),\n",
        "    nn.ReLU(),\n",
        "    nn.Linear(30, 1)\n",
        ")\n",
        "\n",
        "simple_net"
      ],
      "metadata": {
        "colab": {
          "base_uri": "https://localhost:8080/"
        },
        "id": "hMlqhcThAbLG",
        "outputId": "8ef3cad1-4209-4fd4-e675-c26cef397241"
      },
      "execution_count": 19,
      "outputs": [
        {
          "output_type": "execute_result",
          "data": {
            "text/plain": [
              "Sequential(\n",
              "  (0): Linear(in_features=784, out_features=30, bias=True)\n",
              "  (1): ReLU()\n",
              "  (2): Linear(in_features=30, out_features=1, bias=True)\n",
              ")"
            ]
          },
          "metadata": {},
          "execution_count": 19
        }
      ]
    },
    {
      "cell_type": "code",
      "source": [
        "broken_cnn = nn.Sequential(\n",
        "    nn.Conv2d(1, 30, kernel_size=3, padding=1),\n",
        "    nn.ReLU(),\n",
        "    nn.Conv2d(30, 1, kernel_size=3, padding=1)\n",
        ")"
      ],
      "metadata": {
        "id": "bnOEZ_yaKjV4"
      },
      "execution_count": 20,
      "outputs": []
    },
    {
      "cell_type": "code",
      "source": [
        "broken_cnn(xb).shape"
      ],
      "metadata": {
        "colab": {
          "base_uri": "https://localhost:8080/"
        },
        "id": "LZiC88tDNTl9",
        "outputId": "820d001b-5ea0-4f8a-dd9b-762ac2783815"
      },
      "execution_count": 21,
      "outputs": [
        {
          "output_type": "execute_result",
          "data": {
            "text/plain": [
              "torch.Size([64, 1, 28, 28])"
            ]
          },
          "metadata": {},
          "execution_count": 21
        }
      ]
    },
    {
      "cell_type": "code",
      "source": [
        "def conv(ni, nf, ks=3, act=True):\n",
        "  res = nn.Conv2d(ni, nf, stride=2, kernel_size=ks, padding=ks//2)\n",
        "  if act: res = nn.Sequential(res, nn.ReLU())\n",
        "  return res"
      ],
      "metadata": {
        "id": "jToN5rovNtru"
      },
      "execution_count": 22,
      "outputs": []
    },
    {
      "cell_type": "code",
      "source": [
        "simple_cnn = nn.Sequential(\n",
        "    conv(1, 4),\n",
        "    conv(4, 8),\n",
        "    conv(8, 16),\n",
        "    conv(16, 32),\n",
        "    conv(32, 2, act=False),\n",
        "    Flatten(),\n",
        ")"
      ],
      "metadata": {
        "id": "EvVlTZn5Ooxl"
      },
      "execution_count": 23,
      "outputs": []
    },
    {
      "cell_type": "code",
      "source": [
        "simple_cnn(xb).shape"
      ],
      "metadata": {
        "colab": {
          "base_uri": "https://localhost:8080/"
        },
        "id": "Z6N8wXMpXect",
        "outputId": "8bf40075-3224-4975-f45e-5ad3a07a29a4"
      },
      "execution_count": 24,
      "outputs": [
        {
          "output_type": "execute_result",
          "data": {
            "text/plain": [
              "torch.Size([64, 2])"
            ]
          },
          "metadata": {},
          "execution_count": 24
        }
      ]
    },
    {
      "cell_type": "code",
      "source": [
        "learn = Learner(dls, simple_cnn, loss_func=F.cross_entropy, metrics=accuracy)"
      ],
      "metadata": {
        "id": "gHKBW7jyZEsR"
      },
      "execution_count": 25,
      "outputs": []
    },
    {
      "cell_type": "code",
      "source": [
        "learn.summary()"
      ],
      "metadata": {
        "colab": {
          "base_uri": "https://localhost:8080/",
          "height": 725
        },
        "id": "Ur38Iae-ZVM3",
        "outputId": "2406b4c0-08f8-457b-b9ce-6ad1c9d65b76"
      },
      "execution_count": 26,
      "outputs": [
        {
          "output_type": "display_data",
          "data": {
            "text/plain": [
              "<IPython.core.display.HTML object>"
            ],
            "text/html": [
              "\n",
              "<style>\n",
              "    /* Turns off some styling */\n",
              "    progress {\n",
              "        /* gets rid of default border in Firefox and Opera. */\n",
              "        border: none;\n",
              "        /* Needs to be in here for Safari polyfill so background images work as expected. */\n",
              "        background-size: auto;\n",
              "    }\n",
              "    progress:not([value]), progress:not([value])::-webkit-progress-bar {\n",
              "        background: repeating-linear-gradient(45deg, #7e7e7e, #7e7e7e 10px, #5c5c5c 10px, #5c5c5c 20px);\n",
              "    }\n",
              "    .progress-bar-interrupted, .progress-bar-interrupted::-webkit-progress-bar {\n",
              "        background: #F44336;\n",
              "    }\n",
              "</style>\n"
            ]
          },
          "metadata": {}
        },
        {
          "output_type": "display_data",
          "data": {
            "text/plain": [
              "<IPython.core.display.HTML object>"
            ],
            "text/html": []
          },
          "metadata": {}
        },
        {
          "output_type": "execute_result",
          "data": {
            "text/plain": [
              "Sequential (Input shape: 64 x 1 x 28 x 28)\n",
              "============================================================================\n",
              "Layer (type)         Output Shape         Param #    Trainable \n",
              "============================================================================\n",
              "                     64 x 4 x 14 x 14    \n",
              "Conv2d                                    40         True      \n",
              "ReLU                                                           \n",
              "____________________________________________________________________________\n",
              "                     64 x 8 x 7 x 7      \n",
              "Conv2d                                    296        True      \n",
              "ReLU                                                           \n",
              "____________________________________________________________________________\n",
              "                     64 x 16 x 4 x 4     \n",
              "Conv2d                                    1168       True      \n",
              "ReLU                                                           \n",
              "____________________________________________________________________________\n",
              "                     64 x 32 x 2 x 2     \n",
              "Conv2d                                    4640       True      \n",
              "ReLU                                                           \n",
              "____________________________________________________________________________\n",
              "                     64 x 2 x 1 x 1      \n",
              "Conv2d                                    578        True      \n",
              "____________________________________________________________________________\n",
              "                     64 x 2              \n",
              "Flatten                                                        \n",
              "____________________________________________________________________________\n",
              "\n",
              "Total params: 6,722\n",
              "Total trainable params: 6,722\n",
              "Total non-trainable params: 0\n",
              "\n",
              "Optimizer used: <function Adam at 0x7f6a2d84eb90>\n",
              "Loss function: <function cross_entropy at 0x7f6a436ecdd0>\n",
              "\n",
              "Callbacks:\n",
              "  - TrainEvalCallback\n",
              "  - CastToTensor\n",
              "  - Recorder\n",
              "  - ProgressCallback"
            ],
            "application/vnd.google.colaboratory.intrinsic+json": {
              "type": "string"
            }
          },
          "metadata": {},
          "execution_count": 26
        }
      ]
    },
    {
      "cell_type": "code",
      "source": [
        "learn.fit_one_cycle(2, 0.01)"
      ],
      "metadata": {
        "colab": {
          "base_uri": "https://localhost:8080/",
          "height": 112
        },
        "id": "arFNW5zCZXQf",
        "outputId": "affb28d1-dae0-4200-8491-a167eb9f0438"
      },
      "execution_count": 27,
      "outputs": [
        {
          "output_type": "display_data",
          "data": {
            "text/plain": [
              "<IPython.core.display.HTML object>"
            ],
            "text/html": [
              "\n",
              "<style>\n",
              "    /* Turns off some styling */\n",
              "    progress {\n",
              "        /* gets rid of default border in Firefox and Opera. */\n",
              "        border: none;\n",
              "        /* Needs to be in here for Safari polyfill so background images work as expected. */\n",
              "        background-size: auto;\n",
              "    }\n",
              "    progress:not([value]), progress:not([value])::-webkit-progress-bar {\n",
              "        background: repeating-linear-gradient(45deg, #7e7e7e, #7e7e7e 10px, #5c5c5c 10px, #5c5c5c 20px);\n",
              "    }\n",
              "    .progress-bar-interrupted, .progress-bar-interrupted::-webkit-progress-bar {\n",
              "        background: #F44336;\n",
              "    }\n",
              "</style>\n"
            ]
          },
          "metadata": {}
        },
        {
          "output_type": "display_data",
          "data": {
            "text/plain": [
              "<IPython.core.display.HTML object>"
            ],
            "text/html": [
              "<table border=\"1\" class=\"dataframe\">\n",
              "  <thead>\n",
              "    <tr style=\"text-align: left;\">\n",
              "      <th>epoch</th>\n",
              "      <th>train_loss</th>\n",
              "      <th>valid_loss</th>\n",
              "      <th>accuracy</th>\n",
              "      <th>time</th>\n",
              "    </tr>\n",
              "  </thead>\n",
              "  <tbody>\n",
              "    <tr>\n",
              "      <td>0</td>\n",
              "      <td>0.066288</td>\n",
              "      <td>0.101071</td>\n",
              "      <td>0.973013</td>\n",
              "      <td>00:23</td>\n",
              "    </tr>\n",
              "    <tr>\n",
              "      <td>1</td>\n",
              "      <td>0.020644</td>\n",
              "      <td>0.026943</td>\n",
              "      <td>0.990677</td>\n",
              "      <td>00:16</td>\n",
              "    </tr>\n",
              "  </tbody>\n",
              "</table>"
            ]
          },
          "metadata": {}
        }
      ]
    },
    {
      "cell_type": "code",
      "source": [
        "m = learn.model[0]\n",
        "m"
      ],
      "metadata": {
        "colab": {
          "base_uri": "https://localhost:8080/"
        },
        "id": "HeG7B2rnUmjK",
        "outputId": "0b47413c-6310-4cb7-9654-c3bd02aef247"
      },
      "execution_count": 28,
      "outputs": [
        {
          "output_type": "execute_result",
          "data": {
            "text/plain": [
              "Sequential(\n",
              "  (0): Conv2d(1, 4, kernel_size=(3, 3), stride=(2, 2), padding=(1, 1))\n",
              "  (1): ReLU()\n",
              ")"
            ]
          },
          "metadata": {},
          "execution_count": 28
        }
      ]
    },
    {
      "cell_type": "code",
      "source": [
        "m[0].weight.shape"
      ],
      "metadata": {
        "colab": {
          "base_uri": "https://localhost:8080/"
        },
        "id": "ZFT79Q6EVYM7",
        "outputId": "8be6722b-7109-4098-e080-f5fff4a53045"
      },
      "execution_count": 29,
      "outputs": [
        {
          "output_type": "execute_result",
          "data": {
            "text/plain": [
              "torch.Size([4, 1, 3, 3])"
            ]
          },
          "metadata": {},
          "execution_count": 29
        }
      ]
    },
    {
      "cell_type": "code",
      "source": [
        "m[0].bias.shape"
      ],
      "metadata": {
        "colab": {
          "base_uri": "https://localhost:8080/"
        },
        "id": "B2E1lTjqVnEa",
        "outputId": "4600e15c-abb9-40f7-a6ce-9e4b0a4d8679"
      },
      "execution_count": 30,
      "outputs": [
        {
          "output_type": "execute_result",
          "data": {
            "text/plain": [
              "torch.Size([4])"
            ]
          },
          "metadata": {},
          "execution_count": 30
        }
      ]
    },
    {
      "cell_type": "code",
      "source": [
        "im = image2tensor(Image.open('/content/grizzly.jpeg'))\n",
        "im.shape"
      ],
      "metadata": {
        "id": "0y2D6YxyVzCc",
        "colab": {
          "base_uri": "https://localhost:8080/"
        },
        "outputId": "bd23cbb4-aecb-48fe-8b5b-0bf71e42d0c9"
      },
      "execution_count": 32,
      "outputs": [
        {
          "output_type": "execute_result",
          "data": {
            "text/plain": [
              "torch.Size([3, 108, 150])"
            ]
          },
          "metadata": {},
          "execution_count": 32
        }
      ]
    },
    {
      "cell_type": "code",
      "source": [
        "show_image(im);"
      ],
      "metadata": {
        "colab": {
          "base_uri": "https://localhost:8080/",
          "height": 151
        },
        "id": "NIjnly_5P6ir",
        "outputId": "8c605417-b96a-4f2d-8f9f-bc27bdefdf88"
      },
      "execution_count": 33,
      "outputs": [
        {
          "output_type": "display_data",
          "data": {
            "text/plain": [
              "<Figure size 216x288 with 1 Axes>"
            ],
            "image/png": "[encoded data removed]"
          },
          "metadata": {
            "needs_background": "light"
          }
        }
      ]
    },
    {
      "cell_type": "code",
      "source": [
        "_, axs = subplots(1, 3)\n",
        "for bear, ax, color in zip(im, axs, ('Reds', 'Greens', 'Blues')):\n",
        "  show_image(255-bear, ax=ax, cmap=color)"
      ],
      "metadata": {
        "colab": {
          "base_uri": "https://localhost:8080/",
          "height": 137
        },
        "id": "A9oiYrTUQQqw",
        "outputId": "028a1044-3145-4126-df3d-612bc81fdd47"
      },
      "execution_count": 34,
      "outputs": [
        {
          "output_type": "display_data",
          "data": {
            "text/plain": [
              "<Figure size 648x216 with 3 Axes>"
            ],
            "image/png": "[encoded data removed]"
          },
          "metadata": {
            "needs_background": "light"
          }
        }
      ]
    },
    {
      "cell_type": "code",
      "source": [
        "path = untar_data(URLs.MNIST)\n",
        "path.ls()"
      ],
      "metadata": {
        "colab": {
          "base_uri": "https://localhost:8080/",
          "height": 93
        },
        "id": "uCqtyelLQiSY",
        "outputId": "2c6a824c-007c-4a86-e965-df4d7724225d"
      },
      "execution_count": 35,
      "outputs": [
        {
          "output_type": "display_data",
          "data": {
            "text/plain": [
              "<IPython.core.display.HTML object>"
            ],
            "text/html": [
              "\n",
              "<style>\n",
              "    /* Turns off some styling */\n",
              "    progress {\n",
              "        /* gets rid of default border in Firefox and Opera. */\n",
              "        border: none;\n",
              "        /* Needs to be in here for Safari polyfill so background images work as expected. */\n",
              "        background-size: auto;\n",
              "    }\n",
              "    progress:not([value]), progress:not([value])::-webkit-progress-bar {\n",
              "        background: repeating-linear-gradient(45deg, #7e7e7e, #7e7e7e 10px, #5c5c5c 10px, #5c5c5c 20px);\n",
              "    }\n",
              "    .progress-bar-interrupted, .progress-bar-interrupted::-webkit-progress-bar {\n",
              "        background: #F44336;\n",
              "    }\n",
              "</style>\n"
            ]
          },
          "metadata": {}
        },
        {
          "output_type": "display_data",
          "data": {
            "text/plain": [
              "<IPython.core.display.HTML object>"
            ],
            "text/html": [
              "\n",
              "    <div>\n",
              "      <progress value='15687680' class='' max='15683414' style='width:300px; height:20px; vertical-align: middle;'></progress>\n",
              "      100.03% [15687680/15683414 00:00&lt;00:00]\n",
              "    </div>\n",
              "    "
            ]
          },
          "metadata": {}
        },
        {
          "output_type": "execute_result",
          "data": {
            "text/plain": [
              "(#2) [Path('/root/.fastai/data/mnist_png/training'),Path('/root/.fastai/data/mnist_png/testing')]"
            ]
          },
          "metadata": {},
          "execution_count": 35
        }
      ]
    },
    {
      "cell_type": "code",
      "source": [
        "def get_dls(bs=64):\n",
        "  return DataBlock(\n",
        "      blocks=(ImageBlock(cls=PILImageBW), CategoryBlock),\n",
        "      get_items=get_image_files,\n",
        "      splitter=GrandparentSplitter('training', 'testing'),\n",
        "      get_y=parent_label,\n",
        "      batch_tfms=Normalize()\n",
        "  ).dataloaders(path, bs=bs)\n",
        "\n",
        "dls = get_dls()"
      ],
      "metadata": {
        "id": "3a_CVPeNTBjK"
      },
      "execution_count": 36,
      "outputs": []
    },
    {
      "cell_type": "code",
      "source": [
        "dls.show_batch(max_n=9, figsize=(4, 4))"
      ],
      "metadata": {
        "colab": {
          "base_uri": "https://localhost:8080/",
          "height": 264
        },
        "id": "O9HV7zkkTqG4",
        "outputId": "118e846f-c5dc-4033-d468-3c87f696662d"
      },
      "execution_count": 38,
      "outputs": [
        {
          "output_type": "display_data",
          "data": {
            "text/plain": [
              "<Figure size 288x288 with 9 Axes>"
            ],
            "image/png": "[encoded data removed]"
          },
          "metadata": {
            "needs_background": "light"
          }
        }
      ]
    },
    {
      "cell_type": "code",
      "source": [],
      "metadata": {
        "id": "eH3WFdYuT-Z7"
      },
      "execution_count": null,
      "outputs": []
    }
  ]
}