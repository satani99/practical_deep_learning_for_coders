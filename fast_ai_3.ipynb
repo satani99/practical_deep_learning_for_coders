{
  "nbformat": 4,
  "nbformat_minor": 0,
  "metadata": {
    "colab": {
      "name": "fast_ai_3",
      "provenance": [],
      "authorship_tag": "ABX9TyMXwIvB8pkbb9QAgnIbaZ2D",
      "include_colab_link": true
    },
    "kernelspec": {
      "name": "python3",
      "display_name": "Python 3"
    },
    "language_info": {
      "name": "python"
    },
    "accelerator": "GPU",
    "gpuClass": "standard"
  },
  "cells": [
    {
      "cell_type": "markdown",
      "metadata": {
        "id": "view-in-github",
        "colab_type": "text"
      },
      "source": [
        "<a href=\"https://colab.research.google.com/github/satani99/practical_deep_learning_for_coders/blob/main/fast_ai_3.ipynb\" target=\"_parent\"><img src=\"https://colab.research.google.com/assets/colab-badge.svg\" alt=\"Open In Colab\"/></a>"
      ]
    },
    {
      "cell_type": "code",
      "source": [
        "from fastai.vision.all import *"
      ],
      "metadata": {
        "id": "L5IjRxreelgy"
      },
      "execution_count": 49,
      "outputs": []
    },
    {
      "cell_type": "code",
      "execution_count": 50,
      "metadata": {
        "id": "tUqjMpIkBhy8"
      },
      "outputs": [],
      "source": [
        "path = untar_data(URLs.MNIST_SAMPLE)"
      ]
    },
    {
      "cell_type": "code",
      "source": [
        "path.ls()"
      ],
      "metadata": {
        "colab": {
          "base_uri": "https://localhost:8080/"
        },
        "id": "YQBa3ZuTej2Q",
        "outputId": "d563e710-61e1-4ea6-95eb-57fd49e87359"
      },
      "execution_count": 51,
      "outputs": [
        {
          "output_type": "execute_result",
          "data": {
            "text/plain": [
              "(#3) [Path('/root/.fastai/data/mnist_sample/valid'),Path('/root/.fastai/data/mnist_sample/train'),Path('/root/.fastai/data/mnist_sample/labels.csv')]"
            ]
          },
          "metadata": {},
          "execution_count": 51
        }
      ]
    },
    {
      "cell_type": "code",
      "source": [
        "(path/'train').ls()"
      ],
      "metadata": {
        "colab": {
          "base_uri": "https://localhost:8080/"
        },
        "id": "ad1GfzgZfHvn",
        "outputId": "af2221de-05ee-4ea1-c386-2f77cc241cba"
      },
      "execution_count": 52,
      "outputs": [
        {
          "output_type": "execute_result",
          "data": {
            "text/plain": [
              "(#2) [Path('/root/.fastai/data/mnist_sample/train/3'),Path('/root/.fastai/data/mnist_sample/train/7')]"
            ]
          },
          "metadata": {},
          "execution_count": 52
        }
      ]
    },
    {
      "cell_type": "code",
      "source": [
        "threes = (path/'train'/'3').ls().sorted()\n",
        "sevens = (path/'train'/'7').ls().sorted()\n",
        "threes"
      ],
      "metadata": {
        "colab": {
          "base_uri": "https://localhost:8080/"
        },
        "id": "shbkMuuGfFbH",
        "outputId": "6610922e-2605-46d2-e4fa-bc7a6b960dca"
      },
      "execution_count": 53,
      "outputs": [
        {
          "output_type": "execute_result",
          "data": {
            "text/plain": [
              "(#6131) [Path('/root/.fastai/data/mnist_sample/train/3/10.png'),Path('/root/.fastai/data/mnist_sample/train/3/10000.png'),Path('/root/.fastai/data/mnist_sample/train/3/10011.png'),Path('/root/.fastai/data/mnist_sample/train/3/10031.png'),Path('/root/.fastai/data/mnist_sample/train/3/10034.png'),Path('/root/.fastai/data/mnist_sample/train/3/10042.png'),Path('/root/.fastai/data/mnist_sample/train/3/10052.png'),Path('/root/.fastai/data/mnist_sample/train/3/1007.png'),Path('/root/.fastai/data/mnist_sample/train/3/10074.png'),Path('/root/.fastai/data/mnist_sample/train/3/10091.png')...]"
            ]
          },
          "metadata": {},
          "execution_count": 53
        }
      ]
    },
    {
      "cell_type": "code",
      "source": [
        "img3_path = threes[1]\n",
        "im3 = Image.open(img3_path)\n",
        "im3"
      ],
      "metadata": {
        "colab": {
          "base_uri": "https://localhost:8080/",
          "height": 45
        },
        "id": "qWcOuPMxf_bu",
        "outputId": "3b031281-915f-448b-89b5-1336cf9d9224"
      },
      "execution_count": 54,
      "outputs": [
        {
          "output_type": "execute_result",
          "data": {
            "text/plain": [
              "<PIL.PngImagePlugin.PngImageFile image mode=L size=28x28 at 0x7FBADD878B90>"
            ],
            "image/png": "[encoded data removed]"
          },
          "metadata": {},
          "execution_count": 54
        }
      ]
    },
    {
      "cell_type": "code",
      "source": [
        "array(im3)[4:10, 4:10]"
      ],
      "metadata": {
        "colab": {
          "base_uri": "https://localhost:8080/"
        },
        "id": "BEc4KTTMgK60",
        "outputId": "3fc7c841-30da-43fc-b9ab-abffb8972813"
      },
      "execution_count": 55,
      "outputs": [
        {
          "output_type": "execute_result",
          "data": {
            "text/plain": [
              "array([[  0,   0,   0,   0,   0,   0],\n",
              "       [  0,   0,   0,   0,   0,  29],\n",
              "       [  0,   0,   0,  48, 166, 224],\n",
              "       [  0,  93, 244, 249, 253, 187],\n",
              "       [  0, 107, 253, 253, 230,  48],\n",
              "       [  0,   3,  20,  20,  15,   0]], dtype=uint8)"
            ]
          },
          "metadata": {},
          "execution_count": 55
        }
      ]
    },
    {
      "cell_type": "code",
      "source": [
        "tensor(im3)[4:10, 4:10]"
      ],
      "metadata": {
        "colab": {
          "base_uri": "https://localhost:8080/"
        },
        "id": "gUFjb4cigVhK",
        "outputId": "d2730bf7-17ff-4541-aac7-1b5eaaabcd37"
      },
      "execution_count": 56,
      "outputs": [
        {
          "output_type": "execute_result",
          "data": {
            "text/plain": [
              "tensor([[  0,   0,   0,   0,   0,   0],\n",
              "        [  0,   0,   0,   0,   0,  29],\n",
              "        [  0,   0,   0,  48, 166, 224],\n",
              "        [  0,  93, 244, 249, 253, 187],\n",
              "        [  0, 107, 253, 253, 230,  48],\n",
              "        [  0,   3,  20,  20,  15,   0]], dtype=torch.uint8)"
            ]
          },
          "metadata": {},
          "execution_count": 56
        }
      ]
    },
    {
      "cell_type": "code",
      "source": [
        "import pandas as pd"
      ],
      "metadata": {
        "id": "nQ6ThOivgy2G"
      },
      "execution_count": 57,
      "outputs": []
    },
    {
      "cell_type": "code",
      "source": [
        "im3_t = tensor(im3)\n",
        "df = pd.DataFrame(im3_t[4:15, 4:22])\n",
        "df.style.set_properties(**{'font-size':'6pt'}).background_gradient('Greys')"
      ],
      "metadata": {
        "colab": {
          "base_uri": "https://localhost:8080/",
          "height": 394
        },
        "id": "rFdHY6DvgjI2",
        "outputId": "53c23d8e-2237-47c6-e380-fc8876c5065f"
      },
      "execution_count": 58,
      "outputs": [
        {
          "output_type": "execute_result",
          "data": {
            "text/plain": [
              "<pandas.io.formats.style.Styler at 0x7fbadd2cae50>"
            ],
            "text/html": [
              "<style type=\"text/css\">\n",
              "#T_affdb_row0_col0, #T_affdb_row0_col1, #T_affdb_row0_col2, #T_affdb_row0_col3, #T_affdb_row0_col4, #T_affdb_row0_col5, #T_affdb_row0_col6, #T_affdb_row0_col7, #T_affdb_row0_col8, #T_affdb_row0_col9, #T_affdb_row0_col10, #T_affdb_row0_col11, #T_affdb_row0_col12, #T_affdb_row0_col13, #T_affdb_row0_col14, #T_affdb_row0_col15, #T_affdb_row0_col16, #T_affdb_row0_col17, #T_affdb_row1_col0, #T_affdb_row1_col1, #T_affdb_row1_col2, #T_affdb_row1_col3, #T_affdb_row1_col4, #T_affdb_row1_col15, #T_affdb_row1_col16, #T_affdb_row1_col17, #T_affdb_row2_col0, #T_affdb_row2_col1, #T_affdb_row2_col2, #T_affdb_row2_col15, #T_affdb_row2_col16, #T_affdb_row2_col17, #T_affdb_row3_col0, #T_affdb_row3_col15, #T_affdb_row3_col16, #T_affdb_row3_col17, #T_affdb_row4_col0, #T_affdb_row4_col6, #T_affdb_row4_col7, #T_affdb_row4_col8, #T_affdb_row4_col9, #T_affdb_row4_col10, #T_affdb_row4_col15, #T_affdb_row4_col16, #T_affdb_row4_col17, #T_affdb_row5_col0, #T_affdb_row5_col5, #T_affdb_row5_col6, #T_affdb_row5_col7, #T_affdb_row5_col8, #T_affdb_row5_col9, #T_affdb_row5_col15, #T_affdb_row5_col16, #T_affdb_row5_col17, #T_affdb_row6_col0, #T_affdb_row6_col1, #T_affdb_row6_col2, #T_affdb_row6_col3, #T_affdb_row6_col4, #T_affdb_row6_col5, #T_affdb_row6_col6, #T_affdb_row6_col7, #T_affdb_row6_col8, #T_affdb_row6_col9, #T_affdb_row6_col14, #T_affdb_row6_col15, #T_affdb_row6_col16, #T_affdb_row6_col17, #T_affdb_row7_col0, #T_affdb_row7_col1, #T_affdb_row7_col2, #T_affdb_row7_col3, #T_affdb_row7_col4, #T_affdb_row7_col5, #T_affdb_row7_col6, #T_affdb_row7_col13, #T_affdb_row7_col14, #T_affdb_row7_col15, #T_affdb_row7_col16, #T_affdb_row7_col17, #T_affdb_row8_col0, #T_affdb_row8_col1, #T_affdb_row8_col2, #T_affdb_row8_col3, #T_affdb_row8_col4, #T_affdb_row8_col13, #T_affdb_row8_col14, #T_affdb_row8_col15, #T_affdb_row8_col16, #T_affdb_row8_col17, #T_affdb_row9_col0, #T_affdb_row9_col1, #T_affdb_row9_col2, #T_affdb_row9_col3, #T_affdb_row9_col4, #T_affdb_row9_col16, #T_affdb_row9_col17, #T_affdb_row10_col0, #T_affdb_row10_col1, #T_affdb_row10_col2, #T_affdb_row10_col3, #T_affdb_row10_col4, #T_affdb_row10_col5, #T_affdb_row10_col6, #T_affdb_row10_col17 {\n",
              "  font-size: 6pt;\n",
              "  background-color: #ffffff;\n",
              "  color: #000000;\n",
              "}\n",
              "#T_affdb_row1_col5 {\n",
              "  font-size: 6pt;\n",
              "  background-color: #efefef;\n",
              "  color: #000000;\n",
              "}\n",
              "#T_affdb_row1_col6, #T_affdb_row1_col13 {\n",
              "  font-size: 6pt;\n",
              "  background-color: #7c7c7c;\n",
              "  color: #f1f1f1;\n",
              "}\n",
              "#T_affdb_row1_col7 {\n",
              "  font-size: 6pt;\n",
              "  background-color: #4a4a4a;\n",
              "  color: #f1f1f1;\n",
              "}\n",
              "#T_affdb_row1_col8, #T_affdb_row1_col9, #T_affdb_row1_col10, #T_affdb_row2_col5, #T_affdb_row2_col6, #T_affdb_row2_col7, #T_affdb_row2_col11, #T_affdb_row2_col12, #T_affdb_row2_col13, #T_affdb_row3_col4, #T_affdb_row3_col12, #T_affdb_row3_col13, #T_affdb_row4_col1, #T_affdb_row4_col2, #T_affdb_row4_col3, #T_affdb_row4_col12, #T_affdb_row4_col13, #T_affdb_row5_col12, #T_affdb_row6_col11, #T_affdb_row9_col11, #T_affdb_row10_col11, #T_affdb_row10_col12, #T_affdb_row10_col13, #T_affdb_row10_col14, #T_affdb_row10_col15, #T_affdb_row10_col16 {\n",
              "  font-size: 6pt;\n",
              "  background-color: #000000;\n",
              "  color: #f1f1f1;\n",
              "}\n",
              "#T_affdb_row1_col11 {\n",
              "  font-size: 6pt;\n",
              "  background-color: #606060;\n",
              "  color: #f1f1f1;\n",
              "}\n",
              "#T_affdb_row1_col12 {\n",
              "  font-size: 6pt;\n",
              "  background-color: #4d4d4d;\n",
              "  color: #f1f1f1;\n",
              "}\n",
              "#T_affdb_row1_col14 {\n",
              "  font-size: 6pt;\n",
              "  background-color: #bbbbbb;\n",
              "  color: #000000;\n",
              "}\n",
              "#T_affdb_row2_col3 {\n",
              "  font-size: 6pt;\n",
              "  background-color: #e4e4e4;\n",
              "  color: #000000;\n",
              "}\n",
              "#T_affdb_row2_col4, #T_affdb_row8_col6 {\n",
              "  font-size: 6pt;\n",
              "  background-color: #6b6b6b;\n",
              "  color: #f1f1f1;\n",
              "}\n",
              "#T_affdb_row2_col8, #T_affdb_row2_col14, #T_affdb_row3_col14 {\n",
              "  font-size: 6pt;\n",
              "  background-color: #171717;\n",
              "  color: #f1f1f1;\n",
              "}\n",
              "#T_affdb_row2_col9, #T_affdb_row3_col11 {\n",
              "  font-size: 6pt;\n",
              "  background-color: #4b4b4b;\n",
              "  color: #f1f1f1;\n",
              "}\n",
              "#T_affdb_row2_col10, #T_affdb_row7_col10, #T_affdb_row8_col8, #T_affdb_row8_col10, #T_affdb_row9_col8, #T_affdb_row9_col10 {\n",
              "  font-size: 6pt;\n",
              "  background-color: #010101;\n",
              "  color: #f1f1f1;\n",
              "}\n",
              "#T_affdb_row3_col1 {\n",
              "  font-size: 6pt;\n",
              "  background-color: #272727;\n",
              "  color: #f1f1f1;\n",
              "}\n",
              "#T_affdb_row3_col2 {\n",
              "  font-size: 6pt;\n",
              "  background-color: #0a0a0a;\n",
              "  color: #f1f1f1;\n",
              "}\n",
              "#T_affdb_row3_col3 {\n",
              "  font-size: 6pt;\n",
              "  background-color: #050505;\n",
              "  color: #f1f1f1;\n",
              "}\n",
              "#T_affdb_row3_col5 {\n",
              "  font-size: 6pt;\n",
              "  background-color: #333333;\n",
              "  color: #f1f1f1;\n",
              "}\n",
              "#T_affdb_row3_col6 {\n",
              "  font-size: 6pt;\n",
              "  background-color: #e6e6e6;\n",
              "  color: #000000;\n",
              "}\n",
              "#T_affdb_row3_col7, #T_affdb_row3_col10 {\n",
              "  font-size: 6pt;\n",
              "  background-color: #fafafa;\n",
              "  color: #000000;\n",
              "}\n",
              "#T_affdb_row3_col8 {\n",
              "  font-size: 6pt;\n",
              "  background-color: #fbfbfb;\n",
              "  color: #000000;\n",
              "}\n",
              "#T_affdb_row3_col9 {\n",
              "  font-size: 6pt;\n",
              "  background-color: #fdfdfd;\n",
              "  color: #000000;\n",
              "}\n",
              "#T_affdb_row4_col4 {\n",
              "  font-size: 6pt;\n",
              "  background-color: #1b1b1b;\n",
              "  color: #f1f1f1;\n",
              "}\n",
              "#T_affdb_row4_col5 {\n",
              "  font-size: 6pt;\n",
              "  background-color: #e0e0e0;\n",
              "  color: #000000;\n",
              "}\n",
              "#T_affdb_row4_col11 {\n",
              "  font-size: 6pt;\n",
              "  background-color: #4e4e4e;\n",
              "  color: #f1f1f1;\n",
              "}\n",
              "#T_affdb_row4_col14 {\n",
              "  font-size: 6pt;\n",
              "  background-color: #767676;\n",
              "  color: #f1f1f1;\n",
              "}\n",
              "#T_affdb_row5_col1 {\n",
              "  font-size: 6pt;\n",
              "  background-color: #fcfcfc;\n",
              "  color: #000000;\n",
              "}\n",
              "#T_affdb_row5_col2, #T_affdb_row5_col3 {\n",
              "  font-size: 6pt;\n",
              "  background-color: #f6f6f6;\n",
              "  color: #000000;\n",
              "}\n",
              "#T_affdb_row5_col4, #T_affdb_row7_col7 {\n",
              "  font-size: 6pt;\n",
              "  background-color: #f8f8f8;\n",
              "  color: #000000;\n",
              "}\n",
              "#T_affdb_row5_col10, #T_affdb_row10_col7 {\n",
              "  font-size: 6pt;\n",
              "  background-color: #e8e8e8;\n",
              "  color: #000000;\n",
              "}\n",
              "#T_affdb_row5_col11 {\n",
              "  font-size: 6pt;\n",
              "  background-color: #222222;\n",
              "  color: #f1f1f1;\n",
              "}\n",
              "#T_affdb_row5_col13, #T_affdb_row6_col12 {\n",
              "  font-size: 6pt;\n",
              "  background-color: #090909;\n",
              "  color: #f1f1f1;\n",
              "}\n",
              "#T_affdb_row5_col14 {\n",
              "  font-size: 6pt;\n",
              "  background-color: #d0d0d0;\n",
              "  color: #000000;\n",
              "}\n",
              "#T_affdb_row6_col10, #T_affdb_row7_col11, #T_affdb_row9_col6 {\n",
              "  font-size: 6pt;\n",
              "  background-color: #060606;\n",
              "  color: #f1f1f1;\n",
              "}\n",
              "#T_affdb_row6_col13 {\n",
              "  font-size: 6pt;\n",
              "  background-color: #979797;\n",
              "  color: #f1f1f1;\n",
              "}\n",
              "#T_affdb_row7_col8 {\n",
              "  font-size: 6pt;\n",
              "  background-color: #b6b6b6;\n",
              "  color: #000000;\n",
              "}\n",
              "#T_affdb_row7_col9 {\n",
              "  font-size: 6pt;\n",
              "  background-color: #252525;\n",
              "  color: #f1f1f1;\n",
              "}\n",
              "#T_affdb_row7_col12 {\n",
              "  font-size: 6pt;\n",
              "  background-color: #999999;\n",
              "  color: #f1f1f1;\n",
              "}\n",
              "#T_affdb_row8_col5 {\n",
              "  font-size: 6pt;\n",
              "  background-color: #f9f9f9;\n",
              "  color: #000000;\n",
              "}\n",
              "#T_affdb_row8_col7 {\n",
              "  font-size: 6pt;\n",
              "  background-color: #101010;\n",
              "  color: #f1f1f1;\n",
              "}\n",
              "#T_affdb_row8_col9, #T_affdb_row9_col9 {\n",
              "  font-size: 6pt;\n",
              "  background-color: #020202;\n",
              "  color: #f1f1f1;\n",
              "}\n",
              "#T_affdb_row8_col11 {\n",
              "  font-size: 6pt;\n",
              "  background-color: #545454;\n",
              "  color: #f1f1f1;\n",
              "}\n",
              "#T_affdb_row8_col12 {\n",
              "  font-size: 6pt;\n",
              "  background-color: #f1f1f1;\n",
              "  color: #000000;\n",
              "}\n",
              "#T_affdb_row9_col5 {\n",
              "  font-size: 6pt;\n",
              "  background-color: #f7f7f7;\n",
              "  color: #000000;\n",
              "}\n",
              "#T_affdb_row9_col7 {\n",
              "  font-size: 6pt;\n",
              "  background-color: #030303;\n",
              "  color: #f1f1f1;\n",
              "}\n",
              "#T_affdb_row9_col12 {\n",
              "  font-size: 6pt;\n",
              "  background-color: #181818;\n",
              "  color: #f1f1f1;\n",
              "}\n",
              "#T_affdb_row9_col13 {\n",
              "  font-size: 6pt;\n",
              "  background-color: #303030;\n",
              "  color: #f1f1f1;\n",
              "}\n",
              "#T_affdb_row9_col14 {\n",
              "  font-size: 6pt;\n",
              "  background-color: #a9a9a9;\n",
              "  color: #f1f1f1;\n",
              "}\n",
              "#T_affdb_row9_col15 {\n",
              "  font-size: 6pt;\n",
              "  background-color: #fefefe;\n",
              "  color: #000000;\n",
              "}\n",
              "#T_affdb_row10_col8, #T_affdb_row10_col9 {\n",
              "  font-size: 6pt;\n",
              "  background-color: #bababa;\n",
              "  color: #000000;\n",
              "}\n",
              "#T_affdb_row10_col10 {\n",
              "  font-size: 6pt;\n",
              "  background-color: #393939;\n",
              "  color: #f1f1f1;\n",
              "}\n",
              "</style>\n",
              "<table id=\"T_affdb_\" class=\"dataframe\">\n",
              "  <thead>\n",
              "    <tr>\n",
              "      <th class=\"blank level0\" >&nbsp;</th>\n",
              "      <th class=\"col_heading level0 col0\" >0</th>\n",
              "      <th class=\"col_heading level0 col1\" >1</th>\n",
              "      <th class=\"col_heading level0 col2\" >2</th>\n",
              "      <th class=\"col_heading level0 col3\" >3</th>\n",
              "      <th class=\"col_heading level0 col4\" >4</th>\n",
              "      <th class=\"col_heading level0 col5\" >5</th>\n",
              "      <th class=\"col_heading level0 col6\" >6</th>\n",
              "      <th class=\"col_heading level0 col7\" >7</th>\n",
              "      <th class=\"col_heading level0 col8\" >8</th>\n",
              "      <th class=\"col_heading level0 col9\" >9</th>\n",
              "      <th class=\"col_heading level0 col10\" >10</th>\n",
              "      <th class=\"col_heading level0 col11\" >11</th>\n",
              "      <th class=\"col_heading level0 col12\" >12</th>\n",
              "      <th class=\"col_heading level0 col13\" >13</th>\n",
              "      <th class=\"col_heading level0 col14\" >14</th>\n",
              "      <th class=\"col_heading level0 col15\" >15</th>\n",
              "      <th class=\"col_heading level0 col16\" >16</th>\n",
              "      <th class=\"col_heading level0 col17\" >17</th>\n",
              "    </tr>\n",
              "  </thead>\n",
              "  <tbody>\n",
              "    <tr>\n",
              "      <th id=\"T_affdb_level0_row0\" class=\"row_heading level0 row0\" >0</th>\n",
              "      <td id=\"T_affdb_row0_col0\" class=\"data row0 col0\" >0</td>\n",
              "      <td id=\"T_affdb_row0_col1\" class=\"data row0 col1\" >0</td>\n",
              "      <td id=\"T_affdb_row0_col2\" class=\"data row0 col2\" >0</td>\n",
              "      <td id=\"T_affdb_row0_col3\" class=\"data row0 col3\" >0</td>\n",
              "      <td id=\"T_affdb_row0_col4\" class=\"data row0 col4\" >0</td>\n",
              "      <td id=\"T_affdb_row0_col5\" class=\"data row0 col5\" >0</td>\n",
              "      <td id=\"T_affdb_row0_col6\" class=\"data row0 col6\" >0</td>\n",
              "      <td id=\"T_affdb_row0_col7\" class=\"data row0 col7\" >0</td>\n",
              "      <td id=\"T_affdb_row0_col8\" class=\"data row0 col8\" >0</td>\n",
              "      <td id=\"T_affdb_row0_col9\" class=\"data row0 col9\" >0</td>\n",
              "      <td id=\"T_affdb_row0_col10\" class=\"data row0 col10\" >0</td>\n",
              "      <td id=\"T_affdb_row0_col11\" class=\"data row0 col11\" >0</td>\n",
              "      <td id=\"T_affdb_row0_col12\" class=\"data row0 col12\" >0</td>\n",
              "      <td id=\"T_affdb_row0_col13\" class=\"data row0 col13\" >0</td>\n",
              "      <td id=\"T_affdb_row0_col14\" class=\"data row0 col14\" >0</td>\n",
              "      <td id=\"T_affdb_row0_col15\" class=\"data row0 col15\" >0</td>\n",
              "      <td id=\"T_affdb_row0_col16\" class=\"data row0 col16\" >0</td>\n",
              "      <td id=\"T_affdb_row0_col17\" class=\"data row0 col17\" >0</td>\n",
              "    </tr>\n",
              "    <tr>\n",
              "      <th id=\"T_affdb_level0_row1\" class=\"row_heading level0 row1\" >1</th>\n",
              "      <td id=\"T_affdb_row1_col0\" class=\"data row1 col0\" >0</td>\n",
              "      <td id=\"T_affdb_row1_col1\" class=\"data row1 col1\" >0</td>\n",
              "      <td id=\"T_affdb_row1_col2\" class=\"data row1 col2\" >0</td>\n",
              "      <td id=\"T_affdb_row1_col3\" class=\"data row1 col3\" >0</td>\n",
              "      <td id=\"T_affdb_row1_col4\" class=\"data row1 col4\" >0</td>\n",
              "      <td id=\"T_affdb_row1_col5\" class=\"data row1 col5\" >29</td>\n",
              "      <td id=\"T_affdb_row1_col6\" class=\"data row1 col6\" >150</td>\n",
              "      <td id=\"T_affdb_row1_col7\" class=\"data row1 col7\" >195</td>\n",
              "      <td id=\"T_affdb_row1_col8\" class=\"data row1 col8\" >254</td>\n",
              "      <td id=\"T_affdb_row1_col9\" class=\"data row1 col9\" >255</td>\n",
              "      <td id=\"T_affdb_row1_col10\" class=\"data row1 col10\" >254</td>\n",
              "      <td id=\"T_affdb_row1_col11\" class=\"data row1 col11\" >176</td>\n",
              "      <td id=\"T_affdb_row1_col12\" class=\"data row1 col12\" >193</td>\n",
              "      <td id=\"T_affdb_row1_col13\" class=\"data row1 col13\" >150</td>\n",
              "      <td id=\"T_affdb_row1_col14\" class=\"data row1 col14\" >96</td>\n",
              "      <td id=\"T_affdb_row1_col15\" class=\"data row1 col15\" >0</td>\n",
              "      <td id=\"T_affdb_row1_col16\" class=\"data row1 col16\" >0</td>\n",
              "      <td id=\"T_affdb_row1_col17\" class=\"data row1 col17\" >0</td>\n",
              "    </tr>\n",
              "    <tr>\n",
              "      <th id=\"T_affdb_level0_row2\" class=\"row_heading level0 row2\" >2</th>\n",
              "      <td id=\"T_affdb_row2_col0\" class=\"data row2 col0\" >0</td>\n",
              "      <td id=\"T_affdb_row2_col1\" class=\"data row2 col1\" >0</td>\n",
              "      <td id=\"T_affdb_row2_col2\" class=\"data row2 col2\" >0</td>\n",
              "      <td id=\"T_affdb_row2_col3\" class=\"data row2 col3\" >48</td>\n",
              "      <td id=\"T_affdb_row2_col4\" class=\"data row2 col4\" >166</td>\n",
              "      <td id=\"T_affdb_row2_col5\" class=\"data row2 col5\" >224</td>\n",
              "      <td id=\"T_affdb_row2_col6\" class=\"data row2 col6\" >253</td>\n",
              "      <td id=\"T_affdb_row2_col7\" class=\"data row2 col7\" >253</td>\n",
              "      <td id=\"T_affdb_row2_col8\" class=\"data row2 col8\" >234</td>\n",
              "      <td id=\"T_affdb_row2_col9\" class=\"data row2 col9\" >196</td>\n",
              "      <td id=\"T_affdb_row2_col10\" class=\"data row2 col10\" >253</td>\n",
              "      <td id=\"T_affdb_row2_col11\" class=\"data row2 col11\" >253</td>\n",
              "      <td id=\"T_affdb_row2_col12\" class=\"data row2 col12\" >253</td>\n",
              "      <td id=\"T_affdb_row2_col13\" class=\"data row2 col13\" >253</td>\n",
              "      <td id=\"T_affdb_row2_col14\" class=\"data row2 col14\" >233</td>\n",
              "      <td id=\"T_affdb_row2_col15\" class=\"data row2 col15\" >0</td>\n",
              "      <td id=\"T_affdb_row2_col16\" class=\"data row2 col16\" >0</td>\n",
              "      <td id=\"T_affdb_row2_col17\" class=\"data row2 col17\" >0</td>\n",
              "    </tr>\n",
              "    <tr>\n",
              "      <th id=\"T_affdb_level0_row3\" class=\"row_heading level0 row3\" >3</th>\n",
              "      <td id=\"T_affdb_row3_col0\" class=\"data row3 col0\" >0</td>\n",
              "      <td id=\"T_affdb_row3_col1\" class=\"data row3 col1\" >93</td>\n",
              "      <td id=\"T_affdb_row3_col2\" class=\"data row3 col2\" >244</td>\n",
              "      <td id=\"T_affdb_row3_col3\" class=\"data row3 col3\" >249</td>\n",
              "      <td id=\"T_affdb_row3_col4\" class=\"data row3 col4\" >253</td>\n",
              "      <td id=\"T_affdb_row3_col5\" class=\"data row3 col5\" >187</td>\n",
              "      <td id=\"T_affdb_row3_col6\" class=\"data row3 col6\" >46</td>\n",
              "      <td id=\"T_affdb_row3_col7\" class=\"data row3 col7\" >10</td>\n",
              "      <td id=\"T_affdb_row3_col8\" class=\"data row3 col8\" >8</td>\n",
              "      <td id=\"T_affdb_row3_col9\" class=\"data row3 col9\" >4</td>\n",
              "      <td id=\"T_affdb_row3_col10\" class=\"data row3 col10\" >10</td>\n",
              "      <td id=\"T_affdb_row3_col11\" class=\"data row3 col11\" >194</td>\n",
              "      <td id=\"T_affdb_row3_col12\" class=\"data row3 col12\" >253</td>\n",
              "      <td id=\"T_affdb_row3_col13\" class=\"data row3 col13\" >253</td>\n",
              "      <td id=\"T_affdb_row3_col14\" class=\"data row3 col14\" >233</td>\n",
              "      <td id=\"T_affdb_row3_col15\" class=\"data row3 col15\" >0</td>\n",
              "      <td id=\"T_affdb_row3_col16\" class=\"data row3 col16\" >0</td>\n",
              "      <td id=\"T_affdb_row3_col17\" class=\"data row3 col17\" >0</td>\n",
              "    </tr>\n",
              "    <tr>\n",
              "      <th id=\"T_affdb_level0_row4\" class=\"row_heading level0 row4\" >4</th>\n",
              "      <td id=\"T_affdb_row4_col0\" class=\"data row4 col0\" >0</td>\n",
              "      <td id=\"T_affdb_row4_col1\" class=\"data row4 col1\" >107</td>\n",
              "      <td id=\"T_affdb_row4_col2\" class=\"data row4 col2\" >253</td>\n",
              "      <td id=\"T_affdb_row4_col3\" class=\"data row4 col3\" >253</td>\n",
              "      <td id=\"T_affdb_row4_col4\" class=\"data row4 col4\" >230</td>\n",
              "      <td id=\"T_affdb_row4_col5\" class=\"data row4 col5\" >48</td>\n",
              "      <td id=\"T_affdb_row4_col6\" class=\"data row4 col6\" >0</td>\n",
              "      <td id=\"T_affdb_row4_col7\" class=\"data row4 col7\" >0</td>\n",
              "      <td id=\"T_affdb_row4_col8\" class=\"data row4 col8\" >0</td>\n",
              "      <td id=\"T_affdb_row4_col9\" class=\"data row4 col9\" >0</td>\n",
              "      <td id=\"T_affdb_row4_col10\" class=\"data row4 col10\" >0</td>\n",
              "      <td id=\"T_affdb_row4_col11\" class=\"data row4 col11\" >192</td>\n",
              "      <td id=\"T_affdb_row4_col12\" class=\"data row4 col12\" >253</td>\n",
              "      <td id=\"T_affdb_row4_col13\" class=\"data row4 col13\" >253</td>\n",
              "      <td id=\"T_affdb_row4_col14\" class=\"data row4 col14\" >156</td>\n",
              "      <td id=\"T_affdb_row4_col15\" class=\"data row4 col15\" >0</td>\n",
              "      <td id=\"T_affdb_row4_col16\" class=\"data row4 col16\" >0</td>\n",
              "      <td id=\"T_affdb_row4_col17\" class=\"data row4 col17\" >0</td>\n",
              "    </tr>\n",
              "    <tr>\n",
              "      <th id=\"T_affdb_level0_row5\" class=\"row_heading level0 row5\" >5</th>\n",
              "      <td id=\"T_affdb_row5_col0\" class=\"data row5 col0\" >0</td>\n",
              "      <td id=\"T_affdb_row5_col1\" class=\"data row5 col1\" >3</td>\n",
              "      <td id=\"T_affdb_row5_col2\" class=\"data row5 col2\" >20</td>\n",
              "      <td id=\"T_affdb_row5_col3\" class=\"data row5 col3\" >20</td>\n",
              "      <td id=\"T_affdb_row5_col4\" class=\"data row5 col4\" >15</td>\n",
              "      <td id=\"T_affdb_row5_col5\" class=\"data row5 col5\" >0</td>\n",
              "      <td id=\"T_affdb_row5_col6\" class=\"data row5 col6\" >0</td>\n",
              "      <td id=\"T_affdb_row5_col7\" class=\"data row5 col7\" >0</td>\n",
              "      <td id=\"T_affdb_row5_col8\" class=\"data row5 col8\" >0</td>\n",
              "      <td id=\"T_affdb_row5_col9\" class=\"data row5 col9\" >0</td>\n",
              "      <td id=\"T_affdb_row5_col10\" class=\"data row5 col10\" >43</td>\n",
              "      <td id=\"T_affdb_row5_col11\" class=\"data row5 col11\" >224</td>\n",
              "      <td id=\"T_affdb_row5_col12\" class=\"data row5 col12\" >253</td>\n",
              "      <td id=\"T_affdb_row5_col13\" class=\"data row5 col13\" >245</td>\n",
              "      <td id=\"T_affdb_row5_col14\" class=\"data row5 col14\" >74</td>\n",
              "      <td id=\"T_affdb_row5_col15\" class=\"data row5 col15\" >0</td>\n",
              "      <td id=\"T_affdb_row5_col16\" class=\"data row5 col16\" >0</td>\n",
              "      <td id=\"T_affdb_row5_col17\" class=\"data row5 col17\" >0</td>\n",
              "    </tr>\n",
              "    <tr>\n",
              "      <th id=\"T_affdb_level0_row6\" class=\"row_heading level0 row6\" >6</th>\n",
              "      <td id=\"T_affdb_row6_col0\" class=\"data row6 col0\" >0</td>\n",
              "      <td id=\"T_affdb_row6_col1\" class=\"data row6 col1\" >0</td>\n",
              "      <td id=\"T_affdb_row6_col2\" class=\"data row6 col2\" >0</td>\n",
              "      <td id=\"T_affdb_row6_col3\" class=\"data row6 col3\" >0</td>\n",
              "      <td id=\"T_affdb_row6_col4\" class=\"data row6 col4\" >0</td>\n",
              "      <td id=\"T_affdb_row6_col5\" class=\"data row6 col5\" >0</td>\n",
              "      <td id=\"T_affdb_row6_col6\" class=\"data row6 col6\" >0</td>\n",
              "      <td id=\"T_affdb_row6_col7\" class=\"data row6 col7\" >0</td>\n",
              "      <td id=\"T_affdb_row6_col8\" class=\"data row6 col8\" >0</td>\n",
              "      <td id=\"T_affdb_row6_col9\" class=\"data row6 col9\" >0</td>\n",
              "      <td id=\"T_affdb_row6_col10\" class=\"data row6 col10\" >249</td>\n",
              "      <td id=\"T_affdb_row6_col11\" class=\"data row6 col11\" >253</td>\n",
              "      <td id=\"T_affdb_row6_col12\" class=\"data row6 col12\" >245</td>\n",
              "      <td id=\"T_affdb_row6_col13\" class=\"data row6 col13\" >126</td>\n",
              "      <td id=\"T_affdb_row6_col14\" class=\"data row6 col14\" >0</td>\n",
              "      <td id=\"T_affdb_row6_col15\" class=\"data row6 col15\" >0</td>\n",
              "      <td id=\"T_affdb_row6_col16\" class=\"data row6 col16\" >0</td>\n",
              "      <td id=\"T_affdb_row6_col17\" class=\"data row6 col17\" >0</td>\n",
              "    </tr>\n",
              "    <tr>\n",
              "      <th id=\"T_affdb_level0_row7\" class=\"row_heading level0 row7\" >7</th>\n",
              "      <td id=\"T_affdb_row7_col0\" class=\"data row7 col0\" >0</td>\n",
              "      <td id=\"T_affdb_row7_col1\" class=\"data row7 col1\" >0</td>\n",
              "      <td id=\"T_affdb_row7_col2\" class=\"data row7 col2\" >0</td>\n",
              "      <td id=\"T_affdb_row7_col3\" class=\"data row7 col3\" >0</td>\n",
              "      <td id=\"T_affdb_row7_col4\" class=\"data row7 col4\" >0</td>\n",
              "      <td id=\"T_affdb_row7_col5\" class=\"data row7 col5\" >0</td>\n",
              "      <td id=\"T_affdb_row7_col6\" class=\"data row7 col6\" >0</td>\n",
              "      <td id=\"T_affdb_row7_col7\" class=\"data row7 col7\" >14</td>\n",
              "      <td id=\"T_affdb_row7_col8\" class=\"data row7 col8\" >101</td>\n",
              "      <td id=\"T_affdb_row7_col9\" class=\"data row7 col9\" >223</td>\n",
              "      <td id=\"T_affdb_row7_col10\" class=\"data row7 col10\" >253</td>\n",
              "      <td id=\"T_affdb_row7_col11\" class=\"data row7 col11\" >248</td>\n",
              "      <td id=\"T_affdb_row7_col12\" class=\"data row7 col12\" >124</td>\n",
              "      <td id=\"T_affdb_row7_col13\" class=\"data row7 col13\" >0</td>\n",
              "      <td id=\"T_affdb_row7_col14\" class=\"data row7 col14\" >0</td>\n",
              "      <td id=\"T_affdb_row7_col15\" class=\"data row7 col15\" >0</td>\n",
              "      <td id=\"T_affdb_row7_col16\" class=\"data row7 col16\" >0</td>\n",
              "      <td id=\"T_affdb_row7_col17\" class=\"data row7 col17\" >0</td>\n",
              "    </tr>\n",
              "    <tr>\n",
              "      <th id=\"T_affdb_level0_row8\" class=\"row_heading level0 row8\" >8</th>\n",
              "      <td id=\"T_affdb_row8_col0\" class=\"data row8 col0\" >0</td>\n",
              "      <td id=\"T_affdb_row8_col1\" class=\"data row8 col1\" >0</td>\n",
              "      <td id=\"T_affdb_row8_col2\" class=\"data row8 col2\" >0</td>\n",
              "      <td id=\"T_affdb_row8_col3\" class=\"data row8 col3\" >0</td>\n",
              "      <td id=\"T_affdb_row8_col4\" class=\"data row8 col4\" >0</td>\n",
              "      <td id=\"T_affdb_row8_col5\" class=\"data row8 col5\" >11</td>\n",
              "      <td id=\"T_affdb_row8_col6\" class=\"data row8 col6\" >166</td>\n",
              "      <td id=\"T_affdb_row8_col7\" class=\"data row8 col7\" >239</td>\n",
              "      <td id=\"T_affdb_row8_col8\" class=\"data row8 col8\" >253</td>\n",
              "      <td id=\"T_affdb_row8_col9\" class=\"data row8 col9\" >253</td>\n",
              "      <td id=\"T_affdb_row8_col10\" class=\"data row8 col10\" >253</td>\n",
              "      <td id=\"T_affdb_row8_col11\" class=\"data row8 col11\" >187</td>\n",
              "      <td id=\"T_affdb_row8_col12\" class=\"data row8 col12\" >30</td>\n",
              "      <td id=\"T_affdb_row8_col13\" class=\"data row8 col13\" >0</td>\n",
              "      <td id=\"T_affdb_row8_col14\" class=\"data row8 col14\" >0</td>\n",
              "      <td id=\"T_affdb_row8_col15\" class=\"data row8 col15\" >0</td>\n",
              "      <td id=\"T_affdb_row8_col16\" class=\"data row8 col16\" >0</td>\n",
              "      <td id=\"T_affdb_row8_col17\" class=\"data row8 col17\" >0</td>\n",
              "    </tr>\n",
              "    <tr>\n",
              "      <th id=\"T_affdb_level0_row9\" class=\"row_heading level0 row9\" >9</th>\n",
              "      <td id=\"T_affdb_row9_col0\" class=\"data row9 col0\" >0</td>\n",
              "      <td id=\"T_affdb_row9_col1\" class=\"data row9 col1\" >0</td>\n",
              "      <td id=\"T_affdb_row9_col2\" class=\"data row9 col2\" >0</td>\n",
              "      <td id=\"T_affdb_row9_col3\" class=\"data row9 col3\" >0</td>\n",
              "      <td id=\"T_affdb_row9_col4\" class=\"data row9 col4\" >0</td>\n",
              "      <td id=\"T_affdb_row9_col5\" class=\"data row9 col5\" >16</td>\n",
              "      <td id=\"T_affdb_row9_col6\" class=\"data row9 col6\" >248</td>\n",
              "      <td id=\"T_affdb_row9_col7\" class=\"data row9 col7\" >250</td>\n",
              "      <td id=\"T_affdb_row9_col8\" class=\"data row9 col8\" >253</td>\n",
              "      <td id=\"T_affdb_row9_col9\" class=\"data row9 col9\" >253</td>\n",
              "      <td id=\"T_affdb_row9_col10\" class=\"data row9 col10\" >253</td>\n",
              "      <td id=\"T_affdb_row9_col11\" class=\"data row9 col11\" >253</td>\n",
              "      <td id=\"T_affdb_row9_col12\" class=\"data row9 col12\" >232</td>\n",
              "      <td id=\"T_affdb_row9_col13\" class=\"data row9 col13\" >213</td>\n",
              "      <td id=\"T_affdb_row9_col14\" class=\"data row9 col14\" >111</td>\n",
              "      <td id=\"T_affdb_row9_col15\" class=\"data row9 col15\" >2</td>\n",
              "      <td id=\"T_affdb_row9_col16\" class=\"data row9 col16\" >0</td>\n",
              "      <td id=\"T_affdb_row9_col17\" class=\"data row9 col17\" >0</td>\n",
              "    </tr>\n",
              "    <tr>\n",
              "      <th id=\"T_affdb_level0_row10\" class=\"row_heading level0 row10\" >10</th>\n",
              "      <td id=\"T_affdb_row10_col0\" class=\"data row10 col0\" >0</td>\n",
              "      <td id=\"T_affdb_row10_col1\" class=\"data row10 col1\" >0</td>\n",
              "      <td id=\"T_affdb_row10_col2\" class=\"data row10 col2\" >0</td>\n",
              "      <td id=\"T_affdb_row10_col3\" class=\"data row10 col3\" >0</td>\n",
              "      <td id=\"T_affdb_row10_col4\" class=\"data row10 col4\" >0</td>\n",
              "      <td id=\"T_affdb_row10_col5\" class=\"data row10 col5\" >0</td>\n",
              "      <td id=\"T_affdb_row10_col6\" class=\"data row10 col6\" >0</td>\n",
              "      <td id=\"T_affdb_row10_col7\" class=\"data row10 col7\" >43</td>\n",
              "      <td id=\"T_affdb_row10_col8\" class=\"data row10 col8\" >98</td>\n",
              "      <td id=\"T_affdb_row10_col9\" class=\"data row10 col9\" >98</td>\n",
              "      <td id=\"T_affdb_row10_col10\" class=\"data row10 col10\" >208</td>\n",
              "      <td id=\"T_affdb_row10_col11\" class=\"data row10 col11\" >253</td>\n",
              "      <td id=\"T_affdb_row10_col12\" class=\"data row10 col12\" >253</td>\n",
              "      <td id=\"T_affdb_row10_col13\" class=\"data row10 col13\" >253</td>\n",
              "      <td id=\"T_affdb_row10_col14\" class=\"data row10 col14\" >253</td>\n",
              "      <td id=\"T_affdb_row10_col15\" class=\"data row10 col15\" >187</td>\n",
              "      <td id=\"T_affdb_row10_col16\" class=\"data row10 col16\" >22</td>\n",
              "      <td id=\"T_affdb_row10_col17\" class=\"data row10 col17\" >0</td>\n",
              "    </tr>\n",
              "  </tbody>\n",
              "</table>\n"
            ]
          },
          "metadata": {},
          "execution_count": 58
        }
      ]
    },
    {
      "cell_type": "code",
      "source": [
        "seven_tensors = [tensor(Image.open(o)) for o in sevens]\n",
        "three_tensors = [tensor(Image.open(o)) for o in threes]\n",
        "len(seven_tensors), len(three_tensors)\n"
      ],
      "metadata": {
        "colab": {
          "base_uri": "https://localhost:8080/"
        },
        "id": "OwXoJUtjhMMP",
        "outputId": "bdf155aa-1228-4f23-d36c-185684faee19"
      },
      "execution_count": 59,
      "outputs": [
        {
          "output_type": "execute_result",
          "data": {
            "text/plain": [
              "(6265, 6131)"
            ]
          },
          "metadata": {},
          "execution_count": 59
        }
      ]
    },
    {
      "cell_type": "code",
      "source": [
        "show_image(three_tensors[1]);"
      ],
      "metadata": {
        "colab": {
          "base_uri": "https://localhost:8080/",
          "height": 85
        },
        "id": "ii2l3W0ZkKoX",
        "outputId": "b46f45f3-b776-4918-bb08-995b08ac8558"
      },
      "execution_count": 60,
      "outputs": [
        {
          "output_type": "display_data",
          "data": {
            "text/plain": [
              "<Figure size 72x72 with 1 Axes>"
            ],
            "image/png": "[encoded data removed]"
          },
          "metadata": {
            "needs_background": "light"
          }
        }
      ]
    },
    {
      "cell_type": "code",
      "source": [
        "stacked_sevens = torch.stack(seven_tensors).float()/255\n",
        "stacked_threes = torch.stack(three_tensors).float()/255\n",
        "stacked_threes.shape"
      ],
      "metadata": {
        "colab": {
          "base_uri": "https://localhost:8080/"
        },
        "id": "J0XQUH93kfd6",
        "outputId": "eafec19b-1e37-4af9-f778-fcfdf90a90f2"
      },
      "execution_count": 61,
      "outputs": [
        {
          "output_type": "execute_result",
          "data": {
            "text/plain": [
              "torch.Size([6131, 28, 28])"
            ]
          },
          "metadata": {},
          "execution_count": 61
        }
      ]
    },
    {
      "cell_type": "code",
      "source": [
        "len(stacked_threes.shape)"
      ],
      "metadata": {
        "colab": {
          "base_uri": "https://localhost:8080/"
        },
        "id": "s85XpghulD4u",
        "outputId": "754bc363-7715-4003-e028-2ffa92dd288f"
      },
      "execution_count": 62,
      "outputs": [
        {
          "output_type": "execute_result",
          "data": {
            "text/plain": [
              "3"
            ]
          },
          "metadata": {},
          "execution_count": 62
        }
      ]
    },
    {
      "cell_type": "code",
      "source": [
        "stacked_threes.ndim"
      ],
      "metadata": {
        "colab": {
          "base_uri": "https://localhost:8080/"
        },
        "id": "TAI7-aPIlUPZ",
        "outputId": "3b0a6ce8-2c97-484e-f038-58eedfce89b0"
      },
      "execution_count": 63,
      "outputs": [
        {
          "output_type": "execute_result",
          "data": {
            "text/plain": [
              "3"
            ]
          },
          "metadata": {},
          "execution_count": 63
        }
      ]
    },
    {
      "cell_type": "code",
      "source": [
        "mean3 = stacked_threes.mean(0)\n",
        "show_image(mean3);"
      ],
      "metadata": {
        "colab": {
          "base_uri": "https://localhost:8080/",
          "height": 85
        },
        "id": "uSB_LXuOmMk4",
        "outputId": "823ace9f-5642-40d7-c80e-c55e7ddb5cd6"
      },
      "execution_count": 64,
      "outputs": [
        {
          "output_type": "display_data",
          "data": {
            "text/plain": [
              "<Figure size 72x72 with 1 Axes>"
            ],
            "image/png": "[encoded data removed]"
          },
          "metadata": {
            "needs_background": "light"
          }
        }
      ]
    },
    {
      "cell_type": "code",
      "source": [
        "mean7 = stacked_sevens.mean(0)\n",
        "show_image(mean7);"
      ],
      "metadata": {
        "colab": {
          "base_uri": "https://localhost:8080/",
          "height": 85
        },
        "id": "W2k2V4pImbgK",
        "outputId": "b7b3fb29-51d5-4011-b1c6-6beffb327f69"
      },
      "execution_count": 65,
      "outputs": [
        {
          "output_type": "display_data",
          "data": {
            "text/plain": [
              "<Figure size 72x72 with 1 Axes>"
            ],
            "image/png": "[encoded data removed]"
          },
          "metadata": {
            "needs_background": "light"
          }
        }
      ]
    },
    {
      "cell_type": "code",
      "source": [
        "a_3 = stacked_threes[1]\n",
        "show_image(a_3);"
      ],
      "metadata": {
        "colab": {
          "base_uri": "https://localhost:8080/",
          "height": 85
        },
        "id": "xRmA42b-nLrv",
        "outputId": "e6628163-5ef6-4be7-c9a5-9649e31123ba"
      },
      "execution_count": 66,
      "outputs": [
        {
          "output_type": "display_data",
          "data": {
            "text/plain": [
              "<Figure size 72x72 with 1 Axes>"
            ],
            "image/png": "[encoded data removed]"
          },
          "metadata": {
            "needs_background": "light"
          }
        }
      ]
    },
    {
      "cell_type": "code",
      "source": [
        "dist_3_abs = (a_3 - mean3).abs().mean() \n",
        "dist_3_sqr = ((a_3 - mean3)**2).mean().sqrt()\n",
        "dist_3_abs, dist_3_sqr"
      ],
      "metadata": {
        "colab": {
          "base_uri": "https://localhost:8080/"
        },
        "id": "tX1dSYgqp_Ub",
        "outputId": "34d08ab5-9847-4084-fde1-58614d9e06c9"
      },
      "execution_count": 67,
      "outputs": [
        {
          "output_type": "execute_result",
          "data": {
            "text/plain": [
              "(tensor(0.1114), tensor(0.2021))"
            ]
          },
          "metadata": {},
          "execution_count": 67
        }
      ]
    },
    {
      "cell_type": "code",
      "source": [
        "dist_7_abs = (a_3 - mean7).abs().mean()\n",
        "dist_7_sqr = ((a_3 - mean7)**2).mean().sqrt()\n",
        "dist_7_abs, dist_7_sqr"
      ],
      "metadata": {
        "colab": {
          "base_uri": "https://localhost:8080/"
        },
        "id": "Vn2qjAyJsNZo",
        "outputId": "9dcfe3b1-c753-41e0-d2e0-2823d2d12032"
      },
      "execution_count": 68,
      "outputs": [
        {
          "output_type": "execute_result",
          "data": {
            "text/plain": [
              "(tensor(0.1586), tensor(0.3021))"
            ]
          },
          "metadata": {},
          "execution_count": 68
        }
      ]
    },
    {
      "cell_type": "code",
      "source": [
        "F.l1_loss(a_3.float(),mean7), F.mse_loss(a_3, mean7).sqrt()"
      ],
      "metadata": {
        "colab": {
          "base_uri": "https://localhost:8080/"
        },
        "id": "aKkig-fFsiUT",
        "outputId": "14fb09b3-366e-4cb5-dd75-37d9b4a91f97"
      },
      "execution_count": 69,
      "outputs": [
        {
          "output_type": "execute_result",
          "data": {
            "text/plain": [
              "(tensor(0.1586), tensor(0.3021))"
            ]
          },
          "metadata": {},
          "execution_count": 69
        }
      ]
    },
    {
      "cell_type": "code",
      "source": [
        "valid_3_tens = torch.stack([tensor(Image.open(o)) for o in (path/'valid'/'3').ls()])\n",
        "valid_7_tens = torch.stack([tensor(Image.open(o)) for o in (path/'valid'/'7').ls()])\n",
        "valid_3_tens = valid_3_tens.float()/255\n",
        "valid_7_tens = valid_7_tens.float()/255\n",
        "valid_7_tens.shape, valid_3_tens.shape"
      ],
      "metadata": {
        "id": "HdNKim-TyvLJ",
        "colab": {
          "base_uri": "https://localhost:8080/"
        },
        "outputId": "a462c780-15c9-4cd3-ec12-bc73264eaa11"
      },
      "execution_count": 70,
      "outputs": [
        {
          "output_type": "execute_result",
          "data": {
            "text/plain": [
              "(torch.Size([1028, 28, 28]), torch.Size([1010, 28, 28]))"
            ]
          },
          "metadata": {},
          "execution_count": 70
        }
      ]
    },
    {
      "cell_type": "code",
      "source": [
        "def mnist_distance(a, b): return (a-b).abs().mean((-2, -1))\n",
        "mnist_distance(a_3, mean3)"
      ],
      "metadata": {
        "colab": {
          "base_uri": "https://localhost:8080/"
        },
        "id": "ueffnA1Xv-cZ",
        "outputId": "3f6293c2-f176-45a4-da2a-4ee829cec593"
      },
      "execution_count": 71,
      "outputs": [
        {
          "output_type": "execute_result",
          "data": {
            "text/plain": [
              "tensor(0.1114)"
            ]
          },
          "metadata": {},
          "execution_count": 71
        }
      ]
    },
    {
      "cell_type": "code",
      "source": [
        "valid_3_dist = mnist_distance(valid_3_tens, mean3)\n",
        "valid_3_dist, valid_3_dist.shape"
      ],
      "metadata": {
        "colab": {
          "base_uri": "https://localhost:8080/"
        },
        "id": "qSc2ZhjUwl68",
        "outputId": "0768306a-92bf-44b3-8f8d-35d63de77720"
      },
      "execution_count": 72,
      "outputs": [
        {
          "output_type": "execute_result",
          "data": {
            "text/plain": [
              "(tensor([0.1446, 0.1136, 0.1315,  ..., 0.1270, 0.1257, 0.1061]),\n",
              " torch.Size([1010]))"
            ]
          },
          "metadata": {},
          "execution_count": 72
        }
      ]
    },
    {
      "cell_type": "code",
      "source": [
        "def is_3(x): return mnist_distance(x, mean3) < mnist_distance(x, mean7)"
      ],
      "metadata": {
        "id": "Zzm7qRAew-wT"
      },
      "execution_count": 73,
      "outputs": []
    },
    {
      "cell_type": "code",
      "source": [
        "is_3(a_3), is_3(a_3).float()"
      ],
      "metadata": {
        "colab": {
          "base_uri": "https://localhost:8080/"
        },
        "id": "pCaHj9RMzzQ3",
        "outputId": "05913911-91b4-432e-db1f-f89af44a4b37"
      },
      "execution_count": 74,
      "outputs": [
        {
          "output_type": "execute_result",
          "data": {
            "text/plain": [
              "(tensor(True), tensor(1.))"
            ]
          },
          "metadata": {},
          "execution_count": 74
        }
      ]
    },
    {
      "cell_type": "code",
      "source": [
        "is_3(valid_3_tens)"
      ],
      "metadata": {
        "colab": {
          "base_uri": "https://localhost:8080/"
        },
        "id": "YPIbtqIi0Uxg",
        "outputId": "9931e496-2b06-43ba-bed6-cf0e226e1a74"
      },
      "execution_count": 75,
      "outputs": [
        {
          "output_type": "execute_result",
          "data": {
            "text/plain": [
              "tensor([True, True, True,  ..., True, True, True])"
            ]
          },
          "metadata": {},
          "execution_count": 75
        }
      ]
    },
    {
      "cell_type": "code",
      "source": [
        "accuracy_3s = is_3(valid_3_tens).float().mean()\n",
        "accuracy_7s = (1 - is_3(valid_7_tens).float()).mean()\n",
        "\n",
        "accuracy_3s, accuracy_7s, (accuracy_3s+accuracy_7s)/2"
      ],
      "metadata": {
        "colab": {
          "base_uri": "https://localhost:8080/"
        },
        "id": "WuVTHlwy0jOW",
        "outputId": "d3546ced-8d6e-4d2d-fa16-abe78429ce9c"
      },
      "execution_count": 76,
      "outputs": [
        {
          "output_type": "execute_result",
          "data": {
            "text/plain": [
              "(tensor(0.9168), tensor(0.9854), tensor(0.9511))"
            ]
          },
          "metadata": {},
          "execution_count": 76
        }
      ]
    },
    {
      "cell_type": "code",
      "source": [
        "def f(x): return x**2"
      ],
      "metadata": {
        "id": "7JY5ZjPn3AVf"
      },
      "execution_count": 77,
      "outputs": []
    },
    {
      "cell_type": "code",
      "source": [
        "def plot_function(f, tx=None, ty=None, title=None, min=-2, max=2, figsize=(6,4)):\n",
        "    x = torch.linspace(min,max, steps=20)\n",
        "    #print(\"These are the stepped points\", x)\n",
        "    fig,ax = plt.subplots(figsize=figsize)\n",
        "    ax.plot(x,f(x))\n",
        "    if tx is not None: ax.set_xlabel(tx)\n",
        "    if ty is not None: ax.set_ylabel(ty)\n",
        "    if title is not None: ax.set_title(title)"
      ],
      "metadata": {
        "id": "tbik5Qm-BGyZ"
      },
      "execution_count": 78,
      "outputs": []
    },
    {
      "cell_type": "code",
      "source": [
        "plot_function(f, 'x', 'x**2')"
      ],
      "metadata": {
        "colab": {
          "base_uri": "https://localhost:8080/",
          "height": 279
        },
        "id": "RP_cWT1k_S-c",
        "outputId": "ba5680da-2661-4ef6-bc61-f192fe5db3bb"
      },
      "execution_count": 79,
      "outputs": [
        {
          "output_type": "display_data",
          "data": {
            "text/plain": [
              "<Figure size 432x288 with 1 Axes>"
            ],
            "image/png": "[encoded data removed]"
          },
          "metadata": {
            "needs_background": "light"
          }
        }
      ]
    },
    {
      "cell_type": "code",
      "source": [
        "plot_function(f, 'x', 'x**2')\n",
        "plt.scatter(-1.5, f(-1.5), color='red')"
      ],
      "metadata": {
        "colab": {
          "base_uri": "https://localhost:8080/",
          "height": 297
        },
        "id": "VyNETCqq_TrM",
        "outputId": "d0b9dd34-9c17-47d7-fb1b-8aa46a06ee34"
      },
      "execution_count": 80,
      "outputs": [
        {
          "output_type": "execute_result",
          "data": {
            "text/plain": [
              "<matplotlib.collections.PathCollection at 0x7fbad9a580d0>"
            ]
          },
          "metadata": {},
          "execution_count": 80
        },
        {
          "output_type": "display_data",
          "data": {
            "text/plain": [
              "<Figure size 432x288 with 1 Axes>"
            ],
            "image/png": "[encoded data removed]"
          },
          "metadata": {
            "needs_background": "light"
          }
        }
      ]
    },
    {
      "cell_type": "code",
      "source": [
        "xt = tensor(3.).requires_grad_()"
      ],
      "metadata": {
        "id": "0a2Sdvb2IvN2"
      },
      "execution_count": 81,
      "outputs": []
    },
    {
      "cell_type": "code",
      "source": [
        "yt = f(xt)\n",
        "yt"
      ],
      "metadata": {
        "colab": {
          "base_uri": "https://localhost:8080/"
        },
        "id": "JdLm4yTWsdw5",
        "outputId": "d8f55905-bafb-4151-96f4-0b1d6f35093d"
      },
      "execution_count": 82,
      "outputs": [
        {
          "output_type": "execute_result",
          "data": {
            "text/plain": [
              "tensor(9., grad_fn=<PowBackward0>)"
            ]
          },
          "metadata": {},
          "execution_count": 82
        }
      ]
    },
    {
      "cell_type": "code",
      "source": [
        "yt.backward()"
      ],
      "metadata": {
        "id": "FogC2hICtMdd"
      },
      "execution_count": 83,
      "outputs": []
    },
    {
      "cell_type": "code",
      "source": [
        "xt.grad"
      ],
      "metadata": {
        "colab": {
          "base_uri": "https://localhost:8080/"
        },
        "id": "WYPss4x2tTHP",
        "outputId": "67ef03b4-e925-4f84-cfb2-aa785f032cba"
      },
      "execution_count": 84,
      "outputs": [
        {
          "output_type": "execute_result",
          "data": {
            "text/plain": [
              "tensor(6.)"
            ]
          },
          "metadata": {},
          "execution_count": 84
        }
      ]
    },
    {
      "cell_type": "code",
      "source": [
        "xt = tensor([3., 4., 10.]).requires_grad_()\n",
        "xt"
      ],
      "metadata": {
        "colab": {
          "base_uri": "https://localhost:8080/"
        },
        "id": "BhIMA-2Ftnhh",
        "outputId": "1a366c23-7510-44a0-f32f-66402105e4a5"
      },
      "execution_count": 85,
      "outputs": [
        {
          "output_type": "execute_result",
          "data": {
            "text/plain": [
              "tensor([ 3.,  4., 10.], requires_grad=True)"
            ]
          },
          "metadata": {},
          "execution_count": 85
        }
      ]
    },
    {
      "cell_type": "code",
      "source": [
        "def f(x): return (x**2).sum()"
      ],
      "metadata": {
        "id": "S505pkRytyqa"
      },
      "execution_count": 86,
      "outputs": []
    },
    {
      "cell_type": "code",
      "source": [
        "yt = f(xt)\n",
        "yt"
      ],
      "metadata": {
        "colab": {
          "base_uri": "https://localhost:8080/"
        },
        "id": "eg8D4lrft7Zz",
        "outputId": "686d8fcf-58c3-434d-e555-913453d20c2a"
      },
      "execution_count": 87,
      "outputs": [
        {
          "output_type": "execute_result",
          "data": {
            "text/plain": [
              "tensor(125., grad_fn=<SumBackward0>)"
            ]
          },
          "metadata": {},
          "execution_count": 87
        }
      ]
    },
    {
      "cell_type": "code",
      "source": [
        "yt.backward()\n",
        "xt.grad"
      ],
      "metadata": {
        "colab": {
          "base_uri": "https://localhost:8080/"
        },
        "id": "tfyR8jTjt-Xb",
        "outputId": "9dabc426-fd11-44d4-867c-e6606e3f28ab"
      },
      "execution_count": 88,
      "outputs": [
        {
          "output_type": "execute_result",
          "data": {
            "text/plain": [
              "tensor([ 6.,  8., 20.])"
            ]
          },
          "metadata": {},
          "execution_count": 88
        }
      ]
    },
    {
      "cell_type": "code",
      "source": [
        "time = torch.arange(0, 20).float(); time"
      ],
      "metadata": {
        "colab": {
          "base_uri": "https://localhost:8080/"
        },
        "id": "rT1XROukuAo7",
        "outputId": "56d906be-be4f-4e98-81b3-34ec4b770891"
      },
      "execution_count": 89,
      "outputs": [
        {
          "output_type": "execute_result",
          "data": {
            "text/plain": [
              "tensor([ 0.,  1.,  2.,  3.,  4.,  5.,  6.,  7.,  8.,  9., 10., 11., 12., 13.,\n",
              "        14., 15., 16., 17., 18., 19.])"
            ]
          },
          "metadata": {},
          "execution_count": 89
        }
      ]
    },
    {
      "cell_type": "code",
      "source": [
        "torch.manual_seed(42)\n",
        "speed = torch.randn(20)*3 + 0.75*(time-9.5)**2 + 1\n",
        "plt.scatter(time, speed);"
      ],
      "metadata": {
        "colab": {
          "base_uri": "https://localhost:8080/",
          "height": 265
        },
        "id": "phrDkDFcv2KR",
        "outputId": "dfed2cdd-0ed1-4df8-8f74-f6dedb9ed86a"
      },
      "execution_count": 90,
      "outputs": [
        {
          "output_type": "display_data",
          "data": {
            "text/plain": [
              "<Figure size 432x288 with 1 Axes>"
            ],
            "image/png": "[encoded data removed]"
          },
          "metadata": {
            "needs_background": "light"
          }
        }
      ]
    },
    {
      "cell_type": "code",
      "source": [
        "def f(t, params):\n",
        "  a, b, c = params\n",
        "  return a*(t**2) + (b*t) + c"
      ],
      "metadata": {
        "id": "XwpzyuFkwDRc"
      },
      "execution_count": 91,
      "outputs": []
    },
    {
      "cell_type": "code",
      "source": [
        "def mse(preds, targets): return ((preds - targets)**2).mean()"
      ],
      "metadata": {
        "id": "Y03CXFGqxfJe"
      },
      "execution_count": 92,
      "outputs": []
    },
    {
      "cell_type": "code",
      "source": [
        "params = torch.randn(3).requires_grad_()"
      ],
      "metadata": {
        "id": "sQUj6BQbyuTX"
      },
      "execution_count": 93,
      "outputs": []
    },
    {
      "cell_type": "code",
      "source": [
        "preds = f(time, params)"
      ],
      "metadata": {
        "id": "7z-EGImh6nja"
      },
      "execution_count": 94,
      "outputs": []
    },
    {
      "cell_type": "code",
      "source": [
        "def show_preds(preds, ax=None):\n",
        "  if ax is None: ax=plt.subplots()[1]\n",
        "  ax.scatter(time, speed)\n",
        "  ax.scatter(time, to_np(preds), color='red')\n",
        "  ax.set_ylim(-300, 100)\n",
        "\n",
        "show_preds(preds)"
      ],
      "metadata": {
        "colab": {
          "base_uri": "https://localhost:8080/",
          "height": 269
        },
        "id": "pYhr0KhR6xEr",
        "outputId": "4afe3637-26d1-43c9-9200-6fdd99b82abc"
      },
      "execution_count": 96,
      "outputs": [
        {
          "output_type": "display_data",
          "data": {
            "text/plain": [
              "<Figure size 432x288 with 1 Axes>"
            ],
            "image/png": "[encoded data removed]"
          },
          "metadata": {
            "needs_background": "light"
          }
        }
      ]
    },
    {
      "cell_type": "code",
      "source": [
        "loss = mse(preds, speed)\n",
        "loss"
      ],
      "metadata": {
        "colab": {
          "base_uri": "https://localhost:8080/"
        },
        "id": "j5phUiM17Hyi",
        "outputId": "a170e0ed-1050-4fbc-da0f-6a724eea12b6"
      },
      "execution_count": 97,
      "outputs": [
        {
          "output_type": "execute_result",
          "data": {
            "text/plain": [
              "tensor(25823.8086, grad_fn=<MeanBackward0>)"
            ]
          },
          "metadata": {},
          "execution_count": 97
        }
      ]
    },
    {
      "cell_type": "code",
      "source": [
        "loss.backward()\n",
        "params.grad"
      ],
      "metadata": {
        "colab": {
          "base_uri": "https://localhost:8080/"
        },
        "id": "kH7STcwK7YCs",
        "outputId": "4b8783c4-9a43-4bf1-8eac-466ac3325baa"
      },
      "execution_count": 98,
      "outputs": [
        {
          "output_type": "execute_result",
          "data": {
            "text/plain": [
              "tensor([-53195.8633,  -3419.7148,   -253.8908])"
            ]
          },
          "metadata": {},
          "execution_count": 98
        }
      ]
    },
    {
      "cell_type": "code",
      "source": [
        "params.grad * 1e-5"
      ],
      "metadata": {
        "colab": {
          "base_uri": "https://localhost:8080/"
        },
        "id": "la5Wmql77fsF",
        "outputId": "6473d673-03fa-4259-eddb-319bf8673d60"
      },
      "execution_count": 101,
      "outputs": [
        {
          "output_type": "execute_result",
          "data": {
            "text/plain": [
              "tensor([-0.5320, -0.0342, -0.0025])"
            ]
          },
          "metadata": {},
          "execution_count": 101
        }
      ]
    },
    {
      "cell_type": "code",
      "source": [
        "params"
      ],
      "metadata": {
        "colab": {
          "base_uri": "https://localhost:8080/"
        },
        "id": "PbxZbK2o7jtu",
        "outputId": "251903fb-68ba-41d1-8029-0817e5bf497b"
      },
      "execution_count": 102,
      "outputs": [
        {
          "output_type": "execute_result",
          "data": {
            "text/plain": [
              "tensor([-0.7658, -0.7506,  1.3525], requires_grad=True)"
            ]
          },
          "metadata": {},
          "execution_count": 102
        }
      ]
    },
    {
      "cell_type": "code",
      "source": [
        "lr = 1e-5\n",
        "params.data -= lr * params.grad.data\n",
        "params.grad = None"
      ],
      "metadata": {
        "id": "4yVNTyr_7wQJ"
      },
      "execution_count": 103,
      "outputs": []
    },
    {
      "cell_type": "code",
      "source": [
        "preds = f(time, params)\n",
        "mse(preds, speed)"
      ],
      "metadata": {
        "colab": {
          "base_uri": "https://localhost:8080/"
        },
        "id": "5BGfxYJu788D",
        "outputId": "b1c2f0bb-8a64-4a91-ca8d-caac5509b439"
      },
      "execution_count": 104,
      "outputs": [
        {
          "output_type": "execute_result",
          "data": {
            "text/plain": [
              "tensor(5435.5356, grad_fn=<MeanBackward0>)"
            ]
          },
          "metadata": {},
          "execution_count": 104
        }
      ]
    },
    {
      "cell_type": "code",
      "source": [
        "show_preds(preds)"
      ],
      "metadata": {
        "colab": {
          "base_uri": "https://localhost:8080/",
          "height": 269
        },
        "id": "LWgXPkt-8xPP",
        "outputId": "fd1f5cd3-e0cb-4974-bbb9-ceaf3f187c34"
      },
      "execution_count": 105,
      "outputs": [
        {
          "output_type": "display_data",
          "data": {
            "text/plain": [
              "<Figure size 432x288 with 1 Axes>"
            ],
            "image/png": "[encoded data removed]"
          },
          "metadata": {
            "needs_background": "light"
          }
        }
      ]
    },
    {
      "cell_type": "code",
      "source": [
        "def apply_step(params, prn=True):\n",
        "  preds = f(time, params)\n",
        "  loss = mse(preds, speed)\n",
        "  loss.backward()\n",
        "  params.data -= lr * params.grad.data\n",
        "  params.grad = None\n",
        "  if prn: print(loss.item())\n",
        "  return preds\n"
      ],
      "metadata": {
        "id": "mBr_Q3Bm80Ld"
      },
      "execution_count": 106,
      "outputs": []
    },
    {
      "cell_type": "code",
      "source": [
        "for i in range(10): apply_step(params)"
      ],
      "metadata": {
        "colab": {
          "base_uri": "https://localhost:8080/"
        },
        "id": "HyDU58Gg9U7l",
        "outputId": "37fe138c-23af-41bc-9c0d-5c2d69c8bc94"
      },
      "execution_count": 107,
      "outputs": [
        {
          "output_type": "stream",
          "name": "stdout",
          "text": [
            "5435.53564453125\n",
            "1577.44921875\n",
            "847.3778076171875\n",
            "709.2225341796875\n",
            "683.0758056640625\n",
            "678.1243896484375\n",
            "677.1838989257812\n",
            "677.0023803710938\n",
            "676.9645385742188\n",
            "676.9537353515625\n"
          ]
        }
      ]
    },
    {
      "cell_type": "code",
      "source": [
        "_, axs = plt.subplots(1, 4 ,figsize=(12, 3))\n",
        "for ax in axs: show_preds(apply_step(params, False), ax)\n",
        "plt.tight_layout()"
      ],
      "metadata": {
        "colab": {
          "base_uri": "https://localhost:8080/",
          "height": 174
        },
        "id": "caNMKTe49has",
        "outputId": "2a42997b-c49e-4097-c24b-f089be8607ad"
      },
      "execution_count": 109,
      "outputs": [
        {
          "output_type": "display_data",
          "data": {
            "text/plain": [
              "<Figure size 864x216 with 4 Axes>"
            ],
            "image/png": "[encoded data removed]"
          },
          "metadata": {
            "needs_background": "light"
          }
        }
      ]
    },
    {
      "cell_type": "code",
      "source": [
        ""
      ],
      "metadata": {
        "id": "SsNt_BTX-HwE"
      },
      "execution_count": null,
      "outputs": []
    }
  ]
}